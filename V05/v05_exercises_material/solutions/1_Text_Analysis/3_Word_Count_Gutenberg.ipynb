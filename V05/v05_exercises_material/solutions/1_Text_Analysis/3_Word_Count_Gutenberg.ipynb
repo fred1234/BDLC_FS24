{
 "cells": [
  {
   "cell_type": "markdown",
   "id": "d8963f20-96fb-4157-9f5b-1960020f5c66",
   "metadata": {},
   "source": [
    "## Init Connection"
   ]
  },
  {
   "cell_type": "code",
   "execution_count": 1,
   "id": "10fe421f-deb1-4683-9646-2459e1b1df25",
   "metadata": {},
   "outputs": [],
   "source": [
    "%load_ext sql\n",
    "%sql hive://hadoop@localhost:10000/text"
   ]
  },
  {
   "cell_type": "markdown",
   "id": "12b3660e-918a-4a46-9c3b-3eae10d14bf6",
   "metadata": {},
   "source": [
    "## Saving the result to a new table"
   ]
  },
  {
   "cell_type": "code",
   "execution_count": 2,
   "id": "3d501a74-f296-4644-889e-fd11ab035275",
   "metadata": {},
   "outputs": [
    {
     "name": "stdout",
     "output_type": "stream",
     "text": [
      " * hive://hadoop@localhost:10000/text\n",
      "Done.\n"
     ]
    },
    {
     "data": {
      "text/plain": [
       "[]"
      ]
     },
     "execution_count": 2,
     "metadata": {},
     "output_type": "execute_result"
    }
   ],
   "source": [
    "%%sql\n",
    "CREATE TABLE word_gutenberg\n",
    "AS select lower(word) as word from (\n",
    "    select explode(sentence) word from (\n",
    "    select explode(sentences(trim(line))) sentence from raw_gutenberg where line != ''\n",
    "    ) sentence_table \n",
    ") word_table"
   ]
  },
  {
   "cell_type": "markdown",
   "id": "f9fb19de-8fae-4407-9cdf-0ef0d349595a",
   "metadata": {},
   "source": [
    "# Word Count"
   ]
  },
  {
   "cell_type": "code",
   "execution_count": 3,
   "id": "469ef96e-d567-4a6f-9f2b-469e6d80710e",
   "metadata": {},
   "outputs": [
    {
     "name": "stdout",
     "output_type": "stream",
     "text": [
      " * hive://hadoop@localhost:10000/text\n",
      "Done.\n"
     ]
    },
    {
     "data": {
      "text/plain": [
       "[]"
      ]
     },
     "execution_count": 3,
     "metadata": {},
     "output_type": "execute_result"
    }
   ],
   "source": [
    "%%sql \n",
    "CREATE TABLE word_count_gutenberg \n",
    "AS\n",
    "    SELECT\n",
    "        word, count(word) as count\n",
    "    FROM\n",
    "        word_gutenberg\n",
    "    GROUP BY\n",
    "        word\n",
    "    ORDER BY\n",
    "        count DESC"
   ]
  },
  {
   "cell_type": "code",
   "execution_count": 8,
   "id": "c4c05b4d-604a-48e8-a327-dc8807761046",
   "metadata": {},
   "outputs": [
    {
     "name": "stdout",
     "output_type": "stream",
     "text": [
      " * hive://hadoop@localhost:10000/text\n",
      "Done.\n"
     ]
    },
    {
     "data": {
      "text/html": [
       "<table>\n",
       "    <tr>\n",
       "        <th>word</th>\n",
       "        <th>count</th>\n",
       "    </tr>\n",
       "    <tr>\n",
       "        <td>it</td>\n",
       "        <td>13486110</td>\n",
       "    </tr>\n",
       "    <tr>\n",
       "        <td>he</td>\n",
       "        <td>13260163</td>\n",
       "    </tr>\n",
       "    <tr>\n",
       "        <td>she</td>\n",
       "        <td>4748052</td>\n",
       "    </tr>\n",
       "</table>"
      ],
      "text/plain": [
       "[('it', 13486110), ('he', 13260163), ('she', 4748052)]"
      ]
     },
     "execution_count": 8,
     "metadata": {},
     "output_type": "execute_result"
    }
   ],
   "source": [
    "%sql select * from word_count_gutenberg where word in ('he', 'she', 'it')"
   ]
  },
  {
   "cell_type": "code",
   "execution_count": 10,
   "id": "d7ccd8fd-32eb-4365-be89-b394e8da48d3",
   "metadata": {},
   "outputs": [
    {
     "name": "stdout",
     "output_type": "stream",
     "text": [
      " * hive://hadoop@localhost:10000/text\n",
      "Done.\n"
     ]
    },
    {
     "data": {
      "text/html": [
       "<table>\n",
       "    <tr>\n",
       "        <th>word</th>\n",
       "        <th>count</th>\n",
       "    </tr>\n",
       "    <tr>\n",
       "        <td>the</td>\n",
       "        <td>94796221</td>\n",
       "    </tr>\n",
       "    <tr>\n",
       "        <td>of</td>\n",
       "        <td>53179079</td>\n",
       "    </tr>\n",
       "    <tr>\n",
       "        <td>and</td>\n",
       "        <td>44288333</td>\n",
       "    </tr>\n",
       "    <tr>\n",
       "        <td>to</td>\n",
       "        <td>36378081</td>\n",
       "    </tr>\n",
       "    <tr>\n",
       "        <td>a</td>\n",
       "        <td>32264699</td>\n",
       "    </tr>\n",
       "    <tr>\n",
       "        <td>in</td>\n",
       "        <td>28327253</td>\n",
       "    </tr>\n",
       "    <tr>\n",
       "        <td>that</td>\n",
       "        <td>15478199</td>\n",
       "    </tr>\n",
       "    <tr>\n",
       "        <td>i</td>\n",
       "        <td>13664329</td>\n",
       "    </tr>\n",
       "    <tr>\n",
       "        <td>was</td>\n",
       "        <td>13633950</td>\n",
       "    </tr>\n",
       "    <tr>\n",
       "        <td>it</td>\n",
       "        <td>13486110</td>\n",
       "    </tr>\n",
       "</table>"
      ],
      "text/plain": [
       "[('the', 94796221),\n",
       " ('of', 53179079),\n",
       " ('and', 44288333),\n",
       " ('to', 36378081),\n",
       " ('a', 32264699),\n",
       " ('in', 28327253),\n",
       " ('that', 15478199),\n",
       " ('i', 13664329),\n",
       " ('was', 13633950),\n",
       " ('it', 13486110)]"
      ]
     },
     "execution_count": 10,
     "metadata": {},
     "output_type": "execute_result"
    }
   ],
   "source": [
    "%sql select * from word_count_gutenberg limit 10"
   ]
  },
  {
   "cell_type": "markdown",
   "id": "974f6a29-3ba8-497e-b595-4f3099e1f28d",
   "metadata": {},
   "source": [
    "# Comparing Gutenberg WordCount with OEC Rank for the Top 20 Words\n",
    "\n",
    "From Wikipedia [100 most common words](https://en.wikipedia.org/wiki/Most_common_words_in_English)"
   ]
  },
  {
   "cell_type": "markdown",
   "id": "0dee6892-a8c3-4b88-a630-3e96944fe2bb",
   "metadata": {},
   "source": [
    "Can you compare our findings with the ones listed here (from wikipedia)\n",
    "\n",
    "|word|place|\n",
    "| ----------- | ----------- |\n",
    "|the|1|\n",
    "|be|2|\n",
    "|to|3|\n",
    "|of|4|\n",
    "|and|5|\n",
    "|a|6|\n",
    "|in|7|\n",
    "|that|9|\n",
    "|have|9|\n",
    "|i|10|\n",
    "|it|11|\n",
    "|for|12|\n",
    "|not| 13|\n",
    "|on|14|\n",
    "|with|15|\n",
    "|he|16|\n",
    "|as| 17|\n",
    "|you|18|\n",
    "|do|19|\n",
    "|at|20|"
   ]
  },
  {
   "cell_type": "code",
   "execution_count": 24,
   "id": "7f61fe29-869e-4975-aec5-d47b955e1b9b",
   "metadata": {},
   "outputs": [
    {
     "name": "stdout",
     "output_type": "stream",
     "text": [
      " * hive://hadoop@localhost:10000/text\n",
      "Done.\n",
      "Returning data to local variable gutenberg_top_20\n"
     ]
    }
   ],
   "source": [
    "%%sql gutenberg_top_20 <<\n",
    "SELECT *, ROW_NUMBER() OVER () AS gutenberg_place FROM (\n",
    "    SELECT word FROM word_count_gutenberg LIMIT 20\n",
    ") ranked_words"
   ]
  },
  {
   "cell_type": "code",
   "execution_count": 25,
   "id": "5f2d3f40-5253-428c-983d-f13ab1c09b36",
   "metadata": {},
   "outputs": [
    {
     "name": "stdout",
     "output_type": "stream",
     "text": [
      " * hive://hadoop@localhost:10000/text\n",
      "Done.\n",
      "Returning data to local variable oec_top_20\n"
     ]
    }
   ],
   "source": [
    "%%sql oec_top_20 <<\n",
    "select explode(map\n",
    "               ('the',1,'be',2,'to',3,'of',4,'and',5,'a',6,'in',7,'that',9,'have',9,'i',10,'it',11,'for',12,'not', 13,'on',14,'with',15,'he',16,'as', 17,'you',18,'do',19,'at',20)\n",
    "              ) as (word,oec_place)"
   ]
  },
  {
   "cell_type": "code",
   "execution_count": 26,
   "id": "edcd40b2-b78a-4377-9923-38bea2cd7f16",
   "metadata": {},
   "outputs": [],
   "source": [
    "df_gutenberg = gutenberg_top_20.DataFrame()\n",
    "df_oec = oec_top_20.DataFrame()"
   ]
  },
  {
   "cell_type": "code",
   "execution_count": 30,
   "id": "5c725120-88ff-4e89-b7ab-f1ef9cceb7d6",
   "metadata": {},
   "outputs": [
    {
     "data": {
      "text/html": [
       "<div>\n",
       "<style scoped>\n",
       "    .dataframe tbody tr th:only-of-type {\n",
       "        vertical-align: middle;\n",
       "    }\n",
       "\n",
       "    .dataframe tbody tr th {\n",
       "        vertical-align: top;\n",
       "    }\n",
       "\n",
       "    .dataframe thead th {\n",
       "        text-align: right;\n",
       "    }\n",
       "</style>\n",
       "<table border=\"1\" class=\"dataframe\">\n",
       "  <thead>\n",
       "    <tr style=\"text-align: right;\">\n",
       "      <th></th>\n",
       "      <th>word</th>\n",
       "      <th>gutenberg_place</th>\n",
       "      <th>oec_place</th>\n",
       "    </tr>\n",
       "  </thead>\n",
       "  <tbody>\n",
       "    <tr>\n",
       "      <th>0</th>\n",
       "      <td>the</td>\n",
       "      <td>1.0</td>\n",
       "      <td>1.0</td>\n",
       "    </tr>\n",
       "    <tr>\n",
       "      <th>1</th>\n",
       "      <td>of</td>\n",
       "      <td>2.0</td>\n",
       "      <td>4.0</td>\n",
       "    </tr>\n",
       "    <tr>\n",
       "      <th>2</th>\n",
       "      <td>and</td>\n",
       "      <td>3.0</td>\n",
       "      <td>5.0</td>\n",
       "    </tr>\n",
       "    <tr>\n",
       "      <th>3</th>\n",
       "      <td>to</td>\n",
       "      <td>4.0</td>\n",
       "      <td>3.0</td>\n",
       "    </tr>\n",
       "    <tr>\n",
       "      <th>4</th>\n",
       "      <td>a</td>\n",
       "      <td>5.0</td>\n",
       "      <td>6.0</td>\n",
       "    </tr>\n",
       "    <tr>\n",
       "      <th>5</th>\n",
       "      <td>in</td>\n",
       "      <td>6.0</td>\n",
       "      <td>7.0</td>\n",
       "    </tr>\n",
       "    <tr>\n",
       "      <th>6</th>\n",
       "      <td>that</td>\n",
       "      <td>7.0</td>\n",
       "      <td>9.0</td>\n",
       "    </tr>\n",
       "    <tr>\n",
       "      <th>7</th>\n",
       "      <td>i</td>\n",
       "      <td>8.0</td>\n",
       "      <td>10.0</td>\n",
       "    </tr>\n",
       "    <tr>\n",
       "      <th>8</th>\n",
       "      <td>was</td>\n",
       "      <td>9.0</td>\n",
       "      <td>NaN</td>\n",
       "    </tr>\n",
       "    <tr>\n",
       "      <th>9</th>\n",
       "      <td>it</td>\n",
       "      <td>10.0</td>\n",
       "      <td>11.0</td>\n",
       "    </tr>\n",
       "    <tr>\n",
       "      <th>10</th>\n",
       "      <td>he</td>\n",
       "      <td>11.0</td>\n",
       "      <td>16.0</td>\n",
       "    </tr>\n",
       "    <tr>\n",
       "      <th>11</th>\n",
       "      <td>is</td>\n",
       "      <td>12.0</td>\n",
       "      <td>NaN</td>\n",
       "    </tr>\n",
       "    <tr>\n",
       "      <th>12</th>\n",
       "      <td>with</td>\n",
       "      <td>13.0</td>\n",
       "      <td>15.0</td>\n",
       "    </tr>\n",
       "    <tr>\n",
       "      <th>13</th>\n",
       "      <td>his</td>\n",
       "      <td>14.0</td>\n",
       "      <td>NaN</td>\n",
       "    </tr>\n",
       "    <tr>\n",
       "      <th>14</th>\n",
       "      <td>for</td>\n",
       "      <td>15.0</td>\n",
       "      <td>12.0</td>\n",
       "    </tr>\n",
       "    <tr>\n",
       "      <th>15</th>\n",
       "      <td>as</td>\n",
       "      <td>16.0</td>\n",
       "      <td>17.0</td>\n",
       "    </tr>\n",
       "    <tr>\n",
       "      <th>16</th>\n",
       "      <td>you</td>\n",
       "      <td>17.0</td>\n",
       "      <td>18.0</td>\n",
       "    </tr>\n",
       "    <tr>\n",
       "      <th>17</th>\n",
       "      <td>by</td>\n",
       "      <td>18.0</td>\n",
       "      <td>NaN</td>\n",
       "    </tr>\n",
       "    <tr>\n",
       "      <th>18</th>\n",
       "      <td>on</td>\n",
       "      <td>19.0</td>\n",
       "      <td>14.0</td>\n",
       "    </tr>\n",
       "    <tr>\n",
       "      <th>19</th>\n",
       "      <td>de</td>\n",
       "      <td>20.0</td>\n",
       "      <td>NaN</td>\n",
       "    </tr>\n",
       "    <tr>\n",
       "      <th>20</th>\n",
       "      <td>be</td>\n",
       "      <td>NaN</td>\n",
       "      <td>2.0</td>\n",
       "    </tr>\n",
       "    <tr>\n",
       "      <th>21</th>\n",
       "      <td>have</td>\n",
       "      <td>NaN</td>\n",
       "      <td>9.0</td>\n",
       "    </tr>\n",
       "    <tr>\n",
       "      <th>22</th>\n",
       "      <td>not</td>\n",
       "      <td>NaN</td>\n",
       "      <td>13.0</td>\n",
       "    </tr>\n",
       "    <tr>\n",
       "      <th>23</th>\n",
       "      <td>do</td>\n",
       "      <td>NaN</td>\n",
       "      <td>19.0</td>\n",
       "    </tr>\n",
       "    <tr>\n",
       "      <th>24</th>\n",
       "      <td>at</td>\n",
       "      <td>NaN</td>\n",
       "      <td>20.0</td>\n",
       "    </tr>\n",
       "  </tbody>\n",
       "</table>\n",
       "</div>"
      ],
      "text/plain": [
       "    word  gutenberg_place  oec_place\n",
       "0    the              1.0        1.0\n",
       "1     of              2.0        4.0\n",
       "2    and              3.0        5.0\n",
       "3     to              4.0        3.0\n",
       "4      a              5.0        6.0\n",
       "5     in              6.0        7.0\n",
       "6   that              7.0        9.0\n",
       "7      i              8.0       10.0\n",
       "8    was              9.0        NaN\n",
       "9     it             10.0       11.0\n",
       "10    he             11.0       16.0\n",
       "11    is             12.0        NaN\n",
       "12  with             13.0       15.0\n",
       "13   his             14.0        NaN\n",
       "14   for             15.0       12.0\n",
       "15    as             16.0       17.0\n",
       "16   you             17.0       18.0\n",
       "17    by             18.0        NaN\n",
       "18    on             19.0       14.0\n",
       "19    de             20.0        NaN\n",
       "20    be              NaN        2.0\n",
       "21  have              NaN        9.0\n",
       "22   not              NaN       13.0\n",
       "23    do              NaN       19.0\n",
       "24    at              NaN       20.0"
      ]
     },
     "execution_count": 30,
     "metadata": {},
     "output_type": "execute_result"
    }
   ],
   "source": [
    "df_gutenberg.merge(\n",
    "    right = df_oec,\n",
    "    how=\"outer\",\n",
    ")"
   ]
  }
 ],
 "metadata": {
  "kernelspec": {
   "display_name": "Python 3 (ipykernel)",
   "language": "python",
   "name": "python3"
  },
  "language_info": {
   "codemirror_mode": {
    "name": "ipython",
    "version": 3
   },
   "file_extension": ".py",
   "mimetype": "text/x-python",
   "name": "python",
   "nbconvert_exporter": "python",
   "pygments_lexer": "ipython3",
   "version": "3.8.10"
  }
 },
 "nbformat": 4,
 "nbformat_minor": 5
}
