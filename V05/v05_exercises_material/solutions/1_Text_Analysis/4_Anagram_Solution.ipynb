{
 "cells": [
  {
   "cell_type": "markdown",
   "id": "5039c465-a613-44f6-8d31-8f358107d06a",
   "metadata": {},
   "source": [
    "# Anagram\n",
    "\n",
    "Use this [help](https://cwiki.apache.org/confluence/display/Hive/LanguageManual+UDF) to find functions you need in this exercise."
   ]
  },
  {
   "cell_type": "code",
   "execution_count": 1,
   "id": "428dfeb9-9c54-4d65-a9a1-4889ee9bc051",
   "metadata": {},
   "outputs": [],
   "source": [
    "%load_ext sql\n",
    "%config SqlMagic.autocommit=False # avoiding the error: FAILED: IllegalStateException COMMIT is not supported yet.\n",
    "%sql hive://hadoop@localhost:10000/text"
   ]
  },
  {
   "cell_type": "code",
   "execution_count": 2,
   "id": "9e0f732d-8816-479d-90bc-f890a65c9e74",
   "metadata": {},
   "outputs": [
    {
     "name": "stdout",
     "output_type": "stream",
     "text": [
      " * hive://hadoop@localhost:10000/text\n",
      "Done.\n"
     ]
    },
    {
     "data": {
      "text/html": [
       "<table>\n",
       "    <tr>\n",
       "        <th>sorted_word</th>\n",
       "        <th>anagram</th>\n",
       "    </tr>\n",
       "    <tr>\n",
       "        <td>aelst</td>\n",
       "        <td>[&quot;least&quot;,&quot;tales&quot;,&quot;steal&quot;,&quot;stale&quot;]</td>\n",
       "    </tr>\n",
       "    <tr>\n",
       "        <td>eilv</td>\n",
       "        <td>[&quot;live&quot;,&quot;evil&quot;,&quot;veil&quot;,&quot;vile&quot;]</td>\n",
       "    </tr>\n",
       "    <tr>\n",
       "        <td>opst</td>\n",
       "        <td>[&quot;stop&quot;,&quot;post&quot;,&quot;spot&quot;,&quot;tops&quot;]</td>\n",
       "    </tr>\n",
       "</table>"
      ],
      "text/plain": [
       "[('aelst', '[\"least\",\"tales\",\"steal\",\"stale\"]'),\n",
       " ('eilv', '[\"live\",\"evil\",\"veil\",\"vile\"]'),\n",
       " ('opst', '[\"stop\",\"post\",\"spot\",\"tops\"]')]"
      ]
     },
     "execution_count": 2,
     "metadata": {},
     "output_type": "execute_result"
    }
   ],
   "source": [
    "%%sql\n",
    "\n",
    "SELECT sorted_word, anagram FROM (\n",
    "        SELECT \n",
    "            concat_ws('',sort_array(split(word,''))) as sorted_word,\n",
    "            collect_set(word) as anagram\n",
    "        FROM\n",
    "            word_count_holmes\n",
    "        GROUP BY\n",
    "            concat_ws('',sort_array(split(word,'')))\n",
    ") t\n",
    "WHERE\n",
    "    size(anagram) > 3"
   ]
  }
 ],
 "metadata": {
  "kernelspec": {
   "display_name": "Python 3 (ipykernel)",
   "language": "python",
   "name": "python3"
  },
  "language_info": {
   "codemirror_mode": {
    "name": "ipython",
    "version": 3
   },
   "file_extension": ".py",
   "mimetype": "text/x-python",
   "name": "python",
   "nbconvert_exporter": "python",
   "pygments_lexer": "ipython3",
   "version": "3.8.10"
  }
 },
 "nbformat": 4,
 "nbformat_minor": 5
}
