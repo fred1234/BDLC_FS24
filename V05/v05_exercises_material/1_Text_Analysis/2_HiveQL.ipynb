{
 "cells": [
  {
   "cell_type": "markdown",
   "id": "a3ae8a1b-2270-4398-a401-72727c48f9ac",
   "metadata": {},
   "source": [
    "# HiveQL\n",
    "\n",
    "If you are familiar with `SQL` you should feel very comfortable with `HiveQL` as they are almost similar.\n",
    "Check out:\n",
    "\n",
    "- [Hive Language Manual](https://cwiki.apache.org/confluence/display/hive/languagemanual)\n",
    "- [CheatSheet](http://hortonworks.com/wp-content/uploads/2016/05/Hortonworks.CheatSheet.SQLtoHive.pdf)"
   ]
  },
  {
   "cell_type": "code",
   "execution_count": null,
   "id": "391c62ea-5666-4cab-9288-85a630c81097",
   "metadata": {},
   "outputs": [],
   "source": [
    "%load_ext sql\n",
    "%sql hive://hadoop@localhost:10000/text"
   ]
  },
  {
   "cell_type": "markdown",
   "id": "1b6eca5b-fc21-418f-8519-8266f0402bca",
   "metadata": {},
   "source": [
    "## Can you guess what the outputs of the commands will be?"
   ]
  },
  {
   "cell_type": "code",
   "execution_count": null,
   "id": "661a8829-7579-4c43-bbb3-d6facaa53c82",
   "metadata": {},
   "outputs": [],
   "source": [
    "%sql select * from raw_holmes limit 5"
   ]
  },
  {
   "cell_type": "code",
   "execution_count": null,
   "id": "f383efa7-e407-4183-915a-cf6fb7f28c41",
   "metadata": {},
   "outputs": [],
   "source": [
    "%%sql\n",
    "-- triggers a map reduce job!\n",
    "SELECT\n",
    "    count(line) AS count\n",
    "FROM\n",
    "    raw_holmes"
   ]
  },
  {
   "cell_type": "code",
   "execution_count": null,
   "id": "2b5fe4c6-a503-4e40-822f-7e421620d2c2",
   "metadata": {},
   "outputs": [],
   "source": [
    "%sql select array('A','B','C') as my_array"
   ]
  },
  {
   "cell_type": "code",
   "execution_count": null,
   "id": "3f8c00d3-6ee8-4af3-9f8f-14148d30b15c",
   "metadata": {},
   "outputs": [],
   "source": [
    "%sql select explode(array('A','B','C'))"
   ]
  },
  {
   "cell_type": "code",
   "execution_count": null,
   "id": "0ae64736-568d-4195-b5b2-8d8164f87a0b",
   "metadata": {},
   "outputs": [],
   "source": [
    "%sql select map('A',10,'B',20,'C',30) as my_map"
   ]
  },
  {
   "cell_type": "code",
   "execution_count": null,
   "id": "dc0af7d2-83d0-492e-8661-8d9671fb04e4",
   "metadata": {},
   "outputs": [],
   "source": [
    "%sql select explode(map('A',10,'B',20,'C',30)) as (key,value)"
   ]
  },
  {
   "cell_type": "code",
   "execution_count": null,
   "id": "d4438da3-c4dd-4235-a017-86cb60555d0c",
   "metadata": {},
   "outputs": [],
   "source": [
    "%%sql\n",
    "\n",
    "SELECT * FROM(\n",
    "    SELECT explode(map('A',10,'B',20,'C',30)) as (a,b)\n",
    ") my_table"
   ]
  },
  {
   "cell_type": "code",
   "execution_count": null,
   "id": "51be4c7f-9f74-4bc3-bfa1-b22317cec3ed",
   "metadata": {},
   "outputs": [],
   "source": [
    "%%sql\n",
    "\n",
    "SELECT * FROM (\n",
    "    SELECT explode(array(0,1)) as first\n",
    ") test\n",
    "LATERAL VIEW EXPLODE(ARRAY(0, 1)) lateral_view as second\n",
    "LATERAL VIEW EXPLODE(ARRAY(0, 1)) lateral_view as third"
   ]
  },
  {
   "cell_type": "code",
   "execution_count": null,
   "id": "3e919d14-c597-4ae0-a0ff-0d4542f341ce",
   "metadata": {},
   "outputs": [],
   "source": [
    "%sql select inline(array(struct('A', 10, '2015-01-01'),struct('B', 20, '2016-02-02'))) as (col1, col2, col3)"
   ]
  }
 ],
 "metadata": {
  "kernelspec": {
   "display_name": "Python 3 (ipykernel)",
   "language": "python",
   "name": "python3"
  },
  "language_info": {
   "codemirror_mode": {
    "name": "ipython",
    "version": 3
   },
   "file_extension": ".py",
   "mimetype": "text/x-python",
   "name": "python",
   "nbconvert_exporter": "python",
   "pygments_lexer": "ipython3",
   "version": "3.8.10"
  }
 },
 "nbformat": 4,
 "nbformat_minor": 5
}
