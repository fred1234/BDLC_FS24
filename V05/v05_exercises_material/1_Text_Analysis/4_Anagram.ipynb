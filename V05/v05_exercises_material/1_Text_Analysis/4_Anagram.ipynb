{
 "cells": [
  {
   "cell_type": "markdown",
   "id": "5039c465-a613-44f6-8d31-8f358107d06a",
   "metadata": {},
   "source": [
    "# Anagram\n",
    "\n",
    "Use this [help](https://cwiki.apache.org/confluence/display/Hive/LanguageManual+UDF) to find functions you need in this exercise."
   ]
  },
  {
   "cell_type": "code",
   "execution_count": null,
   "id": "428dfeb9-9c54-4d65-a9a1-4889ee9bc051",
   "metadata": {},
   "outputs": [],
   "source": [
    "%load_ext sql\n",
    "%config SqlMagic.autocommit=False # avoiding the error: FAILED: IllegalStateException COMMIT is not supported yet.\n",
    "%sql hive://hadoop@localhost:10000/text"
   ]
  },
  {
   "cell_type": "markdown",
   "id": "d096e4a3-22be-4d5a-8f3a-4ec7878f00e8",
   "metadata": {},
   "source": [
    "## Anagram for Holmes\n",
    "\n",
    "Use the `word_count_holmes` table as we have already eliminated the duplicated words.\n",
    "\n",
    "We are interested in words which have four anagrams.\n"
   ]
  },
  {
   "cell_type": "code",
   "execution_count": null,
   "id": "9e0f732d-8816-479d-90bc-f890a65c9e74",
   "metadata": {},
   "outputs": [],
   "source": [
    "%%sql\n",
    "\n",
    "..."
   ]
  }
 ],
 "metadata": {
  "kernelspec": {
   "display_name": "Python 3 (ipykernel)",
   "language": "python",
   "name": "python3"
  },
  "language_info": {
   "codemirror_mode": {
    "name": "ipython",
    "version": 3
   },
   "file_extension": ".py",
   "mimetype": "text/x-python",
   "name": "python",
   "nbconvert_exporter": "python",
   "pygments_lexer": "ipython3",
   "version": "3.8.10"
  }
 },
 "nbformat": 4,
 "nbformat_minor": 5
}
