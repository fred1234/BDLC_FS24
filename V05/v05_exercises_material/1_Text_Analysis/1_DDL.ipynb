{
 "cells": [
  {
   "cell_type": "markdown",
   "id": "cfad1075-c532-4327-93d8-97b2e777a87c",
   "metadata": {},
   "source": [
    "# Data Definition Language - DDL"
   ]
  },
  {
   "cell_type": "markdown",
   "id": "32f2f5ae-de30-42e5-8c0c-1adfbb6b756f",
   "metadata": {},
   "source": [
    "You should have three files in the `/dataset/text/` hdfs folder:\n",
    "\n",
    "- `/dataset/text/gutenberg_all.txt`\n",
    "- `/dataset/text/holmes.txt`\n",
    "- `/dataset/text/small.txt`"
   ]
  },
  {
   "cell_type": "code",
   "execution_count": null,
   "id": "a4b24d26-a920-452f-a570-fa8caf1da9f1",
   "metadata": {},
   "outputs": [],
   "source": [
    "! hdfs dfs -ls /dataset/text"
   ]
  },
  {
   "cell_type": "markdown",
   "id": "bca02301-c5f7-4468-a08b-c93150e529c5",
   "metadata": {},
   "source": [
    "## Creating the Hive Database"
   ]
  },
  {
   "cell_type": "code",
   "execution_count": null,
   "id": "326b34e8-d0fe-4be2-bd29-29b8df120e5c",
   "metadata": {},
   "outputs": [],
   "source": [
    "%load_ext sql\n",
    "%sql hive://hadoop@localhost:10000/"
   ]
  },
  {
   "cell_type": "code",
   "execution_count": null,
   "id": "8b25ca5f-3841-43f2-a6fe-5b8e52625f1d",
   "metadata": {},
   "outputs": [],
   "source": [
    "%%sql\n",
    "create database if not exists text"
   ]
  },
  {
   "cell_type": "markdown",
   "id": "1fe126f4-4dfa-4990-8c41-f4029d63af73",
   "metadata": {},
   "source": [
    "Verify that we see the created database `text`.\n",
    "This can be seen on two places:\n",
    "1. With the command below\n",
    "2. In [HDFS explorer](http://bdlc-XX.el.eee.intern:9870/explorer.html#/user/hive/warehouse/text.db) (the folder was created)"
   ]
  },
  {
   "cell_type": "code",
   "execution_count": null,
   "id": "a132f1bd-3996-4fef-bc6d-157d11abf2ba",
   "metadata": {},
   "outputs": [],
   "source": [
    "%sql show databases"
   ]
  },
  {
   "cell_type": "markdown",
   "id": "a91d0dc3-a5ac-4fdd-b9b1-e436022794bb",
   "metadata": {},
   "source": [
    "## Using a Database\n",
    "\n",
    "We now trigger the command `use text` to select the database since we already have an open session. For other notebooks one can trigger:\n",
    "\n",
    "```python\n",
    "%load_ext sql\n",
    "%sql hive://hadoop@localhost:10000/text\n",
    "```"
   ]
  },
  {
   "cell_type": "code",
   "execution_count": null,
   "id": "ce4263df-240a-427f-94c3-86587345da3b",
   "metadata": {},
   "outputs": [],
   "source": [
    "%sql use text"
   ]
  },
  {
   "cell_type": "markdown",
   "id": "ad2f88cf-6a4c-4212-943c-d7172cf86245",
   "metadata": {},
   "source": [
    "## Defining the Tables"
   ]
  },
  {
   "cell_type": "markdown",
   "id": "7a65d35e-4b3b-4b9b-b391-e2fad6306536",
   "metadata": {},
   "source": [
    "### Table: `raw_small`"
   ]
  },
  {
   "cell_type": "code",
   "execution_count": null,
   "id": "7344c7c3-0db8-4882-9fbe-397bc8722782",
   "metadata": {},
   "outputs": [],
   "source": [
    "%%sql\n",
    "\n",
    "CREATE TABLE IF NOT EXISTS raw_small (\n",
    "    line STRING\n",
    ")\n",
    "ROW FORMAT DELIMITED\n",
    "LINES TERMINATED BY '\\n'\n",
    "STORED AS TEXTFILE\n",
    "\n"
   ]
  },
  {
   "cell_type": "markdown",
   "id": "16c505f5-7c4c-48df-a5cb-3557966aeb39",
   "metadata": {},
   "source": [
    "### Table: `raw_holmes`"
   ]
  },
  {
   "cell_type": "code",
   "execution_count": null,
   "id": "33e6192a-cc39-40a8-8023-3290b03b9c15",
   "metadata": {},
   "outputs": [],
   "source": [
    "%%sql\n",
    "\n",
    "CREATE TABLE IF NOT EXISTS raw_holmes (\n",
    "    line STRING\n",
    ")\n",
    "ROW FORMAT DELIMITED\n",
    "LINES TERMINATED BY '\\n'\n",
    "STORED AS TEXTFILE"
   ]
  },
  {
   "cell_type": "markdown",
   "id": "90c3ce4c-74f7-4dc8-8a3a-5a09f309f41a",
   "metadata": {},
   "source": [
    "### Table: `raw_gutenberg`"
   ]
  },
  {
   "cell_type": "code",
   "execution_count": null,
   "id": "41476f38-bc65-4d0a-8840-b00910f93bfb",
   "metadata": {},
   "outputs": [],
   "source": [
    "%%sql\n",
    "\n",
    "CREATE TABLE IF NOT EXISTS raw_gutenberg (\n",
    "    line STRING\n",
    ")\n",
    "ROW FORMAT DELIMITED\n",
    "LINES TERMINATED BY '\\n'\n",
    "STORED AS TEXTFILE"
   ]
  },
  {
   "cell_type": "markdown",
   "id": "5125e9ca-b027-4403-8f7a-6cd62f7579f5",
   "metadata": {},
   "source": [
    "## Verifying that we have the three tables"
   ]
  },
  {
   "cell_type": "code",
   "execution_count": null,
   "id": "e9e88ffa-18ec-42c1-ac01-a65535bbdb79",
   "metadata": {},
   "outputs": [],
   "source": [
    "%sql show tables"
   ]
  },
  {
   "cell_type": "markdown",
   "id": "95599657-1932-49be-91df-872257bf1240",
   "metadata": {},
   "source": [
    "## Inserting Data\n",
    "Hive would delete the source data if we feed it into the tables. Let us copy the files first so we still have the original data in `/dataset/text`"
   ]
  },
  {
   "cell_type": "code",
   "execution_count": null,
   "id": "e37afe65-cb8a-4d42-82c1-47532677367c",
   "metadata": {},
   "outputs": [],
   "source": [
    "!hdfs dfs -cp /dataset/text/*.txt /user/hadoop"
   ]
  },
  {
   "cell_type": "code",
   "execution_count": null,
   "id": "4ad915f6-fd48-4b1b-a087-a70470b24d9b",
   "metadata": {},
   "outputs": [],
   "source": [
    "!hdfs dfs -ls /user/hadoop/*.txt"
   ]
  },
  {
   "cell_type": "markdown",
   "id": "3d5da198-371f-4d5e-8edd-ce6b6c14a5bd",
   "metadata": {},
   "source": [
    "### Loading Data into `raw_small`"
   ]
  },
  {
   "cell_type": "code",
   "execution_count": null,
   "id": "48d32b48-09fc-4040-8a7a-a36738545923",
   "metadata": {},
   "outputs": [],
   "source": [
    "%%sql\n",
    "LOAD DATA INPATH '/user/hadoop/small.txt'\n",
    "OVERWRITE INTO TABLE raw_small"
   ]
  },
  {
   "cell_type": "markdown",
   "id": "54545ca6-f93b-4ea6-987f-60aaf6c387b3",
   "metadata": {},
   "source": [
    "### Loading Data into `raw_holmes`"
   ]
  },
  {
   "cell_type": "code",
   "execution_count": null,
   "id": "7ef8bc7d-22f5-49d3-96f1-f5242cd8dc36",
   "metadata": {},
   "outputs": [],
   "source": [
    "%%sql\n",
    "LOAD DATA INPATH '/user/hadoop/holmes.txt'\n",
    "OVERWRITE INTO TABLE raw_holmes"
   ]
  },
  {
   "cell_type": "markdown",
   "id": "5d32e28b-af83-4f3a-9b0f-5b6bb6db45e7",
   "metadata": {},
   "source": [
    "### Loading Data into `raw_gutenberg`"
   ]
  },
  {
   "cell_type": "code",
   "execution_count": null,
   "id": "d9fdb9bb-ded0-44f9-92cf-4a648aca3cec",
   "metadata": {},
   "outputs": [],
   "source": [
    "%%sql\n",
    "LOAD DATA INPATH '/user/hadoop/gutenberg_all.txt'\n",
    "OVERWRITE INTO TABLE raw_gutenberg"
   ]
  },
  {
   "cell_type": "markdown",
   "id": "39e682b5-d7fd-44ae-9579-ecc7a3bee06c",
   "metadata": {},
   "source": [
    "## Verify that we have data in the tables"
   ]
  },
  {
   "cell_type": "markdown",
   "id": "03a1375a-5f6e-42ce-a7fa-02147560e4c3",
   "metadata": {},
   "source": [
    "First the source data should be gone:"
   ]
  },
  {
   "cell_type": "code",
   "execution_count": null,
   "id": "50003142-1d0c-4aad-86f8-cf74e787f600",
   "metadata": {},
   "outputs": [],
   "source": [
    "!hdfs dfs -ls /user/hadoop/*.txt"
   ]
  },
  {
   "cell_type": "markdown",
   "id": "fb2ab899-b398-46a0-8023-ea21833201d9",
   "metadata": {},
   "source": [
    "Checkout the folders and files in [HDFS explorer](http://bdlc-XX.el.eee.intern:9870/explorer.html#/user/hive/warehouse/text.db)"
   ]
  },
  {
   "cell_type": "markdown",
   "id": "219afa30-5d72-436e-b76f-4360d9b61253",
   "metadata": {},
   "source": [
    "## Final Check"
   ]
  },
  {
   "cell_type": "code",
   "execution_count": null,
   "id": "6e265430-3059-4bce-b6b6-f7e090e481ed",
   "metadata": {},
   "outputs": [],
   "source": [
    "%sql select * from raw_small limit 1"
   ]
  },
  {
   "cell_type": "code",
   "execution_count": null,
   "id": "dcbbc497-2408-46f0-884e-8a14bab4ca08",
   "metadata": {},
   "outputs": [],
   "source": [
    "%sql select * from raw_holmes limit 1"
   ]
  },
  {
   "cell_type": "code",
   "execution_count": null,
   "id": "0f99326c-16e7-4e24-b369-61455dd50b80",
   "metadata": {},
   "outputs": [],
   "source": [
    "%sql select * from raw_gutenberg limit 1"
   ]
  }
 ],
 "metadata": {
  "kernelspec": {
   "display_name": "Python 3 (ipykernel)",
   "language": "python",
   "name": "python3"
  },
  "language_info": {
   "codemirror_mode": {
    "name": "ipython",
    "version": 3
   },
   "file_extension": ".py",
   "mimetype": "text/x-python",
   "name": "python",
   "nbconvert_exporter": "python",
   "pygments_lexer": "ipython3",
   "version": "3.8.10"
  }
 },
 "nbformat": 4,
 "nbformat_minor": 5
}
