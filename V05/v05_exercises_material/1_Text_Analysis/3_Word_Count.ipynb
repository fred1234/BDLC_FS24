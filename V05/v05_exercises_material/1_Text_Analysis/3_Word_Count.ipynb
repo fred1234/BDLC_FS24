{
 "cells": [
  {
   "cell_type": "markdown",
   "id": "d8963f20-96fb-4157-9f5b-1960020f5c66",
   "metadata": {},
   "source": [
    "## Init Connection"
   ]
  },
  {
   "cell_type": "code",
   "execution_count": null,
   "id": "10fe421f-deb1-4683-9646-2459e1b1df25",
   "metadata": {},
   "outputs": [],
   "source": [
    "%load_ext sql\n",
    "%sql hive://hadoop@localhost:10000/text"
   ]
  },
  {
   "cell_type": "markdown",
   "id": "98a052d2-1167-45c6-8081-42af8f7ab869",
   "metadata": {},
   "source": [
    "# Speed\n",
    "\n",
    "With the magic command `%time`, we can measure how long a cell took to execute it. \n",
    "Check out the `Wall time` for the three datasets.\n",
    "\n",
    "Hive needs time to compile the sql, submit the job, running the mappers and the reducers."
   ]
  },
  {
   "cell_type": "code",
   "execution_count": null,
   "id": "83382613-dc84-49c9-9b13-50124ddaf29d",
   "metadata": {},
   "outputs": [],
   "source": [
    "%time %sql select count(*) from raw_small"
   ]
  },
  {
   "cell_type": "code",
   "execution_count": null,
   "id": "08c5ff3e-66b1-4f54-8fb7-d9d95b8e0862",
   "metadata": {},
   "outputs": [],
   "source": [
    "%time %sql select count(*) from raw_holmes"
   ]
  },
  {
   "cell_type": "code",
   "execution_count": null,
   "id": "b5a05e9e-c230-4e74-9e05-7437add56cad",
   "metadata": {},
   "outputs": [],
   "source": [
    "%time %sql select count(*) from raw_gutenberg"
   ]
  },
  {
   "cell_type": "markdown",
   "id": "4fb378af-0299-400c-97d7-0ae74c14865b",
   "metadata": {},
   "source": [
    "## Word Count - Step by Step with `raw_holmes`"
   ]
  },
  {
   "cell_type": "code",
   "execution_count": null,
   "id": "b6266990-262f-4a1e-9b6f-13875f423914",
   "metadata": {},
   "outputs": [],
   "source": [
    "# get a sneak peak at the data\n",
    "%sql select * from raw_holmes limit 3"
   ]
  },
  {
   "cell_type": "code",
   "execution_count": null,
   "id": "3b0f834e-f7a4-47be-8e3c-3fb9665deea9",
   "metadata": {},
   "outputs": [],
   "source": [
    "# we have one column called `line`. Let's use only that one\n",
    "%sql select line from raw_holmes limit 3"
   ]
  },
  {
   "cell_type": "code",
   "execution_count": null,
   "id": "1109f90b-e659-4e61-9fa3-359fff66c9e2",
   "metadata": {},
   "outputs": [],
   "source": [
    "# Let's trim the line\n",
    "%sql select trim(line) from raw_holmes limit 3"
   ]
  },
  {
   "cell_type": "code",
   "execution_count": null,
   "id": "51553526-2931-431a-8b1f-52c4acc6e831",
   "metadata": {},
   "outputs": [],
   "source": [
    "# Let's trim the line...\n",
    "# and give the column the `line` name again\n",
    "%sql select trim(line) line from raw_holmes limit 3"
   ]
  },
  {
   "cell_type": "code",
   "execution_count": null,
   "id": "6bf96c16-e4eb-49df-9b65-95ac6a10d281",
   "metadata": {},
   "outputs": [],
   "source": [
    "# In the above command we requested three lines but only got two. The reason is that line 2 is empty. Let's filter them out\n",
    "%sql select trim(line) line from raw_holmes  where line != '' limit 3"
   ]
  },
  {
   "cell_type": "code",
   "execution_count": null,
   "id": "0acbbf4f-90ee-42b7-a523-811613d29603",
   "metadata": {},
   "outputs": [],
   "source": [
    "#one way to get the words is to use the split function\n",
    "%sql select split(trim(line), ' ') words from raw_holmes where line != '' limit 3"
   ]
  },
  {
   "cell_type": "code",
   "execution_count": null,
   "id": "fc0e64f5-a7c4-4926-9f14-aff6768b3a6a",
   "metadata": {},
   "outputs": [],
   "source": [
    "#However, there is a sentence built in function which \"tokenizes a string of natural language text into words and sentences\"\n",
    "#E.g. the comma in `Holmes,` has been removed in the first line\n",
    "%sql select sentences(trim(line)) sentences from raw_holmes where line != '' limit 3"
   ]
  },
  {
   "cell_type": "code",
   "execution_count": null,
   "id": "38b0c874-041b-410e-aecc-e1b5c9316a80",
   "metadata": {},
   "outputs": [],
   "source": [
    "# The sentences function gives us back an array of array of strings. (words -> sentences -> line)\n",
    "# let's explode once\n",
    "%sql select explode(sentences(trim(line))) sentence from raw_holmes where line != '' limit 3"
   ]
  },
  {
   "cell_type": "markdown",
   "id": "ce3e5ad6-ee40-4077-904c-6081ccd15f36",
   "metadata": {},
   "source": [
    "The sentences function gives us back an array of array of strings. (words -> sentences -> line)\n",
    "let's explode once more, note, however, that we cannot explode two times in a row so we have to create a subquery"
   ]
  },
  {
   "cell_type": "code",
   "execution_count": null,
   "id": "63ad85e4-e722-4188-b8ae-b3ca29cdfefc",
   "metadata": {},
   "outputs": [],
   "source": [
    "%%sql\n",
    "select sentence from (\n",
    "    select explode(sentences(trim(line))) sentence from raw_holmes where line != ''\n",
    ") sentence_table limit 4\n",
    "\n"
   ]
  },
  {
   "cell_type": "code",
   "execution_count": null,
   "id": "2cd5f47a-2d5e-40bf-9b9e-b387d89cd6d7",
   "metadata": {},
   "outputs": [],
   "source": [
    "%%sql\n",
    "select explode(sentence) word from (\n",
    "    select explode(sentences(trim(line))) sentence from raw_holmes where line != ''\n",
    ") sentence_table limit 4\n",
    "\n"
   ]
  },
  {
   "cell_type": "markdown",
   "id": "5f15b53f-de8b-4d82-a43b-67363aa18ba3",
   "metadata": {},
   "source": [
    "Let us `lower` the individual words."
   ]
  },
  {
   "cell_type": "code",
   "execution_count": null,
   "id": "268c39dd-900c-4ef3-baf9-bfaea93527ae",
   "metadata": {},
   "outputs": [],
   "source": [
    "%%sql\n",
    "select lower(word) as word from (\n",
    "    select explode(sentence) word from (\n",
    "    select explode(sentences(trim(line))) sentence from raw_holmes where line != ''\n",
    "    ) sentence_table \n",
    ") word_table limit 4"
   ]
  },
  {
   "cell_type": "markdown",
   "id": "12b3660e-918a-4a46-9c3b-3eae10d14bf6",
   "metadata": {},
   "source": [
    "## Saving the result to a new table"
   ]
  },
  {
   "cell_type": "code",
   "execution_count": null,
   "id": "3d501a74-f296-4644-889e-fd11ab035275",
   "metadata": {},
   "outputs": [],
   "source": [
    "%%sql\n",
    "CREATE TABLE word_holmes \n",
    "AS select lower(word) as word from (\n",
    "    select explode(sentence) word from (\n",
    "    select explode(sentences(trim(line))) sentence from raw_holmes where line != ''\n",
    "    ) sentence_table \n",
    ") word_table"
   ]
  },
  {
   "cell_type": "code",
   "execution_count": null,
   "id": "f0a56de8-c1c6-4f09-9cfb-e3b1ab1c8069",
   "metadata": {},
   "outputs": [],
   "source": [
    "%sql show tables"
   ]
  },
  {
   "cell_type": "code",
   "execution_count": null,
   "id": "ea18db2c-e08c-4df5-bfb5-b68c3c964ec1",
   "metadata": {},
   "outputs": [],
   "source": [
    "%sql select * from word_holmes limit 3"
   ]
  },
  {
   "cell_type": "markdown",
   "id": "f9fb19de-8fae-4407-9cdf-0ef0d349595a",
   "metadata": {},
   "source": [
    "# Word Count"
   ]
  },
  {
   "cell_type": "markdown",
   "id": "9a7fde61-a0e3-4fc9-b10c-fb316cad5265",
   "metadata": {},
   "source": [
    "The word count is now trivial with `sql` 💫"
   ]
  },
  {
   "cell_type": "code",
   "execution_count": null,
   "id": "3c2ceb4b-f861-48f0-aa87-2982b22f8d02",
   "metadata": {},
   "outputs": [],
   "source": [
    "%%sql\n",
    "\n",
    "SELECT\n",
    "    word, count(word) as count\n",
    "FROM\n",
    "    word_holmes\n",
    "GROUP BY\n",
    "    word\n",
    "ORDER BY\n",
    "    count DESC\n",
    "LIMIT 10"
   ]
  },
  {
   "cell_type": "markdown",
   "id": "12fa576f-a4b5-4e33-8dcf-2ae4d2a24327",
   "metadata": {},
   "source": [
    "We can save the results again to a new table"
   ]
  },
  {
   "cell_type": "code",
   "execution_count": null,
   "id": "469ef96e-d567-4a6f-9f2b-469e6d80710e",
   "metadata": {},
   "outputs": [],
   "source": [
    "%%sql \n",
    "CREATE TABLE word_count_holmes \n",
    "AS\n",
    "    SELECT\n",
    "        word, count(word) as count\n",
    "    FROM\n",
    "        word_holmes\n",
    "    GROUP BY\n",
    "        word\n",
    "    ORDER BY\n",
    "        count DESC"
   ]
  },
  {
   "cell_type": "code",
   "execution_count": null,
   "id": "c4c05b4d-604a-48e8-a327-dc8807761046",
   "metadata": {},
   "outputs": [],
   "source": [
    "%sql select * from word_count_holmes where word in ('he', 'she', 'it')"
   ]
  },
  {
   "cell_type": "markdown",
   "id": "728a5c10-259c-48bb-987d-88db57f95c29",
   "metadata": {},
   "source": [
    "# Can you do the same for the `raw_gutenberg` data?"
   ]
  },
  {
   "cell_type": "code",
   "execution_count": null,
   "id": "4273b15e-bd8e-4ac0-9950-67bee834902b",
   "metadata": {},
   "outputs": [],
   "source": [
    "# your solution"
   ]
  },
  {
   "cell_type": "markdown",
   "id": "55545eb4-3f86-412a-8d7a-ab53f20d42d6",
   "metadata": {},
   "source": [
    "# Comparing Gutenberg WordCount with OEC Rank for the Top 20 Words\n",
    "\n",
    "From Wikipedia [100 most common words](https://en.wikipedia.org/wiki/Most_common_words_in_English)"
   ]
  },
  {
   "cell_type": "markdown",
   "id": "556c9b18-d364-4238-8e2d-176afeb419e2",
   "metadata": {},
   "source": [
    "Can you compare our findings with the ones listed here (from wikipedia)\n",
    "\n",
    "|word|place|\n",
    "| ----------- | ----------- |\n",
    "|the|1|\n",
    "|be|2|\n",
    "|to|3|\n",
    "|of|4|\n",
    "|and|5|\n",
    "|a|6|\n",
    "|in|7|\n",
    "|that|9|\n",
    "|have|9|\n",
    "|i|10|\n",
    "|it|11|\n",
    "|for|12|\n",
    "|not| 13|\n",
    "|on|14|\n",
    "|with|15|\n",
    "|he|16|\n",
    "|as| 17|\n",
    "|you|18|\n",
    "|do|19|\n",
    "|at|20|"
   ]
  },
  {
   "cell_type": "code",
   "execution_count": null,
   "id": "ab0c25b0-956e-47b2-8c9b-07894ca2b1bd",
   "metadata": {},
   "outputs": [],
   "source": [
    "# your solution"
   ]
  }
 ],
 "metadata": {
  "kernelspec": {
   "display_name": "Python 3 (ipykernel)",
   "language": "python",
   "name": "python3"
  },
  "language_info": {
   "codemirror_mode": {
    "name": "ipython",
    "version": 3
   },
   "file_extension": ".py",
   "mimetype": "text/x-python",
   "name": "python",
   "nbconvert_exporter": "python",
   "pygments_lexer": "ipython3",
   "version": "3.8.10"
  }
 },
 "nbformat": 4,
 "nbformat_minor": 5
}
