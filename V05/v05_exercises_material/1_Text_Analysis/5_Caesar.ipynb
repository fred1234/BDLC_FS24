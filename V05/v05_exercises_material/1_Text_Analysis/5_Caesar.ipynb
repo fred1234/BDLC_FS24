{
  "cells": [
    {
      "cell_type": "markdown",
      "id": "778209f3-f7c1-4882-8a5b-01e460fad95a",
      "metadata": {},
      "source": [
        "# Caesar Cipher\n",
        "\n",
        "Make sure you understand the [Caesar cipher](https://en.wikipedia.org/wiki/Caesar_cipher).\n",
        "\n",
        "In this exercise we will need:\n",
        "\n",
        "- Hive QL. Use this [help](https://cwiki.apache.org/confluence/display/Hive/LanguageManual+UDF) to find functions you need in this exercise.\n",
        "- Pandas\n",
        "- External and Temporary Tables. [Info 1](https://sparkbyexamples.com/apache-hive/hive-temporary-table-usage-and-how-to-create/) and [Info2](https://docs.cloudera.com/HDPDocuments/HDP3/HDP-3.0.1/using-hiveql/content/hive_create_a_hive_temporary_table.html)"
      ]
    },
    {
      "cell_type": "code",
      "execution_count": null,
      "id": "6b58d420-e191-4fc2-bc84-b16f745252f5",
      "metadata": {},
      "outputs": [],
      "source": [
        "%load_ext sql\n",
        "%config SqlMagic.autocommit=False # avoiding the error: FAILED: IllegalStateException COMMIT is not supported yet.\n",
        "%sql hive://hadoop@localhost:10000/text"
      ]
    },
    {
      "cell_type": "code",
      "execution_count": null,
      "id": "e5878bf2-c0a8-4faa-bb1f-ad8a75618be4",
      "metadata": {},
      "outputs": [],
      "source": [
        "# we will use pandas in this exercise \n",
        "import pandas as pd"
      ]
    },
    {
      "cell_type": "markdown",
      "id": "c7f9d864-18c7-4683-b806-60edf1b14878",
      "metadata": {},
      "source": [
        "## The Problem\n",
        "\n",
        "You have received a cipher, stored in `cipher.txt`\n",
        ":\n",
        "```bash\n",
        "!head cipher.txt\n",
        "```\n",
        "\n",
        "and you are pretty sure that it was decoded with Caesar cipher."
      ]
    },
    {
      "cell_type": "markdown",
      "id": "24b2c0b7-bf9d-47b6-87af-3f0ae1858879",
      "metadata": {},
      "source": [
        "## Create a Mapping: Character -> Frequency\n",
        "\n",
        "Using the `word_gutenberg` dataset we would like to create a mapping for each character:\n",
        "\n",
        "\n",
        "|character|character_count|percentage|\n",
        "| ----------- | ----------- |----------- |\n",
        "|e|978448690|8.38|\n",
        "|...|...|...|\n",
        "|x|14541510|0.19|\n",
        "\n",
        "save this information into the variable `real_frequency`.\n",
        "\n",
        "### Bonus Question\n",
        "Why is it wrong to use the dataset `word_count_gutenberg`?"
      ]
    },
    {
      "cell_type": "code",
      "execution_count": null,
      "id": "7f11fc9f-21b2-4127-9888-ecfd35222643",
      "metadata": {},
      "outputs": [],
      "source": [
        "%%sql real_frequency <<\n",
        "\n",
        "SELECT\n",
        "...\n"
      ]
    },
    {
      "cell_type": "markdown",
      "id": "e7620129-8e41-4e22-b2ee-d427733c8086",
      "metadata": {},
      "source": [
        "## Convert `real_frequency` to a DataFrame"
      ]
    },
    {
      "cell_type": "code",
      "execution_count": null,
      "id": "d01b5f30-db68-4ecb-b1bd-e5f199eb5603",
      "metadata": {},
      "outputs": [],
      "source": [
        "df_real_frequency = real_frequency.DataFrame()"
      ]
    },
    {
      "cell_type": "code",
      "execution_count": null,
      "id": "2313bfb9-8bda-4784-a791-190af548eb69",
      "metadata": {},
      "outputs": [],
      "source": [
        "df_real_frequency"
      ]
    },
    {
      "cell_type": "markdown",
      "id": "18512ba0-df37-43e6-a926-eaacd28e0063",
      "metadata": {},
      "source": [
        "## Most Used Character in the English Language\n",
        "\n",
        "Given `df_real_frequency`, sort the `DataFrame` based on the `character_count` (`DESC`) to find the most used characters.\n",
        "- [Help](https://pandas.pydata.org/docs/reference/api/pandas.DataFrame.sort_values.html)"
      ]
    },
    {
      "cell_type": "code",
      "execution_count": null,
      "id": "5d1c95f0-996b-4949-9916-2b2a8d3a8180",
      "metadata": {},
      "outputs": [],
      "source": [
        "#sorting in pandas"
      ]
    },
    {
      "cell_type": "markdown",
      "id": "2e18d2bf-1a49-4795-9762-567123a93a86",
      "metadata": {},
      "source": [
        "### Compare our Results with the Official List\n",
        "\n",
        "Compare our results with this [wiki site](https://en.wikipedia.org/wiki/Letter_frequency).\n",
        "\n",
        "The top three letters should match!"
      ]
    },
    {
      "cell_type": "markdown",
      "id": "df167c3d-d9e9-4806-833c-9560efe09cfa",
      "metadata": {},
      "source": [
        "## Loading `cipher.txt` as a Temp Table"
      ]
    },
    {
      "cell_type": "code",
      "execution_count": null,
      "id": "9e3f717e-a6fe-429f-80c4-72b344f3c183",
      "metadata": {},
      "outputs": [],
      "source": [
        "! head cipher.txt"
      ]
    },
    {
      "cell_type": "markdown",
      "id": "6f14b1cd-9fbf-43f6-8085-9b648ce3d219",
      "metadata": {},
      "source": [
        "### Creating a Temp Table"
      ]
    },
    {
      "cell_type": "code",
      "execution_count": null,
      "id": "c64660c6-3ff7-4852-b102-158f04e6457c",
      "metadata": {},
      "outputs": [],
      "source": [
        "%sql CREATE TEMPORARY EXTERNAL TABLE cipher(line string)"
      ]
    },
    {
      "cell_type": "markdown",
      "id": "024c6c65-2304-4d00-960a-7d750aac4a70",
      "metadata": {},
      "source": [
        "### Loading Data into the Table"
      ]
    },
    {
      "cell_type": "code",
      "execution_count": null,
      "id": "ad4b3410-1899-4b16-9596-ee6f30c6deb3",
      "metadata": {},
      "outputs": [],
      "source": [
        "%sql LOAD DATA LOCAL INPATH '/home/hadoop/BDLC_FS23/V04/V04_exercises_material/1_Text_Analysis/cipher.txt' INTO TABLE cipher"
      ]
    },
    {
      "cell_type": "markdown",
      "id": "70e641e3-0d0f-4e58-8740-2612046ae34c",
      "metadata": {},
      "source": [
        "### Check if it worked"
      ]
    },
    {
      "cell_type": "code",
      "execution_count": null,
      "id": "0314ab1d-9ae7-4312-937c-02b1c375ae0c",
      "metadata": {},
      "outputs": [],
      "source": [
        "%sql show tables"
      ]
    },
    {
      "cell_type": "code",
      "execution_count": null,
      "id": "35423222-d1e5-4727-bd37-54a3e8b29596",
      "metadata": {},
      "outputs": [],
      "source": [
        "%sql select * from cipher limit 5"
      ]
    },
    {
      "cell_type": "markdown",
      "id": "12a91f2f-d5d2-4505-94dc-6e4432ca7665",
      "metadata": {},
      "source": [
        "## Frequencies for Cipher\n",
        "\n",
        "Do the same analysis again. Save the results into `cipher_frequency` and also convert it to a DataFrame."
      ]
    },
    {
      "cell_type": "code",
      "execution_count": null,
      "id": "b86e661a-49f5-4a2e-a681-774cd60aaec3",
      "metadata": {},
      "outputs": [],
      "source": [
        "%%sql cipher_frequency <<\n",
        "\n",
        "SELECT\n",
        "   ..."
      ]
    },
    {
      "cell_type": "code",
      "execution_count": null,
      "id": "1e44e060-49b6-4281-9392-5ad0fb8fd90d",
      "metadata": {},
      "outputs": [],
      "source": [
        "df_cipher_frequency = cipher_frequency.DataFrame()"
      ]
    },
    {
      "cell_type": "code",
      "execution_count": null,
      "id": "acad2d77-394e-4bdd-b9ea-172b54985581",
      "metadata": {},
      "outputs": [],
      "source": [
        "#sorting in pandas"
      ]
    },
    {
      "cell_type": "markdown",
      "id": "bbc4b0bb-e877-4299-81b0-8c14c1b07030",
      "metadata": {},
      "source": [
        "## Hacking the Code\n",
        "Now you know the top letter in our language and the top letter in the cipher.. Figure out the ASCII value difference between the two."
      ]
    },
    {
      "cell_type": "code",
      "execution_count": null,
      "id": "c451a7bd-2f97-4091-8e33-7232be381425",
      "metadata": {},
      "outputs": [],
      "source": [
        "import string\n",
        "for letter in string.ascii_lowercase:\n",
        "    print(f\"the letter {str(letter)} has ascii code {ord(letter)}\")"
      ]
    },
    {
      "cell_type": "markdown",
      "id": "a0138f52-819c-485f-a474-7d50a5b1a7f6",
      "metadata": {},
      "source": [
        "### Write a Decoder\n",
        "\n",
        "Write a small python script which reads `cipher.txt`, and decodes the code.\n",
        "\n",
        "- convert letters into ascii code with `ord()`.\n",
        "- convert ascii code to a char with `chr()`.\n",
        "- Note, only letters `a-z` have been converted, e.g. `,`, ` `, `( `, `)` should not be transformed."
      ]
    },
    {
      "cell_type": "code",
      "execution_count": null,
      "id": "06c6dabc-cf8f-45d8-a40d-8d285ae8c797",
      "metadata": {},
      "outputs": [],
      "source": [
        "import string\n",
        "\n",
        "\n",
        "cipher = open(\"./cipher.txt\", \"r\")\n",
        "\n",
        "for line in cipher:\n"
      ]
    }
  ],
  "metadata": {
    "kernelspec": {
      "display_name": "Python 3 (ipykernel)",
      "language": "python",
      "name": "python3"
    },
    "language_info": {
      "codemirror_mode": {
        "name": "ipython",
        "version": 3
      },
      "file_extension": ".py",
      "mimetype": "text/x-python",
      "name": "python",
      "nbconvert_exporter": "python",
      "pygments_lexer": "ipython3",
      "version": "3.8.10"
    }
  },
  "nbformat": 4,
  "nbformat_minor": 5
}
