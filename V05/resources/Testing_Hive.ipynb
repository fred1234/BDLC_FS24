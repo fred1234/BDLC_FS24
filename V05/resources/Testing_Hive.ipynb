{
 "cells": [
  {
   "cell_type": "markdown",
   "id": "8da528db-5a51-4d79-bd7e-84102c742d31",
   "metadata": {},
   "source": [
    "# Hive and JupyterLab"
   ]
  },
  {
   "cell_type": "markdown",
   "id": "10ec6bb3-f5ab-4cf9-85e7-7c9f8b48ac46",
   "metadata": {},
   "source": [
    "## Using PyHive"
   ]
  },
  {
   "cell_type": "code",
   "execution_count": null,
   "id": "0872f77a-0650-4018-bd78-99787a1f16be",
   "metadata": {},
   "outputs": [],
   "source": [
    "from pyhive import hive\n",
    "\n",
    "#Create Hive connection \n",
    "cursor = hive.connect(host=\"127.0.0.1\", port=10000, username=\"hadoop\").cursor()\n",
    "\n",
    "#Executing SQL\n",
    "cursor.execute(\"SELECT * FROM test_db.test_table limit 10\")"
   ]
  },
  {
   "cell_type": "code",
   "execution_count": null,
   "id": "bc9f147c-1d7e-4d11-8e6c-cf0c4fefcf82",
   "metadata": {},
   "outputs": [],
   "source": [
    "cursor.fetchone()"
   ]
  },
  {
   "cell_type": "code",
   "execution_count": null,
   "id": "29574519-2032-49e8-a6bb-fb7a3536934d",
   "metadata": {},
   "outputs": [],
   "source": [
    "cursor.fetchall()"
   ]
  },
  {
   "cell_type": "markdown",
   "id": "0b679a3d-9c46-4cb8-9964-f289ebc3d434",
   "metadata": {},
   "source": [
    "## Using SQL Alchemy and Pandas"
   ]
  },
  {
   "cell_type": "code",
   "execution_count": null,
   "id": "2b1c31d3-680d-414b-a870-79632252f20c",
   "metadata": {},
   "outputs": [],
   "source": [
    "import pandas as pd\n",
    "from sqlalchemy.engine import create_engine\n",
    "\n",
    "#Create Hive connection \n",
    "engine = create_engine('hive://hadoop@localhost:10000/test_db')\n",
    "\n",
    "# Read Hive Data into a DataFrame\n",
    "df = pd.read_sql('select * from test_table limit 10', engine)"
   ]
  },
  {
   "cell_type": "code",
   "execution_count": null,
   "id": "ee19f221-9f72-4954-998d-6efaad8fc0ed",
   "metadata": {},
   "outputs": [],
   "source": [
    "df"
   ]
  },
  {
   "cell_type": "markdown",
   "id": "da37c528-59fc-41b7-8f2a-fa4151c1be32",
   "metadata": {},
   "source": [
    "# Using SQL Magic"
   ]
  },
  {
   "cell_type": "code",
   "execution_count": null,
   "id": "28fb052d-b677-498e-8437-154f7622557e",
   "metadata": {},
   "outputs": [],
   "source": [
    "# load the ipython-sql library\n",
    "%load_ext sql"
   ]
  },
  {
   "cell_type": "code",
   "execution_count": null,
   "id": "2f0f0cba-adb2-4185-838d-cd1a80a3be78",
   "metadata": {},
   "outputs": [],
   "source": [
    "# connection string in SQLAlchemy format\n",
    "%sql hive://hadoop@localhost:10000/test_db"
   ]
  },
  {
   "cell_type": "markdown",
   "id": "f8a216d4-f1ba-4840-9c0a-420857e7935d",
   "metadata": {},
   "source": [
    "## Single Line SQL"
   ]
  },
  {
   "cell_type": "code",
   "execution_count": null,
   "id": "6dd83e31-fc4d-4154-88b0-800ebca99a67",
   "metadata": {},
   "outputs": [],
   "source": [
    "%sql SELECT * FROM test_table LIMIT 2"
   ]
  },
  {
   "cell_type": "markdown",
   "id": "360312c7-10b3-4251-b16c-d42eaae3dff8",
   "metadata": {},
   "source": [
    "## Save Results in Single Line SQL"
   ]
  },
  {
   "cell_type": "code",
   "execution_count": null,
   "id": "26690a40-2dff-4629-9547-b3e78a86b0fd",
   "metadata": {},
   "outputs": [],
   "source": [
    "my_var = %sql SELECT * FROM test_table LIMIT 2"
   ]
  },
  {
   "cell_type": "code",
   "execution_count": null,
   "id": "e09f2ffd-88dd-4e1a-943b-5b83abd02bf9",
   "metadata": {},
   "outputs": [],
   "source": [
    "my_var"
   ]
  },
  {
   "cell_type": "markdown",
   "id": "c7e519aa-e85b-44a4-becb-d46037eda1e0",
   "metadata": {},
   "source": [
    "## Multi Line SQL"
   ]
  },
  {
   "cell_type": "code",
   "execution_count": null,
   "id": "85eb2484-7fda-42b8-9246-869db9db8a76",
   "metadata": {},
   "outputs": [],
   "source": [
    "%%sql\n",
    "SELECT * \n",
    "FROM test_table\n",
    "LIMIT 2"
   ]
  },
  {
   "cell_type": "markdown",
   "id": "af806781-f90e-46db-84a4-72729dba1a6d",
   "metadata": {},
   "source": [
    "## Save Results in Multi Line SQL"
   ]
  },
  {
   "cell_type": "code",
   "execution_count": null,
   "id": "bbea0ca3-ebf5-4347-b34f-4d12a9a0194e",
   "metadata": {},
   "outputs": [],
   "source": [
    "%%sql my_var <<\n",
    "SELECT * \n",
    "FROM test_table\n",
    "LIMIT 2"
   ]
  },
  {
   "cell_type": "code",
   "execution_count": null,
   "id": "4806344d-5da9-440b-b8fc-86a2b2644bdb",
   "metadata": {},
   "outputs": [],
   "source": [
    "my_var"
   ]
  },
  {
   "cell_type": "markdown",
   "id": "a910563d-2abc-407b-8ee0-e373616c1601",
   "metadata": {},
   "source": [
    "## Bind Variables `{my_var}`"
   ]
  },
  {
   "cell_type": "code",
   "execution_count": null,
   "id": "cea2f00e-e78f-41d1-87bc-4e3337b79f10",
   "metadata": {},
   "outputs": [],
   "source": [
    "what='id'\n",
    "%sql SELECT {what} from test_table limit 2"
   ]
  },
  {
   "cell_type": "markdown",
   "id": "673158d4-a79a-4b8b-8ae3-d9dbc43ca9ec",
   "metadata": {},
   "source": [
    "# Converting a `ResultSet` into a `DataFrame`"
   ]
  },
  {
   "cell_type": "code",
   "execution_count": null,
   "id": "0f945c8a-cfff-4892-812d-55413f0b8e27",
   "metadata": {},
   "outputs": [],
   "source": [
    "result_set = %sql SELECT id from test_table LIMIT 5"
   ]
  },
  {
   "cell_type": "code",
   "execution_count": null,
   "id": "bb0093cc-010c-45b4-97d2-fea957aa718f",
   "metadata": {},
   "outputs": [],
   "source": [
    "type(result_set)"
   ]
  },
  {
   "cell_type": "code",
   "execution_count": null,
   "id": "f7d16559-522f-4ba9-baf9-d1da247abe56",
   "metadata": {},
   "outputs": [],
   "source": [
    "df = result_set.DataFrame()"
   ]
  },
  {
   "cell_type": "code",
   "execution_count": null,
   "id": "c6d4c546-244c-4555-87a2-e755f29d3a0d",
   "metadata": {},
   "outputs": [],
   "source": [
    "type(df)"
   ]
  },
  {
   "cell_type": "code",
   "execution_count": null,
   "id": "04897ca9-dba4-4e3a-ab31-5439cfc738f5",
   "metadata": {},
   "outputs": [],
   "source": [
    "df.head()"
   ]
  }
 ],
 "metadata": {
  "kernelspec": {
   "display_name": "Python 3 (ipykernel)",
   "language": "python",
   "name": "python3"
  },
  "language_info": {
   "codemirror_mode": {
    "name": "ipython",
    "version": 3
   },
   "file_extension": ".py",
   "mimetype": "text/x-python",
   "name": "python",
   "nbconvert_exporter": "python",
   "pygments_lexer": "ipython3",
   "version": "3.8.10"
  }
 },
 "nbformat": 4,
 "nbformat_minor": 5
}
