{
 "cells": [
  {
   "cell_type": "code",
   "execution_count": 4,
   "id": "f0a05673-16d5-4adb-8312-fcffdb609179",
   "metadata": {},
   "outputs": [],
   "source": [
    "# from https://stackoverflow.com/questions/5194057/better-way-to-convert-file-sizes-in-python/53566690#53566690\n",
    "\n",
    "import math\n",
    "\n",
    "def convert_size(size_bytes):\n",
    "    if size_bytes == 0:\n",
    "        return \"0B\"\n",
    "    size_name = (\"B\", \"KB\", \"MB\", \"GB\", \"TB\", \"PB\", \"EB\", \"ZB\", \"YB\")\n",
    "    i = int(math.floor(math.log(size_bytes, 1024)))\n",
    "    p = math.pow(1024, i)\n",
    "    s = round(size_bytes / p, 2)\n",
    "    return \"%s %s\" % (s, size_name[i])"
   ]
  },
  {
   "cell_type": "code",
   "execution_count": 5,
   "id": "e94a9897-28fb-411b-a1ed-72b6cba3acbd",
   "metadata": {},
   "outputs": [
    {
     "name": "stdout",
     "output_type": "stream",
     "text": [
      "1000.0 B\n",
      "1.0 KB\n",
      "1.0 MB\n"
     ]
    }
   ],
   "source": [
    "print(convert_size(1000))\n",
    "print(convert_size(1024))\n",
    "print(convert_size(1024*1024))"
   ]
  },
  {
   "cell_type": "code",
   "execution_count": 4,
   "id": "1bcf72f4-252a-462d-bdc1-9b9ef56e87ce",
   "metadata": {},
   "outputs": [
    {
     "name": "stdout",
     "output_type": "stream",
     "text": [
      "total 616K\n",
      "5111810 4.0K drwxr-xr-x 4 hadoop root   4.0K Mar  6 14:06 .\n",
      "5111809 4.0K drwxr-xr-x 3 hadoop root   4.0K Mar  6 12:22 ..\n",
      "5111814 4.0K drwxr-xr-x 4 hadoop hadoop 4.0K Feb 17 09:38 gutenberg\n",
      "5111811 596K -rw-rw-r-- 1 hadoop hadoop 594K Jun  9  2021 holmes.txt\n",
      "5767169 4.0K drwxrwxr-x 2 hadoop hadoop 4.0K Mar  6 14:06 .ipynb_checkpoints\n",
      "5111812 4.0K -rw-rw-r-- 1 hadoop hadoop  342 Mar  6 12:32 small.txt\n"
     ]
    }
   ],
   "source": [
    "!ls -lisah /data/dataset/text"
   ]
  },
  {
   "cell_type": "markdown",
   "id": "ed6fd83d-a270-4e6a-bdf9-58c27b18bb09",
   "metadata": {},
   "source": [
    "# Holmes.txt"
   ]
  },
  {
   "cell_type": "code",
   "execution_count": 7,
   "id": "b720d1be-1703-4166-ace2-afc332ab7c7e",
   "metadata": {},
   "outputs": [],
   "source": [
    "file = open(\"/data/dataset/text/holmes.txt\").read()"
   ]
  },
  {
   "cell_type": "code",
   "execution_count": 8,
   "id": "188c991e-f8ed-4bf6-a106-41af3be7d942",
   "metadata": {},
   "outputs": [
    {
     "name": "stdout",
     "output_type": "stream",
     "text": [
      "holmes.txt is: 1.11 MB\n"
     ]
    }
   ],
   "source": [
    "import sys\n",
    "print(f\"holmes.txt is: {convert_size(sys.getsizeof(file))}\")"
   ]
  },
  {
   "cell_type": "code",
   "execution_count": 10,
   "id": "33686f6d-752e-497e-8d7a-589e38e7cb3f",
   "metadata": {},
   "outputs": [],
   "source": [
    "wordcount = {}\n",
    "for word in file.split():\n",
    "    if word not in wordcount:\n",
    "        wordcount[word] = 1\n",
    "    else:\n",
    "        wordcount[word] += 1"
   ]
  },
  {
   "cell_type": "code",
   "execution_count": 11,
   "id": "ff7c190a-6ba5-438e-9d2f-6edf2a980562",
   "metadata": {},
   "outputs": [
    {
     "data": {
      "text/plain": [
       "5412"
      ]
     },
     "execution_count": 11,
     "metadata": {},
     "output_type": "execute_result"
    }
   ],
   "source": [
    "wordcount[\"the\"]"
   ]
  },
  {
   "cell_type": "markdown",
   "id": "1acda78a-6f36-417e-9082-ca1148e63257",
   "metadata": {},
   "source": [
    "# Gutenberg - 10Gigs"
   ]
  },
  {
   "cell_type": "code",
   "execution_count": 14,
   "id": "7e3c6cea-323c-4226-9e9f-8925bcc8de65",
   "metadata": {},
   "outputs": [
    {
     "name": "stdout",
     "output_type": "stream",
     "text": [
      "5135924 11G -rw-r--r-- 1 hadoop hadoop 11G Feb 17 09:26 /data/dataset/text/gutenberg/gutenberg_singleFile/gutenberg_all.txt\n"
     ]
    }
   ],
   "source": [
    "!ls -lisah /data/dataset/text/gutenberg/gutenberg_singleFile/gutenberg_all.txt"
   ]
  },
  {
   "cell_type": "code",
   "execution_count": 15,
   "id": "18c9e85b-7cac-4736-ae35-6e483020dd1c",
   "metadata": {},
   "outputs": [],
   "source": [
    "# crashes\n",
    "# file = open(\"/data/dataset/text/gutenberg/gutenberg_singleFile/gutenberg_all.txt\").read()"
   ]
  },
  {
   "cell_type": "code",
   "execution_count": 16,
   "id": "d87ab4a5-8274-4013-a96a-23fc4b6f1a1c",
   "metadata": {},
   "outputs": [],
   "source": [
    "file = open(\"/data/dataset/text/gutenberg/gutenberg_singleFile/gutenberg_all.txt\", \"rb\").read()"
   ]
  },
  {
   "cell_type": "code",
   "execution_count": 19,
   "id": "7ef31037-d0b2-4522-b261-20503fa371b6",
   "metadata": {},
   "outputs": [
    {
     "name": "stdout",
     "output_type": "stream",
     "text": [
      "gutenberg_all.txt is: 4.16 KB\n"
     ]
    }
   ],
   "source": [
    "import sys\n",
    "print(f\"gutenberg_all.txt is: {convert_size(sys.getsizeof(file))}\")"
   ]
  },
  {
   "cell_type": "code",
   "execution_count": null,
   "id": "09c2e247-0329-4bc5-826d-bcbd56aca91c",
   "metadata": {},
   "outputs": [],
   "source": [
    "# but now it would crash in the split() command :/\n",
    "wordcount = {}\n",
    "for word in file.split(): # <-- here\n",
    "    if word not in wordcount:\n",
    "        wordcount[word] = 1\n",
    "    else:\n",
    "        wordcount[word] += 1"
   ]
  },
  {
   "cell_type": "markdown",
   "id": "7850a7a9-0531-4429-a53d-95a4cb269cd2",
   "metadata": {},
   "source": [
    "## Line by Line"
   ]
  },
  {
   "cell_type": "code",
   "execution_count": 6,
   "id": "f8f12060-e301-46b4-856c-37cc6799a8c8",
   "metadata": {},
   "outputs": [],
   "source": [
    "file = open(\"/data/dataset/text/gutenberg/gutenberg_singleFile/gutenberg_all.txt\", \"rb\")"
   ]
  },
  {
   "cell_type": "code",
   "execution_count": 7,
   "id": "6c3471be-2af4-49c6-ba46-f677c1b092f5",
   "metadata": {},
   "outputs": [
    {
     "name": "stdout",
     "output_type": "stream",
     "text": [
      "gutenberg_all.txt is: 4.16 KB\n"
     ]
    }
   ],
   "source": [
    "import sys\n",
    "print(f\"gutenberg_all.txt is: {convert_size(sys.getsizeof(file))}\")"
   ]
  },
  {
   "cell_type": "code",
   "execution_count": null,
   "id": "21a8d762-01cc-422b-9343-bc0262602ff9",
   "metadata": {
    "tags": []
   },
   "outputs": [],
   "source": [
    "wordcount = {}\n",
    "for line in file:\n",
    "    for word in line.split():\n",
    "        if word not in wordcount:\n",
    "            wordcount[word] = 1\n",
    "        else:\n",
    "            wordcount[word] += 1"
   ]
  },
  {
   "cell_type": "code",
   "execution_count": 9,
   "id": "a2187a27-55ef-4577-942f-263ff1986849",
   "metadata": {},
   "outputs": [
    {
     "name": "stdout",
     "output_type": "stream",
     "text": [
      "1005.2565331459045\n"
     ]
    }
   ],
   "source": [
    "#version with time\n",
    "import time\n",
    "\n",
    "start = time.time()\n",
    "\n",
    "wordcount = {}\n",
    "for line in file:\n",
    "    for word in line.split():\n",
    "        if word not in wordcount:\n",
    "            wordcount[word] = 1\n",
    "        else:\n",
    "            wordcount[word] += 1\n",
    "\n",
    "\n",
    "end = time.time()\n",
    "print(end - start)"
   ]
  },
  {
   "cell_type": "code",
   "execution_count": 10,
   "id": "095c9710-7542-47c3-a50f-2d165eb81300",
   "metadata": {},
   "outputs": [
    {
     "data": {
      "text/plain": [
       "16.75"
      ]
     },
     "execution_count": 10,
     "metadata": {},
     "output_type": "execute_result"
    }
   ],
   "source": [
    "1005/60"
   ]
  }
 ],
 "metadata": {
  "kernelspec": {
   "display_name": "Python 3 (ipykernel)",
   "language": "python",
   "name": "python3"
  },
  "language_info": {
   "codemirror_mode": {
    "name": "ipython",
    "version": 3
   },
   "file_extension": ".py",
   "mimetype": "text/x-python",
   "name": "python",
   "nbconvert_exporter": "python",
   "pygments_lexer": "ipython3",
   "version": "3.8.10"
  }
 },
 "nbformat": 4,
 "nbformat_minor": 5
}
