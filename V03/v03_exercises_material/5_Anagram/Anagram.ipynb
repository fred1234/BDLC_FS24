{
 "cells": [
  {
   "cell_type": "markdown",
   "id": "71dd2a83-3c82-4204-a02d-c493eca6faf1",
   "metadata": {},
   "source": [
    "# Computing Anagrams"
   ]
  },
  {
   "cell_type": "markdown",
   "id": "db10b1d1-8258-443c-a15d-cbd012a20566",
   "metadata": {},
   "source": [
    "## Definition\n",
    "\n",
    "> An anagram is a word or phrase formed by rearranging the letters of a different word or phrase, typically using all the original letters exactly once.\n",
    "\n",
    "From [Wikipedia](https://en.wikipedia.org/wiki/Anagram)"
   ]
  },
  {
   "cell_type": "markdown",
   "id": "139deab9-d4dd-448a-b766-625ca32054da",
   "metadata": {},
   "source": [
    "## Implementation\n",
    "Write a MapReduce algorithm for finding anagrams in the holmes.txt dataset.\n",
    "\n",
    "Output only anagrams where we have at least three different words.\n",
    "\n",
    "- e.g. `[\"own\", \"now\", \"won\"]`\n"
   ]
  },
  {
   "cell_type": "code",
   "execution_count": null,
   "id": "06619305-a210-44bc-9a91-d4dac92c790a",
   "metadata": {},
   "outputs": [],
   "source": [
    "%%writefile anagram.py\n",
    "\n",
    "#!/usr/bin/python3\n",
    "from mrjob.job import MRJob\n",
    "\n",
    "#your code here"
   ]
  },
  {
   "cell_type": "markdown",
   "id": "483a5960-2caa-4ee2-9ee8-d3e9cc97e18a",
   "metadata": {},
   "source": [
    "### Running the Job\n"
   ]
  },
  {
   "cell_type": "code",
   "execution_count": null,
   "id": "7ff0af05-beac-4eff-9f5e-c99ffa0e260d",
   "metadata": {},
   "outputs": [],
   "source": [
    "!python anagram.py /data/dataset/text/holmes.txt"
   ]
  }
 ],
 "metadata": {
  "kernelspec": {
   "display_name": "Python 3 (ipykernel)",
   "language": "python",
   "name": "python3"
  },
  "language_info": {
   "codemirror_mode": {
    "name": "ipython",
    "version": 3
   },
   "file_extension": ".py",
   "mimetype": "text/x-python",
   "name": "python",
   "nbconvert_exporter": "python",
   "pygments_lexer": "ipython3",
   "version": "3.8.10"
  }
 },
 "nbformat": 4,
 "nbformat_minor": 5
}
