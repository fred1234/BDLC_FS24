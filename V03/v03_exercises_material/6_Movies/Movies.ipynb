{
 "cells": [
  {
   "cell_type": "markdown",
   "id": "9226b95d-fe73-480d-a311-211719fc3b09",
   "metadata": {},
   "source": [
    "# Movies\n",
    "In this exercise, we will analyse good and bad movies based on the [MovieLens dataset](https://grouplens.org/datasets/movielens/)"
   ]
  },
  {
   "cell_type": "markdown",
   "id": "6eb64510-daef-4be7-8180-67933d1d7ec4",
   "metadata": {},
   "source": [
    "## Download the dataset\n",
    "\n",
    "You need to install `unzip` on your computer with\n",
    "\n",
    "```bash\n",
    "sudo apt install unzip\n",
    "```"
   ]
  },
  {
   "cell_type": "code",
   "execution_count": null,
   "id": "9c906044-198d-4e6f-9e64-47da486c9e9d",
   "metadata": {},
   "outputs": [],
   "source": [
    "!wget https://files.grouplens.org/datasets/movielens/ml-latest-small.zip"
   ]
  },
  {
   "cell_type": "code",
   "execution_count": null,
   "id": "297c8770-05c7-486a-a2a7-82e6ad4133cf",
   "metadata": {},
   "outputs": [],
   "source": [
    "!unzip ml-latest-small.zip"
   ]
  },
  {
   "cell_type": "markdown",
   "id": "c20eeb74-070b-4d6e-8938-e9953d483884",
   "metadata": {},
   "source": [
    "## Inspecting the data we need"
   ]
  },
  {
   "cell_type": "code",
   "execution_count": null,
   "id": "391ffcd2-de5e-4115-98f8-f63d88db4914",
   "metadata": {},
   "outputs": [],
   "source": [
    "!head ml-latest-small/movies.csv"
   ]
  },
  {
   "cell_type": "code",
   "execution_count": null,
   "id": "418e893b-1130-42a5-9571-4df11b9d8afc",
   "metadata": {},
   "outputs": [],
   "source": [
    "!wc -l ml-latest-small/movies.csv"
   ]
  },
  {
   "cell_type": "code",
   "execution_count": null,
   "id": "6bb0b007-91fc-4555-999c-6d359db56af4",
   "metadata": {},
   "outputs": [],
   "source": [
    "!head ml-latest-small/ratings.csv"
   ]
  },
  {
   "cell_type": "code",
   "execution_count": null,
   "id": "9a2cf63f-c5c9-401b-bf69-3849e4c3fb32",
   "metadata": {},
   "outputs": [],
   "source": [
    "!wc -l ml-latest-small/ratings.csv"
   ]
  },
  {
   "cell_type": "markdown",
   "id": "bc9f283c-d09c-4574-93f2-f4816a22fd35",
   "metadata": {},
   "source": [
    "## Task 1 - Compute the Average for Each Movie\n",
    "\n",
    "Given the file `ml-latest-small/ratings.csv`, we want to output the `movieId` and the `average rating` of that movie as long as we have at least 5 ratings.\n",
    "\n",
    "Implement a MapReduce algorithm:"
   ]
  },
  {
   "cell_type": "markdown",
   "id": "47d91911-06af-40bc-80fc-5539c01a9e20",
   "metadata": {},
   "source": [
    "### Implementation"
   ]
  },
  {
   "cell_type": "code",
   "execution_count": null,
   "id": "e2673183-a2fa-4690-b302-57367c2b69cb",
   "metadata": {},
   "outputs": [],
   "source": [
    "%%writefile average.py\n",
    "\n"
   ]
  },
  {
   "cell_type": "markdown",
   "id": "eb6da167-619b-4158-90e8-68ed99faf8f7",
   "metadata": {},
   "source": [
    "### Run Task 1\n",
    "\n",
    "Save the results to `averages.txt`. The result should look like\n",
    "\n",
    "```text\n",
    "3113\t2.7\n",
    "3114\t3.8608247422680413\n",
    "3115\t4.0\n",
    "```"
   ]
  },
  {
   "cell_type": "code",
   "execution_count": null,
   "id": "27893fa9-ca81-4d2e-a6ec-86f52ba0a07f",
   "metadata": {},
   "outputs": [],
   "source": [
    "!python average.py ml-latest-small/ratings.csv > averages.txt"
   ]
  },
  {
   "cell_type": "markdown",
   "id": "dae254ef-547f-4984-92b7-7a0ba55695d5",
   "metadata": {},
   "source": [
    "## Task 2 - PreProcessing of Ratings\n",
    "\n",
    "We just need the `movieId` and the `title` from the `ml-latest-small/movies.csv`"
   ]
  },
  {
   "cell_type": "markdown",
   "id": "7be1cb65-1e56-4b15-a627-3aea4dae35f1",
   "metadata": {},
   "source": [
    "### Implementation"
   ]
  },
  {
   "cell_type": "code",
   "execution_count": null,
   "id": "278164b9-d0f2-4147-bd77-afc2bf2aed4f",
   "metadata": {},
   "outputs": [],
   "source": [
    "%%writefile movie_cleaning.py\n",
    "\n"
   ]
  },
  {
   "cell_type": "markdown",
   "id": "a9eb2af2-0d5d-4ee1-b708-74f0e56e260b",
   "metadata": {},
   "source": [
    "### Run Task 2\n",
    "\n",
    "Again, let us save the results to `movies.txt`.\n",
    "\n",
    "The result should look like:\n",
    "\n",
    "```text\n",
    "6400\t\"Murder on a Sunday Morning (Un coupable id\\u00e9al) (2001)\"\n",
    "6402\t\"Siam Sunset (1999)\"\n",
    "6405\t\"Treasure Island (1950)\"\n",
    "6407\t\"Walk, Don't Run (1966)\"\n",
    "6408\t\"Animals are Beautiful People (1974)\"\n",
    "```\n",
    "\n",
    "Do not worry about the special characters like `\\u00e9`."
   ]
  },
  {
   "cell_type": "code",
   "execution_count": null,
   "id": "ffb8c380-da8b-4c1a-89da-fe05435be37d",
   "metadata": {},
   "outputs": [],
   "source": [
    "!python movie_cleaning.py ml-latest-small/movies.csv > movies.txt"
   ]
  },
  {
   "cell_type": "markdown",
   "id": "470333fa-7332-4221-90e2-18baa84f9d2d",
   "metadata": {},
   "source": [
    "## Task 3 - Joining `movies.txt` and `averages.txt`\n",
    "\n",
    "Try to implement another MapReduce algorithm which reads `movies.txt` and `averages.txt` and joins the results.\n",
    "\n",
    "Try to sort the output (best movies first)\n",
    "\n",
    "You can figure out which file is read by using the command\n",
    "```python\n",
    "file_name = os.environ['mapreduce_map_input_file']\n",
    "```"
   ]
  },
  {
   "cell_type": "code",
   "execution_count": null,
   "id": "f2908f39-d229-41d0-88be-ff507bd1f402",
   "metadata": {},
   "outputs": [],
   "source": [
    "%%writefile join.py\n",
    "\n"
   ]
  },
  {
   "cell_type": "markdown",
   "id": "9f699c3f-c254-4653-923d-04db517fb4b4",
   "metadata": {},
   "source": [
    "### Testing locally (no sort)\n",
    "\n",
    "As we have learned, MRJob does not do the sorting in local mode. However, it is still useful to test if the algorithm is working in general.\n",
    "\n",
    "The result should look like:\n",
    "\n",
    "```text\n",
    "3.43\t\"Star Wars: Episode III - Revenge of the Sith (2005)\"\n",
    "3.43\t\"Red Dawn (1984)\"\n",
    "3.43\t\"Mystery Train (1989)\"\n",
    "3.43\t\"Batman (1989)\"\n",
    "```\n",
    "\n",
    "Note, I've rounded the ratings here to two decimal places."
   ]
  },
  {
   "cell_type": "code",
   "execution_count": null,
   "id": "093121cf-d471-454e-ad0d-245adab90c33",
   "metadata": {},
   "outputs": [],
   "source": [
    "!python join.py ./*.txt"
   ]
  },
  {
   "attachments": {},
   "cell_type": "markdown",
   "id": "fbd4a70f-dc48-4baa-94dd-fa08015fe104",
   "metadata": {},
   "source": [
    "### Testing with Hadoop (Sorted)\n",
    "\n",
    "Let us run the same command but with hadoop, so that sorting works. We will save the results in `movies_rated.txt`."
   ]
  },
  {
   "cell_type": "code",
   "execution_count": null,
   "id": "4ec3c1b3-3617-4230-9e98-8b51378b34b1",
   "metadata": {},
   "outputs": [],
   "source": [
    "!python join.py -r hadoop ./*.txt > movies_rated.txt"
   ]
  },
  {
   "cell_type": "markdown",
   "id": "5903182a-ad5d-4a5c-b8ab-35b349bb9237",
   "metadata": {},
   "source": [
    "## Inspect the Results"
   ]
  },
  {
   "cell_type": "markdown",
   "id": "a280b6cc-1902-49ef-a2af-522e5c3abf56",
   "metadata": {},
   "source": [
    "Have a look at the results. Do you agree?"
   ]
  }
 ],
 "metadata": {
  "kernelspec": {
   "display_name": "Python 3 (ipykernel)",
   "language": "python",
   "name": "python3"
  },
  "language_info": {
   "codemirror_mode": {
    "name": "ipython",
    "version": 3
   },
   "file_extension": ".py",
   "mimetype": "text/x-python",
   "name": "python",
   "nbconvert_exporter": "python",
   "pygments_lexer": "ipython3",
   "version": "3.8.10"
  }
 },
 "nbformat": 4,
 "nbformat_minor": 5
}
