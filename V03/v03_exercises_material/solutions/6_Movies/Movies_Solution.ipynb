{
 "cells": [
  {
   "cell_type": "markdown",
   "id": "9226b95d-fe73-480d-a311-211719fc3b09",
   "metadata": {},
   "source": [
    "# Movies"
   ]
  },
  {
   "cell_type": "markdown",
   "id": "6eb64510-daef-4be7-8180-67933d1d7ec4",
   "metadata": {},
   "source": [
    "## Download the dataset\n",
    "\n",
    "You need to install `unzip` on your computer with\n",
    "\n",
    "```bash\n",
    "sudo apt install unzip\n",
    "```"
   ]
  },
  {
   "cell_type": "code",
   "execution_count": null,
   "id": "9c906044-198d-4e6f-9e64-47da486c9e9d",
   "metadata": {},
   "outputs": [],
   "source": [
    "!wget https://files.grouplens.org/datasets/movielens/ml-latest-small.zip"
   ]
  },
  {
   "cell_type": "code",
   "execution_count": null,
   "id": "297c8770-05c7-486a-a2a7-82e6ad4133cf",
   "metadata": {},
   "outputs": [],
   "source": [
    "!unzip ml-latest-small.zip"
   ]
  },
  {
   "cell_type": "markdown",
   "id": "c20eeb74-070b-4d6e-8938-e9953d483884",
   "metadata": {},
   "source": [
    "## Inspecting the data we need"
   ]
  },
  {
   "cell_type": "code",
   "execution_count": null,
   "id": "391ffcd2-de5e-4115-98f8-f63d88db4914",
   "metadata": {},
   "outputs": [],
   "source": [
    "!head ml-latest-small/movies.csv"
   ]
  },
  {
   "cell_type": "code",
   "execution_count": null,
   "id": "418e893b-1130-42a5-9571-4df11b9d8afc",
   "metadata": {},
   "outputs": [],
   "source": [
    "!wc -l ml-latest-small/movies.csv"
   ]
  },
  {
   "cell_type": "code",
   "execution_count": null,
   "id": "6bb0b007-91fc-4555-999c-6d359db56af4",
   "metadata": {},
   "outputs": [],
   "source": [
    "!head ml-latest-small/ratings.csv"
   ]
  },
  {
   "cell_type": "code",
   "execution_count": null,
   "id": "9a2cf63f-c5c9-401b-bf69-3849e4c3fb32",
   "metadata": {},
   "outputs": [],
   "source": [
    "!wc -l ml-latest-small/ratings.csv"
   ]
  },
  {
   "cell_type": "markdown",
   "id": "bc9f283c-d09c-4574-93f2-f4816a22fd35",
   "metadata": {},
   "source": [
    "## Task 1 - Compute the Average for Each Movie"
   ]
  },
  {
   "cell_type": "markdown",
   "id": "47d91911-06af-40bc-80fc-5539c01a9e20",
   "metadata": {},
   "source": [
    "### Implementation"
   ]
  },
  {
   "cell_type": "code",
   "execution_count": null,
   "id": "36d21792-1bba-474b-b6f6-f61fadf1ada0",
   "metadata": {},
   "outputs": [],
   "source": [
    "%%writefile average.py\n",
    "\n",
    "#!/usr/bin/python3\n",
    "from mrjob.job import MRJob\n",
    "\n",
    "class MyJob(MRJob):\n",
    "    \n",
    "    def mapper(self, key, line):\n",
    "        (_,movieId,rating,_) = line.split(\",\")\n",
    "        \n",
    "        if movieId != \"movieId\": #ignore the header\n",
    "            yield movieId, float(rating)\n",
    "    \n",
    "\n",
    "    def reducer(self, movieId, ratings):\n",
    "        ratings = list(ratings)\n",
    "        if len(ratings) >= 5:\n",
    "            avg = sum(ratings)/len(ratings)\n",
    "            yield int(movieId), avg\n",
    "\n",
    "if __name__ == '__main__':\n",
    "    MyJob.run()"
   ]
  },
  {
   "cell_type": "markdown",
   "id": "eb6da167-619b-4158-90e8-68ed99faf8f7",
   "metadata": {},
   "source": [
    "### Run Task 1"
   ]
  },
  {
   "cell_type": "code",
   "execution_count": null,
   "id": "27893fa9-ca81-4d2e-a6ec-86f52ba0a07f",
   "metadata": {},
   "outputs": [],
   "source": [
    "!python average.py ml-latest-small/ratings.csv > averages.txt"
   ]
  },
  {
   "cell_type": "markdown",
   "id": "dae254ef-547f-4984-92b7-7a0ba55695d5",
   "metadata": {},
   "source": [
    "## Task 2 - PreProcessing of Ratings"
   ]
  },
  {
   "cell_type": "markdown",
   "id": "7be1cb65-1e56-4b15-a627-3aea4dae35f1",
   "metadata": {},
   "source": [
    "### Implementation"
   ]
  },
  {
   "cell_type": "code",
   "execution_count": null,
   "id": "90d7c9de-3ffb-44bc-9c6c-4b125d731b16",
   "metadata": {},
   "outputs": [],
   "source": [
    "%%writefile movie_cleaning.py\n",
    "\n",
    "#!/usr/bin/python3\n",
    "from mrjob.job import MRJob\n",
    "\n",
    "class MyJob(MRJob):\n",
    "    \n",
    "    def mapper(self, key, line):\n",
    "        line = line.split(\",\")\n",
    "        movieId = line[0]\n",
    "        title = line[1:-1]\n",
    "        \n",
    "        if movieId != \"movieId\": #ignore the header\n",
    "            title  = \",\".join(title)\n",
    "            title = title.replace('\\\"', \"\")\n",
    "            yield int(movieId), title\n",
    "    \n",
    "if __name__ == '__main__':\n",
    "    MyJob.run()"
   ]
  },
  {
   "cell_type": "markdown",
   "id": "a9eb2af2-0d5d-4ee1-b708-74f0e56e260b",
   "metadata": {},
   "source": [
    "### Run Task 2"
   ]
  },
  {
   "cell_type": "code",
   "execution_count": null,
   "id": "ffb8c380-da8b-4c1a-89da-fe05435be37d",
   "metadata": {},
   "outputs": [],
   "source": [
    "!python movie_cleaning.py ml-latest-small/movies.csv > movies.txt"
   ]
  },
  {
   "cell_type": "markdown",
   "id": "470333fa-7332-4221-90e2-18baa84f9d2d",
   "metadata": {},
   "source": [
    "## Task 3 - Joining `movies.txt` and `averages.txt`"
   ]
  },
  {
   "cell_type": "code",
   "execution_count": null,
   "id": "ed1fdcd7-b510-42dc-8e31-aa4cb4a0fba0",
   "metadata": {},
   "outputs": [],
   "source": [
    "%%writefile join.py\n",
    "\n",
    "#!/usr/bin/python3\n",
    "from mrjob.job import MRJob\n",
    "from mrjob.step import MRStep\n",
    "import os\n",
    "\n",
    "class MyJob(MRJob):\n",
    "    \n",
    "    def steps(self):\n",
    "        JOBCONF_STEP2 = {\n",
    "            'mapred.output.key.comparator.class':'org.apache.hadoop.mapred.lib.KeyFieldBasedComparator',\n",
    "            'mapred.text.key.comparator.options':'-nr',\n",
    "        }\n",
    "        return [\n",
    "            MRStep(                       mapper=self.mapper,      reducer=self.reducer),\n",
    "            MRStep(jobconf=JOBCONF_STEP2, mapper=self.mapper_sort, reducer=self.reducer_sort)]\n",
    "    \n",
    "    def mapper(self, key, line):\n",
    "        file_name = os.environ['mapreduce_map_input_file']\n",
    "        \n",
    "        if file_name.endswith(\"averages.txt\"):\n",
    "            (movieId, rating) = line.split(\"\\t\")\n",
    "            yield movieId, {\"rating\": rating}\n",
    "        else:\n",
    "            (movieId, title) = line.split(\"\\t\")\n",
    "            yield movieId, {\"title\": title}\n",
    "            \n",
    "    \n",
    "    def reducer(self, movieId, rating_or_title):\n",
    "        l = list(rating_or_title)\n",
    "        if len(l) == 2:\n",
    "            dic = {**l[0], **l[1]}\n",
    "            \n",
    "            title = dic['title'].replace('\\\"', \"\")\n",
    "            yield round(float(dic['rating']),2), title\n",
    "            \n",
    "    def mapper_sort(self, rating, title):\n",
    "        yield rating, title\n",
    "  \n",
    "    def reducer_sort(self, rating, titles):\n",
    "        for title in titles:\n",
    "            yield rating, title\n",
    "                    \n",
    "    \n",
    "if __name__ == '__main__':\n",
    "    MyJob.run()"
   ]
  },
  {
   "cell_type": "markdown",
   "id": "9f699c3f-c254-4653-923d-04db517fb4b4",
   "metadata": {},
   "source": [
    "### Testing locally (no sort)"
   ]
  },
  {
   "cell_type": "code",
   "execution_count": null,
   "id": "093121cf-d471-454e-ad0d-245adab90c33",
   "metadata": {},
   "outputs": [],
   "source": [
    "!python join.py ./*.txt"
   ]
  },
  {
   "cell_type": "markdown",
   "id": "fbd4a70f-dc48-4baa-94dd-fa08015fe104",
   "metadata": {},
   "source": [
    "### Testing with Hadoop (Sorted)"
   ]
  },
  {
   "cell_type": "code",
   "execution_count": null,
   "id": "4ec3c1b3-3617-4230-9e98-8b51378b34b1",
   "metadata": {},
   "outputs": [],
   "source": [
    "!python join.py -r hadoop ./*.txt > movies_rated.txt"
   ]
  },
  {
   "cell_type": "markdown",
   "id": "5903182a-ad5d-4a5c-b8ab-35b349bb9237",
   "metadata": {},
   "source": [
    "## Inspect the Results"
   ]
  },
  {
   "cell_type": "markdown",
   "id": "a280b6cc-1902-49ef-a2af-522e5c3abf56",
   "metadata": {},
   "source": [
    "Have a look at the results. Do you agree?"
   ]
  }
 ],
 "metadata": {
  "kernelspec": {
   "display_name": "Python 3 (ipykernel)",
   "language": "python",
   "name": "python3"
  },
  "language_info": {
   "codemirror_mode": {
    "name": "ipython",
    "version": 3
   },
   "file_extension": ".py",
   "mimetype": "text/x-python",
   "name": "python",
   "nbconvert_exporter": "python",
   "pygments_lexer": "ipython3",
   "version": "3.8.10"
  }
 },
 "nbformat": 4,
 "nbformat_minor": 5
}
