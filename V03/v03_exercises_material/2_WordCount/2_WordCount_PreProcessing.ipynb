{
 "cells": [
  {
   "cell_type": "markdown",
   "id": "ae0cb07c-1bcc-45f4-a11a-e7aa6a2997c4",
   "metadata": {},
   "source": [
    "# WordCount with PreProcessing"
   ]
  },
  {
   "cell_type": "markdown",
   "id": "cd0c49cb-fd76-4d4d-8156-9ab6e288ab55",
   "metadata": {},
   "source": [
    "As we seen in the holmes.txt wordcount examples, we have many words which should be pre-processed first.\n",
    "\n",
    "I this exercise, you should implement a word count that:\n",
    "- Converts all words to lowercase\n",
    "- Removes characters like `.,,?,!` etc.\n"
   ]
  },
  {
   "cell_type": "code",
   "execution_count": 5,
   "id": "b7d603fb",
   "metadata": {},
   "outputs": [],
   "source": [
    "# your map reduce solution\n"
   ]
  },
  {
   "cell_type": "code",
   "execution_count": 6,
   "id": "114bb994-d522-4102-9b75-cffcc26f2e88",
   "metadata": {},
   "outputs": [],
   "source": [
    "# execute with\n",
    "# !python your_python_file.py /data/dataset/text/holmes.txt"
   ]
  }
 ],
 "metadata": {
  "kernelspec": {
   "display_name": "Python 3 (ipykernel)",
   "language": "python",
   "name": "python3"
  },
  "language_info": {
   "codemirror_mode": {
    "name": "ipython",
    "version": 3
   },
   "file_extension": ".py",
   "mimetype": "text/x-python",
   "name": "python",
   "nbconvert_exporter": "python",
   "pygments_lexer": "ipython3",
   "version": "3.8.10"
  }
 },
 "nbformat": 4,
 "nbformat_minor": 5
}
