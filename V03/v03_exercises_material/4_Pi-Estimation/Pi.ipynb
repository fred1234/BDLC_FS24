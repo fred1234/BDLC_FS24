{
 "cells": [
  {
   "cell_type": "markdown",
   "id": "71dd2a83-3c82-4204-a02d-c493eca6faf1",
   "metadata": {},
   "source": [
    "# Pi Estimation Using Monte Carlo"
   ]
  },
  {
   "cell_type": "markdown",
   "id": "aa871db5-ef6f-42eb-88ff-4c1bf3479c27",
   "metadata": {},
   "source": [
    "In this exercise, we will use MapReduce and a Monte-Carlo-Simulation to estimate $\\Pi$.\n",
    "\n",
    "If we are looking at this image from this [blog](https://towardsdatascience.com/how-to-make-pi-part-1-d0b41a03111f), we see a unit circle in a unit square:\n",
    "\n",
    "![Circle_Box](https://miro.medium.com/max/700/1*y-GFdC5OM0ZtYfbfkjjB2w.png)"
   ]
  },
  {
   "cell_type": "markdown",
   "id": "39aac3a5-b017-475d-a1ac-55c45429d8e6",
   "metadata": {},
   "source": [
    "The area:\n",
    "\n",
    "- for the circle is $A_{circle} = \\Pi*r^2 = \\Pi * 1*1 = \\Pi$\n",
    "- for the square is $A_{square} = d^2 = (2*r)^2 = 4$\n",
    "\n",
    "The ratio of the two areas are therefore $\\frac{A_{circle}}{A_{square}} =  \\frac{\\Pi}{4}$"
   ]
  },
  {
   "cell_type": "markdown",
   "id": "57e80068-97b9-40ff-b16d-8d8153c4d27f",
   "metadata": {},
   "source": [
    "The Monte-Carlo-Simulation draws multiple points on the square, uniformly at random. For every point, we count if it lies within the circle or not.\n",
    "\n",
    "And so we get the approximation:\n",
    "\n",
    "$\\frac{\\Pi}{4} \\approx \\frac{\\text{points_in_circle}}{\\text{total_points}}$\n",
    "\n",
    "or\n",
    "\n",
    "$\\Pi \\approx 4* \\frac{\\text{points_in_circle}}{\\text{total_points}}$\n",
    "\n"
   ]
  },
  {
   "cell_type": "markdown",
   "id": "b4d02d25-a2ca-4898-bdc5-dd59db140ba0",
   "metadata": {},
   "source": [
    "If we have a point $x_1,y_1$ and we want to figure out if it lies in a circle with radius $1$ we can use the following formula:\n",
    "\n",
    "$\\text{is_in_circle}(x_1,y_1) = \n",
    "\\begin{cases}\n",
    "    1,& \\text{if } (x_1)^2 + (y_1)^2 \\leq 1\\\\\n",
    "    0,              & \\text{otherwise}\n",
    "\\end{cases}$"
   ]
  },
  {
   "cell_type": "markdown",
   "id": "db10b1d1-8258-443c-a15d-cbd012a20566",
   "metadata": {},
   "source": [
    "## Implementation\n",
    "Write a MapReduce algorithm for estimating $\\Pi$"
   ]
  },
  {
   "cell_type": "code",
   "execution_count": null,
   "id": "1c23ee62-647e-42ae-81f3-4e434a8aec87",
   "metadata": {},
   "outputs": [],
   "source": []
  },
  {
   "cell_type": "markdown",
   "id": "483a5960-2caa-4ee2-9ee8-d3e9cc97e18a",
   "metadata": {},
   "source": [
    "### Running the Job\n",
    "\n",
    "\n",
    "Unfortunately, the library does not work without an input file. I guess this comes from the fact that the hadoop streaming library also does not support this feature, see [stack overflow](https://stackoverflow.com/questions/22821005/hadoop-streaming-job-with-no-input-file).\n",
    "\n",
    "We fake the number of mappers with different input files. Not the most elegant solution :/\n"
   ]
  },
  {
   "cell_type": "code",
   "execution_count": null,
   "id": "16f90305-b7ea-49e7-a5d1-0295cbb91d4c",
   "metadata": {},
   "outputs": [],
   "source": [
    "!python pi.py /data/dataset/text/small.txt"
   ]
  },
  {
   "cell_type": "code",
   "execution_count": null,
   "id": "7ff0af05-beac-4eff-9f5e-c99ffa0e260d",
   "metadata": {},
   "outputs": [],
   "source": [
    "!python pi.py /data/dataset/text/holmes.txt"
   ]
  }
 ],
 "metadata": {
  "kernelspec": {
   "display_name": "Python 3 (ipykernel)",
   "language": "python",
   "name": "python3"
  },
  "language_info": {
   "codemirror_mode": {
    "name": "ipython",
    "version": 3
   },
   "file_extension": ".py",
   "mimetype": "text/x-python",
   "name": "python",
   "nbconvert_exporter": "python",
   "pygments_lexer": "ipython3",
   "version": "3.8.10"
  }
 },
 "nbformat": 4,
 "nbformat_minor": 5
}
