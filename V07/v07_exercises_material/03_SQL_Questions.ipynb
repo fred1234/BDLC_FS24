{
 "cells": [
  {
   "cell_type": "markdown",
   "id": "9e510a15-8891-4183-aa55-472d6d0c68a5",
   "metadata": {},
   "source": [
    "# Questions for die Post Dataset"
   ]
  },
  {
   "cell_type": "markdown",
   "id": "3be59bad-f328-4873-9337-8b6027980636",
   "metadata": {},
   "source": [
    "## Setup SQL"
   ]
  },
  {
   "cell_type": "code",
   "execution_count": null,
   "id": "08ff5605-4bd9-425b-bd47-54b72e8611c6",
   "metadata": {},
   "outputs": [],
   "source": [
    "%load_ext sql\n",
    "%config SqlMagic.autocommit=False # avoiding the error: FAILED: IllegalStateException COMMIT is not supported yet.\n",
    "%sql hive://hadoop@localhost:10000/post"
   ]
  },
  {
   "cell_type": "markdown",
   "id": "70d3d61b-8eda-49b2-9146-552f022d767e",
   "metadata": {},
   "source": [
    "## Basic Checks"
   ]
  },
  {
   "cell_type": "code",
   "execution_count": null,
   "id": "c7d0a706-7448-4b24-baa2-8ef57dc4eff7",
   "metadata": {},
   "outputs": [],
   "source": [
    "%sql SELECT * FROM plz limit 1"
   ]
  },
  {
   "cell_type": "code",
   "execution_count": null,
   "id": "ab7b0994-6c44-4d49-94eb-7361f467e625",
   "metadata": {},
   "outputs": [],
   "source": [
    "%sql SELECT * FROM streets limit 1"
   ]
  },
  {
   "cell_type": "code",
   "execution_count": null,
   "id": "efab66f5-2b79-40f6-a12b-e6e63d0b0080",
   "metadata": {},
   "outputs": [],
   "source": [
    "%sql SELECT * FROM bevoelkerung limit 1"
   ]
  },
  {
   "cell_type": "code",
   "execution_count": null,
   "id": "b004fcb9-c966-452e-89f5-61999fa4a3fb",
   "metadata": {},
   "outputs": [],
   "source": [
    "%sql SELECT * FROM nachnamen limit 1"
   ]
  },
  {
   "cell_type": "markdown",
   "id": "f1efb5fb-0081-4d55-bd62-c9b355f9d249",
   "metadata": {},
   "source": [
    "## Count all zip codes (PLZ) per canton and order them by size.\n",
    "How many cantons do we have and what tells us the output? Why is there a difference?"
   ]
  },
  {
   "cell_type": "code",
   "execution_count": null,
   "id": "45888bae-1382-4818-b080-6b46474205af",
   "metadata": {},
   "outputs": [],
   "source": [
    "%%sql\n",
    "select ..."
   ]
  },
  {
   "cell_type": "markdown",
   "id": "09358b27-ff33-4985-8053-7a3d0b859a96",
   "metadata": {},
   "source": [
    "## Find `suurstoffi` in the `streets` table and find the corresponding record in `plz`"
   ]
  },
  {
   "cell_type": "code",
   "execution_count": null,
   "id": "ee7e4c9d-782a-4b12-8f1c-07ccb4eed961",
   "metadata": {},
   "outputs": [],
   "source": [
    "%sql select ..."
   ]
  },
  {
   "cell_type": "code",
   "execution_count": null,
   "id": "4d2b7e2c-608e-4f04-8c58-9db1c1d0eb93",
   "metadata": {},
   "outputs": [],
   "source": [
    "%sql select ..."
   ]
  },
  {
   "cell_type": "markdown",
   "id": "e39e6ec5-fbec-49fe-b74e-8f245fe56c73",
   "metadata": {},
   "source": [
    "## Find the top 5 newest `gilt_ab_dat` entries in `plz`"
   ]
  },
  {
   "cell_type": "code",
   "execution_count": null,
   "id": "7b648d97-6f5e-4fa3-867b-992fcf8a18ca",
   "metadata": {},
   "outputs": [],
   "source": [
    "%sql select * ..."
   ]
  },
  {
   "cell_type": "markdown",
   "id": "9c6029da-957b-40f3-ad7d-6d988ad17772",
   "metadata": {},
   "source": [
    "## Check the `bevoelkerung` table for \"your\" `plz`.\n",
    "Do you know what `typ` means?\n",
    "Check out the [schema](https://swisspost.opendatasoft.com/explore/dataset/bevoelkerung_proplz/information/?disjunctive.plz&disjunctive.typ&disjunctive.ortbez18&sort=stichdatum) from the \"post\" if you don't."
   ]
  },
  {
   "cell_type": "code",
   "execution_count": null,
   "id": "7e1a9339-c454-4a63-a4d3-760e6b357425",
   "metadata": {},
   "outputs": [],
   "source": [
    "%sql select ..."
   ]
  },
  {
   "cell_type": "markdown",
   "id": "c475f83d-4d44-4104-a6c3-d6e2877ffcb7",
   "metadata": {},
   "source": [
    "## Find the top three `PLZ` for `typ='f'`"
   ]
  },
  {
   "cell_type": "code",
   "execution_count": null,
   "id": "9b296aab-b58a-4b10-be07-c3acc1143a42",
   "metadata": {},
   "outputs": [],
   "source": [
    "%sql select ..."
   ]
  },
  {
   "cell_type": "markdown",
   "id": "367648e3-7ea8-465b-9360-99086c796f63",
   "metadata": {},
   "source": [
    "## Is your `nachname` in the `nachnamen` table?\n",
    "Order it by anzahl"
   ]
  },
  {
   "cell_type": "code",
   "execution_count": null,
   "id": "53d97b34-53db-4c3c-bbd4-95a20a47527d",
   "metadata": {},
   "outputs": [],
   "source": [
    "%%sql\n",
    "\n",
    "select ..."
   ]
  },
  {
   "cell_type": "markdown",
   "id": "05452166-272b-4c80-a35d-2bb17aec5ead",
   "metadata": {},
   "source": [
    "## What are the top 10 lastnames in the table `nachnamen`?"
   ]
  },
  {
   "cell_type": "code",
   "execution_count": null,
   "id": "5c0c6891-d69f-4432-b867-2d0863ac97d1",
   "metadata": {},
   "outputs": [],
   "source": [
    "%%sql\n",
    "\n",
    "select ..."
   ]
  }
 ],
 "metadata": {
  "kernelspec": {
   "display_name": "Python 3 (ipykernel)",
   "language": "python",
   "name": "python3"
  },
  "language_info": {
   "codemirror_mode": {
    "name": "ipython",
    "version": 3
   },
   "file_extension": ".py",
   "mimetype": "text/x-python",
   "name": "python",
   "nbconvert_exporter": "python",
   "pygments_lexer": "ipython3",
   "version": "3.8.10"
  }
 },
 "nbformat": 4,
 "nbformat_minor": 5
}
