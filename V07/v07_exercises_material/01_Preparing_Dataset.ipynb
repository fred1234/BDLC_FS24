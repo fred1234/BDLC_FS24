{
 "cells": [
  {
   "cell_type": "markdown",
   "id": "dc54b197-bbff-44bc-9329-72adeeb19b9c",
   "metadata": {},
   "source": [
    "# Download the Data"
   ]
  },
  {
   "cell_type": "markdown",
   "id": "edfdfbf4-2766-414f-8074-302f5fad07b6",
   "metadata": {},
   "source": [
    "Download the following data to your personal computer. The direct links are provided in the PowerPoint slides or you can find the overview [here](https://swisspost.opendatasoft.com/explore/?sort=modified&refine.theme=Adressinformationen).\n",
    "\n",
    "- Nachnamen pro PLZ\n",
    "- Bevölkerung pro PLZ\n",
    "- PLZ Verzeichnis\n",
    "- Strassenbezeichnungen\n",
    "\n",
    "\n"
   ]
  },
  {
   "cell_type": "markdown",
   "id": "9b19c0fc-5494-41e0-a1eb-873d3112da38",
   "metadata": {},
   "source": [
    "## Upload the Data"
   ]
  },
  {
   "cell_type": "markdown",
   "id": "dd8271cf-a92a-45b8-bca6-de5055cd9443",
   "metadata": {},
   "source": [
    "### The Easy Way"
   ]
  },
  {
   "cell_type": "markdown",
   "id": "9b66a6ee-f720-4abf-ad73-ffc15dfe9b6c",
   "metadata": {},
   "source": [
    "1. In JupyterLab, navigate all the way up (to `/`) and go to `dataset/`.\n",
    "2. Create a new folder: `post` and navigate to `post`.\n",
    "3. Choose `Upload Files`, the third icon above the directory view.\n",
    "4. Select all CSV files and upload them. Accept the warning that one file is big. Wait until the upload has finished, see status bar at the bottom."
   ]
  },
  {
   "cell_type": "markdown",
   "id": "f08263e9-57af-45cc-a83a-3cc7325947e6",
   "metadata": {},
   "source": [
    "## The more Advanced Way"
   ]
  },
  {
   "cell_type": "markdown",
   "id": "f9c51c68-3b8d-43a1-9c1a-67cb7cbe6b8c",
   "metadata": {},
   "source": [
    "Would be to use `scp` or an `sftp` client like `cyberduck`. Ask if you are interested to learn more about it.."
   ]
  },
  {
   "cell_type": "markdown",
   "id": "5ea0ea92-963f-4273-850d-cafb3e7cad2c",
   "metadata": {},
   "source": [
    "## Navigate Back"
   ]
  },
  {
   "attachments": {},
   "cell_type": "markdown",
   "id": "14d9a9ef-de21-4166-9cfa-49987346df2e",
   "metadata": {},
   "source": [
    "... to `/BDLC_FS22/V07/v07_exercises_material` and open `02_DDL.ipynb`"
   ]
  }
 ],
 "metadata": {
  "kernelspec": {
   "display_name": "Python 3 (ipykernel)",
   "language": "python",
   "name": "python3"
  },
  "language_info": {
   "codemirror_mode": {
    "name": "ipython",
    "version": 3
   },
   "file_extension": ".py",
   "mimetype": "text/x-python",
   "name": "python",
   "nbconvert_exporter": "python",
   "pygments_lexer": "ipython3",
   "version": "3.8.10"
  }
 },
 "nbformat": 4,
 "nbformat_minor": 5
}
