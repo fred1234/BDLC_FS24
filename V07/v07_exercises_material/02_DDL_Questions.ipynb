{
 "cells": [
  {
   "cell_type": "markdown",
   "id": "0ed6a046-333c-4afd-bc8b-f4fa2f36b1ff",
   "metadata": {},
   "source": [
    "# Data Definition Language - DDL\n",
    "Let us create a database `post`"
   ]
  },
  {
   "cell_type": "code",
   "execution_count": null,
   "id": "bdd1d8f9-4521-4f86-b0ec-3c49fdc6167c",
   "metadata": {},
   "outputs": [],
   "source": [
    "%load_ext sql\n",
    "%sql hive://hadoop@localhost:10000/"
   ]
  },
  {
   "cell_type": "code",
   "execution_count": null,
   "id": "06b27109-df65-42a0-9f64-464f22c0b868",
   "metadata": {},
   "outputs": [],
   "source": [
    "%%sql\n",
    "CREATE DATABASE IF NOT EXISTS post"
   ]
  },
  {
   "cell_type": "code",
   "execution_count": null,
   "id": "8a8ba3f4-c423-46d5-aa9c-5137fda4d4f2",
   "metadata": {},
   "outputs": [],
   "source": [
    "%sql USE post"
   ]
  },
  {
   "cell_type": "markdown",
   "id": "8cae459e-0f9b-4543-bbf0-14b37023f603",
   "metadata": {},
   "source": [
    "## PLZ Verzeichnis"
   ]
  },
  {
   "cell_type": "markdown",
   "id": "b87364df-c460-4d75-bf79-3681470e0f52",
   "metadata": {},
   "source": [
    "Let's focus first on the PLZ dataset"
   ]
  },
  {
   "cell_type": "code",
   "execution_count": null,
   "id": "6814b677-706d-4bbf-872a-c83adc5fa735",
   "metadata": {},
   "outputs": [],
   "source": [
    "!head -n3 /data/dataset/post/plz_verzeichnis_v2.csv"
   ]
  },
  {
   "cell_type": "markdown",
   "id": "552bbd8e-bf63-4490-85a0-8d4a89d6ab0d",
   "metadata": {},
   "source": [
    "### We see that\n",
    "\n",
    "|REC_ART|ONRP|BFSNR|PLZ_TYP|POSTLEITZAHL|PLZ_ZZ|GPLZ|ORTBEZ18|ORTBEZ27|KANTON|SPRACHCODE|SPRACHCODE_ ABW|BRIEFZ_DURCH|GILT_AB_DAT|PLZ_BRIEFZUST|PLZ_COFF|Geo Shape|Geokoordinaten|\n",
    "| ------- | ------- | ------- | ------- | ------- | ------- | ------- | ------- | ------- | ------- | ------- | ------- | ------- | ------- | ------- | ------- | ------- | ------- |\n",
    "|01|111|5586|80|1000|07|1000|Lausanne St-Paul|Lausanne St-Paul|VD|2||130|1993-09-28|100060||||\n",
    "\n",
    "\n",
    "1. The separator is a `;`.\n",
    "2. \"Kanton\" would be a great partition. We will create one when we convert it to parquet.\n",
    "\n",
    "\n",
    "Remember, the different types `hive` can use are [here](https://cwiki.apache.org/confluence/pages/viewpage.action?pageId=82706456#LanguageManualTypes-date).\n",
    "\n",
    "Die Post gave additional information on the entire dataset [here](https://swisspost.opendatasoft.com/api/datasets/1.0/plz_verzeichnis_v2/attachments/strassenverzeichnis_mit_sortierdaten_de_pdf/)."
   ]
  },
  {
   "cell_type": "markdown",
   "id": "86509359-fabe-4c87-aae1-094b001d5e52",
   "metadata": {},
   "source": [
    "E.g. for the PLZ dataset:\n",
    "\n",
    "| Field name | Field type (length) | Mandatory field | Source | Observations |\n",
    "| ------ | ------- | ------ | ------- | ------ |\n",
    "| REC_ART | VARCHAR(2) | YES | “01” |Record type: Designates the record type. |\n",
    "| ONRP | NUMBER(5) | YES | ASDP | Swiss Post classification number: This number (ONRP) is the primary key designating a postcode/location in accordance with the Swiss Post postcode database and the unique, unalterable key term of the postcode. |\n",
    "| BFSNR | NUMBER(5) | YES | ASDP | Foreign key for BFSNR (refers to NEW_COM)|\n",
    "\n",
    "etc."
   ]
  },
  {
   "cell_type": "code",
   "execution_count": null,
   "id": "f138c65c-8c29-4efe-b089-bbe09c963651",
   "metadata": {},
   "outputs": [],
   "source": [
    "%%sql\n",
    "CREATE TABLE IF NOT EXISTS plz_csv (\n",
    "    REC_ART VARCHAR(2),\n",
    "    ONRP INT,\n",
    "    BFSNR INT,\n",
    "    PLZ_TYP SMALLINT,\n",
    "    POSTLEITZAHL SMALLINT,\n",
    "    PLZ_ZZ VARCHAR(2), \n",
    "    GPLZ SMALLINT,\n",
    "    ORTBEZ18 VARCHAR(18),\n",
    "    ORTBEZ27 VARCHAR(27),\n",
    "    KANTON VARCHAR(2),\n",
    "    SPRACHCODE TINYINT,\n",
    "    SPRACHCODE_ABW TINYINT,\n",
    "    BRIEFZ_DURCH INT,\n",
    "    GILT_AB_DAT DATE,\n",
    "    PLZ_BRIEFZUST INT,\n",
    "    PLZ_COFF VARCHAR(1),\n",
    "    Geo_Shape STRING,\n",
    "    Geokoordinaten STRING\n",
    ")\n",
    "ROW FORMAT DELIMITED\n",
    "FIELDS TERMINATED BY ';'\n",
    "LINES TERMINATED BY '\\n'\n",
    "STORED AS TEXTFILE\n",
    "tblproperties (\"skip.header.line.count\"=\"1\")"
   ]
  },
  {
   "cell_type": "code",
   "execution_count": null,
   "id": "f7cc89c3-edaa-443d-9020-29bd6a8c2598",
   "metadata": {},
   "outputs": [],
   "source": [
    "%%sql\n",
    "LOAD DATA LOCAL INPATH '/data/dataset/post/plz_verzeichnis_v2.csv' INTO TABLE plz_csv"
   ]
  },
  {
   "cell_type": "code",
   "execution_count": null,
   "id": "d30eb8fe-5ba8-470a-a360-c160e32a2896",
   "metadata": {},
   "outputs": [],
   "source": [
    "%%sql \n",
    "SELECT\n",
    "    REC_ART,\n",
    "    ONRP,\n",
    "    BFSNR,\n",
    "    PLZ_TYP,\n",
    "    POSTLEITZAHL,\n",
    "    PLZ_ZZ, \n",
    "    GPLZ,\n",
    "    ORTBEZ18,\n",
    "    ORTBEZ27,\n",
    "    SPRACHCODE,\n",
    "    SPRACHCODE_ABW,\n",
    "    BRIEFZ_DURCH,\n",
    "    GILT_AB_DAT,\n",
    "    PLZ_BRIEFZUST,\n",
    "    PLZ_COFF,\n",
    "    Kanton\n",
    "from plz_csv limit 10"
   ]
  },
  {
   "cell_type": "markdown",
   "id": "5a0dd08c-3ff5-44f1-a3cf-58810dc29728",
   "metadata": {},
   "source": [
    "### Converting PLZ_CSV as a Parquet Table with Partitions\n",
    "\n",
    "1. We remove `Geo_Shape` and `Geokoordinaten`.\n",
    "2. We use compression.\n",
    "3. We use `Kanton` as a partition. We use `String` as the partition type. "
   ]
  },
  {
   "cell_type": "code",
   "execution_count": null,
   "id": "99ed36b2-7354-42c6-8884-02d90b0710f5",
   "metadata": {},
   "outputs": [],
   "source": [
    "%%sql\n",
    "CREATE TABLE IF NOT EXISTS plz (\n",
    "    REC_ART VARCHAR(2),\n",
    "    ONRP INT,\n",
    "    BFSNR INT,\n",
    "    PLZ_TYP SMALLINT,\n",
    "    POSTLEITZAHL SMALLINT,\n",
    "    PLZ_ZZ VARCHAR(2), \n",
    "    GPLZ SMALLINT,\n",
    "    ORTBEZ18 VARCHAR(18),\n",
    "    ORTBEZ27 VARCHAR(27),\n",
    "    SPRACHCODE TINYINT,\n",
    "    SPRACHCODE_ABW TINYINT,\n",
    "    BRIEFZ_DURCH INT,\n",
    "    GILT_AB_DAT DATE,\n",
    "    PLZ_BRIEFZUST INT,\n",
    "    PLZ_COFF VARCHAR(1)\n",
    ")\n",
    "PARTITIONED BY(KANTON string)\n",
    "STORED AS Parquet\n",
    "TBLPROPERTIES(\"parquet.compression\"=\"SNAPPY\")"
   ]
  },
  {
   "cell_type": "markdown",
   "id": "5d0823ab-2d2c-439f-83b4-9781da45217f",
   "metadata": {},
   "source": [
    "The partition `Kanton` needs to be the last column in the `insert` statement."
   ]
  },
  {
   "cell_type": "code",
   "execution_count": null,
   "id": "5b3ebd4e-0158-4d80-99ec-dfbbfc4da835",
   "metadata": {},
   "outputs": [],
   "source": [
    "%%sql\n",
    "INSERT INTO TABLE plz \n",
    "    SELECT\n",
    "        REC_ART,\n",
    "        ONRP,\n",
    "        BFSNR,\n",
    "        PLZ_TYP,\n",
    "        POSTLEITZAHL,\n",
    "        PLZ_ZZ, \n",
    "        GPLZ,\n",
    "        ORTBEZ18,\n",
    "        ORTBEZ27,\n",
    "        SPRACHCODE,\n",
    "        SPRACHCODE_ABW,\n",
    "        BRIEFZ_DURCH,\n",
    "        GILT_AB_DAT,\n",
    "        PLZ_BRIEFZUST,\n",
    "        PLZ_COFF,\n",
    "        Kanton \n",
    "    FROM plz_csv"
   ]
  },
  {
   "cell_type": "code",
   "execution_count": null,
   "id": "81734c19-bb83-4a39-a0b8-df6580ad61b7",
   "metadata": {},
   "outputs": [],
   "source": [
    "%sql select * from plz limit 2"
   ]
  },
  {
   "cell_type": "markdown",
   "id": "c1877f83-99ce-4917-8562-3069737d551f",
   "metadata": {},
   "source": [
    "## Strassenbezeichnungen"
   ]
  },
  {
   "cell_type": "markdown",
   "id": "155e8947",
   "metadata": {},
   "source": [
    "### Can you do the same for `strassenbezeichnungen_v2`?"
   ]
  },
  {
   "cell_type": "code",
   "execution_count": null,
   "id": "f866491a-c3ad-491c-9f46-5e71b26b0ab3",
   "metadata": {},
   "outputs": [],
   "source": [
    "!head -n5 /data/dataset/post/strassenbezeichnungen_v2.csv"
   ]
  },
  {
   "cell_type": "code",
   "execution_count": null,
   "id": "1697e6bb-1bae-483e-b8f2-0ef6f4354556",
   "metadata": {},
   "outputs": [],
   "source": [
    "%%sql\n",
    "CREATE TABLE IF NOT EXISTS streets_csv (\n",
    "    REC_ART VARCHAR(2),\n",
    "    ..."
   ]
  },
  {
   "cell_type": "code",
   "execution_count": null,
   "id": "3adb74e8-26a4-4285-9f25-25830b1fe625",
   "metadata": {},
   "outputs": [],
   "source": [
    "%%sql\n",
    "LOAD DATA LOCAL ..."
   ]
  },
  {
   "cell_type": "code",
   "execution_count": null,
   "id": "ec427173-40e3-496d-9062-d5b8642bd28c",
   "metadata": {},
   "outputs": [],
   "source": [
    "%%sql\n",
    "CREATE TABLE IF NOT EXISTS streets (\n",
    "    REC_ART VARCHAR(2),\n",
    "    ..."
   ]
  },
  {
   "cell_type": "code",
   "execution_count": null,
   "id": "031516a0-ea2f-46a6-b4ee-db818bcba27d",
   "metadata": {},
   "outputs": [],
   "source": [
    "%%sql\n",
    "INSERT INTO TABLE ..."
   ]
  },
  {
   "cell_type": "code",
   "execution_count": null,
   "id": "73186d91-d8b8-40d2-8f71-ba249dab7dda",
   "metadata": {},
   "outputs": [],
   "source": [
    "%sql select * from streets limit 2"
   ]
  },
  {
   "cell_type": "markdown",
   "id": "d0206c21-f424-4f20-9bff-ebd6af783676",
   "metadata": {},
   "source": [
    "## Bevölkerung"
   ]
  },
  {
   "cell_type": "markdown",
   "id": "fdae67a9",
   "metadata": {},
   "source": [
    "### Add `bevoelkerung_proplz.csv` to the tables `bevoelkerung_csv` and `bevoelkerung` respectively. "
   ]
  },
  {
   "cell_type": "code",
   "execution_count": null,
   "id": "0dd46655",
   "metadata": {},
   "outputs": [],
   "source": [
    "..."
   ]
  },
  {
   "cell_type": "code",
   "execution_count": null,
   "id": "7c1bc0e7-2690-4ffe-aa89-415b72f8c744",
   "metadata": {},
   "outputs": [],
   "source": [
    "%sql select * from bevoelkerung limit 3"
   ]
  },
  {
   "cell_type": "markdown",
   "id": "75c53180-a72f-45c2-adff-9e764fb54d59",
   "metadata": {},
   "source": [
    "## Nachnamen"
   ]
  },
  {
   "cell_type": "markdown",
   "id": "8db636db",
   "metadata": {},
   "source": [
    "### Finally, add `nachnamen_proplz.csv` to the tables `nachnamen_csv` and `nachnamen`. \n",
    "Use a patition on the gender for the parquet table `nachnamen`: `PARTITIONED BY(Geschlecht string)`"
   ]
  },
  {
   "cell_type": "code",
   "execution_count": null,
   "id": "4d68e59f",
   "metadata": {},
   "outputs": [],
   "source": [
    "..."
   ]
  }
 ],
 "metadata": {
  "kernelspec": {
   "display_name": "Python 3 (ipykernel)",
   "language": "python",
   "name": "python3"
  },
  "language_info": {
   "codemirror_mode": {
    "name": "ipython",
    "version": 3
   },
   "file_extension": ".py",
   "mimetype": "text/x-python",
   "name": "python",
   "nbconvert_exporter": "python",
   "pygments_lexer": "ipython3",
   "version": "3.8.10"
  }
 },
 "nbformat": 4,
 "nbformat_minor": 5
}
