{
 "cells": [
  {
   "cell_type": "markdown",
   "id": "0ed6a046-333c-4afd-bc8b-f4fa2f36b1ff",
   "metadata": {},
   "source": [
    "# Data Definition Language - DDL\n",
    "Let us create a database `post`"
   ]
  },
  {
   "cell_type": "code",
   "execution_count": 1,
   "id": "bdd1d8f9-4521-4f86-b0ec-3c49fdc6167c",
   "metadata": {},
   "outputs": [],
   "source": [
    "%load_ext sql\n",
    "%sql hive://hadoop@localhost:10000/"
   ]
  },
  {
   "cell_type": "code",
   "execution_count": 2,
   "id": "06b27109-df65-42a0-9f64-464f22c0b868",
   "metadata": {},
   "outputs": [
    {
     "name": "stdout",
     "output_type": "stream",
     "text": [
      " * hive://hadoop@localhost:10000/\n",
      "Done.\n"
     ]
    },
    {
     "data": {
      "text/plain": [
       "[]"
      ]
     },
     "execution_count": 2,
     "metadata": {},
     "output_type": "execute_result"
    }
   ],
   "source": [
    "%%sql\n",
    "CREATE DATABASE IF NOT EXISTS post"
   ]
  },
  {
   "cell_type": "code",
   "execution_count": 3,
   "id": "8a8ba3f4-c423-46d5-aa9c-5137fda4d4f2",
   "metadata": {},
   "outputs": [
    {
     "name": "stdout",
     "output_type": "stream",
     "text": [
      " * hive://hadoop@localhost:10000/\n",
      "Done.\n"
     ]
    },
    {
     "data": {
      "text/plain": [
       "[]"
      ]
     },
     "execution_count": 3,
     "metadata": {},
     "output_type": "execute_result"
    }
   ],
   "source": [
    "%sql USE post"
   ]
  },
  {
   "cell_type": "markdown",
   "id": "8cae459e-0f9b-4543-bbf0-14b37023f603",
   "metadata": {},
   "source": [
    "## PLZ Verzeichnis"
   ]
  },
  {
   "cell_type": "markdown",
   "id": "b87364df-c460-4d75-bf79-3681470e0f52",
   "metadata": {},
   "source": [
    "Let's focus first on the PLZ dataset"
   ]
  },
  {
   "cell_type": "code",
   "execution_count": 4,
   "id": "6814b677-706d-4bbf-872a-c83adc5fa735",
   "metadata": {},
   "outputs": [
    {
     "name": "stdout",
     "output_type": "stream",
     "text": [
      "REC_ART;ONRP;BFSNR;PLZ_TYP;POSTLEITZAHL;PLZ_ZZ;GPLZ;ORTBEZ18;ORTBEZ27;KANTON;SPRACHCODE;SPRACHCODE_ ABW;BRIEFZ_DURCH;GILT_AB_DAT;PLZ_BRIEFZUST;PLZ_COFF;Geo Shape;Geokoordinaten\n",
      "01;111;5586;80;1000;07;1000;Lausanne St-Paul;Lausanne St-Paul;VD;2;;130;1993-09-28;100060;;;\n",
      "01;118;5586;80;1000;17;1000;Lausanne 17;Lausanne 17;VD;2;;130;1986-05-21;100060;;;\n"
     ]
    }
   ],
   "source": [
    "!head -n3 /data/dataset/post/plz_verzeichnis_v2.csv"
   ]
  },
  {
   "cell_type": "markdown",
   "id": "552bbd8e-bf63-4490-85a0-8d4a89d6ab0d",
   "metadata": {},
   "source": [
    "### We see that\n",
    "\n",
    "|REC_ART|ONRP|BFSNR|PLZ_TYP|POSTLEITZAHL|PLZ_ZZ|GPLZ|ORTBEZ18|ORTBEZ27|KANTON|SPRACHCODE|SPRACHCODE_ ABW|BRIEFZ_DURCH|GILT_AB_DAT|PLZ_BRIEFZUST|PLZ_COFF|Geo Shape|Geokoordinaten|\n",
    "| ------- | ------- | ------- | ------- | ------- | ------- | ------- | ------- | ------- | ------- | ------- | ------- | ------- | ------- | ------- | ------- | ------- | ------- |\n",
    "|01|111|5586|80|1000|07|1000|Lausanne St-Paul|Lausanne St-Paul|VD|2||130|1993-09-28|100060||||\n",
    "\n",
    "\n",
    "1. The separator is a `;`.\n",
    "2. \"Kanton\" would be a great partition. We will create one when we convert it to parquet.\n",
    "\n",
    "\n",
    "Remember, the different types `hive` can use are [here](https://cwiki.apache.org/confluence/pages/viewpage.action?pageId=82706456#LanguageManualTypes-date).\n",
    "\n",
    "Die Post gave additional information on the entire dataset [here](https://swisspost.opendatasoft.com/api/datasets/1.0/plz_verzeichnis_v2/attachments/strassenverzeichnis_mit_sortierdaten_de_pdf/)."
   ]
  },
  {
   "cell_type": "markdown",
   "id": "86509359-fabe-4c87-aae1-094b001d5e52",
   "metadata": {},
   "source": [
    "E.g. for the PLZ dataset:\n",
    "\n",
    "| Field name | Field type (length) | Mandatory field | Source | Observations |\n",
    "| ------ | ------- | ------ | ------- | ------ |\n",
    "| REC_ART | VARCHAR(2) | YES | “01” |Record type: Designates the record type. |\n",
    "| ONRP | NUMBER(5) | YES | ASDP | Swiss Post classification number: This number (ONRP) is the primary key designating a postcode/location in accordance with the Swiss Post postcode database and the unique, unalterable key term of the postcode. |\n",
    "| BFSNR | NUMBER(5) | YES | ASDP | Foreign key for BFSNR (refers to NEW_COM)|\n",
    "\n",
    "etc."
   ]
  },
  {
   "cell_type": "code",
   "execution_count": 5,
   "id": "f138c65c-8c29-4efe-b089-bbe09c963651",
   "metadata": {},
   "outputs": [
    {
     "name": "stdout",
     "output_type": "stream",
     "text": [
      " * hive://hadoop@localhost:10000/\n",
      "Done.\n"
     ]
    },
    {
     "data": {
      "text/plain": [
       "[]"
      ]
     },
     "execution_count": 5,
     "metadata": {},
     "output_type": "execute_result"
    }
   ],
   "source": [
    "%%sql\n",
    "CREATE TABLE IF NOT EXISTS plz_csv (\n",
    "    REC_ART VARCHAR(2),\n",
    "    ONRP INT,\n",
    "    BFSNR INT,\n",
    "    PLZ_TYP SMALLINT,\n",
    "    POSTLEITZAHL SMALLINT,\n",
    "    PLZ_ZZ VARCHAR(2), \n",
    "    GPLZ SMALLINT,\n",
    "    ORTBEZ18 VARCHAR(18),\n",
    "    ORTBEZ27 VARCHAR(27),\n",
    "    KANTON VARCHAR(2),\n",
    "    SPRACHCODE TINYINT,\n",
    "    SPRACHCODE_ABW TINYINT,\n",
    "    BRIEFZ_DURCH INT,\n",
    "    GILT_AB_DAT DATE,\n",
    "    PLZ_BRIEFZUST INT,\n",
    "    PLZ_COFF VARCHAR(1),\n",
    "    Geo_Shape STRING,\n",
    "    Geokoordinaten STRING\n",
    ")\n",
    "ROW FORMAT DELIMITED\n",
    "FIELDS TERMINATED BY ';'\n",
    "LINES TERMINATED BY '\\n'\n",
    "STORED AS TEXTFILE\n",
    "tblproperties (\"skip.header.line.count\"=\"1\")"
   ]
  },
  {
   "cell_type": "code",
   "execution_count": 6,
   "id": "f7cc89c3-edaa-443d-9020-29bd6a8c2598",
   "metadata": {},
   "outputs": [
    {
     "name": "stdout",
     "output_type": "stream",
     "text": [
      " * hive://hadoop@localhost:10000/\n",
      "Done.\n"
     ]
    },
    {
     "data": {
      "text/plain": [
       "[]"
      ]
     },
     "execution_count": 6,
     "metadata": {},
     "output_type": "execute_result"
    }
   ],
   "source": [
    "%%sql\n",
    "LOAD DATA LOCAL INPATH '/data/dataset/post/plz_verzeichnis_v2.csv' INTO TABLE plz_csv"
   ]
  },
  {
   "cell_type": "code",
   "execution_count": 7,
   "id": "d30eb8fe-5ba8-470a-a360-c160e32a2896",
   "metadata": {},
   "outputs": [
    {
     "name": "stdout",
     "output_type": "stream",
     "text": [
      " * hive://hadoop@localhost:10000/\n",
      "Done.\n"
     ]
    },
    {
     "data": {
      "text/html": [
       "<table>\n",
       "    <tr>\n",
       "        <th>rec_art</th>\n",
       "        <th>onrp</th>\n",
       "        <th>bfsnr</th>\n",
       "        <th>plz_typ</th>\n",
       "        <th>postleitzahl</th>\n",
       "        <th>plz_zz</th>\n",
       "        <th>gplz</th>\n",
       "        <th>ortbez18</th>\n",
       "        <th>ortbez27</th>\n",
       "        <th>sprachcode</th>\n",
       "        <th>sprachcode_abw</th>\n",
       "        <th>briefz_durch</th>\n",
       "        <th>gilt_ab_dat</th>\n",
       "        <th>plz_briefzust</th>\n",
       "        <th>plz_coff</th>\n",
       "        <th>kanton</th>\n",
       "    </tr>\n",
       "    <tr>\n",
       "        <td>01</td>\n",
       "        <td>111</td>\n",
       "        <td>5586</td>\n",
       "        <td>80</td>\n",
       "        <td>1000</td>\n",
       "        <td>07</td>\n",
       "        <td>1000</td>\n",
       "        <td>Lausanne St-Paul</td>\n",
       "        <td>Lausanne St-Paul</td>\n",
       "        <td>2</td>\n",
       "        <td>None</td>\n",
       "        <td>130</td>\n",
       "        <td>1993-09-28</td>\n",
       "        <td>100060</td>\n",
       "        <td></td>\n",
       "        <td>VD</td>\n",
       "    </tr>\n",
       "    <tr>\n",
       "        <td>01</td>\n",
       "        <td>118</td>\n",
       "        <td>5586</td>\n",
       "        <td>80</td>\n",
       "        <td>1000</td>\n",
       "        <td>17</td>\n",
       "        <td>1000</td>\n",
       "        <td>Lausanne 17</td>\n",
       "        <td>Lausanne 17</td>\n",
       "        <td>2</td>\n",
       "        <td>None</td>\n",
       "        <td>130</td>\n",
       "        <td>1986-05-21</td>\n",
       "        <td>100060</td>\n",
       "        <td></td>\n",
       "        <td>VD</td>\n",
       "    </tr>\n",
       "    <tr>\n",
       "        <td>01</td>\n",
       "        <td>119</td>\n",
       "        <td>5586</td>\n",
       "        <td>80</td>\n",
       "        <td>1000</td>\n",
       "        <td>19</td>\n",
       "        <td>1000</td>\n",
       "        <td>Lausanne 19</td>\n",
       "        <td>Lausanne 19</td>\n",
       "        <td>2</td>\n",
       "        <td>None</td>\n",
       "        <td>130</td>\n",
       "        <td>1993-09-28</td>\n",
       "        <td>100060</td>\n",
       "        <td></td>\n",
       "        <td>VD</td>\n",
       "    </tr>\n",
       "    <tr>\n",
       "        <td>01</td>\n",
       "        <td>120</td>\n",
       "        <td>5586</td>\n",
       "        <td>80</td>\n",
       "        <td>1000</td>\n",
       "        <td>20</td>\n",
       "        <td>1000</td>\n",
       "        <td>Lausanne Sévelin</td>\n",
       "        <td>Lausanne Sévelin</td>\n",
       "        <td>2</td>\n",
       "        <td>None</td>\n",
       "        <td>130</td>\n",
       "        <td>1993-09-06</td>\n",
       "        <td>100060</td>\n",
       "        <td></td>\n",
       "        <td>VD</td>\n",
       "    </tr>\n",
       "    <tr>\n",
       "        <td>01</td>\n",
       "        <td>125</td>\n",
       "        <td>5586</td>\n",
       "        <td>20</td>\n",
       "        <td>1000</td>\n",
       "        <td>25</td>\n",
       "        <td>1000</td>\n",
       "        <td>Lausanne 25</td>\n",
       "        <td>Lausanne 25</td>\n",
       "        <td>2</td>\n",
       "        <td>None</td>\n",
       "        <td>130</td>\n",
       "        <td>1988-03-01</td>\n",
       "        <td>100060</td>\n",
       "        <td>J</td>\n",
       "        <td>VD</td>\n",
       "    </tr>\n",
       "    <tr>\n",
       "        <td>01</td>\n",
       "        <td>130</td>\n",
       "        <td>5586</td>\n",
       "        <td>80</td>\n",
       "        <td>1000</td>\n",
       "        <td>60</td>\n",
       "        <td>1000</td>\n",
       "        <td>Lausanne Dist</td>\n",
       "        <td>Lausanne Distribution</td>\n",
       "        <td>2</td>\n",
       "        <td>None</td>\n",
       "        <td>130</td>\n",
       "        <td>1998-03-18</td>\n",
       "        <td>100060</td>\n",
       "        <td></td>\n",
       "        <td>VD</td>\n",
       "    </tr>\n",
       "    <tr>\n",
       "        <td>01</td>\n",
       "        <td>149</td>\n",
       "        <td>5586</td>\n",
       "        <td>30</td>\n",
       "        <td>1002</td>\n",
       "        <td>00</td>\n",
       "        <td>1000</td>\n",
       "        <td>Lausanne</td>\n",
       "        <td>Lausanne</td>\n",
       "        <td>2</td>\n",
       "        <td>None</td>\n",
       "        <td>149</td>\n",
       "        <td>1999-10-25</td>\n",
       "        <td>100200</td>\n",
       "        <td></td>\n",
       "        <td>VD</td>\n",
       "    </tr>\n",
       "    <tr>\n",
       "        <td>01</td>\n",
       "        <td>151</td>\n",
       "        <td>5586</td>\n",
       "        <td>20</td>\n",
       "        <td>1004</td>\n",
       "        <td>00</td>\n",
       "        <td>1000</td>\n",
       "        <td>Lausanne</td>\n",
       "        <td>Lausanne</td>\n",
       "        <td>2</td>\n",
       "        <td>None</td>\n",
       "        <td>130</td>\n",
       "        <td>1986-05-21</td>\n",
       "        <td>100060</td>\n",
       "        <td>J</td>\n",
       "        <td>VD</td>\n",
       "    </tr>\n",
       "    <tr>\n",
       "        <td>01</td>\n",
       "        <td>153</td>\n",
       "        <td>5586</td>\n",
       "        <td>20</td>\n",
       "        <td>1006</td>\n",
       "        <td>00</td>\n",
       "        <td>1000</td>\n",
       "        <td>Lausanne</td>\n",
       "        <td>Lausanne</td>\n",
       "        <td>2</td>\n",
       "        <td>None</td>\n",
       "        <td>130</td>\n",
       "        <td>1986-05-21</td>\n",
       "        <td>100060</td>\n",
       "        <td>J</td>\n",
       "        <td>VD</td>\n",
       "    </tr>\n",
       "    <tr>\n",
       "        <td>01</td>\n",
       "        <td>154</td>\n",
       "        <td>5586</td>\n",
       "        <td>20</td>\n",
       "        <td>1007</td>\n",
       "        <td>00</td>\n",
       "        <td>1000</td>\n",
       "        <td>Lausanne</td>\n",
       "        <td>Lausanne</td>\n",
       "        <td>2</td>\n",
       "        <td>None</td>\n",
       "        <td>130</td>\n",
       "        <td>1986-05-21</td>\n",
       "        <td>100060</td>\n",
       "        <td>J</td>\n",
       "        <td>VD</td>\n",
       "    </tr>\n",
       "</table>"
      ],
      "text/plain": [
       "[('01', 111, 5586, 80, 1000, '07', 1000, 'Lausanne St-Paul', 'Lausanne St-Paul', 2, None, 130, '1993-09-28', 100060, '', 'VD'),\n",
       " ('01', 118, 5586, 80, 1000, '17', 1000, 'Lausanne 17', 'Lausanne 17', 2, None, 130, '1986-05-21', 100060, '', 'VD'),\n",
       " ('01', 119, 5586, 80, 1000, '19', 1000, 'Lausanne 19', 'Lausanne 19', 2, None, 130, '1993-09-28', 100060, '', 'VD'),\n",
       " ('01', 120, 5586, 80, 1000, '20', 1000, 'Lausanne Sévelin', 'Lausanne Sévelin', 2, None, 130, '1993-09-06', 100060, '', 'VD'),\n",
       " ('01', 125, 5586, 20, 1000, '25', 1000, 'Lausanne 25', 'Lausanne 25', 2, None, 130, '1988-03-01', 100060, 'J', 'VD'),\n",
       " ('01', 130, 5586, 80, 1000, '60', 1000, 'Lausanne Dist', 'Lausanne Distribution', 2, None, 130, '1998-03-18', 100060, '', 'VD'),\n",
       " ('01', 149, 5586, 30, 1002, '00', 1000, 'Lausanne', 'Lausanne', 2, None, 149, '1999-10-25', 100200, '', 'VD'),\n",
       " ('01', 151, 5586, 20, 1004, '00', 1000, 'Lausanne', 'Lausanne', 2, None, 130, '1986-05-21', 100060, 'J', 'VD'),\n",
       " ('01', 153, 5586, 20, 1006, '00', 1000, 'Lausanne', 'Lausanne', 2, None, 130, '1986-05-21', 100060, 'J', 'VD'),\n",
       " ('01', 154, 5586, 20, 1007, '00', 1000, 'Lausanne', 'Lausanne', 2, None, 130, '1986-05-21', 100060, 'J', 'VD')]"
      ]
     },
     "execution_count": 7,
     "metadata": {},
     "output_type": "execute_result"
    }
   ],
   "source": [
    "%%sql \n",
    "SELECT\n",
    "    REC_ART,\n",
    "    ONRP,\n",
    "    BFSNR,\n",
    "    PLZ_TYP,\n",
    "    POSTLEITZAHL,\n",
    "    PLZ_ZZ, \n",
    "    GPLZ,\n",
    "    ORTBEZ18,\n",
    "    ORTBEZ27,\n",
    "    SPRACHCODE,\n",
    "    SPRACHCODE_ABW,\n",
    "    BRIEFZ_DURCH,\n",
    "    GILT_AB_DAT,\n",
    "    PLZ_BRIEFZUST,\n",
    "    PLZ_COFF,\n",
    "    Kanton\n",
    "from plz_csv limit 10"
   ]
  },
  {
   "cell_type": "markdown",
   "id": "5a0dd08c-3ff5-44f1-a3cf-58810dc29728",
   "metadata": {},
   "source": [
    "### Converting PLZ_CSV as a Parquet Table with Partitions\n",
    "\n",
    "1. We remove `Geo_Shape` and `Geokoordinaten`.\n",
    "2. We use compression.\n",
    "3. We use `Kanton` as a partition."
   ]
  },
  {
   "cell_type": "code",
   "execution_count": 8,
   "id": "99ed36b2-7354-42c6-8884-02d90b0710f5",
   "metadata": {},
   "outputs": [
    {
     "name": "stdout",
     "output_type": "stream",
     "text": [
      " * hive://hadoop@localhost:10000/\n",
      "Done.\n"
     ]
    },
    {
     "data": {
      "text/plain": [
       "[]"
      ]
     },
     "execution_count": 8,
     "metadata": {},
     "output_type": "execute_result"
    }
   ],
   "source": [
    "%%sql\n",
    "CREATE TABLE IF NOT EXISTS plz (\n",
    "    REC_ART VARCHAR(2),\n",
    "    ONRP INT,\n",
    "    BFSNR INT,\n",
    "    PLZ_TYP SMALLINT,\n",
    "    POSTLEITZAHL SMALLINT,\n",
    "    PLZ_ZZ VARCHAR(2), \n",
    "    GPLZ SMALLINT,\n",
    "    ORTBEZ18 VARCHAR(18),\n",
    "    ORTBEZ27 VARCHAR(27),\n",
    "    SPRACHCODE TINYINT,\n",
    "    SPRACHCODE_ABW TINYINT,\n",
    "    BRIEFZ_DURCH INT,\n",
    "    GILT_AB_DAT DATE,\n",
    "    PLZ_BRIEFZUST INT,\n",
    "    PLZ_COFF VARCHAR(1)\n",
    ")\n",
    "PARTITIONED BY(KANTON string)\n",
    "STORED AS Parquet\n",
    "TBLPROPERTIES(\"parquet.compression\"=\"SNAPPY\")"
   ]
  },
  {
   "cell_type": "markdown",
   "id": "5d0823ab-2d2c-439f-83b4-9781da45217f",
   "metadata": {},
   "source": [
    "The partition `Kanton` needs to be the last column in the `insert` statement."
   ]
  },
  {
   "cell_type": "code",
   "execution_count": 9,
   "id": "5b3ebd4e-0158-4d80-99ec-dfbbfc4da835",
   "metadata": {},
   "outputs": [
    {
     "name": "stdout",
     "output_type": "stream",
     "text": [
      " * hive://hadoop@localhost:10000/\n",
      "Done.\n"
     ]
    },
    {
     "data": {
      "text/plain": [
       "[]"
      ]
     },
     "execution_count": 9,
     "metadata": {},
     "output_type": "execute_result"
    }
   ],
   "source": [
    "%%sql\n",
    "INSERT INTO TABLE plz \n",
    "    SELECT\n",
    "        REC_ART,\n",
    "        ONRP,\n",
    "        BFSNR,\n",
    "        PLZ_TYP,\n",
    "        POSTLEITZAHL,\n",
    "        PLZ_ZZ, \n",
    "        GPLZ,\n",
    "        ORTBEZ18,\n",
    "        ORTBEZ27,\n",
    "        SPRACHCODE,\n",
    "        SPRACHCODE_ABW,\n",
    "        BRIEFZ_DURCH,\n",
    "        GILT_AB_DAT,\n",
    "        PLZ_BRIEFZUST,\n",
    "        PLZ_COFF,\n",
    "        Kanton \n",
    "    FROM plz_csv"
   ]
  },
  {
   "cell_type": "code",
   "execution_count": 86,
   "id": "81734c19-bb83-4a39-a0b8-df6580ad61b7",
   "metadata": {},
   "outputs": [
    {
     "name": "stdout",
     "output_type": "stream",
     "text": [
      " * hive://hadoop@localhost:10000/\n",
      "Done.\n"
     ]
    },
    {
     "data": {
      "text/html": [
       "<table>\n",
       "    <tr>\n",
       "        <th>rec_art</th>\n",
       "        <th>onrp</th>\n",
       "        <th>bfsnr</th>\n",
       "        <th>plz_typ</th>\n",
       "        <th>postleitzahl</th>\n",
       "        <th>plz_zz</th>\n",
       "        <th>gplz</th>\n",
       "        <th>ortbez18</th>\n",
       "        <th>ortbez27</th>\n",
       "        <th>sprachcode</th>\n",
       "        <th>sprachcode_abw</th>\n",
       "        <th>briefz_durch</th>\n",
       "        <th>gilt_ab_dat</th>\n",
       "        <th>plz_briefzust</th>\n",
       "        <th>plz_coff</th>\n",
       "        <th>kanton</th>\n",
       "    </tr>\n",
       "    <tr>\n",
       "        <td>01</td>\n",
       "        <td>2597</td>\n",
       "        <td>4252</td>\n",
       "        <td>30</td>\n",
       "        <td>4303</td>\n",
       "        <td>03</td>\n",
       "        <td>4303</td>\n",
       "        <td>Kaiseraugst Lieb.</td>\n",
       "        <td>Kaiseraugst Liebrüti</td>\n",
       "        <td>1</td>\n",
       "        <td>None</td>\n",
       "        <td>2597</td>\n",
       "        <td>1997-03-05</td>\n",
       "        <td>430303</td>\n",
       "        <td></td>\n",
       "        <td>AG</td>\n",
       "    </tr>\n",
       "    <tr>\n",
       "        <td>01</td>\n",
       "        <td>2600</td>\n",
       "        <td>4257</td>\n",
       "        <td>20</td>\n",
       "        <td>4305</td>\n",
       "        <td>00</td>\n",
       "        <td>4305</td>\n",
       "        <td>Olsberg</td>\n",
       "        <td>Olsberg</td>\n",
       "        <td>1</td>\n",
       "        <td>None</td>\n",
       "        <td>2604</td>\n",
       "        <td>1986-05-21</td>\n",
       "        <td>431200</td>\n",
       "        <td>J</td>\n",
       "        <td>AG</td>\n",
       "    </tr>\n",
       "</table>"
      ],
      "text/plain": [
       "[('01', 2597, 4252, 30, 4303, '03', 4303, 'Kaiseraugst Lieb.', 'Kaiseraugst Liebrüti', 1, None, 2597, '1997-03-05', 430303, '', 'AG'),\n",
       " ('01', 2600, 4257, 20, 4305, '00', 4305, 'Olsberg', 'Olsberg', 1, None, 2604, '1986-05-21', 431200, 'J', 'AG')]"
      ]
     },
     "execution_count": 86,
     "metadata": {},
     "output_type": "execute_result"
    }
   ],
   "source": [
    "%sql select * from plz limit 2"
   ]
  },
  {
   "cell_type": "markdown",
   "id": "c1877f83-99ce-4917-8562-3069737d551f",
   "metadata": {},
   "source": [
    "## Strassenbezeichnungen"
   ]
  },
  {
   "cell_type": "code",
   "execution_count": 15,
   "id": "f866491a-c3ad-491c-9f46-5e71b26b0ab3",
   "metadata": {},
   "outputs": [
    {
     "name": "stdout",
     "output_type": "stream",
     "text": [
      "REC_ART;STRID;ONRP;STRBEZK;STRBEZL;STRBEZ2K;STRBEZ2L;STR_LOK_TYP;STRBEZ_SPC;STRBEZ_COFF;STR_GANZFACH;STR_FACH_ONRP\n",
      "04;15007157;1095;Torrent, place du;Torrent, place du;Place du Torrent;Place du Torrent;1;2;J;;\n",
      "04;15007166;1095;Tronchet, en;Tronchet, en;En Tronchet;En Tronchet;1;2;J;;\n",
      "04;15009148;1095;Versvey;Versvey;Versvey;Versvey;1;2;J;;\n",
      "04;76147284;1096;Aiglon, route de l';Aiglon, route de l';Route de l'Aiglon;Route de l'Aiglon;1;2;J;;\n"
     ]
    }
   ],
   "source": [
    "!head -n5 /data/dataset/post/strassenbezeichnungen_v2.csv"
   ]
  },
  {
   "cell_type": "code",
   "execution_count": 17,
   "id": "1697e6bb-1bae-483e-b8f2-0ef6f4354556",
   "metadata": {},
   "outputs": [
    {
     "name": "stdout",
     "output_type": "stream",
     "text": [
      " * hive://hadoop@localhost:10000/\n",
      "Done.\n"
     ]
    },
    {
     "data": {
      "text/plain": [
       "[]"
      ]
     },
     "execution_count": 17,
     "metadata": {},
     "output_type": "execute_result"
    }
   ],
   "source": [
    "%%sql\n",
    "CREATE TABLE IF NOT EXISTS streets_csv (\n",
    "    REC_ART VARCHAR(2),\n",
    "    STRID INT,\n",
    "    ONRP INT,\n",
    "    STRBEZK VARCHAR(25),\n",
    "    STRBEZL VARCHAR(60),\n",
    "    STRBEZ2K VARCHAR(25),\n",
    "    STRBEZ2L VARCHAR(60),\n",
    "    STR_LOK_TYP TINYINT,\n",
    "    STRBEZ_SPC TINYINT,\n",
    "    STRBEZ_COFF VARCHAR(1),\n",
    "    STR_GANZFACH VARCHAR(1),\n",
    "    STR_FACH_ONRP INT\n",
    ")\n",
    "ROW FORMAT DELIMITED\n",
    "FIELDS TERMINATED BY ';'\n",
    "LINES TERMINATED BY '\\n'\n",
    "STORED AS TEXTFILE\n",
    "tblproperties (\"skip.header.line.count\"=\"1\")"
   ]
  },
  {
   "cell_type": "code",
   "execution_count": 23,
   "id": "3adb74e8-26a4-4285-9f25-25830b1fe625",
   "metadata": {},
   "outputs": [
    {
     "name": "stdout",
     "output_type": "stream",
     "text": [
      " * hive://hadoop@localhost:10000/\n",
      "Done.\n"
     ]
    },
    {
     "data": {
      "text/plain": [
       "[]"
      ]
     },
     "execution_count": 23,
     "metadata": {},
     "output_type": "execute_result"
    }
   ],
   "source": [
    "%%sql\n",
    "LOAD DATA LOCAL INPATH '/data/dataset/post/strassenbezeichnungen_v2.csv' INTO TABLE streets_csv"
   ]
  },
  {
   "cell_type": "code",
   "execution_count": 28,
   "id": "ec427173-40e3-496d-9062-d5b8642bd28c",
   "metadata": {},
   "outputs": [
    {
     "name": "stdout",
     "output_type": "stream",
     "text": [
      " * hive://hadoop@localhost:10000/\n",
      "Done.\n"
     ]
    },
    {
     "data": {
      "text/plain": [
       "[]"
      ]
     },
     "execution_count": 28,
     "metadata": {},
     "output_type": "execute_result"
    }
   ],
   "source": [
    "%%sql\n",
    "CREATE TABLE IF NOT EXISTS streets (\n",
    "    REC_ART VARCHAR(2),\n",
    "    STRID INT,\n",
    "    ONRP INT,\n",
    "    STRBEZK VARCHAR(25),\n",
    "    STRBEZL VARCHAR(60),\n",
    "    STRBEZ2K VARCHAR(25),\n",
    "    STRBEZ2L VARCHAR(60),\n",
    "    STR_LOK_TYP TINYINT,\n",
    "    STRBEZ_SPC TINYINT,\n",
    "    STRBEZ_COFF VARCHAR(1),\n",
    "    STR_GANZFACH VARCHAR(1),\n",
    "    STR_FACH_ONRP INT\n",
    ")\n",
    "STORED AS Parquet\n",
    "TBLPROPERTIES(\"parquet.compression\"=\"SNAPPY\")"
   ]
  },
  {
   "cell_type": "code",
   "execution_count": 29,
   "id": "031516a0-ea2f-46a6-b4ee-db818bcba27d",
   "metadata": {},
   "outputs": [
    {
     "name": "stdout",
     "output_type": "stream",
     "text": [
      " * hive://hadoop@localhost:10000/\n",
      "Done.\n"
     ]
    },
    {
     "data": {
      "text/plain": [
       "[]"
      ]
     },
     "execution_count": 29,
     "metadata": {},
     "output_type": "execute_result"
    }
   ],
   "source": [
    "%%sql\n",
    "INSERT INTO TABLE streets \n",
    "    SELECT * FROM streets_csv"
   ]
  },
  {
   "cell_type": "code",
   "execution_count": 31,
   "id": "73186d91-d8b8-40d2-8f71-ba249dab7dda",
   "metadata": {},
   "outputs": [
    {
     "name": "stdout",
     "output_type": "stream",
     "text": [
      " * hive://hadoop@localhost:10000/\n",
      "Done.\n"
     ]
    },
    {
     "data": {
      "text/html": [
       "<table>\n",
       "    <tr>\n",
       "        <th>rec_art</th>\n",
       "        <th>strid</th>\n",
       "        <th>onrp</th>\n",
       "        <th>strbezk</th>\n",
       "        <th>strbezl</th>\n",
       "        <th>strbez2k</th>\n",
       "        <th>strbez2l</th>\n",
       "        <th>str_lok_typ</th>\n",
       "        <th>strbez_spc</th>\n",
       "        <th>strbez_coff</th>\n",
       "        <th>str_ganzfach</th>\n",
       "        <th>str_fach_onrp</th>\n",
       "    </tr>\n",
       "    <tr>\n",
       "        <td>04</td>\n",
       "        <td>15007157</td>\n",
       "        <td>1095</td>\n",
       "        <td>Torrent, place du</td>\n",
       "        <td>Torrent, place du</td>\n",
       "        <td>Place du Torrent</td>\n",
       "        <td>Place du Torrent</td>\n",
       "        <td>1</td>\n",
       "        <td>2</td>\n",
       "        <td>J</td>\n",
       "        <td></td>\n",
       "        <td>None</td>\n",
       "    </tr>\n",
       "    <tr>\n",
       "        <td>04</td>\n",
       "        <td>15007166</td>\n",
       "        <td>1095</td>\n",
       "        <td>Tronchet, en</td>\n",
       "        <td>Tronchet, en</td>\n",
       "        <td>En Tronchet</td>\n",
       "        <td>En Tronchet</td>\n",
       "        <td>1</td>\n",
       "        <td>2</td>\n",
       "        <td>J</td>\n",
       "        <td></td>\n",
       "        <td>None</td>\n",
       "    </tr>\n",
       "</table>"
      ],
      "text/plain": [
       "[('04', 15007157, 1095, 'Torrent, place du', 'Torrent, place du', 'Place du Torrent', 'Place du Torrent', 1, 2, 'J', '', None),\n",
       " ('04', 15007166, 1095, 'Tronchet, en', 'Tronchet, en', 'En Tronchet', 'En Tronchet', 1, 2, 'J', '', None)]"
      ]
     },
     "execution_count": 31,
     "metadata": {},
     "output_type": "execute_result"
    }
   ],
   "source": [
    "%sql select * from streets limit 2"
   ]
  },
  {
   "cell_type": "markdown",
   "id": "d0206c21-f424-4f20-9bff-ebd6af783676",
   "metadata": {},
   "source": [
    "## Bevölkerung"
   ]
  },
  {
   "cell_type": "code",
   "execution_count": 45,
   "id": "2b98b572-4ba4-42d9-a972-358248a7a4f8",
   "metadata": {},
   "outputs": [
    {
     "name": "stdout",
     "output_type": "stream",
     "text": [
      "﻿Stichdatum;PLZ;Anzahl;Typ;ORTBEZ18\n",
      "2022-03-01;8203;237;f;Schaffhausen\n",
      "2022-03-01;8213;230;f;Neunkirch\n",
      "2022-03-01;8239;567;m;Dörflingen\n",
      "2022-03-01;8245;240;f;Feuerthalen\n"
     ]
    }
   ],
   "source": [
    "!head -n5 /data/dataset/post/bevoelkerung_proplz.csv"
   ]
  },
  {
   "cell_type": "code",
   "execution_count": 47,
   "id": "a5b09c8d-cd03-4e3c-9e0e-7b31af202a43",
   "metadata": {},
   "outputs": [
    {
     "name": "stdout",
     "output_type": "stream",
     "text": [
      " * hive://hadoop@localhost:10000/\n",
      "Done.\n"
     ]
    },
    {
     "data": {
      "text/plain": [
       "[]"
      ]
     },
     "execution_count": 47,
     "metadata": {},
     "output_type": "execute_result"
    }
   ],
   "source": [
    "%%sql\n",
    "CREATE TABLE IF NOT EXISTS bevoelkerung_csv (\n",
    "    Stichdatum DATE,\n",
    "    PLZ SMALLINT,\n",
    "    ANZAHL INT,\n",
    "    Typ VARCHAR(1),\n",
    "    ORTBEZ18 VARCHAR(18)\n",
    ")\n",
    "ROW FORMAT DELIMITED\n",
    "FIELDS TERMINATED BY ';'\n",
    "LINES TERMINATED BY '\\n'\n",
    "STORED AS TEXTFILE\n",
    "tblproperties (\"skip.header.line.count\"=\"1\")"
   ]
  },
  {
   "cell_type": "code",
   "execution_count": 48,
   "id": "79a8c6a1-8e6b-4a8b-9bbf-0dbc13cb54a7",
   "metadata": {},
   "outputs": [
    {
     "name": "stdout",
     "output_type": "stream",
     "text": [
      " * hive://hadoop@localhost:10000/\n",
      "Done.\n"
     ]
    },
    {
     "data": {
      "text/plain": [
       "[]"
      ]
     },
     "execution_count": 48,
     "metadata": {},
     "output_type": "execute_result"
    }
   ],
   "source": [
    "%%sql\n",
    "LOAD DATA LOCAL INPATH '/data/dataset/post/bevoelkerung_proplz.csv' INTO TABLE bevoelkerung_csv"
   ]
  },
  {
   "cell_type": "code",
   "execution_count": 50,
   "id": "0d98e056-3097-46be-9fbb-3f87fbc189a9",
   "metadata": {},
   "outputs": [
    {
     "name": "stdout",
     "output_type": "stream",
     "text": [
      " * hive://hadoop@localhost:10000/\n",
      "Done.\n"
     ]
    },
    {
     "data": {
      "text/plain": [
       "[]"
      ]
     },
     "execution_count": 50,
     "metadata": {},
     "output_type": "execute_result"
    }
   ],
   "source": [
    "%%sql\n",
    "CREATE TABLE IF NOT EXISTS bevoelkerung (\n",
    "    Stichdatum DATE,\n",
    "    PLZ SMALLINT,\n",
    "    ANZAHL INT,\n",
    "    ORTBEZ18 VARCHAR(18)\n",
    ")\n",
    "PARTITIONED BY(Typ string)\n",
    "STORED AS Parquet\n",
    "TBLPROPERTIES(\"parquet.compression\"=\"SNAPPY\")"
   ]
  },
  {
   "cell_type": "code",
   "execution_count": 54,
   "id": "18eeff6a-acfd-4094-8078-a766083fb3a3",
   "metadata": {},
   "outputs": [
    {
     "name": "stdout",
     "output_type": "stream",
     "text": [
      " * hive://hadoop@localhost:10000/\n",
      "Done.\n"
     ]
    },
    {
     "data": {
      "text/plain": [
       "[]"
      ]
     },
     "execution_count": 54,
     "metadata": {},
     "output_type": "execute_result"
    }
   ],
   "source": [
    "%%sql\n",
    "INSERT INTO TABLE bevoelkerung \n",
    "    SELECT Stichdatum, PLZ, ANZAHL, ORTBEZ18, TYP FROM bevoelkerung_csv"
   ]
  },
  {
   "cell_type": "code",
   "execution_count": 55,
   "id": "7c1bc0e7-2690-4ffe-aa89-415b72f8c744",
   "metadata": {},
   "outputs": [
    {
     "name": "stdout",
     "output_type": "stream",
     "text": [
      " * hive://hadoop@localhost:10000/\n",
      "Done.\n"
     ]
    },
    {
     "data": {
      "text/html": [
       "<table>\n",
       "    <tr>\n",
       "        <th>stichdatum</th>\n",
       "        <th>plz</th>\n",
       "        <th>anzahl</th>\n",
       "        <th>ortbez18</th>\n",
       "        <th>typ</th>\n",
       "    </tr>\n",
       "    <tr>\n",
       "        <td>2022-03-01</td>\n",
       "        <td>8203</td>\n",
       "        <td>237</td>\n",
       "        <td>Schaffhausen</td>\n",
       "        <td>f</td>\n",
       "    </tr>\n",
       "    <tr>\n",
       "        <td>2022-03-01</td>\n",
       "        <td>8213</td>\n",
       "        <td>230</td>\n",
       "        <td>Neunkirch</td>\n",
       "        <td>f</td>\n",
       "    </tr>\n",
       "    <tr>\n",
       "        <td>2022-03-01</td>\n",
       "        <td>8245</td>\n",
       "        <td>240</td>\n",
       "        <td>Feuerthalen</td>\n",
       "        <td>f</td>\n",
       "    </tr>\n",
       "</table>"
      ],
      "text/plain": [
       "[('2022-03-01', 8203, 237, 'Schaffhausen', 'f'),\n",
       " ('2022-03-01', 8213, 230, 'Neunkirch', 'f'),\n",
       " ('2022-03-01', 8245, 240, 'Feuerthalen', 'f')]"
      ]
     },
     "execution_count": 55,
     "metadata": {},
     "output_type": "execute_result"
    }
   ],
   "source": [
    "%sql select * from bevoelkerung limit 3"
   ]
  },
  {
   "cell_type": "markdown",
   "id": "75c53180-a72f-45c2-adff-9e764fb54d59",
   "metadata": {},
   "source": [
    "## Nachnamen"
   ]
  },
  {
   "cell_type": "code",
   "execution_count": 57,
   "id": "d6baebc1-eb56-4040-b0fa-5f95487eed1c",
   "metadata": {},
   "outputs": [
    {
     "name": "stdout",
     "output_type": "stream",
     "text": [
      "﻿Stichdatum;PLZ;Geschlecht;Nachname;Anzahl;Rang;ORTBEZ18\n",
      "2022-03-01;2905;m;Gerber;14;1;Courtedoux\n",
      "2022-03-01;2905;m;Fleury;7;5;Courtedoux\n",
      "2022-03-01;2906;m;Laville;34;1;Chevenez\n",
      "2022-03-01;2906;m;Borruat;19;4;Chevenez\n"
     ]
    }
   ],
   "source": [
    "!head -n5 /data/dataset/post/nachnamen_proplz.csv"
   ]
  },
  {
   "cell_type": "code",
   "execution_count": 60,
   "id": "89cbd4e6-b9e7-47ad-8ffc-c6e29f1598e3",
   "metadata": {},
   "outputs": [
    {
     "name": "stdout",
     "output_type": "stream",
     "text": [
      " * hive://hadoop@localhost:10000/\n",
      "Done.\n"
     ]
    },
    {
     "data": {
      "text/plain": [
       "[]"
      ]
     },
     "execution_count": 60,
     "metadata": {},
     "output_type": "execute_result"
    }
   ],
   "source": [
    "%%sql\n",
    "CREATE TABLE IF NOT EXISTS nachnamen_csv (\n",
    "    Stichdatum DATE,\n",
    "    PLZ SMALLINT,\n",
    "    Geschlecht VARCHAR(1),\n",
    "    Nachname STRING,\n",
    "    Anzahl INT,\n",
    "    Rang TINYINT,\n",
    "    ORTBEZ18 VARCHAR(18)\n",
    ")\n",
    "ROW FORMAT DELIMITED\n",
    "FIELDS TERMINATED BY ';'\n",
    "LINES TERMINATED BY '\\n'\n",
    "STORED AS TEXTFILE\n",
    "tblproperties (\"skip.header.line.count\"=\"1\")"
   ]
  },
  {
   "cell_type": "code",
   "execution_count": 61,
   "id": "f80c8654-3ccf-42e3-be8d-c303f9f2c0aa",
   "metadata": {},
   "outputs": [
    {
     "name": "stdout",
     "output_type": "stream",
     "text": [
      " * hive://hadoop@localhost:10000/\n",
      "Done.\n"
     ]
    },
    {
     "data": {
      "text/plain": [
       "[]"
      ]
     },
     "execution_count": 61,
     "metadata": {},
     "output_type": "execute_result"
    }
   ],
   "source": [
    "%%sql\n",
    "LOAD DATA LOCAL INPATH '/data/dataset/post/nachnamen_proplz.csv' INTO TABLE nachnamen_csv"
   ]
  },
  {
   "cell_type": "code",
   "execution_count": 62,
   "id": "a65cbc1e-1e20-470a-b379-f02570d21426",
   "metadata": {},
   "outputs": [
    {
     "name": "stdout",
     "output_type": "stream",
     "text": [
      " * hive://hadoop@localhost:10000/\n",
      "Done.\n"
     ]
    },
    {
     "data": {
      "text/plain": [
       "[]"
      ]
     },
     "execution_count": 62,
     "metadata": {},
     "output_type": "execute_result"
    }
   ],
   "source": [
    "%%sql\n",
    "CREATE TABLE IF NOT EXISTS nachnamen (\n",
    "    Stichdatum DATE,\n",
    "    PLZ SMALLINT,\n",
    "    Nachname STRING,\n",
    "    Anzahl INT,\n",
    "    Rang TINYINT,\n",
    "    ORTBEZ18 VARCHAR(18)\n",
    ")\n",
    "PARTITIONED BY(Geschlecht string)\n",
    "STORED AS Parquet\n",
    "TBLPROPERTIES(\"parquet.compression\"=\"SNAPPY\")"
   ]
  },
  {
   "cell_type": "code",
   "execution_count": 63,
   "id": "767ee2e8-9b5e-48cc-9dcf-216a95e73762",
   "metadata": {},
   "outputs": [
    {
     "name": "stdout",
     "output_type": "stream",
     "text": [
      " * hive://hadoop@localhost:10000/\n",
      "Done.\n"
     ]
    },
    {
     "data": {
      "text/plain": [
       "[]"
      ]
     },
     "execution_count": 63,
     "metadata": {},
     "output_type": "execute_result"
    }
   ],
   "source": [
    "%%sql\n",
    "INSERT INTO TABLE nachnamen \n",
    "    SELECT Stichdatum, PLZ, Nachname, Anzahl, Rang, ORTBEZ18, Geschlecht FROM nachnamen_csv"
   ]
  },
  {
   "cell_type": "code",
   "execution_count": 64,
   "id": "c419fe9c-116b-417c-9cf0-3543f6d1e4cd",
   "metadata": {},
   "outputs": [
    {
     "name": "stdout",
     "output_type": "stream",
     "text": [
      " * hive://hadoop@localhost:10000/\n",
      "Done.\n"
     ]
    },
    {
     "data": {
      "text/html": [
       "<table>\n",
       "    <tr>\n",
       "        <th>stichdatum</th>\n",
       "        <th>plz</th>\n",
       "        <th>nachname</th>\n",
       "        <th>anzahl</th>\n",
       "        <th>rang</th>\n",
       "        <th>ortbez18</th>\n",
       "        <th>geschlecht</th>\n",
       "    </tr>\n",
       "    <tr>\n",
       "        <td>2022-03-01</td>\n",
       "        <td>2905</td>\n",
       "        <td>Gerber</td>\n",
       "        <td>14</td>\n",
       "        <td>1</td>\n",
       "        <td>Courtedoux</td>\n",
       "        <td>m</td>\n",
       "    </tr>\n",
       "    <tr>\n",
       "        <td>2022-03-01</td>\n",
       "        <td>2905</td>\n",
       "        <td>Fleury</td>\n",
       "        <td>7</td>\n",
       "        <td>5</td>\n",
       "        <td>Courtedoux</td>\n",
       "        <td>m</td>\n",
       "    </tr>\n",
       "    <tr>\n",
       "        <td>2022-03-01</td>\n",
       "        <td>2906</td>\n",
       "        <td>Laville</td>\n",
       "        <td>34</td>\n",
       "        <td>1</td>\n",
       "        <td>Chevenez</td>\n",
       "        <td>m</td>\n",
       "    </tr>\n",
       "</table>"
      ],
      "text/plain": [
       "[('2022-03-01', 2905, 'Gerber', 14, 1, 'Courtedoux', 'm'),\n",
       " ('2022-03-01', 2905, 'Fleury', 7, 5, 'Courtedoux', 'm'),\n",
       " ('2022-03-01', 2906, 'Laville', 34, 1, 'Chevenez', 'm')]"
      ]
     },
     "execution_count": 64,
     "metadata": {},
     "output_type": "execute_result"
    }
   ],
   "source": [
    "%sql select * from nachnamen limit 3"
   ]
  }
 ],
 "metadata": {
  "kernelspec": {
   "display_name": "Python 3 (ipykernel)",
   "language": "python",
   "name": "python3"
  },
  "language_info": {
   "codemirror_mode": {
    "name": "ipython",
    "version": 3
   },
   "file_extension": ".py",
   "mimetype": "text/x-python",
   "name": "python",
   "nbconvert_exporter": "python",
   "pygments_lexer": "ipython3",
   "version": "3.8.10"
  }
 },
 "nbformat": 4,
 "nbformat_minor": 5
}
