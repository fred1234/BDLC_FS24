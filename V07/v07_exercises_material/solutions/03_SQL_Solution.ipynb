{
 "cells": [
  {
   "cell_type": "markdown",
   "id": "9e510a15-8891-4183-aa55-472d6d0c68a5",
   "metadata": {},
   "source": [
    "# Questions for die Post Dataset"
   ]
  },
  {
   "cell_type": "markdown",
   "id": "3be59bad-f328-4873-9337-8b6027980636",
   "metadata": {},
   "source": [
    "## Setup SQL"
   ]
  },
  {
   "cell_type": "code",
   "execution_count": 1,
   "id": "08ff5605-4bd9-425b-bd47-54b72e8611c6",
   "metadata": {},
   "outputs": [],
   "source": [
    "%load_ext sql\n",
    "%config SqlMagic.autocommit=False # avoiding the error: FAILED: IllegalStateException COMMIT is not supported yet.\n",
    "%sql hive://hadoop@localhost:10000/post"
   ]
  },
  {
   "cell_type": "markdown",
   "id": "70d3d61b-8eda-49b2-9146-552f022d767e",
   "metadata": {},
   "source": [
    "## Basic Checks"
   ]
  },
  {
   "cell_type": "code",
   "execution_count": 2,
   "id": "c7d0a706-7448-4b24-baa2-8ef57dc4eff7",
   "metadata": {},
   "outputs": [
    {
     "name": "stdout",
     "output_type": "stream",
     "text": [
      " * hive://hadoop@localhost:10000/post\n",
      "Done.\n"
     ]
    },
    {
     "data": {
      "text/html": [
       "<table>\n",
       "    <tr>\n",
       "        <th>rec_art</th>\n",
       "        <th>onrp</th>\n",
       "        <th>bfsnr</th>\n",
       "        <th>plz_typ</th>\n",
       "        <th>postleitzahl</th>\n",
       "        <th>plz_zz</th>\n",
       "        <th>gplz</th>\n",
       "        <th>ortbez18</th>\n",
       "        <th>ortbez27</th>\n",
       "        <th>sprachcode</th>\n",
       "        <th>sprachcode_abw</th>\n",
       "        <th>briefz_durch</th>\n",
       "        <th>gilt_ab_dat</th>\n",
       "        <th>plz_briefzust</th>\n",
       "        <th>plz_coff</th>\n",
       "        <th>kanton</th>\n",
       "    </tr>\n",
       "    <tr>\n",
       "        <td>01</td>\n",
       "        <td>2597</td>\n",
       "        <td>4252</td>\n",
       "        <td>30</td>\n",
       "        <td>4303</td>\n",
       "        <td>03</td>\n",
       "        <td>4303</td>\n",
       "        <td>Kaiseraugst Lieb.</td>\n",
       "        <td>Kaiseraugst Liebrüti</td>\n",
       "        <td>1</td>\n",
       "        <td>None</td>\n",
       "        <td>2597</td>\n",
       "        <td>1997-03-05</td>\n",
       "        <td>430303</td>\n",
       "        <td></td>\n",
       "        <td>AG</td>\n",
       "    </tr>\n",
       "</table>"
      ],
      "text/plain": [
       "[('01', 2597, 4252, 30, 4303, '03', 4303, 'Kaiseraugst Lieb.', 'Kaiseraugst Liebrüti', 1, None, 2597, '1997-03-05', 430303, '', 'AG')]"
      ]
     },
     "execution_count": 2,
     "metadata": {},
     "output_type": "execute_result"
    }
   ],
   "source": [
    "%sql SELECT * FROM plz limit 1"
   ]
  },
  {
   "cell_type": "code",
   "execution_count": 3,
   "id": "ab7b0994-6c44-4d49-94eb-7361f467e625",
   "metadata": {},
   "outputs": [
    {
     "name": "stdout",
     "output_type": "stream",
     "text": [
      " * hive://hadoop@localhost:10000/post\n",
      "Done.\n"
     ]
    },
    {
     "data": {
      "text/html": [
       "<table>\n",
       "    <tr>\n",
       "        <th>rec_art</th>\n",
       "        <th>strid</th>\n",
       "        <th>onrp</th>\n",
       "        <th>strbezk</th>\n",
       "        <th>strbezl</th>\n",
       "        <th>strbez2k</th>\n",
       "        <th>strbez2l</th>\n",
       "        <th>str_lok_typ</th>\n",
       "        <th>strbez_spc</th>\n",
       "        <th>strbez_coff</th>\n",
       "        <th>str_ganzfach</th>\n",
       "        <th>str_fach_onrp</th>\n",
       "    </tr>\n",
       "    <tr>\n",
       "        <td>04</td>\n",
       "        <td>15007157</td>\n",
       "        <td>1095</td>\n",
       "        <td>Torrent, place du</td>\n",
       "        <td>Torrent, place du</td>\n",
       "        <td>Place du Torrent</td>\n",
       "        <td>Place du Torrent</td>\n",
       "        <td>1</td>\n",
       "        <td>2</td>\n",
       "        <td>J</td>\n",
       "        <td></td>\n",
       "        <td>None</td>\n",
       "    </tr>\n",
       "</table>"
      ],
      "text/plain": [
       "[('04', 15007157, 1095, 'Torrent, place du', 'Torrent, place du', 'Place du Torrent', 'Place du Torrent', 1, 2, 'J', '', None)]"
      ]
     },
     "execution_count": 3,
     "metadata": {},
     "output_type": "execute_result"
    }
   ],
   "source": [
    "%sql SELECT * FROM streets limit 1"
   ]
  },
  {
   "cell_type": "code",
   "execution_count": 4,
   "id": "efab66f5-2b79-40f6-a12b-e6e63d0b0080",
   "metadata": {},
   "outputs": [
    {
     "name": "stdout",
     "output_type": "stream",
     "text": [
      " * hive://hadoop@localhost:10000/post\n",
      "Done.\n"
     ]
    },
    {
     "data": {
      "text/html": [
       "<table>\n",
       "    <tr>\n",
       "        <th>stichdatum</th>\n",
       "        <th>plz</th>\n",
       "        <th>anzahl</th>\n",
       "        <th>ortbez18</th>\n",
       "        <th>typ</th>\n",
       "    </tr>\n",
       "    <tr>\n",
       "        <td>2022-03-01</td>\n",
       "        <td>8203</td>\n",
       "        <td>237</td>\n",
       "        <td>Schaffhausen</td>\n",
       "        <td>f</td>\n",
       "    </tr>\n",
       "</table>"
      ],
      "text/plain": [
       "[('2022-03-01', 8203, 237, 'Schaffhausen', 'f')]"
      ]
     },
     "execution_count": 4,
     "metadata": {},
     "output_type": "execute_result"
    }
   ],
   "source": [
    "%sql SELECT * FROM bevoelkerung limit 1"
   ]
  },
  {
   "cell_type": "code",
   "execution_count": 5,
   "id": "b004fcb9-c966-452e-89f5-61999fa4a3fb",
   "metadata": {},
   "outputs": [
    {
     "name": "stdout",
     "output_type": "stream",
     "text": [
      " * hive://hadoop@localhost:10000/post\n",
      "Done.\n"
     ]
    },
    {
     "data": {
      "text/html": [
       "<table>\n",
       "    <tr>\n",
       "        <th>stichdatum</th>\n",
       "        <th>plz</th>\n",
       "        <th>nachname</th>\n",
       "        <th>anzahl</th>\n",
       "        <th>rang</th>\n",
       "        <th>ortbez18</th>\n",
       "        <th>geschlecht</th>\n",
       "    </tr>\n",
       "    <tr>\n",
       "        <td>2022-03-01</td>\n",
       "        <td>2905</td>\n",
       "        <td>Gerber</td>\n",
       "        <td>14</td>\n",
       "        <td>1</td>\n",
       "        <td>Courtedoux</td>\n",
       "        <td>m</td>\n",
       "    </tr>\n",
       "</table>"
      ],
      "text/plain": [
       "[('2022-03-01', 2905, 'Gerber', 14, 1, 'Courtedoux', 'm')]"
      ]
     },
     "execution_count": 5,
     "metadata": {},
     "output_type": "execute_result"
    }
   ],
   "source": [
    "%sql SELECT * FROM nachnamen limit 1"
   ]
  },
  {
   "cell_type": "markdown",
   "id": "f1efb5fb-0081-4d55-bd62-c9b355f9d249",
   "metadata": {},
   "source": [
    "## Count all zip codes (PLZ) per canton and order them by size.\n",
    "How many cantons do we have and what tells us the output? Why is there a difference?"
   ]
  },
  {
   "cell_type": "code",
   "execution_count": 7,
   "id": "45888bae-1382-4818-b080-6b46474205af",
   "metadata": {},
   "outputs": [
    {
     "name": "stdout",
     "output_type": "stream",
     "text": [
      " * hive://hadoop@localhost:10000/post\n",
      "Done.\n"
     ]
    },
    {
     "data": {
      "text/html": [
       "<table>\n",
       "    <tr>\n",
       "        <th>kanton</th>\n",
       "        <th>cnt</th>\n",
       "    </tr>\n",
       "    <tr>\n",
       "        <td>BE</td>\n",
       "        <td>716</td>\n",
       "    </tr>\n",
       "    <tr>\n",
       "        <td>VD</td>\n",
       "        <td>567</td>\n",
       "    </tr>\n",
       "    <tr>\n",
       "        <td>ZH</td>\n",
       "        <td>476</td>\n",
       "    </tr>\n",
       "    <tr>\n",
       "        <td>TI</td>\n",
       "        <td>386</td>\n",
       "    </tr>\n",
       "    <tr>\n",
       "        <td>AG</td>\n",
       "        <td>363</td>\n",
       "    </tr>\n",
       "    <tr>\n",
       "        <td>VS</td>\n",
       "        <td>344</td>\n",
       "    </tr>\n",
       "    <tr>\n",
       "        <td>GR</td>\n",
       "        <td>329</td>\n",
       "    </tr>\n",
       "    <tr>\n",
       "        <td>FR</td>\n",
       "        <td>312</td>\n",
       "    </tr>\n",
       "    <tr>\n",
       "        <td>SG</td>\n",
       "        <td>264</td>\n",
       "    </tr>\n",
       "    <tr>\n",
       "        <td>TG</td>\n",
       "        <td>232</td>\n",
       "    </tr>\n",
       "    <tr>\n",
       "        <td>LU</td>\n",
       "        <td>225</td>\n",
       "    </tr>\n",
       "    <tr>\n",
       "        <td>SO</td>\n",
       "        <td>178</td>\n",
       "    </tr>\n",
       "    <tr>\n",
       "        <td>GE</td>\n",
       "        <td>141</td>\n",
       "    </tr>\n",
       "    <tr>\n",
       "        <td>BL</td>\n",
       "        <td>129</td>\n",
       "    </tr>\n",
       "    <tr>\n",
       "        <td>NE</td>\n",
       "        <td>113</td>\n",
       "    </tr>\n",
       "    <tr>\n",
       "        <td>JU</td>\n",
       "        <td>103</td>\n",
       "    </tr>\n",
       "    <tr>\n",
       "        <td>SZ</td>\n",
       "        <td>72</td>\n",
       "    </tr>\n",
       "    <tr>\n",
       "        <td>BS</td>\n",
       "        <td>64</td>\n",
       "    </tr>\n",
       "    <tr>\n",
       "        <td>SH</td>\n",
       "        <td>52</td>\n",
       "    </tr>\n",
       "    <tr>\n",
       "        <td>ZG</td>\n",
       "        <td>38</td>\n",
       "    </tr>\n",
       "    <tr>\n",
       "        <td>GL</td>\n",
       "        <td>36</td>\n",
       "    </tr>\n",
       "    <tr>\n",
       "        <td>AR</td>\n",
       "        <td>32</td>\n",
       "    </tr>\n",
       "    <tr>\n",
       "        <td>UR</td>\n",
       "        <td>30</td>\n",
       "    </tr>\n",
       "    <tr>\n",
       "        <td>OW</td>\n",
       "        <td>28</td>\n",
       "    </tr>\n",
       "    <tr>\n",
       "        <td>NW</td>\n",
       "        <td>24</td>\n",
       "    </tr>\n",
       "    <tr>\n",
       "        <td>FL</td>\n",
       "        <td>20</td>\n",
       "    </tr>\n",
       "    <tr>\n",
       "        <td>AI</td>\n",
       "        <td>17</td>\n",
       "    </tr>\n",
       "    <tr>\n",
       "        <td>DE</td>\n",
       "        <td>1</td>\n",
       "    </tr>\n",
       "    <tr>\n",
       "        <td>IT</td>\n",
       "        <td>1</td>\n",
       "    </tr>\n",
       "</table>"
      ],
      "text/plain": [
       "[('BE', 716),\n",
       " ('VD', 567),\n",
       " ('ZH', 476),\n",
       " ('TI', 386),\n",
       " ('AG', 363),\n",
       " ('VS', 344),\n",
       " ('GR', 329),\n",
       " ('FR', 312),\n",
       " ('SG', 264),\n",
       " ('TG', 232),\n",
       " ('LU', 225),\n",
       " ('SO', 178),\n",
       " ('GE', 141),\n",
       " ('BL', 129),\n",
       " ('NE', 113),\n",
       " ('JU', 103),\n",
       " ('SZ', 72),\n",
       " ('BS', 64),\n",
       " ('SH', 52),\n",
       " ('ZG', 38),\n",
       " ('GL', 36),\n",
       " ('AR', 32),\n",
       " ('UR', 30),\n",
       " ('OW', 28),\n",
       " ('NW', 24),\n",
       " ('FL', 20),\n",
       " ('AI', 17),\n",
       " ('DE', 1),\n",
       " ('IT', 1)]"
      ]
     },
     "execution_count": 7,
     "metadata": {},
     "output_type": "execute_result"
    }
   ],
   "source": [
    "%%sql\n",
    "select kanton, count(*) as cnt from plz group by kanton order by cnt DESC"
   ]
  },
  {
   "cell_type": "markdown",
   "id": "09358b27-ff33-4985-8053-7a3d0b859a96",
   "metadata": {},
   "source": [
    "## Find `suurstoffi` in the `streets` table and find the corresponding record in `plz`"
   ]
  },
  {
   "cell_type": "code",
   "execution_count": 8,
   "id": "ee7e4c9d-782a-4b12-8f1c-07ccb4eed961",
   "metadata": {},
   "outputs": [
    {
     "name": "stdout",
     "output_type": "stream",
     "text": [
      " * hive://hadoop@localhost:10000/post\n",
      "Done.\n"
     ]
    },
    {
     "data": {
      "text/html": [
       "<table>\n",
       "    <tr>\n",
       "        <th>rec_art</th>\n",
       "        <th>strid</th>\n",
       "        <th>onrp</th>\n",
       "        <th>strbezk</th>\n",
       "        <th>strbezl</th>\n",
       "        <th>strbez2k</th>\n",
       "        <th>strbez2l</th>\n",
       "        <th>str_lok_typ</th>\n",
       "        <th>strbez_spc</th>\n",
       "        <th>strbez_coff</th>\n",
       "        <th>str_ganzfach</th>\n",
       "        <th>str_fach_onrp</th>\n",
       "    </tr>\n",
       "    <tr>\n",
       "        <td>04</td>\n",
       "        <td>76139559</td>\n",
       "        <td>3431</td>\n",
       "        <td>Suurstoffi</td>\n",
       "        <td>Suurstoffi</td>\n",
       "        <td>Suurstoffi</td>\n",
       "        <td>Suurstoffi</td>\n",
       "        <td>1</td>\n",
       "        <td>1</td>\n",
       "        <td>J</td>\n",
       "        <td></td>\n",
       "        <td>None</td>\n",
       "    </tr>\n",
       "</table>"
      ],
      "text/plain": [
       "[('04', 76139559, 3431, 'Suurstoffi', 'Suurstoffi', 'Suurstoffi', 'Suurstoffi', 1, 1, 'J', '', None)]"
      ]
     },
     "execution_count": 8,
     "metadata": {},
     "output_type": "execute_result"
    }
   ],
   "source": [
    "%sql select * from streets where lower(STRBEZ2L) like '%suurstoffi%'"
   ]
  },
  {
   "cell_type": "code",
   "execution_count": 9,
   "id": "4d2b7e2c-608e-4f04-8c58-9db1c1d0eb93",
   "metadata": {},
   "outputs": [
    {
     "name": "stdout",
     "output_type": "stream",
     "text": [
      " * hive://hadoop@localhost:10000/post\n",
      "Done.\n"
     ]
    },
    {
     "data": {
      "text/html": [
       "<table>\n",
       "    <tr>\n",
       "        <th>rec_art</th>\n",
       "        <th>onrp</th>\n",
       "        <th>bfsnr</th>\n",
       "        <th>plz_typ</th>\n",
       "        <th>postleitzahl</th>\n",
       "        <th>plz_zz</th>\n",
       "        <th>gplz</th>\n",
       "        <th>ortbez18</th>\n",
       "        <th>ortbez27</th>\n",
       "        <th>sprachcode</th>\n",
       "        <th>sprachcode_abw</th>\n",
       "        <th>briefz_durch</th>\n",
       "        <th>gilt_ab_dat</th>\n",
       "        <th>plz_briefzust</th>\n",
       "        <th>plz_coff</th>\n",
       "        <th>kanton</th>\n",
       "    </tr>\n",
       "    <tr>\n",
       "        <td>01</td>\n",
       "        <td>3431</td>\n",
       "        <td>1707</td>\n",
       "        <td>10</td>\n",
       "        <td>6343</td>\n",
       "        <td>00</td>\n",
       "        <td>6343</td>\n",
       "        <td>Rotkreuz</td>\n",
       "        <td>Rotkreuz</td>\n",
       "        <td>1</td>\n",
       "        <td>None</td>\n",
       "        <td>8452</td>\n",
       "        <td>1996-03-04</td>\n",
       "        <td>633160</td>\n",
       "        <td>J</td>\n",
       "        <td>ZG</td>\n",
       "    </tr>\n",
       "</table>"
      ],
      "text/plain": [
       "[('01', 3431, 1707, 10, 6343, '00', 6343, 'Rotkreuz', 'Rotkreuz', 1, None, 8452, '1996-03-04', 633160, 'J', 'ZG')]"
      ]
     },
     "execution_count": 9,
     "metadata": {},
     "output_type": "execute_result"
    }
   ],
   "source": [
    "%sql select * from plz where onrp = 3431"
   ]
  },
  {
   "cell_type": "markdown",
   "id": "e39e6ec5-fbec-49fe-b74e-8f245fe56c73",
   "metadata": {},
   "source": [
    "## Find the top 5 newest `gilt_ab_dat` entries in `plz`"
   ]
  },
  {
   "cell_type": "code",
   "execution_count": 18,
   "id": "7b648d97-6f5e-4fa3-867b-992fcf8a18ca",
   "metadata": {},
   "outputs": [
    {
     "name": "stdout",
     "output_type": "stream",
     "text": [
      " * hive://hadoop@localhost:10000/post\n",
      "Done.\n"
     ]
    },
    {
     "data": {
      "text/html": [
       "<table>\n",
       "    <tr>\n",
       "        <th>rec_art</th>\n",
       "        <th>onrp</th>\n",
       "        <th>bfsnr</th>\n",
       "        <th>plz_typ</th>\n",
       "        <th>postleitzahl</th>\n",
       "        <th>plz_zz</th>\n",
       "        <th>gplz</th>\n",
       "        <th>ortbez18</th>\n",
       "        <th>ortbez27</th>\n",
       "        <th>sprachcode</th>\n",
       "        <th>sprachcode_abw</th>\n",
       "        <th>briefz_durch</th>\n",
       "        <th>gilt_ab_dat</th>\n",
       "        <th>plz_briefzust</th>\n",
       "        <th>plz_coff</th>\n",
       "        <th>kanton</th>\n",
       "    </tr>\n",
       "    <tr>\n",
       "        <td>01</td>\n",
       "        <td>10919</td>\n",
       "        <td>1103</td>\n",
       "        <td>80</td>\n",
       "        <td>6210</td>\n",
       "        <td>02</td>\n",
       "        <td>6210</td>\n",
       "        <td>Sursee Wassergrabe</td>\n",
       "        <td>Sursee Wassergrabe</td>\n",
       "        <td>1</td>\n",
       "        <td>None</td>\n",
       "        <td>7217</td>\n",
       "        <td>2022-03-16</td>\n",
       "        <td>621060</td>\n",
       "        <td></td>\n",
       "        <td>LU</td>\n",
       "    </tr>\n",
       "    <tr>\n",
       "        <td>01</td>\n",
       "        <td>10917</td>\n",
       "        <td>2701</td>\n",
       "        <td>80</td>\n",
       "        <td>4089</td>\n",
       "        <td>77</td>\n",
       "        <td>4089</td>\n",
       "        <td>Basel ZollExtern</td>\n",
       "        <td>Basel ZollExtern</td>\n",
       "        <td>1</td>\n",
       "        <td>None</td>\n",
       "        <td>2452</td>\n",
       "        <td>2022-03-07</td>\n",
       "        <td>400202</td>\n",
       "        <td></td>\n",
       "        <td>BS</td>\n",
       "    </tr>\n",
       "    <tr>\n",
       "        <td>01</td>\n",
       "        <td>10916</td>\n",
       "        <td>2701</td>\n",
       "        <td>80</td>\n",
       "        <td>4089</td>\n",
       "        <td>76</td>\n",
       "        <td>4089</td>\n",
       "        <td>Basel ZollBeschau</td>\n",
       "        <td>Basel ZollBeschau</td>\n",
       "        <td>1</td>\n",
       "        <td>None</td>\n",
       "        <td>2452</td>\n",
       "        <td>2022-03-07</td>\n",
       "        <td>400202</td>\n",
       "        <td></td>\n",
       "        <td>BS</td>\n",
       "    </tr>\n",
       "    <tr>\n",
       "        <td>01</td>\n",
       "        <td>10915</td>\n",
       "        <td>2701</td>\n",
       "        <td>80</td>\n",
       "        <td>4089</td>\n",
       "        <td>75</td>\n",
       "        <td>4089</td>\n",
       "        <td>Basel ZollGesperrt</td>\n",
       "        <td>Basel ZollGesperrt</td>\n",
       "        <td>1</td>\n",
       "        <td>None</td>\n",
       "        <td>2452</td>\n",
       "        <td>2022-03-07</td>\n",
       "        <td>400202</td>\n",
       "        <td></td>\n",
       "        <td>BS</td>\n",
       "    </tr>\n",
       "    <tr>\n",
       "        <td>01</td>\n",
       "        <td>10913</td>\n",
       "        <td>6248</td>\n",
       "        <td>80</td>\n",
       "        <td>3960</td>\n",
       "        <td>06</td>\n",
       "        <td>3960</td>\n",
       "        <td>Sierre Rue Falcon</td>\n",
       "        <td>Sierre Rue de l&#x27;Ile Falcon</td>\n",
       "        <td>2</td>\n",
       "        <td>None</td>\n",
       "        <td>7249</td>\n",
       "        <td>2022-03-07</td>\n",
       "        <td>396060</td>\n",
       "        <td></td>\n",
       "        <td>VS</td>\n",
       "    </tr>\n",
       "</table>"
      ],
      "text/plain": [
       "[('01', 10919, 1103, 80, 6210, '02', 6210, 'Sursee Wassergrabe', 'Sursee Wassergrabe', 1, None, 7217, '2022-03-16', 621060, '', 'LU'),\n",
       " ('01', 10917, 2701, 80, 4089, '77', 4089, 'Basel ZollExtern', 'Basel ZollExtern', 1, None, 2452, '2022-03-07', 400202, '', 'BS'),\n",
       " ('01', 10916, 2701, 80, 4089, '76', 4089, 'Basel ZollBeschau', 'Basel ZollBeschau', 1, None, 2452, '2022-03-07', 400202, '', 'BS'),\n",
       " ('01', 10915, 2701, 80, 4089, '75', 4089, 'Basel ZollGesperrt', 'Basel ZollGesperrt', 1, None, 2452, '2022-03-07', 400202, '', 'BS'),\n",
       " ('01', 10913, 6248, 80, 3960, '06', 3960, 'Sierre Rue Falcon', \"Sierre Rue de l'Ile Falcon\", 2, None, 7249, '2022-03-07', 396060, '', 'VS')]"
      ]
     },
     "execution_count": 18,
     "metadata": {},
     "output_type": "execute_result"
    }
   ],
   "source": [
    "%sql select * from plz order by gilt_ab_dat DESC limit 5"
   ]
  },
  {
   "cell_type": "markdown",
   "id": "9c6029da-957b-40f3-ad7d-6d988ad17772",
   "metadata": {},
   "source": [
    "## Check the `bevoelkerung` table for \"your\" `plz`.\n",
    "Do you know what `typ` means?\n",
    "Check out the [schema](https://swisspost.opendatasoft.com/explore/dataset/bevoelkerung_proplz/information/?disjunctive.plz&disjunctive.typ&disjunctive.ortbez18&sort=stichdatum) from the \"post\" if you don't."
   ]
  },
  {
   "cell_type": "code",
   "execution_count": 27,
   "id": "7e1a9339-c454-4a63-a4d3-760e6b357425",
   "metadata": {},
   "outputs": [
    {
     "name": "stdout",
     "output_type": "stream",
     "text": [
      " * hive://hadoop@localhost:10000/post\n",
      "Done.\n"
     ]
    },
    {
     "data": {
      "text/html": [
       "<table>\n",
       "    <tr>\n",
       "        <th>stichdatum</th>\n",
       "        <th>plz</th>\n",
       "        <th>anzahl</th>\n",
       "        <th>ortbez18</th>\n",
       "        <th>typ</th>\n",
       "    </tr>\n",
       "    <tr>\n",
       "        <td>2022-03-01</td>\n",
       "        <td>8640</td>\n",
       "        <td>1949</td>\n",
       "        <td>Rapperswil SG/Hurd</td>\n",
       "        <td>f</td>\n",
       "    </tr>\n",
       "    <tr>\n",
       "        <td>2022-03-01</td>\n",
       "        <td>8640</td>\n",
       "        <td>5257</td>\n",
       "        <td>Rapperswil SG/Hurd</td>\n",
       "        <td>m</td>\n",
       "    </tr>\n",
       "    <tr>\n",
       "        <td>2022-03-01</td>\n",
       "        <td>8640</td>\n",
       "        <td>5070</td>\n",
       "        <td>Rapperswil SG/Hurd</td>\n",
       "        <td>w</td>\n",
       "    </tr>\n",
       "</table>"
      ],
      "text/plain": [
       "[('2022-03-01', 8640, 1949, 'Rapperswil SG/Hurd', 'f'),\n",
       " ('2022-03-01', 8640, 5257, 'Rapperswil SG/Hurd', 'm'),\n",
       " ('2022-03-01', 8640, 5070, 'Rapperswil SG/Hurd', 'w')]"
      ]
     },
     "execution_count": 27,
     "metadata": {},
     "output_type": "execute_result"
    }
   ],
   "source": [
    "%sql select * from bevoelkerung where plz = 8640"
   ]
  },
  {
   "cell_type": "markdown",
   "id": "c475f83d-4d44-4104-a6c3-d6e2877ffcb7",
   "metadata": {},
   "source": [
    "## Find the top three `PLZ` for `typ='f'`"
   ]
  },
  {
   "cell_type": "code",
   "execution_count": 29,
   "id": "9b296aab-b58a-4b10-be07-c3acc1143a42",
   "metadata": {},
   "outputs": [
    {
     "name": "stdout",
     "output_type": "stream",
     "text": [
      " * hive://hadoop@localhost:10000/post\n",
      "Done.\n"
     ]
    },
    {
     "data": {
      "text/html": [
       "<table>\n",
       "    <tr>\n",
       "        <th>stichdatum</th>\n",
       "        <th>plz</th>\n",
       "        <th>anzahl</th>\n",
       "        <th>ortbez18</th>\n",
       "        <th>typ</th>\n",
       "    </tr>\n",
       "    <tr>\n",
       "        <td>2022-03-01</td>\n",
       "        <td>6300</td>\n",
       "        <td>19836</td>\n",
       "        <td>Zugerberg/Zug</td>\n",
       "        <td>f</td>\n",
       "    </tr>\n",
       "    <tr>\n",
       "        <td>2022-03-01</td>\n",
       "        <td>6900</td>\n",
       "        <td>15460</td>\n",
       "        <td>Massagno/Lugano/Pa</td>\n",
       "        <td>f</td>\n",
       "    </tr>\n",
       "    <tr>\n",
       "        <td>2022-03-01</td>\n",
       "        <td>8001</td>\n",
       "        <td>10784</td>\n",
       "        <td>Zürich</td>\n",
       "        <td>f</td>\n",
       "    </tr>\n",
       "</table>"
      ],
      "text/plain": [
       "[('2022-03-01', 6300, 19836, 'Zugerberg/Zug', 'f'),\n",
       " ('2022-03-01', 6900, 15460, 'Massagno/Lugano/Pa', 'f'),\n",
       " ('2022-03-01', 8001, 10784, 'Zürich', 'f')]"
      ]
     },
     "execution_count": 29,
     "metadata": {},
     "output_type": "execute_result"
    }
   ],
   "source": [
    "%sql select * from bevoelkerung where typ='f' order by anzahl DESC limit 3"
   ]
  },
  {
   "cell_type": "markdown",
   "id": "367648e3-7ea8-465b-9360-99086c796f63",
   "metadata": {},
   "source": [
    "## Is your `nachname` in the `nachnamen` table?\n",
    "Order it by anzahl"
   ]
  },
  {
   "cell_type": "code",
   "execution_count": 31,
   "id": "53d97b34-53db-4c3c-bbd4-95a20a47527d",
   "metadata": {},
   "outputs": [
    {
     "name": "stdout",
     "output_type": "stream",
     "text": [
      " * hive://hadoop@localhost:10000/post\n",
      "Done.\n"
     ]
    },
    {
     "data": {
      "text/html": [
       "<table>\n",
       "    <tr>\n",
       "        <th>stichdatum</th>\n",
       "        <th>plz</th>\n",
       "        <th>nachname</th>\n",
       "        <th>anzahl</th>\n",
       "        <th>rang</th>\n",
       "        <th>ortbez18</th>\n",
       "        <th>geschlecht</th>\n",
       "    </tr>\n",
       "    <tr>\n",
       "        <td>2022-03-01</td>\n",
       "        <td>3045</td>\n",
       "        <td>Egli</td>\n",
       "        <td>6</td>\n",
       "        <td>5</td>\n",
       "        <td>Meikirch</td>\n",
       "        <td>m</td>\n",
       "    </tr>\n",
       "    <tr>\n",
       "        <td>2022-03-01</td>\n",
       "        <td>8425</td>\n",
       "        <td>Egli</td>\n",
       "        <td>8</td>\n",
       "        <td>5</td>\n",
       "        <td>Oberembrach</td>\n",
       "        <td>m</td>\n",
       "    </tr>\n",
       "    <tr>\n",
       "        <td>2022-03-01</td>\n",
       "        <td>9652</td>\n",
       "        <td>Egli</td>\n",
       "        <td>8</td>\n",
       "        <td>4</td>\n",
       "        <td>Neu St. Johann</td>\n",
       "        <td>m</td>\n",
       "    </tr>\n",
       "    <tr>\n",
       "        <td>2022-03-01</td>\n",
       "        <td>3020</td>\n",
       "        <td>Egli</td>\n",
       "        <td>8</td>\n",
       "        <td>5</td>\n",
       "        <td>Bern</td>\n",
       "        <td>m</td>\n",
       "    </tr>\n",
       "    <tr>\n",
       "        <td>2022-03-01</td>\n",
       "        <td>9643</td>\n",
       "        <td>Egli</td>\n",
       "        <td>9</td>\n",
       "        <td>4</td>\n",
       "        <td>Krummenau</td>\n",
       "        <td>m</td>\n",
       "    </tr>\n",
       "    <tr>\n",
       "        <td>2022-03-01</td>\n",
       "        <td>8497</td>\n",
       "        <td>Egli</td>\n",
       "        <td>9</td>\n",
       "        <td>3</td>\n",
       "        <td>Fischenthal</td>\n",
       "        <td>m</td>\n",
       "    </tr>\n",
       "    <tr>\n",
       "        <td>2022-03-01</td>\n",
       "        <td>6217</td>\n",
       "        <td>Egli</td>\n",
       "        <td>9</td>\n",
       "        <td>5</td>\n",
       "        <td>Kottwil</td>\n",
       "        <td>m</td>\n",
       "    </tr>\n",
       "    <tr>\n",
       "        <td>2022-03-01</td>\n",
       "        <td>9601</td>\n",
       "        <td>Egli</td>\n",
       "        <td>10</td>\n",
       "        <td>1</td>\n",
       "        <td>Lütisburg Station</td>\n",
       "        <td>m</td>\n",
       "    </tr>\n",
       "    <tr>\n",
       "        <td>2022-03-01</td>\n",
       "        <td>3312</td>\n",
       "        <td>Egli</td>\n",
       "        <td>10</td>\n",
       "        <td>4</td>\n",
       "        <td>Fraubrunnen</td>\n",
       "        <td>m</td>\n",
       "    </tr>\n",
       "    <tr>\n",
       "        <td>2022-03-01</td>\n",
       "        <td>8345</td>\n",
       "        <td>Egli</td>\n",
       "        <td>11</td>\n",
       "        <td>1</td>\n",
       "        <td>Adetswil</td>\n",
       "        <td>m</td>\n",
       "    </tr>\n",
       "    <tr>\n",
       "        <td>2022-03-01</td>\n",
       "        <td>7232</td>\n",
       "        <td>Egli</td>\n",
       "        <td>11</td>\n",
       "        <td>2</td>\n",
       "        <td>Furna</td>\n",
       "        <td>m</td>\n",
       "    </tr>\n",
       "    <tr>\n",
       "        <td>2022-03-01</td>\n",
       "        <td>8372</td>\n",
       "        <td>Egli</td>\n",
       "        <td>11</td>\n",
       "        <td>1</td>\n",
       "        <td>Wiezikon b.Sirnach</td>\n",
       "        <td>m</td>\n",
       "    </tr>\n",
       "    <tr>\n",
       "        <td>2022-03-01</td>\n",
       "        <td>8498</td>\n",
       "        <td>Egli</td>\n",
       "        <td>11</td>\n",
       "        <td>1</td>\n",
       "        <td>Gibswil</td>\n",
       "        <td>m</td>\n",
       "    </tr>\n",
       "    <tr>\n",
       "        <td>2022-03-01</td>\n",
       "        <td>8725</td>\n",
       "        <td>Egli</td>\n",
       "        <td>11</td>\n",
       "        <td>5</td>\n",
       "        <td>Ernetschwil/Gebert</td>\n",
       "        <td>m</td>\n",
       "    </tr>\n",
       "    <tr>\n",
       "        <td>2022-03-01</td>\n",
       "        <td>8311</td>\n",
       "        <td>Egli</td>\n",
       "        <td>12</td>\n",
       "        <td>5</td>\n",
       "        <td>Brütten</td>\n",
       "        <td>m</td>\n",
       "    </tr>\n",
       "    <tr>\n",
       "        <td>2022-03-01</td>\n",
       "        <td>8266</td>\n",
       "        <td>Egli</td>\n",
       "        <td>13</td>\n",
       "        <td>5</td>\n",
       "        <td>Steckborn</td>\n",
       "        <td>m</td>\n",
       "    </tr>\n",
       "    <tr>\n",
       "        <td>2022-03-01</td>\n",
       "        <td>9534</td>\n",
       "        <td>Egli</td>\n",
       "        <td>14</td>\n",
       "        <td>4</td>\n",
       "        <td>Gähwil</td>\n",
       "        <td>m</td>\n",
       "    </tr>\n",
       "    <tr>\n",
       "        <td>2022-03-01</td>\n",
       "        <td>6114</td>\n",
       "        <td>Egli</td>\n",
       "        <td>14</td>\n",
       "        <td>2</td>\n",
       "        <td>Steinhuserberg</td>\n",
       "        <td>m</td>\n",
       "    </tr>\n",
       "    <tr>\n",
       "        <td>2022-03-01</td>\n",
       "        <td>7245</td>\n",
       "        <td>Egli</td>\n",
       "        <td>15</td>\n",
       "        <td>2</td>\n",
       "        <td>Ascharina</td>\n",
       "        <td>m</td>\n",
       "    </tr>\n",
       "    <tr>\n",
       "        <td>2022-03-01</td>\n",
       "        <td>8353</td>\n",
       "        <td>Egli</td>\n",
       "        <td>15</td>\n",
       "        <td>4</td>\n",
       "        <td>Elgg</td>\n",
       "        <td>m</td>\n",
       "    </tr>\n",
       "    <tr>\n",
       "        <td>2022-03-01</td>\n",
       "        <td>6106</td>\n",
       "        <td>Egli</td>\n",
       "        <td>16</td>\n",
       "        <td>1</td>\n",
       "        <td>Werthenstein</td>\n",
       "        <td>m</td>\n",
       "    </tr>\n",
       "    <tr>\n",
       "        <td>2022-03-01</td>\n",
       "        <td>6232</td>\n",
       "        <td>Egli</td>\n",
       "        <td>16</td>\n",
       "        <td>5</td>\n",
       "        <td>Geuensee</td>\n",
       "        <td>m</td>\n",
       "    </tr>\n",
       "    <tr>\n",
       "        <td>2022-03-01</td>\n",
       "        <td>9512</td>\n",
       "        <td>Egli</td>\n",
       "        <td>16</td>\n",
       "        <td>1</td>\n",
       "        <td>Rossrüti</td>\n",
       "        <td>m</td>\n",
       "    </tr>\n",
       "    <tr>\n",
       "        <td>2022-03-01</td>\n",
       "        <td>8623</td>\n",
       "        <td>Egli</td>\n",
       "        <td>28</td>\n",
       "        <td>2</td>\n",
       "        <td>Wetzikon ZH</td>\n",
       "        <td>m</td>\n",
       "    </tr>\n",
       "    <tr>\n",
       "        <td>2022-03-01</td>\n",
       "        <td>8634</td>\n",
       "        <td>Egli</td>\n",
       "        <td>31</td>\n",
       "        <td>5</td>\n",
       "        <td>Hombrechtikon</td>\n",
       "        <td>m</td>\n",
       "    </tr>\n",
       "    <tr>\n",
       "        <td>2022-03-01</td>\n",
       "        <td>6197</td>\n",
       "        <td>Egli</td>\n",
       "        <td>31</td>\n",
       "        <td>4</td>\n",
       "        <td>Schangnau</td>\n",
       "        <td>m</td>\n",
       "    </tr>\n",
       "    <tr>\n",
       "        <td>2022-03-01</td>\n",
       "        <td>9533</td>\n",
       "        <td>Egli</td>\n",
       "        <td>32</td>\n",
       "        <td>2</td>\n",
       "        <td>Kirchberg SG/Diets</td>\n",
       "        <td>m</td>\n",
       "    </tr>\n",
       "    <tr>\n",
       "        <td>2022-03-01</td>\n",
       "        <td>6207</td>\n",
       "        <td>Egli</td>\n",
       "        <td>35</td>\n",
       "        <td>1</td>\n",
       "        <td>Nottwil/Nottwil SP</td>\n",
       "        <td>m</td>\n",
       "    </tr>\n",
       "    <tr>\n",
       "        <td>2022-03-01</td>\n",
       "        <td>8630</td>\n",
       "        <td>Egli</td>\n",
       "        <td>37</td>\n",
       "        <td>3</td>\n",
       "        <td>Rüti ZH</td>\n",
       "        <td>m</td>\n",
       "    </tr>\n",
       "    <tr>\n",
       "        <td>2022-03-01</td>\n",
       "        <td>8340</td>\n",
       "        <td>Egli</td>\n",
       "        <td>39</td>\n",
       "        <td>3</td>\n",
       "        <td>Hinwil</td>\n",
       "        <td>m</td>\n",
       "    </tr>\n",
       "</table>"
      ],
      "text/plain": [
       "[('2022-03-01', 3045, 'Egli', 6, 5, 'Meikirch', 'm'),\n",
       " ('2022-03-01', 8425, 'Egli', 8, 5, 'Oberembrach', 'm'),\n",
       " ('2022-03-01', 9652, 'Egli', 8, 4, 'Neu St. Johann', 'm'),\n",
       " ('2022-03-01', 3020, 'Egli', 8, 5, 'Bern', 'm'),\n",
       " ('2022-03-01', 9643, 'Egli', 9, 4, 'Krummenau', 'm'),\n",
       " ('2022-03-01', 8497, 'Egli', 9, 3, 'Fischenthal', 'm'),\n",
       " ('2022-03-01', 6217, 'Egli', 9, 5, 'Kottwil', 'm'),\n",
       " ('2022-03-01', 9601, 'Egli', 10, 1, 'Lütisburg Station', 'm'),\n",
       " ('2022-03-01', 3312, 'Egli', 10, 4, 'Fraubrunnen', 'm'),\n",
       " ('2022-03-01', 8345, 'Egli', 11, 1, 'Adetswil', 'm'),\n",
       " ('2022-03-01', 7232, 'Egli', 11, 2, 'Furna', 'm'),\n",
       " ('2022-03-01', 8372, 'Egli', 11, 1, 'Wiezikon b.Sirnach', 'm'),\n",
       " ('2022-03-01', 8498, 'Egli', 11, 1, 'Gibswil', 'm'),\n",
       " ('2022-03-01', 8725, 'Egli', 11, 5, 'Ernetschwil/Gebert', 'm'),\n",
       " ('2022-03-01', 8311, 'Egli', 12, 5, 'Brütten', 'm'),\n",
       " ('2022-03-01', 8266, 'Egli', 13, 5, 'Steckborn', 'm'),\n",
       " ('2022-03-01', 9534, 'Egli', 14, 4, 'Gähwil', 'm'),\n",
       " ('2022-03-01', 6114, 'Egli', 14, 2, 'Steinhuserberg', 'm'),\n",
       " ('2022-03-01', 7245, 'Egli', 15, 2, 'Ascharina', 'm'),\n",
       " ('2022-03-01', 8353, 'Egli', 15, 4, 'Elgg', 'm'),\n",
       " ('2022-03-01', 6106, 'Egli', 16, 1, 'Werthenstein', 'm'),\n",
       " ('2022-03-01', 6232, 'Egli', 16, 5, 'Geuensee', 'm'),\n",
       " ('2022-03-01', 9512, 'Egli', 16, 1, 'Rossrüti', 'm'),\n",
       " ('2022-03-01', 8623, 'Egli', 28, 2, 'Wetzikon ZH', 'm'),\n",
       " ('2022-03-01', 8634, 'Egli', 31, 5, 'Hombrechtikon', 'm'),\n",
       " ('2022-03-01', 6197, 'Egli', 31, 4, 'Schangnau', 'm'),\n",
       " ('2022-03-01', 9533, 'Egli', 32, 2, 'Kirchberg SG/Diets', 'm'),\n",
       " ('2022-03-01', 6207, 'Egli', 35, 1, 'Nottwil/Nottwil SP', 'm'),\n",
       " ('2022-03-01', 8630, 'Egli', 37, 3, 'Rüti ZH', 'm'),\n",
       " ('2022-03-01', 8340, 'Egli', 39, 3, 'Hinwil', 'm')]"
      ]
     },
     "execution_count": 31,
     "metadata": {},
     "output_type": "execute_result"
    }
   ],
   "source": [
    "%%sql\n",
    "\n",
    "select * from nachnamen where nachname = 'Egli' and geschlecht = 'm' order by anzahl"
   ]
  },
  {
   "cell_type": "markdown",
   "id": "05452166-272b-4c80-a35d-2bb17aec5ead",
   "metadata": {},
   "source": [
    "## What are the top 10 lastnames in the table `nachnamen`?"
   ]
  },
  {
   "cell_type": "code",
   "execution_count": 33,
   "id": "5c0c6891-d69f-4432-b867-2d0863ac97d1",
   "metadata": {},
   "outputs": [
    {
     "name": "stdout",
     "output_type": "stream",
     "text": [
      " * hive://hadoop@localhost:10000/post\n",
      "Done.\n"
     ]
    },
    {
     "data": {
      "text/html": [
       "<table>\n",
       "    <tr>\n",
       "        <th>nachname</th>\n",
       "        <th>cnt</th>\n",
       "    </tr>\n",
       "    <tr>\n",
       "        <td>Müller</td>\n",
       "        <td>45217</td>\n",
       "    </tr>\n",
       "    <tr>\n",
       "        <td>Meier</td>\n",
       "        <td>25388</td>\n",
       "    </tr>\n",
       "    <tr>\n",
       "        <td>Schmid</td>\n",
       "        <td>19500</td>\n",
       "    </tr>\n",
       "    <tr>\n",
       "        <td>Keller</td>\n",
       "        <td>13161</td>\n",
       "    </tr>\n",
       "    <tr>\n",
       "        <td>n/a</td>\n",
       "        <td>9733</td>\n",
       "    </tr>\n",
       "    <tr>\n",
       "        <td>Gerber</td>\n",
       "        <td>6919</td>\n",
       "    </tr>\n",
       "    <tr>\n",
       "        <td>Weber</td>\n",
       "        <td>6563</td>\n",
       "    </tr>\n",
       "    <tr>\n",
       "        <td>Huber</td>\n",
       "        <td>5950</td>\n",
       "    </tr>\n",
       "    <tr>\n",
       "        <td>Meyer</td>\n",
       "        <td>5134</td>\n",
       "    </tr>\n",
       "    <tr>\n",
       "        <td>Schneider</td>\n",
       "        <td>5031</td>\n",
       "    </tr>\n",
       "</table>"
      ],
      "text/plain": [
       "[('Müller', 45217),\n",
       " ('Meier', 25388),\n",
       " ('Schmid', 19500),\n",
       " ('Keller', 13161),\n",
       " ('n/a', 9733),\n",
       " ('Gerber', 6919),\n",
       " ('Weber', 6563),\n",
       " ('Huber', 5950),\n",
       " ('Meyer', 5134),\n",
       " ('Schneider', 5031)]"
      ]
     },
     "execution_count": 33,
     "metadata": {},
     "output_type": "execute_result"
    }
   ],
   "source": [
    "%%sql\n",
    "\n",
    "select nachname, sum(anzahl) as cnt from nachnamen group by nachname order by cnt DESC limit 10"
   ]
  }
 ],
 "metadata": {
  "kernelspec": {
   "display_name": "Python 3 (ipykernel)",
   "language": "python",
   "name": "python3"
  },
  "language_info": {
   "codemirror_mode": {
    "name": "ipython",
    "version": 3
   },
   "file_extension": ".py",
   "mimetype": "text/x-python",
   "name": "python",
   "nbconvert_exporter": "python",
   "pygments_lexer": "ipython3",
   "version": "3.8.10"
  }
 },
 "nbformat": 4,
 "nbformat_minor": 5
}
