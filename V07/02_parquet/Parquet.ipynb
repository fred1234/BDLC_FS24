{
 "cells": [
  {
   "cell_type": "markdown",
   "id": "87ddb265-ba29-4410-8be4-a2b6217fa213",
   "metadata": {
    "tags": []
   },
   "source": [
    "# Parquet - Read / Write / Meta Data"
   ]
  },
  {
   "cell_type": "markdown",
   "id": "a6e102f7-8ac2-4035-9931-8f7d7505a337",
   "metadata": {},
   "source": [
    "## Installation\n",
    "\n",
    "You need pyarrow for this Notebook.\n",
    "\n",
    "```bash\n",
    "pip install pyarrow\n",
    "```"
   ]
  },
  {
   "cell_type": "markdown",
   "id": "18bdac6c-202f-4593-abe6-6022c55acdca",
   "metadata": {
    "tags": []
   },
   "source": [
    "## Reading and Writing Parquet Files\n",
    "\n",
    "More information\n",
    "- [Reading](https://pandas.pydata.org/pandas-docs/version/1.1/reference/api/pandas.read_parquet.html#pandas.read_parquet)\n",
    "- [Writing](https://pandas.pydata.org/pandas-docs/version/1.1/reference/api/pandas.DataFrame.to_parquet.html)"
   ]
  },
  {
   "cell_type": "code",
   "execution_count": null,
   "id": "9e3bfb73-b401-41cf-bd9e-48c0df4e1fc8",
   "metadata": {},
   "outputs": [],
   "source": [
    "import pandas as pd\n",
    "\n",
    "df = pd.DataFrame(data={'col1': [1, 2], 'col2': [3, 4]})\n",
    "df"
   ]
  },
  {
   "cell_type": "code",
   "execution_count": null,
   "id": "4e25bae6-685a-4620-a444-dea48cbb950d",
   "metadata": {},
   "outputs": [],
   "source": [
    "#writing\n",
    "df.to_parquet('df.parquet',compression=None)"
   ]
  },
  {
   "cell_type": "code",
   "execution_count": null,
   "id": "c253bb5b-2669-44c8-a8c8-be631ee02c9e",
   "metadata": {},
   "outputs": [],
   "source": [
    "#reading\n",
    "pd.read_parquet('./df.parquet')"
   ]
  },
  {
   "cell_type": "code",
   "execution_count": null,
   "id": "d3dad920-ca23-45f8-9b4f-845200d59ed5",
   "metadata": {},
   "outputs": [],
   "source": [
    "# reading one column\n",
    "from pyarrow import parquet\n",
    "parquet.read_table('./df.parquet', columns=['col2',]).to_pandas()"
   ]
  },
  {
   "cell_type": "markdown",
   "id": "e8f96c32-8475-4ff5-93dc-22d8e26b2c89",
   "metadata": {
    "tags": []
   },
   "source": [
    "## Reading the metadata"
   ]
  },
  {
   "cell_type": "code",
   "execution_count": null,
   "id": "4af36529-7c18-4aef-98ec-8610a9dbd214",
   "metadata": {},
   "outputs": [],
   "source": [
    "from pyarrow import parquet\n",
    "\n",
    "meta_data = parquet.read_metadata('./df.parquet')"
   ]
  },
  {
   "cell_type": "code",
   "execution_count": null,
   "id": "789d81f6-cdaf-4adc-a24c-23f1db8d829a",
   "metadata": {},
   "outputs": [],
   "source": [
    "meta_data"
   ]
  },
  {
   "cell_type": "code",
   "execution_count": null,
   "id": "01cbdbd0-b032-4cd3-beb7-5f8b25af7656",
   "metadata": {},
   "outputs": [],
   "source": [
    "meta_data.schema"
   ]
  },
  {
   "cell_type": "code",
   "execution_count": null,
   "id": "57fb300f-7092-4adc-beef-efd97bb050c3",
   "metadata": {},
   "outputs": [],
   "source": [
    "meta_data.to_dict()"
   ]
  },
  {
   "cell_type": "markdown",
   "id": "92474bf4-d920-4fd3-b116-f2c5b53f9e0c",
   "metadata": {
    "tags": []
   },
   "source": [
    "# Encodings"
   ]
  },
  {
   "cell_type": "markdown",
   "id": "2a1c1d7e-015d-4d36-aa8e-03e6ac6e3d04",
   "metadata": {},
   "source": [
    "## Run Length Encoding"
   ]
  },
  {
   "cell_type": "code",
   "execution_count": null,
   "id": "ffa892c8-5ab0-4ecd-bea0-4b139dab7b4f",
   "metadata": {},
   "outputs": [],
   "source": [
    "# 1_000_000 is the same as 1000000\n",
    "my_data = [1337 for x in range(1,1_000_000)]\n",
    "\n",
    "my_data = my_data + [42, 42]\n",
    "\n",
    "df = pd.DataFrame(data={'numbers': my_data})"
   ]
  },
  {
   "cell_type": "code",
   "execution_count": null,
   "id": "83b694b5-3895-46db-a0e4-bfbe2d506fa0",
   "metadata": {},
   "outputs": [],
   "source": [
    "df.to_csv('run_length_encoding.csv',compression=None, index=None)\n",
    "df.to_parquet('run_length_encoding.parquet',compression=None)"
   ]
  },
  {
   "cell_type": "code",
   "execution_count": null,
   "id": "0012aeaf-9539-4bb8-a20a-2e3301860df7",
   "metadata": {},
   "outputs": [],
   "source": [
    "!ls -lisah run_length_encoding.*"
   ]
  },
  {
   "cell_type": "markdown",
   "id": "21557bf0-a6ca-4a55-85e3-b2eab5a39f5c",
   "metadata": {},
   "source": [
    "## Dictionary Encoding"
   ]
  },
  {
   "cell_type": "code",
   "execution_count": null,
   "id": "b1c357d6-cc79-495a-b115-fbb5e994868e",
   "metadata": {},
   "outputs": [],
   "source": [
    "my_data = [\"hello world\" for x in range(1,1_000_000)]\n",
    "\n",
    "my_data = my_data + [\"foo\", \"foo\"]\n",
    "\n",
    "df = pd.DataFrame(data={'strings': my_data})"
   ]
  },
  {
   "cell_type": "code",
   "execution_count": null,
   "id": "f963b6b6-8828-4385-b6f6-ce306542ee72",
   "metadata": {},
   "outputs": [],
   "source": [
    "df.to_csv('dictionary_encoding.csv',compression=None, index=None)\n",
    "df.to_parquet('dictionary_encoding.parquet',compression=None)"
   ]
  },
  {
   "cell_type": "code",
   "execution_count": null,
   "id": "63debe12-5f3d-49b5-bb95-72324c76b772",
   "metadata": {},
   "outputs": [],
   "source": [
    "!ls -lisah dictionary_encoding.*"
   ]
  },
  {
   "cell_type": "markdown",
   "id": "bc6c4fa0-80bd-48a8-b235-0edc208b5cc3",
   "metadata": {},
   "source": [
    "## Delta Encoding (not supported with pyarrow)"
   ]
  },
  {
   "cell_type": "code",
   "execution_count": null,
   "id": "74f6befd-11a7-43d8-b929-ea9e6befa61d",
   "metadata": {},
   "outputs": [],
   "source": [
    "import time    \n",
    "epoch_time = int(time.time())"
   ]
  },
  {
   "cell_type": "code",
   "execution_count": null,
   "id": "9caa1e0f-fb6b-40ee-bde3-0efa2448d6a8",
   "metadata": {},
   "outputs": [],
   "source": [
    "epoch_time"
   ]
  },
  {
   "cell_type": "code",
   "execution_count": null,
   "id": "61e23082-9090-4464-9a36-9cbc86776449",
   "metadata": {},
   "outputs": [],
   "source": [
    "my_data = [epoch_time+x for x in range(1,1_000_000)]\n",
    "\n",
    "df = pd.DataFrame(data={'ts': my_data})"
   ]
  },
  {
   "cell_type": "code",
   "execution_count": null,
   "id": "350e014f-e6d5-4c2e-9177-97e36d0b9099",
   "metadata": {},
   "outputs": [],
   "source": [
    "df.to_csv('delta_encoding.csv',compression=None, index=None)\n",
    "df.to_parquet('delta_encoding.parquet',compression=None)"
   ]
  },
  {
   "cell_type": "code",
   "execution_count": null,
   "id": "f50f1669-b395-48a0-bec7-1b575fa44b25",
   "metadata": {},
   "outputs": [],
   "source": [
    "!ls -lisah delta_encoding.*"
   ]
  },
  {
   "cell_type": "code",
   "execution_count": null,
   "id": "b64a4e99-2025-4662-81af-0a067bac4c62",
   "metadata": {},
   "outputs": [],
   "source": [
    "parquet.read_metadata('./delta_encoding.parquet').to_dict()"
   ]
  },
  {
   "cell_type": "markdown",
   "id": "13acfc33-2dc5-4e81-9900-5d40ffa8db43",
   "metadata": {},
   "source": [
    "## Compression\n",
    "\n",
    "- [supported compressions](https://pandas.pydata.org/pandas-docs/dev/reference/api/pandas.DataFrame.to_parquet.html)\n",
    "- [parquet-format compressions](https://github.com/apache/parquet-format/blob/master/Compression.md)"
   ]
  },
  {
   "cell_type": "code",
   "execution_count": null,
   "id": "bfdd51bf-da72-4130-85e7-8142a406c9ed",
   "metadata": {},
   "outputs": [],
   "source": [
    "import random\n",
    "\n",
    "col_1 = [1337 for x in range(1,1_000_000)]\n",
    "col_2 = [x+1 for x in range(1,1_000_000)]\n",
    "col_3 = [\"test\" + str(x) for x in range(1,1_000_000)]\n",
    "col_4 = [random.uniform(-1_000_000, 1_000_000) for x in range(1,1_000_000)]\n",
    "\n",
    "\n",
    "df = pd.DataFrame(data={\n",
    "    'col_1': col_1,\n",
    "    'col_2': col_2,\n",
    "    'col_3': col_3,\n",
    "    'col_4': col_4,\n",
    "    })"
   ]
  },
  {
   "cell_type": "code",
   "execution_count": null,
   "id": "086cb38a-b7fd-4a68-8dbc-6f4dab45f71f",
   "metadata": {},
   "outputs": [],
   "source": [
    "df"
   ]
  },
  {
   "cell_type": "code",
   "execution_count": null,
   "id": "05fc6936-d74c-4d0b-a6ea-1e8a2ced9d27",
   "metadata": {},
   "outputs": [],
   "source": [
    "df.to_parquet('no_compression.parquet',compression=None)\n",
    "df.to_parquet('snappy_compression.parquet',compression='SNAPPY')"
   ]
  },
  {
   "cell_type": "code",
   "execution_count": null,
   "id": "a8b114ed-af61-465e-a6b0-371021359b70",
   "metadata": {},
   "outputs": [],
   "source": [
    "!ls -lisah *_compression.parquet"
   ]
  }
 ],
 "metadata": {
  "kernelspec": {
   "display_name": "Python 3 (ipykernel)",
   "language": "python",
   "name": "python3"
  },
  "language_info": {
   "codemirror_mode": {
    "name": "ipython",
    "version": 3
   },
   "file_extension": ".py",
   "mimetype": "text/x-python",
   "name": "python",
   "nbconvert_exporter": "python",
   "pygments_lexer": "ipython3",
   "version": "3.8.10"
  }
 },
 "nbformat": 4,
 "nbformat_minor": 5
}
