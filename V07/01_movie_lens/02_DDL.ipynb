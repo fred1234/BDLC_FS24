{
 "cells": [
  {
   "cell_type": "markdown",
   "id": "24b28d1e-06fd-4c51-97a2-708f258b7bdf",
   "metadata": {},
   "source": [
    "# Data Definition Language - DDL\n",
    "Let us create a database `movielens`"
   ]
  },
  {
   "cell_type": "code",
   "execution_count": null,
   "id": "223925c7-9653-4583-91ad-c5e4b6642e72",
   "metadata": {},
   "outputs": [],
   "source": [
    "%load_ext sql\n",
    "%sql hive://hadoop@localhost:10000/"
   ]
  },
  {
   "cell_type": "markdown",
   "id": "2468c08d-72b3-4c76-a296-c419795c3e45",
   "metadata": {},
   "source": [
    "Note, to delete the entire database\n",
    "\n",
    "```sql\n",
    "%%sql\n",
    "DROP DATABASE IF EXISTS movielens CASCADE\n",
    "```"
   ]
  },
  {
   "cell_type": "code",
   "execution_count": null,
   "id": "c723404c-2523-499c-b119-9cc4c1db5fcf",
   "metadata": {},
   "outputs": [],
   "source": [
    "%%sql\n",
    "CREATE DATABASE IF NOT EXISTS movielens"
   ]
  },
  {
   "cell_type": "code",
   "execution_count": null,
   "id": "b204befe-fd59-4c60-868b-8de3b5072e99",
   "metadata": {},
   "outputs": [],
   "source": [
    "%sql SHOW DATABASES"
   ]
  },
  {
   "cell_type": "code",
   "execution_count": null,
   "id": "66496f11-4602-455b-bc46-f9468581bbc3",
   "metadata": {},
   "outputs": [],
   "source": [
    "%sql USE MOVIELENS"
   ]
  },
  {
   "cell_type": "markdown",
   "id": "185b6039-6a5d-4242-9f43-5639aa5e176e",
   "metadata": {},
   "source": [
    "## Defining the Tables and Loading the Data"
   ]
  },
  {
   "cell_type": "markdown",
   "id": "235b75b3-a34b-4b03-a174-fbc01547f822",
   "metadata": {},
   "source": [
    "### Movies"
   ]
  },
  {
   "cell_type": "markdown",
   "id": "3abe4f9b-20e6-452a-9d19-63814a50ba11",
   "metadata": {},
   "source": [
    "Note, to drop the table `movies`:\n",
    "```sql\n",
    "%SQL DROP TABLE movies\n",
    "```"
   ]
  },
  {
   "cell_type": "code",
   "execution_count": null,
   "id": "2c2e9691-9794-433c-8535-32670450e6cb",
   "metadata": {},
   "outputs": [],
   "source": [
    "%%sql\n",
    "CREATE TABLE IF NOT EXISTS movies (\n",
    "    movieId int,\n",
    "    title String,\n",
    "    year int,\n",
    "    genres ARRAY<STRING>\n",
    ")\n",
    "ROW FORMAT DELIMITED\n",
    "FIELDS TERMINATED BY '\\t'\n",
    "COLLECTION ITEMS TERMINATED BY \"|\"\n",
    "LINES TERMINATED BY '\\n'\n",
    "STORED AS TEXTFILE\n",
    "tblproperties (\"skip.header.line.count\"=\"1\")"
   ]
  },
  {
   "cell_type": "code",
   "execution_count": null,
   "id": "ac39d06e-89b2-45f1-a144-960c3562f6d4",
   "metadata": {},
   "outputs": [],
   "source": [
    "%%sql\n",
    "\n",
    "LOAD DATA LOCAL INPATH '/data/dataset/movielens/ml-25m/movies_cleaned.csv'\n",
    "OVERWRITE INTO TABLE movies"
   ]
  },
  {
   "cell_type": "markdown",
   "id": "3fbce73d-333b-4664-a840-e445076d2a1b",
   "metadata": {},
   "source": [
    "## Ratings"
   ]
  },
  {
   "cell_type": "code",
   "execution_count": null,
   "id": "89578cae-e547-4678-bfe3-1f728ef64086",
   "metadata": {},
   "outputs": [],
   "source": [
    "%%sql\n",
    "\n",
    "CREATE TABLE IF NOT EXISTS ratings (\n",
    "    userid INT, \n",
    "    movieid INT,\n",
    "    rating INT, \n",
    "    `timestamp` bigint\n",
    ")\n",
    "ROW FORMAT DELIMITED\n",
    "FIELDS TERMINATED BY ','\n",
    "LINES TERMINATED BY '\\n'\n",
    "STORED AS TEXTFILE\n",
    "tblproperties (\"skip.header.line.count\"=\"1\")"
   ]
  },
  {
   "cell_type": "code",
   "execution_count": null,
   "id": "4b7f4262-9f5f-43d5-b9e7-1a35722b6435",
   "metadata": {},
   "outputs": [],
   "source": [
    "%%sql\n",
    "\n",
    "LOAD DATA LOCAL INPATH '/data/dataset/movielens/ml-25m/ratings.csv'\n",
    "OVERWRITE INTO TABLE ratings"
   ]
  },
  {
   "cell_type": "markdown",
   "id": "7f62c5a1-1e25-46e9-b077-370d738f5cf3",
   "metadata": {},
   "source": [
    "## Creating a Joined Table"
   ]
  },
  {
   "cell_type": "code",
   "execution_count": null,
   "id": "ee0d693d-5945-4d66-9901-e0245bfa609d",
   "metadata": {},
   "outputs": [],
   "source": [
    "%%sql\n",
    "CREATE TABLE movie_rating\n",
    "AS SELECT \n",
    "    m.*, \n",
    "    r.num_rating, \n",
    "    r.first_quartile_rating,\n",
    "    r.median_rating,\n",
    "    r.third_quartile_rating,\n",
    "    r.avg_rating,\n",
    "    r.min_rating,\n",
    "    r.max_rating FROM (\n",
    "    SELECT\n",
    "        movieid,\n",
    "        count(rating) as num_rating,\n",
    "        percentile(rating, 0.25) as first_quartile_rating,\n",
    "        percentile(rating, 0.5) as median_rating,\n",
    "        percentile(rating, 0.75) as third_quartile_rating,\n",
    "        avg(rating) as avg_rating,\n",
    "        min(rating) as min_rating,\n",
    "        max(rating) as max_rating\n",
    "    FROM ratings\n",
    "    GROUP BY movieid\n",
    ") r\n",
    "RIGHT JOIN movies m ON m.movieid = r.movieid"
   ]
  },
  {
   "cell_type": "markdown",
   "id": "365ea321-8071-431c-8f24-62b1728f8c4d",
   "metadata": {},
   "source": [
    "## Simple Checks"
   ]
  },
  {
   "cell_type": "code",
   "execution_count": null,
   "id": "40f6bf80-aaaf-4e54-9ad2-57b66278ff38",
   "metadata": {},
   "outputs": [],
   "source": [
    "%sql select * from movies limit 2"
   ]
  },
  {
   "cell_type": "code",
   "execution_count": null,
   "id": "adc12b12-746e-422a-bea0-2634aee534ce",
   "metadata": {},
   "outputs": [],
   "source": [
    "%sql select * from ratings limit 2"
   ]
  },
  {
   "cell_type": "code",
   "execution_count": null,
   "id": "81b8cc0e-0587-482d-886c-12716b000459",
   "metadata": {},
   "outputs": [],
   "source": [
    "%sql select * from movie_rating limit 2"
   ]
  },
  {
   "cell_type": "code",
   "execution_count": null,
   "id": "12334314-b658-4ea9-886e-58b1dd41ac1f",
   "metadata": {},
   "outputs": [],
   "source": [
    "%sql select count(*) from movies"
   ]
  },
  {
   "cell_type": "code",
   "execution_count": null,
   "id": "3e4ba082-db11-4125-ac73-52521f7666ee",
   "metadata": {},
   "outputs": [],
   "source": [
    "%sql select count(*) from ratings"
   ]
  },
  {
   "cell_type": "code",
   "execution_count": null,
   "id": "18e30002-1211-4c58-bebd-91fae0474c0c",
   "metadata": {},
   "outputs": [],
   "source": [
    "%sql select count(*) from movie_rating"
   ]
  }
 ],
 "metadata": {
  "kernelspec": {
   "display_name": "Python 3 (ipykernel)",
   "language": "python",
   "name": "python3"
  },
  "language_info": {
   "codemirror_mode": {
    "name": "ipython",
    "version": 3
   },
   "file_extension": ".py",
   "mimetype": "text/x-python",
   "name": "python",
   "nbconvert_exporter": "python",
   "pygments_lexer": "ipython3",
   "version": "3.8.10"
  }
 },
 "nbformat": 4,
 "nbformat_minor": 5
}
