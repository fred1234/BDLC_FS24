{
 "cells": [
  {
   "cell_type": "markdown",
   "id": "433b6820-914d-444d-811b-33073c3caa88",
   "metadata": {},
   "source": [
    "# Movies\n",
    "In this exercise, we will use the bigger MovieLens dataset called [MovieLens 25M Dataset](https://grouplens.org/datasets/movielens/)"
   ]
  },
  {
   "cell_type": "markdown",
   "id": "ddfecc7c-68f8-4ac8-bc01-8c04eb2eed43",
   "metadata": {},
   "source": [
    "## Download the dataset\n",
    "\n",
    "You need to have `unzip` on your server. Test `unzip` in the shell."
   ]
  },
  {
   "cell_type": "code",
   "execution_count": null,
   "id": "73a665e9-da54-417d-9dab-15614aed0554",
   "metadata": {},
   "outputs": [],
   "source": [
    "!mkdir /data/dataset/movielens"
   ]
  },
  {
   "cell_type": "code",
   "execution_count": null,
   "id": "8ef11f43-9e47-42a0-9acf-3c9a174cb161",
   "metadata": {},
   "outputs": [],
   "source": [
    "!wget https://files.grouplens.org/datasets/movielens/ml-25m.zip -O /data/dataset/movielens/ml-25m.zip"
   ]
  },
  {
   "cell_type": "code",
   "execution_count": null,
   "id": "a593282e-ce9e-4bbc-b748-4c46410e9ffd",
   "metadata": {},
   "outputs": [],
   "source": [
    "!unzip /data/dataset/movielens/ml-25m.zip -d /data/dataset/movielens/"
   ]
  },
  {
   "cell_type": "code",
   "execution_count": null,
   "id": "900562a5-d43a-4df1-b284-c0d0909218eb",
   "metadata": {},
   "outputs": [],
   "source": [
    "!ls /data/dataset/movielens/ml-25m/"
   ]
  },
  {
   "cell_type": "markdown",
   "id": "5686922b",
   "metadata": {},
   "source": [
    "## Sneak Peak at the Data"
   ]
  },
  {
   "cell_type": "code",
   "execution_count": null,
   "id": "2b6b66ef",
   "metadata": {},
   "outputs": [],
   "source": [
    "#checking some ratings\n",
    "!head -n 3 /data/dataset/movielens/ml-25m/ratings.csv"
   ]
  },
  {
   "cell_type": "code",
   "execution_count": null,
   "id": "131fa524",
   "metadata": {},
   "outputs": [],
   "source": [
    "#checking some movies\n",
    "!head -n 3 /data/dataset/movielens/ml-25m/movies.csv"
   ]
  },
  {
   "cell_type": "markdown",
   "id": "dbb39c8d-e704-4a2c-a928-ac701c93888f",
   "metadata": {},
   "source": [
    "## Pre-Processing for Movies"
   ]
  },
  {
   "cell_type": "code",
   "execution_count": null,
   "id": "b4b95baa-5f3b-45d3-9c72-53bb0d3ddbea",
   "metadata": {},
   "outputs": [],
   "source": [
    "# load csv file\n",
    "import pandas as pd\n",
    "\n",
    "df = pd.read_csv(\"/data/dataset/movielens/ml-25m/movies.csv\")"
   ]
  },
  {
   "cell_type": "code",
   "execution_count": null,
   "id": "28a20e5a-d0f0-456a-8730-3a25928ae679",
   "metadata": {},
   "outputs": [],
   "source": [
    "# split genres into an array\n",
    "df['genres'] = df['genres'].str.split(pat=\"|\")"
   ]
  },
  {
   "cell_type": "code",
   "execution_count": null,
   "id": "1c853f50-a864-43a8-8177-32ea81b5b565",
   "metadata": {},
   "outputs": [],
   "source": [
    "# use empty string instead of '(no genres listed)'\n",
    "mask_no_genres = df['genres'].apply(lambda x: x == ['(no genres listed)'])\n",
    "df.loc[mask_no_genres, 'genres'] = ''"
   ]
  },
  {
   "cell_type": "code",
   "execution_count": null,
   "id": "5babe25a-d905-4c7d-b53b-857e1bd1f65b",
   "metadata": {},
   "outputs": [],
   "source": [
    "df['genres'] = df['genres'].str.join(\"|\")"
   ]
  },
  {
   "cell_type": "code",
   "execution_count": null,
   "id": "464e666d-27e4-475c-b212-f33a0ce56420",
   "metadata": {},
   "outputs": [],
   "source": [
    "# extract the year of the movie\n",
    "df['year'] = df['title'].str[-5:-1]"
   ]
  },
  {
   "cell_type": "code",
   "execution_count": null,
   "id": "fecfde0c-d410-45bd-a777-f5def5b9ab64",
   "metadata": {},
   "outputs": [],
   "source": [
    "# and remove the year from the title\n",
    "df['title'] = df['title'].str[:-7]"
   ]
  },
  {
   "cell_type": "code",
   "execution_count": null,
   "id": "9e8dcfe0-1f52-49bf-a044-37bf3fbb8db4",
   "metadata": {},
   "outputs": [],
   "source": [
    "# re-arrange the columns\n",
    "df = df[[\"movieId\", \"title\", \"year\", \"genres\"]]"
   ]
  },
  {
   "cell_type": "code",
   "execution_count": null,
   "id": "5919a0a3-3a85-4551-b441-581f519da630",
   "metadata": {},
   "outputs": [],
   "source": [
    "# save the results\n",
    "df.to_csv(\"/data/dataset/movielens/ml-25m/movies_cleaned.csv\", index=None, sep='\\t')"
   ]
  }
 ],
 "metadata": {
  "kernelspec": {
   "display_name": "Python 3 (ipykernel)",
   "language": "python",
   "name": "python3"
  },
  "language_info": {
   "codemirror_mode": {
    "name": "ipython",
    "version": 3
   },
   "file_extension": ".py",
   "mimetype": "text/x-python",
   "name": "python",
   "nbconvert_exporter": "python",
   "pygments_lexer": "ipython3",
   "version": "3.8.10"
  }
 },
 "nbformat": 4,
 "nbformat_minor": 5
}
