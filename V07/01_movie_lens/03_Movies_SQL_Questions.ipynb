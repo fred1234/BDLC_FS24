{
 "cells": [
  {
   "cell_type": "markdown",
   "id": "40c29e13-f234-478e-bce6-44b4de1223d5",
   "metadata": {},
   "source": [
    "# Questions for the MovieLens Dataset"
   ]
  },
  {
   "cell_type": "markdown",
   "id": "31e5b874-4155-4a15-a4fc-910596f81e79",
   "metadata": {},
   "source": [
    "## Setup SQL"
   ]
  },
  {
   "cell_type": "code",
   "execution_count": null,
   "id": "f3db5e6d-4dfb-4a89-8222-3de9dac4a163",
   "metadata": {},
   "outputs": [],
   "source": [
    "%load_ext sql\n",
    "%config SqlMagic.autocommit=False # avoiding the error: FAILED: IllegalStateException COMMIT is not supported yet.\n",
    "%sql hive://hadoop@localhost:10000/movielens"
   ]
  },
  {
   "cell_type": "markdown",
   "id": "c01bd10e-e868-4b6e-bebb-baa97db062b6",
   "metadata": {},
   "source": [
    "## Playground"
   ]
  },
  {
   "cell_type": "markdown",
   "id": "b2f227f3",
   "metadata": {},
   "source": [
    "### How many movies do we have?"
   ]
  },
  {
   "cell_type": "code",
   "execution_count": null,
   "id": "dc990d2f-0c06-46a8-b9bf-c91b899e6ce4",
   "metadata": {},
   "outputs": [],
   "source": [
    "%time %sql "
   ]
  },
  {
   "cell_type": "markdown",
   "id": "24369c8c",
   "metadata": {},
   "source": [
    "### How many ratings do we have?"
   ]
  },
  {
   "cell_type": "code",
   "execution_count": null,
   "id": "542837a7-5a03-43b2-8ef6-8b963cee315f",
   "metadata": {},
   "outputs": [],
   "source": [
    "%time %sql SELECT "
   ]
  },
  {
   "cell_type": "markdown",
   "id": "43bfdf54-5b62-4b4d-9015-65c8a7527572",
   "metadata": {},
   "source": [
    "### How many users do we have?"
   ]
  },
  {
   "cell_type": "code",
   "execution_count": null,
   "id": "24709c83-683e-4539-9207-b0322129ec8d",
   "metadata": {},
   "outputs": [],
   "source": [
    "%time %sql "
   ]
  },
  {
   "cell_type": "markdown",
   "id": "0fff4f5b",
   "metadata": {},
   "source": [
    "### Which movie(s) has (have) the most number of genres?"
   ]
  },
  {
   "cell_type": "code",
   "execution_count": null,
   "id": "362763b2-271c-4a2b-a493-9fa500020d2b",
   "metadata": {},
   "outputs": [],
   "source": [
    "%time %sql "
   ]
  },
  {
   "cell_type": "markdown",
   "id": "9a391b14",
   "metadata": {},
   "source": [
    "### Show all movies with terminator in the title"
   ]
  },
  {
   "cell_type": "code",
   "execution_count": null,
   "id": "a19a7563-1787-4e6c-8c24-b5e8ff6aba23",
   "metadata": {},
   "outputs": [],
   "source": [
    "%time %sql "
   ]
  },
  {
   "cell_type": "markdown",
   "id": "468ed7de",
   "metadata": {},
   "source": [
    "### How many movies do we have from 1984?"
   ]
  },
  {
   "cell_type": "code",
   "execution_count": null,
   "id": "8d7420de-d656-4fab-8009-8133466d6903",
   "metadata": {},
   "outputs": [],
   "source": [
    "%time %sql "
   ]
  },
  {
   "cell_type": "markdown",
   "id": "3e89135f",
   "metadata": {},
   "source": [
    "### Show the distribution of movies per year (where year >= 2000), sorted by year"
   ]
  },
  {
   "cell_type": "code",
   "execution_count": null,
   "id": "4b555659-6eb0-486e-8bab-4ee4c86016dc",
   "metadata": {},
   "outputs": [],
   "source": [
    "%time %sql "
   ]
  },
  {
   "cell_type": "markdown",
   "id": "8cfc6668",
   "metadata": {},
   "source": [
    "### Movies with the most number of ratings"
   ]
  },
  {
   "cell_type": "code",
   "execution_count": null,
   "id": "9ee5eda2-6a80-4f48-987d-e373f107dc29",
   "metadata": {},
   "outputs": [],
   "source": [
    "%time %sql "
   ]
  },
  {
   "cell_type": "markdown",
   "id": "d4afb5a2-d007-406f-8e9d-6ce71ee66c50",
   "metadata": {},
   "source": [
    "### Top ten best rated movies (by median) where we have at least 100 ratings for a movie"
   ]
  },
  {
   "cell_type": "code",
   "execution_count": null,
   "id": "a53fdfbc-be93-4e99-9203-cc53f84fbe9e",
   "metadata": {},
   "outputs": [],
   "source": [
    "%%time\n",
    "%%sql\n",
    "\n"
   ]
  },
  {
   "cell_type": "markdown",
   "id": "03a7a620-9390-4e74-9ae7-1c5ff9d1c8f7",
   "metadata": {},
   "source": [
    "### Top ten worst rated movies (by median) where we have at least 100 ratings for a movie"
   ]
  },
  {
   "cell_type": "code",
   "execution_count": null,
   "id": "d3ba567c-4b1c-4021-8052-acf2411aa77f",
   "metadata": {},
   "outputs": [],
   "source": [
    "%%time\n",
    "%%sql\n",
    "\n"
   ]
  },
  {
   "cell_type": "markdown",
   "id": "5380972b-3a13-4966-a4fe-2b5755308a26",
   "metadata": {},
   "source": [
    "### Which genres were used how often?"
   ]
  },
  {
   "cell_type": "code",
   "execution_count": null,
   "id": "77480446-576c-40ef-b235-4c9113822997",
   "metadata": {},
   "outputs": [],
   "source": [
    "%%time\n",
    "%%sql\n",
    "\n"
   ]
  },
  {
   "cell_type": "markdown",
   "id": "86b87168-b3d0-4d49-bf37-805d7bcc2f24",
   "metadata": {},
   "source": [
    "## Naïve Movie Recommender"
   ]
  },
  {
   "cell_type": "markdown",
   "id": "649ec0fb-0b10-449b-b842-5f24ca2543c9",
   "metadata": {},
   "source": [
    "### Step 1 - find two movies (the `movieid` you like a lot)\n",
    " \n",
    " --> 4011 == Snatch\n",
    " \n",
    " --> 1270 == Back to the Future"
   ]
  },
  {
   "cell_type": "code",
   "execution_count": null,
   "id": "9aa3260a-be2e-4f89-835a-bc47a1d406a7",
   "metadata": {},
   "outputs": [],
   "source": [
    "%time %sql "
   ]
  },
  {
   "cell_type": "code",
   "execution_count": null,
   "id": "8404d891-e9da-4b42-bde5-ea4eed3b9ff0",
   "metadata": {},
   "outputs": [],
   "source": [
    "%time %sql "
   ]
  },
  {
   "cell_type": "markdown",
   "id": "f079fdd8-cadd-4293-b433-f3eee0de4b3c",
   "metadata": {},
   "source": [
    "### Find people who liked these movies as well and save it into temp table"
   ]
  },
  {
   "cell_type": "code",
   "execution_count": null,
   "id": "8a01fd9c-3225-4964-bca0-ff5dae284549",
   "metadata": {},
   "outputs": [],
   "source": [
    "%%time\n",
    "%%sql\n",
    "\n",
    "CREATE TEMPORARY TABLE similar_people AS \n"
   ]
  },
  {
   "cell_type": "markdown",
   "id": "e73947bb-1e39-4135-9666-e5bd201592aa",
   "metadata": {},
   "source": [
    "### Basic checks for `similar_people`"
   ]
  },
  {
   "cell_type": "code",
   "execution_count": null,
   "id": "7bfd45b7-dccd-472c-8db2-01781a784bbe",
   "metadata": {},
   "outputs": [],
   "source": [
    "%time %sql select * from similar_people limit 2"
   ]
  },
  {
   "cell_type": "code",
   "execution_count": null,
   "id": "f39a9e25-7cef-4004-959c-506b7ba6d72e",
   "metadata": {},
   "outputs": [],
   "source": [
    "%time %sql select count(*) from similar_people"
   ]
  },
  {
   "cell_type": "markdown",
   "id": "ae5b5b10-9e7c-44c0-ad5f-73d8d79ce9aa",
   "metadata": {},
   "source": [
    "### Join `similar_people` with `movies` and `ratings` and get movie recommendations"
   ]
  },
  {
   "cell_type": "code",
   "execution_count": null,
   "id": "284919a3-704a-4452-b8c9-b8d5584ae19e",
   "metadata": {},
   "outputs": [],
   "source": [
    "%%time\n",
    "%%sql\n",
    "\n"
   ]
  }
 ],
 "metadata": {
  "kernelspec": {
   "display_name": "Python 3 (ipykernel)",
   "language": "python",
   "name": "python3"
  },
  "language_info": {
   "codemirror_mode": {
    "name": "ipython",
    "version": 3
   },
   "file_extension": ".py",
   "mimetype": "text/x-python",
   "name": "python",
   "nbconvert_exporter": "python",
   "pygments_lexer": "ipython3",
   "version": "3.8.10"
  }
 },
 "nbformat": 4,
 "nbformat_minor": 5
}
