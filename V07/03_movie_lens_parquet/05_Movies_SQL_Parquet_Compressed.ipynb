{
 "cells": [
  {
   "cell_type": "markdown",
   "id": "40c29e13-f234-478e-bce6-44b4de1223d5",
   "metadata": {},
   "source": [
    "# Questions for the MovieLens Parquet Dataset"
   ]
  },
  {
   "cell_type": "markdown",
   "id": "31e5b874-4155-4a15-a4fc-910596f81e79",
   "metadata": {
    "tags": []
   },
   "source": [
    "## Setup SQL"
   ]
  },
  {
   "cell_type": "code",
   "execution_count": 1,
   "id": "f3db5e6d-4dfb-4a89-8222-3de9dac4a163",
   "metadata": {},
   "outputs": [],
   "source": [
    "%load_ext sql\n",
    "%config SqlMagic.autocommit=False # avoiding the error: FAILED: IllegalStateException COMMIT is not supported yet.\n",
    "%sql hive://hadoop@localhost:10000/movielens_parquet_compressed"
   ]
  },
  {
   "cell_type": "markdown",
   "id": "c01bd10e-e868-4b6e-bebb-baa97db062b6",
   "metadata": {},
   "source": [
    "## Playground"
   ]
  },
  {
   "cell_type": "markdown",
   "id": "b2f227f3",
   "metadata": {},
   "source": [
    "### How many movies do we have?"
   ]
  },
  {
   "cell_type": "code",
   "execution_count": 2,
   "id": "dc990d2f-0c06-46a8-b9bf-c91b899e6ce4",
   "metadata": {},
   "outputs": [
    {
     "name": "stdout",
     "output_type": "stream",
     "text": [
      " * hive://hadoop@localhost:10000/movielens_parquet_compressed\n",
      "Done.\n",
      "CPU times: user 6.9 ms, sys: 153 µs, total: 7.05 ms\n",
      "Wall time: 125 ms\n"
     ]
    },
    {
     "data": {
      "text/html": [
       "<table>\n",
       "    <tr>\n",
       "        <th>_c0</th>\n",
       "    </tr>\n",
       "    <tr>\n",
       "        <td>62423</td>\n",
       "    </tr>\n",
       "</table>"
      ],
      "text/plain": [
       "[(62423,)]"
      ]
     },
     "execution_count": 2,
     "metadata": {},
     "output_type": "execute_result"
    }
   ],
   "source": [
    "%time %sql SELECT count(*) FROM movies"
   ]
  },
  {
   "cell_type": "markdown",
   "id": "24369c8c",
   "metadata": {},
   "source": [
    "### How many ratings do we have?"
   ]
  },
  {
   "cell_type": "code",
   "execution_count": 3,
   "id": "542837a7-5a03-43b2-8ef6-8b963cee315f",
   "metadata": {},
   "outputs": [
    {
     "name": "stdout",
     "output_type": "stream",
     "text": [
      " * hive://hadoop@localhost:10000/movielens_parquet_compressed\n",
      "Done.\n",
      "CPU times: user 1.17 ms, sys: 5.38 ms, total: 6.55 ms\n",
      "Wall time: 116 ms\n"
     ]
    },
    {
     "data": {
      "text/html": [
       "<table>\n",
       "    <tr>\n",
       "        <th>_c0</th>\n",
       "    </tr>\n",
       "    <tr>\n",
       "        <td>25000095</td>\n",
       "    </tr>\n",
       "</table>"
      ],
      "text/plain": [
       "[(25000095,)]"
      ]
     },
     "execution_count": 3,
     "metadata": {},
     "output_type": "execute_result"
    }
   ],
   "source": [
    "%time %sql SELECT count(*) FROM ratings"
   ]
  },
  {
   "cell_type": "markdown",
   "id": "43bfdf54-5b62-4b4d-9015-65c8a7527572",
   "metadata": {},
   "source": [
    "### How many users do we have?"
   ]
  },
  {
   "cell_type": "code",
   "execution_count": 4,
   "id": "24709c83-683e-4539-9207-b0322129ec8d",
   "metadata": {},
   "outputs": [
    {
     "name": "stdout",
     "output_type": "stream",
     "text": [
      " * hive://hadoop@localhost:10000/movielens_parquet_compressed\n",
      "Done.\n",
      "CPU times: user 8.24 ms, sys: 1.12 ms, total: 9.36 ms\n",
      "Wall time: 30.6 s\n"
     ]
    },
    {
     "data": {
      "text/html": [
       "<table>\n",
       "    <tr>\n",
       "        <th>_c0</th>\n",
       "    </tr>\n",
       "    <tr>\n",
       "        <td>162541</td>\n",
       "    </tr>\n",
       "</table>"
      ],
      "text/plain": [
       "[(162541,)]"
      ]
     },
     "execution_count": 4,
     "metadata": {},
     "output_type": "execute_result"
    }
   ],
   "source": [
    "%time %sql SELECT COUNT(DISTINCT(userid)) FROM ratings"
   ]
  },
  {
   "cell_type": "markdown",
   "id": "0fff4f5b",
   "metadata": {},
   "source": [
    "### Which movie(s) has (have) the most number of genres?"
   ]
  },
  {
   "cell_type": "code",
   "execution_count": 5,
   "id": "362763b2-271c-4a2b-a493-9fa500020d2b",
   "metadata": {},
   "outputs": [
    {
     "name": "stdout",
     "output_type": "stream",
     "text": [
      " * hive://hadoop@localhost:10000/movielens_parquet_compressed\n",
      "Done.\n",
      "CPU times: user 9.34 ms, sys: 1.38 ms, total: 10.7 ms\n",
      "Wall time: 27.4 s\n"
     ]
    },
    {
     "data": {
      "text/html": [
       "<table>\n",
       "    <tr>\n",
       "        <th>title</th>\n",
       "        <th>year</th>\n",
       "        <th>genres</th>\n",
       "        <th>num_gen</th>\n",
       "    </tr>\n",
       "    <tr>\n",
       "        <td>Rubber</td>\n",
       "        <td>2010</td>\n",
       "        <td>[&quot;Action&quot;,&quot;Adventure&quot;,&quot;Comedy&quot;,&quot;Crime&quot;,&quot;Drama&quot;,&quot;Film-Noir&quot;,&quot;Horror&quot;,&quot;Mystery&quot;,&quot;Thriller&quot;,&quot;Western&quot;]</td>\n",
       "        <td>10</td>\n",
       "    </tr>\n",
       "    <tr>\n",
       "        <td>Motorama</td>\n",
       "        <td>1991</td>\n",
       "        <td>[&quot;Adventure&quot;,&quot;Comedy&quot;,&quot;Crime&quot;,&quot;Drama&quot;,&quot;Fantasy&quot;,&quot;Mystery&quot;,&quot;Sci-Fi&quot;,&quot;Thriller&quot;]</td>\n",
       "        <td>8</td>\n",
       "    </tr>\n",
       "</table>"
      ],
      "text/plain": [
       "[('Rubber', 2010, '[\"Action\",\"Adventure\",\"Comedy\",\"Crime\",\"Drama\",\"Film-Noir\",\"Horror\",\"Mystery\",\"Thriller\",\"Western\"]', 10),\n",
       " ('Motorama', 1991, '[\"Adventure\",\"Comedy\",\"Crime\",\"Drama\",\"Fantasy\",\"Mystery\",\"Sci-Fi\",\"Thriller\"]', 8)]"
      ]
     },
     "execution_count": 5,
     "metadata": {},
     "output_type": "execute_result"
    }
   ],
   "source": [
    "%time %sql select title, year, genres, size(genres) as num_gen from movies order by num_gen desc limit 2"
   ]
  },
  {
   "cell_type": "markdown",
   "id": "9a391b14",
   "metadata": {},
   "source": [
    "### Show all movies with terminator in the title"
   ]
  },
  {
   "cell_type": "code",
   "execution_count": 6,
   "id": "a19a7563-1787-4e6c-8c24-b5e8ff6aba23",
   "metadata": {},
   "outputs": [
    {
     "name": "stdout",
     "output_type": "stream",
     "text": [
      " * hive://hadoop@localhost:10000/movielens_parquet_compressed\n",
      "Done.\n",
      "CPU times: user 8.31 ms, sys: 0 ns, total: 8.31 ms\n",
      "Wall time: 232 ms\n"
     ]
    },
    {
     "data": {
      "text/html": [
       "<table>\n",
       "    <tr>\n",
       "        <th>movieid</th>\n",
       "        <th>title</th>\n",
       "        <th>year</th>\n",
       "    </tr>\n",
       "    <tr>\n",
       "        <td>589</td>\n",
       "        <td>Terminator 2: Judgment Day</td>\n",
       "        <td>1991</td>\n",
       "    </tr>\n",
       "    <tr>\n",
       "        <td>1240</td>\n",
       "        <td>Terminator, The</td>\n",
       "        <td>1984</td>\n",
       "    </tr>\n",
       "    <tr>\n",
       "        <td>4934</td>\n",
       "        <td>Exterminator, The</td>\n",
       "        <td>1980</td>\n",
       "    </tr>\n",
       "    <tr>\n",
       "        <td>6537</td>\n",
       "        <td>Terminator 3: Rise of the Machines</td>\n",
       "        <td>2003</td>\n",
       "    </tr>\n",
       "    <tr>\n",
       "        <td>68791</td>\n",
       "        <td>Terminator Salvation</td>\n",
       "        <td>2009</td>\n",
       "    </tr>\n",
       "    <tr>\n",
       "        <td>102425</td>\n",
       "        <td>Lady Terminator (Pembalasan ratu pantai selatan)</td>\n",
       "        <td>1989</td>\n",
       "    </tr>\n",
       "    <tr>\n",
       "        <td>120799</td>\n",
       "        <td>Terminator Genisys</td>\n",
       "        <td>2015</td>\n",
       "    </tr>\n",
       "    <tr>\n",
       "        <td>126713</td>\n",
       "        <td>Exterminator 2</td>\n",
       "        <td>1984</td>\n",
       "    </tr>\n",
       "    <tr>\n",
       "        <td>136200</td>\n",
       "        <td>The Terminators</td>\n",
       "        <td>2009</td>\n",
       "    </tr>\n",
       "    <tr>\n",
       "        <td>139909</td>\n",
       "        <td>Russian Terminator</td>\n",
       "        <td>1989</td>\n",
       "    </tr>\n",
       "    <tr>\n",
       "        <td>145466</td>\n",
       "        <td>Exterminators of the Year 3000</td>\n",
       "        <td>1983</td>\n",
       "    </tr>\n",
       "    <tr>\n",
       "        <td>175137</td>\n",
       "        <td>The Making of &#x27;The Terminator&#x27;: A Retrospective</td>\n",
       "        <td>1992</td>\n",
       "    </tr>\n",
       "    <tr>\n",
       "        <td>177415</td>\n",
       "        <td>The Making of &#x27;Terminator 2: Judgment Day&#x27;</td>\n",
       "        <td>1991</td>\n",
       "    </tr>\n",
       "    <tr>\n",
       "        <td>179031</td>\n",
       "        <td>ExTerminators</td>\n",
       "        <td>2010</td>\n",
       "    </tr>\n",
       "    <tr>\n",
       "        <td>207830</td>\n",
       "        <td>Terminator: Dark Fate</td>\n",
       "        <td>2019</td>\n",
       "    </tr>\n",
       "</table>"
      ],
      "text/plain": [
       "[(589, 'Terminator 2: Judgment Day', 1991),\n",
       " (1240, 'Terminator, The', 1984),\n",
       " (4934, 'Exterminator, The', 1980),\n",
       " (6537, 'Terminator 3: Rise of the Machines', 2003),\n",
       " (68791, 'Terminator Salvation', 2009),\n",
       " (102425, 'Lady Terminator (Pembalasan ratu pantai selatan)', 1989),\n",
       " (120799, 'Terminator Genisys', 2015),\n",
       " (126713, 'Exterminator 2', 1984),\n",
       " (136200, 'The Terminators', 2009),\n",
       " (139909, 'Russian Terminator', 1989),\n",
       " (145466, 'Exterminators of the Year 3000', 1983),\n",
       " (175137, \"The Making of 'The Terminator': A Retrospective\", 1992),\n",
       " (177415, \"The Making of 'Terminator 2: Judgment Day'\", 1991),\n",
       " (179031, 'ExTerminators', 2010),\n",
       " (207830, 'Terminator: Dark Fate', 2019)]"
      ]
     },
     "execution_count": 6,
     "metadata": {},
     "output_type": "execute_result"
    }
   ],
   "source": [
    "%time %sql select movieid, title, year from movies where lower(title) like '%terminator%'"
   ]
  },
  {
   "cell_type": "markdown",
   "id": "468ed7de",
   "metadata": {},
   "source": [
    "### How many movies do we have from 1984?"
   ]
  },
  {
   "cell_type": "code",
   "execution_count": 7,
   "id": "8d7420de-d656-4fab-8009-8133466d6903",
   "metadata": {},
   "outputs": [
    {
     "name": "stdout",
     "output_type": "stream",
     "text": [
      " * hive://hadoop@localhost:10000/movielens_parquet_compressed\n",
      "Done.\n",
      "CPU times: user 10.5 ms, sys: 0 ns, total: 10.5 ms\n",
      "Wall time: 26.1 s\n"
     ]
    },
    {
     "data": {
      "text/html": [
       "<table>\n",
       "    <tr>\n",
       "        <th>_c0</th>\n",
       "    </tr>\n",
       "    <tr>\n",
       "        <td>470</td>\n",
       "    </tr>\n",
       "</table>"
      ],
      "text/plain": [
       "[(470,)]"
      ]
     },
     "execution_count": 7,
     "metadata": {},
     "output_type": "execute_result"
    }
   ],
   "source": [
    "%time %sql select count(*) from movies where year = 1984"
   ]
  },
  {
   "cell_type": "markdown",
   "id": "3e89135f",
   "metadata": {},
   "source": [
    "### Show the distribution of movies per year (where year >= 2000), sorted by year"
   ]
  },
  {
   "cell_type": "code",
   "execution_count": 8,
   "id": "4b555659-6eb0-486e-8bab-4ee4c86016dc",
   "metadata": {},
   "outputs": [
    {
     "name": "stdout",
     "output_type": "stream",
     "text": [
      " * hive://hadoop@localhost:10000/movielens_parquet_compressed\n",
      "Done.\n",
      "CPU times: user 12.9 ms, sys: 3.02 ms, total: 15.9 ms\n",
      "Wall time: 54.5 s\n"
     ]
    },
    {
     "data": {
      "text/html": [
       "<table>\n",
       "    <tr>\n",
       "        <th>year</th>\n",
       "        <th>_c1</th>\n",
       "    </tr>\n",
       "    <tr>\n",
       "        <td>2000</td>\n",
       "        <td>929</td>\n",
       "    </tr>\n",
       "    <tr>\n",
       "        <td>2001</td>\n",
       "        <td>969</td>\n",
       "    </tr>\n",
       "    <tr>\n",
       "        <td>2002</td>\n",
       "        <td>1023</td>\n",
       "    </tr>\n",
       "    <tr>\n",
       "        <td>2003</td>\n",
       "        <td>1028</td>\n",
       "    </tr>\n",
       "    <tr>\n",
       "        <td>2004</td>\n",
       "        <td>1169</td>\n",
       "    </tr>\n",
       "    <tr>\n",
       "        <td>2005</td>\n",
       "        <td>1250</td>\n",
       "    </tr>\n",
       "    <tr>\n",
       "        <td>2006</td>\n",
       "        <td>1440</td>\n",
       "    </tr>\n",
       "    <tr>\n",
       "        <td>2007</td>\n",
       "        <td>1494</td>\n",
       "    </tr>\n",
       "    <tr>\n",
       "        <td>2008</td>\n",
       "        <td>1625</td>\n",
       "    </tr>\n",
       "    <tr>\n",
       "        <td>2009</td>\n",
       "        <td>1721</td>\n",
       "    </tr>\n",
       "    <tr>\n",
       "        <td>2010</td>\n",
       "        <td>1673</td>\n",
       "    </tr>\n",
       "    <tr>\n",
       "        <td>2011</td>\n",
       "        <td>1821</td>\n",
       "    </tr>\n",
       "    <tr>\n",
       "        <td>2012</td>\n",
       "        <td>1959</td>\n",
       "    </tr>\n",
       "    <tr>\n",
       "        <td>2013</td>\n",
       "        <td>2164</td>\n",
       "    </tr>\n",
       "    <tr>\n",
       "        <td>2014</td>\n",
       "        <td>2403</td>\n",
       "    </tr>\n",
       "    <tr>\n",
       "        <td>2015</td>\n",
       "        <td>2513</td>\n",
       "    </tr>\n",
       "    <tr>\n",
       "        <td>2016</td>\n",
       "        <td>2488</td>\n",
       "    </tr>\n",
       "    <tr>\n",
       "        <td>2017</td>\n",
       "        <td>2374</td>\n",
       "    </tr>\n",
       "    <tr>\n",
       "        <td>2018</td>\n",
       "        <td>2034</td>\n",
       "    </tr>\n",
       "    <tr>\n",
       "        <td>2019</td>\n",
       "        <td>994</td>\n",
       "    </tr>\n",
       "</table>"
      ],
      "text/plain": [
       "[(2000, 929),\n",
       " (2001, 969),\n",
       " (2002, 1023),\n",
       " (2003, 1028),\n",
       " (2004, 1169),\n",
       " (2005, 1250),\n",
       " (2006, 1440),\n",
       " (2007, 1494),\n",
       " (2008, 1625),\n",
       " (2009, 1721),\n",
       " (2010, 1673),\n",
       " (2011, 1821),\n",
       " (2012, 1959),\n",
       " (2013, 2164),\n",
       " (2014, 2403),\n",
       " (2015, 2513),\n",
       " (2016, 2488),\n",
       " (2017, 2374),\n",
       " (2018, 2034),\n",
       " (2019, 994)]"
      ]
     },
     "execution_count": 8,
     "metadata": {},
     "output_type": "execute_result"
    }
   ],
   "source": [
    "%time %sql select year, count(title) from movies where year >= 2000 group by year order by year asc"
   ]
  },
  {
   "cell_type": "markdown",
   "id": "8cfc6668",
   "metadata": {},
   "source": [
    "### Movies with the most number of ratings"
   ]
  },
  {
   "cell_type": "code",
   "execution_count": 9,
   "id": "9ee5eda2-6a80-4f48-987d-e373f107dc29",
   "metadata": {},
   "outputs": [
    {
     "name": "stdout",
     "output_type": "stream",
     "text": [
      " * hive://hadoop@localhost:10000/movielens_parquet_compressed\n",
      "Done.\n",
      "CPU times: user 11.7 ms, sys: 2.6 ms, total: 14.3 ms\n",
      "Wall time: 28.5 s\n"
     ]
    },
    {
     "data": {
      "text/html": [
       "<table>\n",
       "    <tr>\n",
       "        <th>title</th>\n",
       "        <th>year</th>\n",
       "        <th>num_rating</th>\n",
       "        <th>median_rating</th>\n",
       "    </tr>\n",
       "    <tr>\n",
       "        <td>Forrest Gump</td>\n",
       "        <td>1994</td>\n",
       "        <td>81491</td>\n",
       "        <td>4.0</td>\n",
       "    </tr>\n",
       "    <tr>\n",
       "        <td>Shawshank Redemption, The</td>\n",
       "        <td>1994</td>\n",
       "        <td>81482</td>\n",
       "        <td>4.0</td>\n",
       "    </tr>\n",
       "    <tr>\n",
       "        <td>Pulp Fiction</td>\n",
       "        <td>1994</td>\n",
       "        <td>79672</td>\n",
       "        <td>4.0</td>\n",
       "    </tr>\n",
       "    <tr>\n",
       "        <td>Silence of the Lambs, The</td>\n",
       "        <td>1991</td>\n",
       "        <td>74127</td>\n",
       "        <td>4.0</td>\n",
       "    </tr>\n",
       "    <tr>\n",
       "        <td>Matrix, The</td>\n",
       "        <td>1999</td>\n",
       "        <td>72674</td>\n",
       "        <td>4.0</td>\n",
       "    </tr>\n",
       "    <tr>\n",
       "        <td>Star Wars: Episode IV - A New Hope</td>\n",
       "        <td>1977</td>\n",
       "        <td>68717</td>\n",
       "        <td>4.0</td>\n",
       "    </tr>\n",
       "    <tr>\n",
       "        <td>Jurassic Park</td>\n",
       "        <td>1993</td>\n",
       "        <td>64144</td>\n",
       "        <td>4.0</td>\n",
       "    </tr>\n",
       "    <tr>\n",
       "        <td>Schindler&#x27;s List</td>\n",
       "        <td>1993</td>\n",
       "        <td>60411</td>\n",
       "        <td>4.0</td>\n",
       "    </tr>\n",
       "    <tr>\n",
       "        <td>Braveheart</td>\n",
       "        <td>1995</td>\n",
       "        <td>59184</td>\n",
       "        <td>4.0</td>\n",
       "    </tr>\n",
       "    <tr>\n",
       "        <td>Fight Club</td>\n",
       "        <td>1999</td>\n",
       "        <td>58773</td>\n",
       "        <td>4.0</td>\n",
       "    </tr>\n",
       "</table>"
      ],
      "text/plain": [
       "[('Forrest Gump', 1994, 81491, 4.0),\n",
       " ('Shawshank Redemption, The', 1994, 81482, 4.0),\n",
       " ('Pulp Fiction', 1994, 79672, 4.0),\n",
       " ('Silence of the Lambs, The', 1991, 74127, 4.0),\n",
       " ('Matrix, The', 1999, 72674, 4.0),\n",
       " ('Star Wars: Episode IV - A New Hope', 1977, 68717, 4.0),\n",
       " ('Jurassic Park', 1993, 64144, 4.0),\n",
       " (\"Schindler's List\", 1993, 60411, 4.0),\n",
       " ('Braveheart', 1995, 59184, 4.0),\n",
       " ('Fight Club', 1999, 58773, 4.0)]"
      ]
     },
     "execution_count": 9,
     "metadata": {},
     "output_type": "execute_result"
    }
   ],
   "source": [
    "%time %sql select title, year, num_rating, median_rating from movie_rating order by num_rating DESC limit 10"
   ]
  },
  {
   "cell_type": "markdown",
   "id": "d4afb5a2-d007-406f-8e9d-6ce71ee66c50",
   "metadata": {},
   "source": [
    "### Top ten best rated movies (by median) where we have at least 100 ratings for a movie"
   ]
  },
  {
   "cell_type": "code",
   "execution_count": 10,
   "id": "a53fdfbc-be93-4e99-9203-cc53f84fbe9e",
   "metadata": {},
   "outputs": [
    {
     "name": "stdout",
     "output_type": "stream",
     "text": [
      " * hive://hadoop@localhost:10000/movielens_parquet_compressed\n",
      "Done.\n",
      "CPU times: user 27.9 ms, sys: 3.95 ms, total: 31.8 ms\n",
      "Wall time: 27.4 s\n"
     ]
    },
    {
     "data": {
      "text/html": [
       "<table>\n",
       "    <tr>\n",
       "        <th>title</th>\n",
       "        <th>year</th>\n",
       "        <th>num_rating</th>\n",
       "        <th>median_rating</th>\n",
       "    </tr>\n",
       "    <tr>\n",
       "        <td>Forrest Gump</td>\n",
       "        <td>1994</td>\n",
       "        <td>81491</td>\n",
       "        <td>4.0</td>\n",
       "    </tr>\n",
       "    <tr>\n",
       "        <td>Shawshank Redemption, The</td>\n",
       "        <td>1994</td>\n",
       "        <td>81482</td>\n",
       "        <td>4.0</td>\n",
       "    </tr>\n",
       "    <tr>\n",
       "        <td>Pulp Fiction</td>\n",
       "        <td>1994</td>\n",
       "        <td>79672</td>\n",
       "        <td>4.0</td>\n",
       "    </tr>\n",
       "    <tr>\n",
       "        <td>Silence of the Lambs, The</td>\n",
       "        <td>1991</td>\n",
       "        <td>74127</td>\n",
       "        <td>4.0</td>\n",
       "    </tr>\n",
       "    <tr>\n",
       "        <td>Matrix, The</td>\n",
       "        <td>1999</td>\n",
       "        <td>72674</td>\n",
       "        <td>4.0</td>\n",
       "    </tr>\n",
       "    <tr>\n",
       "        <td>Star Wars: Episode IV - A New Hope</td>\n",
       "        <td>1977</td>\n",
       "        <td>68717</td>\n",
       "        <td>4.0</td>\n",
       "    </tr>\n",
       "    <tr>\n",
       "        <td>Jurassic Park</td>\n",
       "        <td>1993</td>\n",
       "        <td>64144</td>\n",
       "        <td>4.0</td>\n",
       "    </tr>\n",
       "    <tr>\n",
       "        <td>Schindler&#x27;s List</td>\n",
       "        <td>1993</td>\n",
       "        <td>60411</td>\n",
       "        <td>4.0</td>\n",
       "    </tr>\n",
       "    <tr>\n",
       "        <td>Braveheart</td>\n",
       "        <td>1995</td>\n",
       "        <td>59184</td>\n",
       "        <td>4.0</td>\n",
       "    </tr>\n",
       "    <tr>\n",
       "        <td>Fight Club</td>\n",
       "        <td>1999</td>\n",
       "        <td>58773</td>\n",
       "        <td>4.0</td>\n",
       "    </tr>\n",
       "</table>"
      ],
      "text/plain": [
       "[('Forrest Gump', 1994, 81491, 4.0),\n",
       " ('Shawshank Redemption, The', 1994, 81482, 4.0),\n",
       " ('Pulp Fiction', 1994, 79672, 4.0),\n",
       " ('Silence of the Lambs, The', 1991, 74127, 4.0),\n",
       " ('Matrix, The', 1999, 72674, 4.0),\n",
       " ('Star Wars: Episode IV - A New Hope', 1977, 68717, 4.0),\n",
       " ('Jurassic Park', 1993, 64144, 4.0),\n",
       " (\"Schindler's List\", 1993, 60411, 4.0),\n",
       " ('Braveheart', 1995, 59184, 4.0),\n",
       " ('Fight Club', 1999, 58773, 4.0)]"
      ]
     },
     "execution_count": 10,
     "metadata": {},
     "output_type": "execute_result"
    }
   ],
   "source": [
    "%%time\n",
    "%%sql\n",
    "select title, year, num_rating, median_rating \n",
    "from movie_rating\n",
    "where num_rating > 100\n",
    "order by median_rating DESC, num_rating DESC\n",
    "limit 10"
   ]
  },
  {
   "cell_type": "markdown",
   "id": "03a7a620-9390-4e74-9ae7-1c5ff9d1c8f7",
   "metadata": {},
   "source": [
    "### Top ten worst rated movies (by median) where we have at least 100 ratings for a movie"
   ]
  },
  {
   "cell_type": "code",
   "execution_count": 11,
   "id": "d3ba567c-4b1c-4021-8052-acf2411aa77f",
   "metadata": {},
   "outputs": [
    {
     "name": "stdout",
     "output_type": "stream",
     "text": [
      " * hive://hadoop@localhost:10000/movielens_parquet_compressed\n",
      "Done.\n",
      "CPU times: user 12.8 ms, sys: 858 µs, total: 13.6 ms\n",
      "Wall time: 28.2 s\n"
     ]
    },
    {
     "data": {
      "text/html": [
       "<table>\n",
       "    <tr>\n",
       "        <th>title</th>\n",
       "        <th>year</th>\n",
       "        <th>num_rating</th>\n",
       "        <th>median_rating</th>\n",
       "    </tr>\n",
       "    <tr>\n",
       "        <td>Disaster Movie</td>\n",
       "        <td>2008</td>\n",
       "        <td>557</td>\n",
       "        <td>0.0</td>\n",
       "    </tr>\n",
       "    <tr>\n",
       "        <td>Pokemon 4 Ever (a.k.a. Pokémon 4: The Movie)</td>\n",
       "        <td>2002</td>\n",
       "        <td>494</td>\n",
       "        <td>0.0</td>\n",
       "    </tr>\n",
       "    <tr>\n",
       "        <td>From Justin to Kelly</td>\n",
       "        <td>2003</td>\n",
       "        <td>417</td>\n",
       "        <td>0.0</td>\n",
       "    </tr>\n",
       "    <tr>\n",
       "        <td>Pokémon Heroes</td>\n",
       "        <td>2003</td>\n",
       "        <td>355</td>\n",
       "        <td>0.0</td>\n",
       "    </tr>\n",
       "    <tr>\n",
       "        <td>Bratz: The Movie</td>\n",
       "        <td>2007</td>\n",
       "        <td>209</td>\n",
       "        <td>0.0</td>\n",
       "    </tr>\n",
       "    <tr>\n",
       "        <td>SuperBabies: Baby Geniuses 2</td>\n",
       "        <td>2004</td>\n",
       "        <td>208</td>\n",
       "        <td>0.0</td>\n",
       "    </tr>\n",
       "    <tr>\n",
       "        <td>Faces of Death 4</td>\n",
       "        <td>1990</td>\n",
       "        <td>169</td>\n",
       "        <td>0.0</td>\n",
       "    </tr>\n",
       "    <tr>\n",
       "        <td>Faces of Death 6</td>\n",
       "        <td>1996</td>\n",
       "        <td>162</td>\n",
       "        <td>0.0</td>\n",
       "    </tr>\n",
       "    <tr>\n",
       "        <td>Faces of Death 5</td>\n",
       "        <td>1996</td>\n",
       "        <td>147</td>\n",
       "        <td>0.0</td>\n",
       "    </tr>\n",
       "    <tr>\n",
       "        <td>Birdemic: Shock and Terror</td>\n",
       "        <td>2010</td>\n",
       "        <td>115</td>\n",
       "        <td>0.0</td>\n",
       "    </tr>\n",
       "</table>"
      ],
      "text/plain": [
       "[('Disaster Movie', 2008, 557, 0.0),\n",
       " ('Pokemon 4 Ever (a.k.a. Pokémon 4: The Movie)', 2002, 494, 0.0),\n",
       " ('From Justin to Kelly', 2003, 417, 0.0),\n",
       " ('Pokémon Heroes', 2003, 355, 0.0),\n",
       " ('Bratz: The Movie', 2007, 209, 0.0),\n",
       " ('SuperBabies: Baby Geniuses 2', 2004, 208, 0.0),\n",
       " ('Faces of Death 4', 1990, 169, 0.0),\n",
       " ('Faces of Death 6', 1996, 162, 0.0),\n",
       " ('Faces of Death 5', 1996, 147, 0.0),\n",
       " ('Birdemic: Shock and Terror', 2010, 115, 0.0)]"
      ]
     },
     "execution_count": 11,
     "metadata": {},
     "output_type": "execute_result"
    }
   ],
   "source": [
    "%%time\n",
    "%%sql\n",
    "select title, year, num_rating, median_rating \n",
    "from movie_rating\n",
    "where\n",
    "    num_rating is not null\n",
    "    and num_rating > 100\n",
    "order by median_rating ASC, num_rating DESC\n",
    "limit 10"
   ]
  },
  {
   "cell_type": "markdown",
   "id": "5380972b-3a13-4966-a4fe-2b5755308a26",
   "metadata": {},
   "source": [
    "### Which genres were used how often?"
   ]
  },
  {
   "cell_type": "code",
   "execution_count": 12,
   "id": "77480446-576c-40ef-b235-4c9113822997",
   "metadata": {},
   "outputs": [
    {
     "name": "stdout",
     "output_type": "stream",
     "text": [
      " * hive://hadoop@localhost:10000/movielens_parquet_compressed\n",
      "Done.\n",
      "CPU times: user 14.4 ms, sys: 2.46 ms, total: 16.9 ms\n",
      "Wall time: 54.5 s\n"
     ]
    },
    {
     "data": {
      "text/html": [
       "<table>\n",
       "    <tr>\n",
       "        <th>genre</th>\n",
       "        <th>cnt</th>\n",
       "    </tr>\n",
       "    <tr>\n",
       "        <td>Drama</td>\n",
       "        <td>25606</td>\n",
       "    </tr>\n",
       "    <tr>\n",
       "        <td>Comedy</td>\n",
       "        <td>16870</td>\n",
       "    </tr>\n",
       "    <tr>\n",
       "        <td>Thriller</td>\n",
       "        <td>8654</td>\n",
       "    </tr>\n",
       "    <tr>\n",
       "        <td>Romance</td>\n",
       "        <td>7719</td>\n",
       "    </tr>\n",
       "    <tr>\n",
       "        <td>Action</td>\n",
       "        <td>7348</td>\n",
       "    </tr>\n",
       "    <tr>\n",
       "        <td>Horror</td>\n",
       "        <td>5989</td>\n",
       "    </tr>\n",
       "    <tr>\n",
       "        <td>Documentary</td>\n",
       "        <td>5605</td>\n",
       "    </tr>\n",
       "    <tr>\n",
       "        <td>Crime</td>\n",
       "        <td>5319</td>\n",
       "    </tr>\n",
       "    <tr>\n",
       "        <td></td>\n",
       "        <td>5062</td>\n",
       "    </tr>\n",
       "    <tr>\n",
       "        <td>Adventure</td>\n",
       "        <td>4145</td>\n",
       "    </tr>\n",
       "    <tr>\n",
       "        <td>Sci-Fi</td>\n",
       "        <td>3595</td>\n",
       "    </tr>\n",
       "    <tr>\n",
       "        <td>Children</td>\n",
       "        <td>2935</td>\n",
       "    </tr>\n",
       "    <tr>\n",
       "        <td>Animation</td>\n",
       "        <td>2929</td>\n",
       "    </tr>\n",
       "    <tr>\n",
       "        <td>Mystery</td>\n",
       "        <td>2925</td>\n",
       "    </tr>\n",
       "    <tr>\n",
       "        <td>Fantasy</td>\n",
       "        <td>2731</td>\n",
       "    </tr>\n",
       "    <tr>\n",
       "        <td>War</td>\n",
       "        <td>1874</td>\n",
       "    </tr>\n",
       "    <tr>\n",
       "        <td>Western</td>\n",
       "        <td>1399</td>\n",
       "    </tr>\n",
       "    <tr>\n",
       "        <td>Musical</td>\n",
       "        <td>1054</td>\n",
       "    </tr>\n",
       "    <tr>\n",
       "        <td>Film-Noir</td>\n",
       "        <td>353</td>\n",
       "    </tr>\n",
       "    <tr>\n",
       "        <td>IMAX</td>\n",
       "        <td>195</td>\n",
       "    </tr>\n",
       "</table>"
      ],
      "text/plain": [
       "[('Drama', 25606),\n",
       " ('Comedy', 16870),\n",
       " ('Thriller', 8654),\n",
       " ('Romance', 7719),\n",
       " ('Action', 7348),\n",
       " ('Horror', 5989),\n",
       " ('Documentary', 5605),\n",
       " ('Crime', 5319),\n",
       " ('', 5062),\n",
       " ('Adventure', 4145),\n",
       " ('Sci-Fi', 3595),\n",
       " ('Children', 2935),\n",
       " ('Animation', 2929),\n",
       " ('Mystery', 2925),\n",
       " ('Fantasy', 2731),\n",
       " ('War', 1874),\n",
       " ('Western', 1399),\n",
       " ('Musical', 1054),\n",
       " ('Film-Noir', 353),\n",
       " ('IMAX', 195)]"
      ]
     },
     "execution_count": 12,
     "metadata": {},
     "output_type": "execute_result"
    }
   ],
   "source": [
    "%%time\n",
    "%%sql\n",
    "\n",
    "SELECT genre, COUNT(genre) AS cnt FROM (\n",
    "    SELECT EXPLODE(genres) genre FROM movies\n",
    ")t\n",
    "GROUP BY genre\n",
    "ORDER BY cnt DESC"
   ]
  },
  {
   "cell_type": "markdown",
   "id": "86b87168-b3d0-4d49-bf37-805d7bcc2f24",
   "metadata": {},
   "source": [
    "## Naïve Movie Recommender"
   ]
  },
  {
   "cell_type": "markdown",
   "id": "649ec0fb-0b10-449b-b842-5f24ca2543c9",
   "metadata": {},
   "source": [
    "### Step 1 - find two movies (the `movieid` you like a lot)\n",
    " \n",
    " --> 4011 == Snatch\n",
    " \n",
    " --> 1270 == Back to the Future"
   ]
  },
  {
   "cell_type": "code",
   "execution_count": 13,
   "id": "9aa3260a-be2e-4f89-835a-bc47a1d406a7",
   "metadata": {},
   "outputs": [
    {
     "name": "stdout",
     "output_type": "stream",
     "text": [
      " * hive://hadoop@localhost:10000/movielens_parquet_compressed\n",
      "Done.\n",
      "CPU times: user 9.52 ms, sys: 1.28 ms, total: 10.8 ms\n",
      "Wall time: 247 ms\n"
     ]
    },
    {
     "data": {
      "text/html": [
       "<table>\n",
       "    <tr>\n",
       "        <th>movieid</th>\n",
       "        <th>title</th>\n",
       "        <th>year</th>\n",
       "    </tr>\n",
       "    <tr>\n",
       "        <td>426</td>\n",
       "        <td>Body Snatchers</td>\n",
       "        <td>1993</td>\n",
       "    </tr>\n",
       "    <tr>\n",
       "        <td>1337</td>\n",
       "        <td>Body Snatcher, The</td>\n",
       "        <td>1945</td>\n",
       "    </tr>\n",
       "    <tr>\n",
       "        <td>2664</td>\n",
       "        <td>Invasion of the Body Snatchers</td>\n",
       "        <td>1956</td>\n",
       "    </tr>\n",
       "    <tr>\n",
       "        <td>4011</td>\n",
       "        <td>Snatch</td>\n",
       "        <td>2000</td>\n",
       "    </tr>\n",
       "    <tr>\n",
       "        <td>7001</td>\n",
       "        <td>Invasion of the Body Snatchers</td>\n",
       "        <td>1978</td>\n",
       "    </tr>\n",
       "    <tr>\n",
       "        <td>97031</td>\n",
       "        <td>Goke, Body Snatcher from Hell (Kyuketsuki Gokemidoro)</td>\n",
       "        <td>1968</td>\n",
       "    </tr>\n",
       "    <tr>\n",
       "        <td>102388</td>\n",
       "        <td>Candy Snatchers, The</td>\n",
       "        <td>1973</td>\n",
       "    </tr>\n",
       "    <tr>\n",
       "        <td>122037</td>\n",
       "        <td>The Bone Snatcher</td>\n",
       "        <td>2003</td>\n",
       "    </tr>\n",
       "    <tr>\n",
       "        <td>130656</td>\n",
       "        <td>The 21 Carat Snatch</td>\n",
       "        <td>1971</td>\n",
       "    </tr>\n",
       "    <tr>\n",
       "        <td>147754</td>\n",
       "        <td>The Mind Snatchers</td>\n",
       "        <td>1972</td>\n",
       "    </tr>\n",
       "    <tr>\n",
       "        <td>165201</td>\n",
       "        <td>Snatched</td>\n",
       "        <td>1973</td>\n",
       "    </tr>\n",
       "    <tr>\n",
       "        <td>170817</td>\n",
       "        <td>Snatched</td>\n",
       "        <td>2017</td>\n",
       "    </tr>\n",
       "    <tr>\n",
       "        <td>188609</td>\n",
       "        <td>The Snatch Thief</td>\n",
       "        <td>2018</td>\n",
       "    </tr>\n",
       "    <tr>\n",
       "        <td>196997</td>\n",
       "        <td>Black Mirror: Bandersnatch</td>\n",
       "        <td>2018</td>\n",
       "    </tr>\n",
       "</table>"
      ],
      "text/plain": [
       "[(426, 'Body Snatchers', 1993),\n",
       " (1337, 'Body Snatcher, The', 1945),\n",
       " (2664, 'Invasion of the Body Snatchers', 1956),\n",
       " (4011, 'Snatch', 2000),\n",
       " (7001, 'Invasion of the Body Snatchers', 1978),\n",
       " (97031, 'Goke, Body Snatcher from Hell (Kyuketsuki Gokemidoro)', 1968),\n",
       " (102388, 'Candy Snatchers, The', 1973),\n",
       " (122037, 'The Bone Snatcher', 2003),\n",
       " (130656, 'The 21 Carat Snatch', 1971),\n",
       " (147754, 'The Mind Snatchers', 1972),\n",
       " (165201, 'Snatched', 1973),\n",
       " (170817, 'Snatched', 2017),\n",
       " (188609, 'The Snatch Thief', 2018),\n",
       " (196997, 'Black Mirror: Bandersnatch', 2018)]"
      ]
     },
     "execution_count": 13,
     "metadata": {},
     "output_type": "execute_result"
    }
   ],
   "source": [
    "%time %sql select movieid, title, year from movies where lower(title) like '%snatch%'"
   ]
  },
  {
   "cell_type": "code",
   "execution_count": 14,
   "id": "8404d891-e9da-4b42-bde5-ea4eed3b9ff0",
   "metadata": {},
   "outputs": [
    {
     "name": "stdout",
     "output_type": "stream",
     "text": [
      " * hive://hadoop@localhost:10000/movielens_parquet_compressed\n",
      "Done.\n",
      "CPU times: user 9.57 ms, sys: 0 ns, total: 9.57 ms\n",
      "Wall time: 231 ms\n"
     ]
    },
    {
     "data": {
      "text/html": [
       "<table>\n",
       "    <tr>\n",
       "        <th>movieid</th>\n",
       "        <th>title</th>\n",
       "        <th>year</th>\n",
       "    </tr>\n",
       "    <tr>\n",
       "        <td>1270</td>\n",
       "        <td>Back to the Future</td>\n",
       "        <td>1985</td>\n",
       "    </tr>\n",
       "    <tr>\n",
       "        <td>1863</td>\n",
       "        <td>Major League: Back to the Minors</td>\n",
       "        <td>1998</td>\n",
       "    </tr>\n",
       "    <tr>\n",
       "        <td>2011</td>\n",
       "        <td>Back to the Future Part II</td>\n",
       "        <td>1989</td>\n",
       "    </tr>\n",
       "    <tr>\n",
       "        <td>2012</td>\n",
       "        <td>Back to the Future Part III</td>\n",
       "        <td>1990</td>\n",
       "    </tr>\n",
       "    <tr>\n",
       "        <td>4081</td>\n",
       "        <td>Back to the Beach</td>\n",
       "        <td>1987</td>\n",
       "    </tr>\n",
       "    <tr>\n",
       "        <td>4445</td>\n",
       "        <td>T-Rex: Back to the Cretaceous</td>\n",
       "        <td>1998</td>\n",
       "    </tr>\n",
       "    <tr>\n",
       "        <td>5936</td>\n",
       "        <td>Come Back to the Five and Dime, Jimmy Dean, Jimmy Dean</td>\n",
       "        <td>1982</td>\n",
       "    </tr>\n",
       "    <tr>\n",
       "        <td>102666</td>\n",
       "        <td>Ivan Vasilievich: Back to the Future (Ivan Vasilievich menyaet professiyu)</td>\n",
       "        <td>1973</td>\n",
       "    </tr>\n",
       "    <tr>\n",
       "        <td>106549</td>\n",
       "        <td>Back to the USSR - takaisin Ryssiin</td>\n",
       "        <td>1992</td>\n",
       "    </tr>\n",
       "    <tr>\n",
       "        <td>127845</td>\n",
       "        <td>Back to the Garden, Flower Power Comes Full Circle</td>\n",
       "        <td>2009</td>\n",
       "    </tr>\n",
       "    <tr>\n",
       "        <td>136640</td>\n",
       "        <td>Back to the Jurassic</td>\n",
       "        <td>2015</td>\n",
       "    </tr>\n",
       "    <tr>\n",
       "        <td>139367</td>\n",
       "        <td>My Trip Back to the Dark Side</td>\n",
       "        <td>2014</td>\n",
       "    </tr>\n",
       "    <tr>\n",
       "        <td>139459</td>\n",
       "        <td>Back to the Beyond</td>\n",
       "        <td>2011</td>\n",
       "    </tr>\n",
       "    <tr>\n",
       "        <td>154917</td>\n",
       "        <td>Back To The Sea</td>\n",
       "        <td>2012</td>\n",
       "    </tr>\n",
       "    <tr>\n",
       "        <td>169574</td>\n",
       "        <td>Lisa Lampanelli: Back to the Drawing Board</td>\n",
       "        <td>2015</td>\n",
       "    </tr>\n",
       "    <tr>\n",
       "        <td>170865</td>\n",
       "        <td>Back to the Well: &#x27;Clerks II&#x27;</td>\n",
       "        <td>2006</td>\n",
       "    </tr>\n",
       "</table>"
      ],
      "text/plain": [
       "[(1270, 'Back to the Future', 1985),\n",
       " (1863, 'Major League: Back to the Minors', 1998),\n",
       " (2011, 'Back to the Future Part II', 1989),\n",
       " (2012, 'Back to the Future Part III', 1990),\n",
       " (4081, 'Back to the Beach', 1987),\n",
       " (4445, 'T-Rex: Back to the Cretaceous', 1998),\n",
       " (5936, 'Come Back to the Five and Dime, Jimmy Dean, Jimmy Dean', 1982),\n",
       " (102666, 'Ivan Vasilievich: Back to the Future (Ivan Vasilievich menyaet professiyu)', 1973),\n",
       " (106549, 'Back to the USSR - takaisin Ryssiin', 1992),\n",
       " (127845, 'Back to the Garden, Flower Power Comes Full Circle', 2009),\n",
       " (136640, 'Back to the Jurassic', 2015),\n",
       " (139367, 'My Trip Back to the Dark Side', 2014),\n",
       " (139459, 'Back to the Beyond', 2011),\n",
       " (154917, 'Back To The Sea', 2012),\n",
       " (169574, 'Lisa Lampanelli: Back to the Drawing Board', 2015),\n",
       " (170865, \"Back to the Well: 'Clerks II'\", 2006)]"
      ]
     },
     "execution_count": 14,
     "metadata": {},
     "output_type": "execute_result"
    }
   ],
   "source": [
    "%time %sql select movieid, title, year from movies where lower(title) like '%back to the%'\n"
   ]
  },
  {
   "cell_type": "markdown",
   "id": "f079fdd8-cadd-4293-b433-f3eee0de4b3c",
   "metadata": {},
   "source": [
    "### Find people who liked these movies as well and save it into temp table"
   ]
  },
  {
   "cell_type": "code",
   "execution_count": 15,
   "id": "8a01fd9c-3225-4964-bca0-ff5dae284549",
   "metadata": {},
   "outputs": [
    {
     "name": "stdout",
     "output_type": "stream",
     "text": [
      " * hive://hadoop@localhost:10000/movielens_parquet_compressed\n",
      "Done.\n",
      "CPU times: user 7.76 ms, sys: 3.01 ms, total: 10.8 ms\n",
      "Wall time: 30.8 s\n"
     ]
    },
    {
     "data": {
      "text/plain": [
       "[]"
      ]
     },
     "execution_count": 15,
     "metadata": {},
     "output_type": "execute_result"
    }
   ],
   "source": [
    "%%time\n",
    "%%sql\n",
    "CREATE TEMPORARY TABLE similar_people as \n",
    "select distinct(userid) userid\n",
    "from ratings \n",
    "where (movieid = 4011 or movieid = 1270) and rating = 5"
   ]
  },
  {
   "cell_type": "markdown",
   "id": "e73947bb-1e39-4135-9666-e5bd201592aa",
   "metadata": {},
   "source": [
    "### Basic checks for `similar_people`"
   ]
  },
  {
   "cell_type": "code",
   "execution_count": 16,
   "id": "7bfd45b7-dccd-472c-8db2-01781a784bbe",
   "metadata": {},
   "outputs": [
    {
     "name": "stdout",
     "output_type": "stream",
     "text": [
      " * hive://hadoop@localhost:10000/movielens_parquet_compressed\n",
      "Done.\n",
      "CPU times: user 4.24 ms, sys: 3.32 ms, total: 7.57 ms\n",
      "Wall time: 126 ms\n"
     ]
    },
    {
     "data": {
      "text/html": [
       "<table>\n",
       "    <tr>\n",
       "        <th>userid</th>\n",
       "    </tr>\n",
       "    <tr>\n",
       "        <td>13</td>\n",
       "    </tr>\n",
       "    <tr>\n",
       "        <td>14</td>\n",
       "    </tr>\n",
       "</table>"
      ],
      "text/plain": [
       "[(13,), (14,)]"
      ]
     },
     "execution_count": 16,
     "metadata": {},
     "output_type": "execute_result"
    }
   ],
   "source": [
    "%time %sql select * from similar_people limit 2"
   ]
  },
  {
   "cell_type": "code",
   "execution_count": 17,
   "id": "f39a9e25-7cef-4004-959c-506b7ba6d72e",
   "metadata": {},
   "outputs": [
    {
     "name": "stdout",
     "output_type": "stream",
     "text": [
      " * hive://hadoop@localhost:10000/movielens_parquet_compressed\n",
      "Done.\n",
      "CPU times: user 8.16 ms, sys: 110 µs, total: 8.27 ms\n",
      "Wall time: 102 ms\n"
     ]
    },
    {
     "data": {
      "text/html": [
       "<table>\n",
       "    <tr>\n",
       "        <th>_c0</th>\n",
       "    </tr>\n",
       "    <tr>\n",
       "        <td>16455</td>\n",
       "    </tr>\n",
       "</table>"
      ],
      "text/plain": [
       "[(16455,)]"
      ]
     },
     "execution_count": 17,
     "metadata": {},
     "output_type": "execute_result"
    }
   ],
   "source": [
    "%time %sql select count(*) from similar_people"
   ]
  },
  {
   "cell_type": "markdown",
   "id": "ae5b5b10-9e7c-44c0-ad5f-73d8d79ce9aa",
   "metadata": {},
   "source": [
    "### Join `similar_people` with `movies` and `ratings` and get movie recommendations"
   ]
  },
  {
   "cell_type": "code",
   "execution_count": 18,
   "id": "284919a3-704a-4452-b8c9-b8d5584ae19e",
   "metadata": {},
   "outputs": [
    {
     "name": "stdout",
     "output_type": "stream",
     "text": [
      " * hive://hadoop@localhost:10000/movielens_parquet_compressed\n",
      "Done.\n",
      "CPU times: user 11.3 ms, sys: 5.8 ms, total: 17.1 ms\n",
      "Wall time: 1min 2s\n"
     ]
    },
    {
     "data": {
      "text/html": [
       "<table>\n",
       "    <tr>\n",
       "        <th>title</th>\n",
       "        <th>five_star_count</th>\n",
       "    </tr>\n",
       "    <tr>\n",
       "        <td>Back to the Future</td>\n",
       "        <td>11602</td>\n",
       "    </tr>\n",
       "    <tr>\n",
       "        <td>Shawshank Redemption, The</td>\n",
       "        <td>6662</td>\n",
       "    </tr>\n",
       "    <tr>\n",
       "        <td>Matrix, The</td>\n",
       "        <td>6545</td>\n",
       "    </tr>\n",
       "    <tr>\n",
       "        <td>Star Wars: Episode IV - A New Hope</td>\n",
       "        <td>6263</td>\n",
       "    </tr>\n",
       "    <tr>\n",
       "        <td>Pulp Fiction</td>\n",
       "        <td>6228</td>\n",
       "    </tr>\n",
       "    <tr>\n",
       "        <td>Star Wars: Episode V - The Empire Strikes Back</td>\n",
       "        <td>6062</td>\n",
       "    </tr>\n",
       "    <tr>\n",
       "        <td>Snatch</td>\n",
       "        <td>5836</td>\n",
       "    </tr>\n",
       "    <tr>\n",
       "        <td>Raiders of the Lost Ark (Indiana Jones and the Raiders of the Lost Ark)</td>\n",
       "        <td>5554</td>\n",
       "    </tr>\n",
       "    <tr>\n",
       "        <td>Fight Club</td>\n",
       "        <td>5535</td>\n",
       "    </tr>\n",
       "    <tr>\n",
       "        <td>Forrest Gump</td>\n",
       "        <td>5137</td>\n",
       "    </tr>\n",
       "    <tr>\n",
       "        <td>Godfather, The</td>\n",
       "        <td>4615</td>\n",
       "    </tr>\n",
       "    <tr>\n",
       "        <td>Star Wars: Episode VI - Return of the Jedi</td>\n",
       "        <td>4559</td>\n",
       "    </tr>\n",
       "    <tr>\n",
       "        <td>Silence of the Lambs, The</td>\n",
       "        <td>4203</td>\n",
       "    </tr>\n",
       "    <tr>\n",
       "        <td>Lord of the Rings: The Fellowship of the Ring, The</td>\n",
       "        <td>4185</td>\n",
       "    </tr>\n",
       "    <tr>\n",
       "        <td>Usual Suspects, The</td>\n",
       "        <td>4172</td>\n",
       "    </tr>\n",
       "    <tr>\n",
       "        <td>Terminator 2: Judgment Day</td>\n",
       "        <td>4034</td>\n",
       "    </tr>\n",
       "    <tr>\n",
       "        <td>Schindler&#x27;s List</td>\n",
       "        <td>3777</td>\n",
       "    </tr>\n",
       "    <tr>\n",
       "        <td>Indiana Jones and the Last Crusade</td>\n",
       "        <td>3643</td>\n",
       "    </tr>\n",
       "    <tr>\n",
       "        <td>Lord of the Rings: The Return of the King, The</td>\n",
       "        <td>3602</td>\n",
       "    </tr>\n",
       "    <tr>\n",
       "        <td>Lord of the Rings: The Two Towers, The</td>\n",
       "        <td>3544</td>\n",
       "    </tr>\n",
       "</table>"
      ],
      "text/plain": [
       "[('Back to the Future', 11602),\n",
       " ('Shawshank Redemption, The', 6662),\n",
       " ('Matrix, The', 6545),\n",
       " ('Star Wars: Episode IV - A New Hope', 6263),\n",
       " ('Pulp Fiction', 6228),\n",
       " ('Star Wars: Episode V - The Empire Strikes Back', 6062),\n",
       " ('Snatch', 5836),\n",
       " ('Raiders of the Lost Ark (Indiana Jones and the Raiders of the Lost Ark)', 5554),\n",
       " ('Fight Club', 5535),\n",
       " ('Forrest Gump', 5137),\n",
       " ('Godfather, The', 4615),\n",
       " ('Star Wars: Episode VI - Return of the Jedi', 4559),\n",
       " ('Silence of the Lambs, The', 4203),\n",
       " ('Lord of the Rings: The Fellowship of the Ring, The', 4185),\n",
       " ('Usual Suspects, The', 4172),\n",
       " ('Terminator 2: Judgment Day', 4034),\n",
       " (\"Schindler's List\", 3777),\n",
       " ('Indiana Jones and the Last Crusade', 3643),\n",
       " ('Lord of the Rings: The Return of the King, The', 3602),\n",
       " ('Lord of the Rings: The Two Towers, The', 3544)]"
      ]
     },
     "execution_count": 18,
     "metadata": {},
     "output_type": "execute_result"
    }
   ],
   "source": [
    "%%time\n",
    "%%sql\n",
    "SELECT m.title, count(*) as five_star_count from ratings r\n",
    "INNER JOIN similar_people sp ON r.userid = sp.userid\n",
    "INNER JOIN movies m ON r.movieid = m.movieid\n",
    "WHERE rating = 5\n",
    "GROUP BY m.title\n",
    "ORDER BY five_star_count DESC\n",
    "LIMIT 20"
   ]
  }
 ],
 "metadata": {
  "kernelspec": {
   "display_name": "Python 3 (ipykernel)",
   "language": "python",
   "name": "python3"
  },
  "language_info": {
   "codemirror_mode": {
    "name": "ipython",
    "version": 3
   },
   "file_extension": ".py",
   "mimetype": "text/x-python",
   "name": "python",
   "nbconvert_exporter": "python",
   "pygments_lexer": "ipython3",
   "version": "3.8.10"
  }
 },
 "nbformat": 4,
 "nbformat_minor": 5
}
