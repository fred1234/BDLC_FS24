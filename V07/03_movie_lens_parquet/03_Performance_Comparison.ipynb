{
 "cells": [
  {
   "cell_type": "markdown",
   "id": "21bc0d81-1e86-462b-a857-b98d835947cd",
   "metadata": {},
   "source": [
    "## Setup"
   ]
  },
  {
   "cell_type": "code",
   "execution_count": null,
   "id": "5fa85c30-cf9b-4644-83a4-f3caae9f1a02",
   "metadata": {},
   "outputs": [],
   "source": [
    "%load_ext sql\n",
    "%config SqlMagic.autocommit=False # avoiding the error: FAILED: IllegalStateException COMMIT is not supported yet.\n",
    "%sql hive://hadoop@localhost:10000/"
   ]
  },
  {
   "cell_type": "markdown",
   "id": "745f06e8-5b52-4f64-809a-12cf539eb942",
   "metadata": {},
   "source": [
    "# Time It"
   ]
  },
  {
   "cell_type": "markdown",
   "id": "037825f9-955c-4c28-be63-9fd7488e7e1c",
   "metadata": {},
   "source": [
    "## Count all rows"
   ]
  },
  {
   "cell_type": "code",
   "execution_count": null,
   "id": "1260d420-202b-4967-95b8-6a70d1f3de16",
   "metadata": {},
   "outputs": [],
   "source": [
    "%time %sql select count(*) from movielens.ratings"
   ]
  },
  {
   "cell_type": "code",
   "execution_count": null,
   "id": "056c1dbe-a4ed-4722-88fa-f6328f8ca1dd",
   "metadata": {},
   "outputs": [],
   "source": [
    "%time %sql select count(*) from movielens_parquet.ratings"
   ]
  },
  {
   "cell_type": "code",
   "execution_count": null,
   "id": "037a4b74-9bc6-400d-b566-d94b79c022ae",
   "metadata": {},
   "outputs": [],
   "source": [
    "%time %sql select count(*) from movielens_parquet_compressed.ratings"
   ]
  },
  {
   "cell_type": "markdown",
   "id": "d54afa40-70dd-455a-8bab-eb0030243e78",
   "metadata": {},
   "source": [
    "## Get max(userid)"
   ]
  },
  {
   "cell_type": "code",
   "execution_count": null,
   "id": "23bba91d-695c-426b-89b9-3fa7bf33ace0",
   "metadata": {},
   "outputs": [],
   "source": [
    "%time %sql select max(userid) from movielens.ratings"
   ]
  },
  {
   "cell_type": "code",
   "execution_count": null,
   "id": "6305cc88-19f5-46f7-b760-9e140e37ed7e",
   "metadata": {},
   "outputs": [],
   "source": [
    "%time %sql select max(userid) from movielens_parquet.ratings"
   ]
  },
  {
   "cell_type": "code",
   "execution_count": null,
   "id": "c9da92ea-e7fe-475d-861c-bdc3ea911a7c",
   "metadata": {},
   "outputs": [],
   "source": [
    "%time %sql select max(userid) from movielens_parquet_compressed.ratings"
   ]
  },
  {
   "cell_type": "markdown",
   "id": "90b8e3be-aae8-4900-85dd-271c5c79155d",
   "metadata": {},
   "source": [
    "## Save all Ratings into a Variable"
   ]
  },
  {
   "cell_type": "code",
   "execution_count": null,
   "id": "f5d7dc4a-ca3d-4ce7-9f04-bb751b31ad05",
   "metadata": {},
   "outputs": [],
   "source": [
    "%%time\n",
    "test_1 = %sql select userid from movielens.ratings"
   ]
  },
  {
   "cell_type": "code",
   "execution_count": null,
   "id": "1a64f735-725d-4a03-9fc7-8dfbd9f18f08",
   "metadata": {},
   "outputs": [],
   "source": [
    "%%time\n",
    "test_2 = %sql select userid from movielens_parquet.ratings"
   ]
  },
  {
   "cell_type": "code",
   "execution_count": null,
   "id": "5d2ea5e8-86fd-41fb-8855-d77befbe4136",
   "metadata": {},
   "outputs": [],
   "source": [
    "%%time\n",
    "test_3 = %sql select userid from movielens_parquet_compressed.ratings"
   ]
  }
 ],
 "metadata": {
  "kernelspec": {
   "display_name": "Python 3 (ipykernel)",
   "language": "python",
   "name": "python3"
  },
  "language_info": {
   "codemirror_mode": {
    "name": "ipython",
    "version": 3
   },
   "file_extension": ".py",
   "mimetype": "text/x-python",
   "name": "python",
   "nbconvert_exporter": "python",
   "pygments_lexer": "ipython3",
   "version": "3.8.10"
  }
 },
 "nbformat": 4,
 "nbformat_minor": 5
}
