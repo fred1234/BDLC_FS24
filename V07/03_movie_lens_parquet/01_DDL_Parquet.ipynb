{
 "cells": [
  {
   "cell_type": "markdown",
   "id": "24b28d1e-06fd-4c51-97a2-708f258b7bdf",
   "metadata": {},
   "source": [
    "# Data Definition Language - DDL\n",
    "Let us create a database `movielens_parquet`"
   ]
  },
  {
   "cell_type": "code",
   "execution_count": null,
   "id": "223925c7-9653-4583-91ad-c5e4b6642e72",
   "metadata": {},
   "outputs": [],
   "source": [
    "%load_ext sql\n",
    "%sql hive://hadoop@localhost:10000/"
   ]
  },
  {
   "cell_type": "code",
   "execution_count": null,
   "id": "c723404c-2523-499c-b119-9cc4c1db5fcf",
   "metadata": {},
   "outputs": [],
   "source": [
    "%%sql\n",
    "CREATE DATABASE IF NOT EXISTS movielens_parquet"
   ]
  },
  {
   "cell_type": "code",
   "execution_count": null,
   "id": "b204befe-fd59-4c60-868b-8de3b5072e99",
   "metadata": {},
   "outputs": [],
   "source": [
    "%sql SHOW DATABASES"
   ]
  },
  {
   "cell_type": "code",
   "execution_count": null,
   "id": "66496f11-4602-455b-bc46-f9468581bbc3",
   "metadata": {},
   "outputs": [],
   "source": [
    "%sql USE movielens_parquet"
   ]
  },
  {
   "cell_type": "markdown",
   "id": "185b6039-6a5d-4242-9f43-5639aa5e176e",
   "metadata": {},
   "source": [
    "## Defining the Tables and Loading the Data"
   ]
  },
  {
   "cell_type": "markdown",
   "id": "235b75b3-a34b-4b03-a174-fbc01547f822",
   "metadata": {},
   "source": [
    "### Movies"
   ]
  },
  {
   "cell_type": "code",
   "execution_count": null,
   "id": "2c2e9691-9794-433c-8535-32670450e6cb",
   "metadata": {},
   "outputs": [],
   "source": [
    "%%sql\n",
    "CREATE TABLE IF NOT EXISTS movies (\n",
    "    movieId int,\n",
    "    title String,\n",
    "    year int,\n",
    "    genres ARRAY<STRING>\n",
    ")\n",
    "STORED AS Parquet"
   ]
  },
  {
   "cell_type": "code",
   "execution_count": null,
   "id": "a434d726-9800-48f0-bb02-9a59ed732b5c",
   "metadata": {},
   "outputs": [],
   "source": [
    "%sql INSERT INTO TABLE movies select * from movielens.movies"
   ]
  },
  {
   "cell_type": "markdown",
   "id": "3fbce73d-333b-4664-a840-e445076d2a1b",
   "metadata": {},
   "source": [
    "## Ratings"
   ]
  },
  {
   "cell_type": "code",
   "execution_count": null,
   "id": "b78c508f-b5a5-43e7-b3b4-0977b696a58f",
   "metadata": {},
   "outputs": [],
   "source": [
    "%%sql\n",
    "\n",
    "CREATE TABLE IF NOT EXISTS ratings (\n",
    "    userid INT, \n",
    "    movieid INT,\n",
    "    rating INT, \n",
    "    `timestamp` bigint\n",
    ")\n",
    "STORED AS Parquet"
   ]
  },
  {
   "cell_type": "code",
   "execution_count": null,
   "id": "153cd5e8-c190-4436-8106-e5ad5ad6b464",
   "metadata": {},
   "outputs": [],
   "source": [
    "%sql INSERT INTO TABLE ratings select * from movielens.ratings"
   ]
  },
  {
   "cell_type": "markdown",
   "id": "7f62c5a1-1e25-46e9-b077-370d738f5cf3",
   "metadata": {},
   "source": [
    "## Creating a Joined Table"
   ]
  },
  {
   "cell_type": "code",
   "execution_count": null,
   "id": "19c1afcc-c722-4f47-ba4f-c8f43d5533c3",
   "metadata": {},
   "outputs": [],
   "source": [
    "%%sql\n",
    "\n",
    "CREATE TABLE IF NOT EXISTS movie_rating (\n",
    "    movieid INT,\n",
    "    title STRING,\n",
    "    year INT,\n",
    "    genres ARRAY<STRING>,\n",
    "    num_rating INT, \n",
    "    first_quartile_rating FLOAT,\n",
    "    median_rating FLOAT,\n",
    "    third_quartile_rating FLOAT,\n",
    "    avg_rating FLOAT,\n",
    "    min_rating FLOAT,\n",
    "    max_rating FLOAT\n",
    ")\n",
    "STORED AS Parquet"
   ]
  },
  {
   "cell_type": "code",
   "execution_count": null,
   "id": "1ec2e4e8-02fe-4789-8418-0e86a10ee6a4",
   "metadata": {},
   "outputs": [],
   "source": [
    "%sql INSERT INTO TABLE movie_rating select * from movielens.movie_rating"
   ]
  }
 ],
 "metadata": {
  "kernelspec": {
   "display_name": "Python 3 (ipykernel)",
   "language": "python",
   "name": "python3"
  },
  "language_info": {
   "codemirror_mode": {
    "name": "ipython",
    "version": 3
   },
   "file_extension": ".py",
   "mimetype": "text/x-python",
   "name": "python",
   "nbconvert_exporter": "python",
   "pygments_lexer": "ipython3",
   "version": "3.8.10"
  }
 },
 "nbformat": 4,
 "nbformat_minor": 5
}
