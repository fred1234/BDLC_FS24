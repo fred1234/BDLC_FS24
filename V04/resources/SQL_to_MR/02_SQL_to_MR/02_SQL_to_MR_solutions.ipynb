{
 "cells": [
  {
   "cell_type": "markdown",
   "id": "0ce66898-e497-48c6-9361-77457e73294e",
   "metadata": {},
   "source": [
    "## Create Input"
   ]
  },
  {
   "cell_type": "code",
   "execution_count": null,
   "id": "dc2c425b-9623-46fd-b9a3-b8434e6e1560",
   "metadata": {},
   "outputs": [],
   "source": [
    "%%writefile person_1.txt\n",
    "Peter,25\n",
    "Andrea,21\n",
    "Urs,37"
   ]
  },
  {
   "cell_type": "code",
   "execution_count": null,
   "id": "c3e1737e-675d-409b-bcc5-71d6ced26fa2",
   "metadata": {},
   "outputs": [],
   "source": [
    "%%writefile person_2.txt\n",
    "Monika,21\n",
    "Andrea,23\n",
    "Urs,37"
   ]
  },
  {
   "cell_type": "markdown",
   "id": "c0d1473c-9662-4553-8c2c-60451b326f50",
   "metadata": {},
   "source": [
    "## SELECTION\n",
    "\n",
    "```bash\n",
    "mysql> SELECT * FROM person_1 WHERE age > 22;\n",
    "+-------+------+\n",
    "| name  | age  |\n",
    "+-------+------+\n",
    "| Peter |   25 |\n",
    "| Urs   |   37 |\n",
    "+-------+------+\n",
    "2 rows in set (0.00 sec)\n",
    "```\n",
    "\n"
   ]
  },
  {
   "cell_type": "code",
   "execution_count": null,
   "id": "7062577d-75c9-4990-99e3-8918633d23b5",
   "metadata": {},
   "outputs": [],
   "source": [
    "%%writefile selection.py\n",
    "\n",
    "#!/usr/bin/python3\n",
    "from mrjob.job import MRJob\n",
    "\n",
    "class MyJob(MRJob):\n",
    "\n",
    "    def mapper(self, _, line):\n",
    "        name, age = line.split(\",\")\n",
    "        age = int(age)\n",
    "        if age > 22:\n",
    "            yield name, age\n",
    "\n",
    "if __name__ == '__main__':\n",
    "    MyJob.run()"
   ]
  },
  {
   "cell_type": "code",
   "execution_count": null,
   "id": "5e7b9bfa-845b-47ac-a82b-c657d3a3e5b9",
   "metadata": {},
   "outputs": [],
   "source": [
    "!python selection.py person_1.txt"
   ]
  },
  {
   "cell_type": "markdown",
   "id": "25d7f462-e0f0-4c04-9380-7fe8f9d553e9",
   "metadata": {},
   "source": [
    "## Projection\n",
    "\n",
    "```bash\n",
    "mysql> SELECT name FROM person_1;\n",
    "+--------+\n",
    "| name   |\n",
    "+--------+\n",
    "| Peter  |\n",
    "| Andrea |\n",
    "| Urs    |\n",
    "+--------+\n",
    "3 rows in set (0.00 sec)\n",
    "```"
   ]
  },
  {
   "cell_type": "code",
   "execution_count": null,
   "id": "7987aaf1-2c2c-4398-a34c-2a81a6f142d8",
   "metadata": {},
   "outputs": [],
   "source": [
    "%%writefile projection.py\n",
    "\n",
    "#!/usr/bin/python3\n",
    "from mrjob.job import MRJob\n",
    "\n",
    "class MyJob(MRJob):\n",
    "\n",
    "    def mapper(self, _, line):\n",
    "        name, _ = line.split(\",\")\n",
    "        yield name, None\n",
    "\n",
    "if __name__ == '__main__':\n",
    "    MyJob.run()"
   ]
  },
  {
   "cell_type": "code",
   "execution_count": null,
   "id": "c6ca167d-6482-45cb-aca3-625e6eaf54ec",
   "metadata": {},
   "outputs": [],
   "source": [
    "!python projection.py person_1.txt"
   ]
  },
  {
   "cell_type": "markdown",
   "id": "550e0e58-e842-4350-a055-394d5f37f455",
   "metadata": {},
   "source": [
    "## UNION\n",
    "\n",
    "```bash\n",
    "mysql> SELECT * FROM person_1 UNION SELECT * FROM person_2;\n",
    "+--------+------+\n",
    "| name   | age  |\n",
    "+--------+------+\n",
    "| Peter  |   25 |\n",
    "| Andrea |   21 |\n",
    "| Urs    |   37 |\n",
    "| Monika |   21 |\n",
    "| Andrea |   23 |\n",
    "+--------+------+\n",
    "```"
   ]
  },
  {
   "cell_type": "code",
   "execution_count": null,
   "id": "e2ed50fb-73ce-4747-9f7d-2bac922c6043",
   "metadata": {},
   "outputs": [],
   "source": [
    "%%writefile union.py\n",
    "\n",
    "#!/usr/bin/python3\n",
    "from mrjob.job import MRJob\n",
    "\n",
    "class MyJob(MRJob):\n",
    "\n",
    "    def mapper(self, _, line):\n",
    "        name, age = line.split(\",\")\n",
    "        yield [name,age], None\n",
    "    \n",
    "    def reducer(self, key, _):\n",
    "        name = key[0]\n",
    "        age = key[1]\n",
    "        yield name, age\n",
    "\n",
    "if __name__ == '__main__':\n",
    "    MyJob.run()"
   ]
  },
  {
   "cell_type": "code",
   "execution_count": null,
   "id": "f2587b8f-62ff-4f9c-9a41-1980d848ce59",
   "metadata": {},
   "outputs": [],
   "source": [
    "!python union.py person_1.txt person_2.txt"
   ]
  },
  {
   "cell_type": "markdown",
   "id": "07a3c255-3eee-4017-bf62-31d7d48be5af",
   "metadata": {},
   "source": [
    "## UNION ALL\n",
    "\n",
    "```bash\n",
    "mysql> SELECT * FROM person_1 UNION ALL SELECT * FROM person_2;\n",
    "+--------+------+\n",
    "| name   | age  |\n",
    "+--------+------+\n",
    "| Peter  |   25 |\n",
    "| Andrea |   21 |\n",
    "| Urs    |   37 |\n",
    "| Monika |   21 |\n",
    "| Andrea |   23 |\n",
    "| Urs    |   37 |\n",
    "+--------+------+\n",
    "```"
   ]
  },
  {
   "cell_type": "code",
   "execution_count": null,
   "id": "b044c5e1-95b1-4021-bc6e-4c2b98c0f91c",
   "metadata": {},
   "outputs": [],
   "source": [
    "%%writefile union_all.py\n",
    "\n",
    "#!/usr/bin/python3\n",
    "from mrjob.job import MRJob\n",
    "\n",
    "class MyJob(MRJob):\n",
    "\n",
    "    def mapper(self, _, line):\n",
    "        name, age = line.split(\",\")\n",
    "        yield name,age\n",
    "    \n",
    "\n",
    "if __name__ == '__main__':\n",
    "    MyJob.run()"
   ]
  },
  {
   "cell_type": "code",
   "execution_count": null,
   "id": "fe766d53-1f7f-4b61-8b7e-d8c6e088f010",
   "metadata": {},
   "outputs": [],
   "source": [
    "!python union_all.py person_1.txt person_2.txt"
   ]
  },
  {
   "cell_type": "markdown",
   "id": "176011da-f4f9-469d-9926-1379a286620f",
   "metadata": {},
   "source": [
    "## INNER JOIN\n",
    "\n",
    "```bash\n",
    "mysql> SELECT\n",
    "    ->     p1.name as name, p1.age as p1_age, p2.age as p2_age\n",
    "    -> FROM\n",
    "    ->     person_1 AS p1\n",
    "    -> INNER JOIN person_2 AS p2\n",
    "    -> ON\n",
    "    ->     p1.name = p2.name;\n",
    "+--------+--------+--------+\n",
    "| name   | p1_age | p2_age |\n",
    "+--------+--------+--------+\n",
    "| Andrea |     21 |     23 |\n",
    "| Urs    |     37 |     37 |\n",
    "+--------+--------+--------+\n",
    "```"
   ]
  },
  {
   "cell_type": "code",
   "execution_count": null,
   "id": "e5087f06-f646-4b79-82fc-580cba7195ec",
   "metadata": {},
   "outputs": [],
   "source": [
    "%%writefile inner_join.py\n",
    "\n",
    "#!/usr/bin/python3\n",
    "from mrjob.job import MRJob\n",
    "import os\n",
    "\n",
    "class MyJob(MRJob):\n",
    "\n",
    "    def mapper(self, _, line):\n",
    "        file_name = os.environ['mapreduce_map_input_file']\n",
    "        name, age = line.split(\",\")\n",
    "        \n",
    "        if file_name.endswith(\"person_1.txt\"):\n",
    "            yield name, {\"p1_age\": age}\n",
    "        else:\n",
    "            yield name, {\"p2_age\": age}\n",
    "    \n",
    "    def reducer(self, name, ages):\n",
    "        ages = list(ages)\n",
    "        if len(ages) == 2:\n",
    "            yield name, ages\n",
    "            \n",
    "\n",
    "if __name__ == '__main__':\n",
    "    MyJob.run()"
   ]
  },
  {
   "cell_type": "code",
   "execution_count": null,
   "id": "84b8e9dd-7393-471b-8bd3-b807fb171215",
   "metadata": {},
   "outputs": [],
   "source": [
    "!python inner_join.py person_1.txt person_2.txt"
   ]
  },
  {
   "cell_type": "code",
   "execution_count": null,
   "id": "6156de6e-9f55-4e98-bc77-c4a0484a3fc7",
   "metadata": {},
   "outputs": [],
   "source": []
  }
 ],
 "metadata": {
  "kernelspec": {
   "display_name": "Python 3 (ipykernel)",
   "language": "python",
   "name": "python3"
  },
  "language_info": {
   "codemirror_mode": {
    "name": "ipython",
    "version": 3
   },
   "file_extension": ".py",
   "mimetype": "text/x-python",
   "name": "python",
   "nbconvert_exporter": "python",
   "pygments_lexer": "ipython3",
   "version": "3.8.10"
  }
 },
 "nbformat": 4,
 "nbformat_minor": 5
}
