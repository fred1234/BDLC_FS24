{
 "cells": [
  {
   "cell_type": "markdown",
   "id": "03211b06-be29-48e1-8ff6-0164dfe61705",
   "metadata": {},
   "source": [
    "# Setup\n",
    "\n",
    "Install `findspark` with:\n",
    "\n",
    "```bash\n",
    "pip install findspark\n",
    "```"
   ]
  },
  {
   "cell_type": "markdown",
   "id": "b1b07387-be9e-4c7a-828a-c7f0be3ef6a9",
   "metadata": {},
   "source": [
    "## Use findspark"
   ]
  },
  {
   "cell_type": "code",
   "execution_count": null,
   "id": "7aefd7ab-4e27-4c57-92a3-b45054fc8e6f",
   "metadata": {},
   "outputs": [],
   "source": [
    "import findspark\n",
    "findspark.init()"
   ]
  },
  {
   "cell_type": "markdown",
   "id": "0d20bfaf-ebc7-47f6-adfe-f6dbce5310b3",
   "metadata": {},
   "source": [
    "## Testing Your First Jupyter with Spark Algorithm"
   ]
  },
  {
   "cell_type": "code",
   "execution_count": null,
   "id": "be549a03-8977-43d1-87e5-5ec61ec2e500",
   "metadata": {},
   "outputs": [],
   "source": [
    "import pyspark\n",
    "import random"
   ]
  },
  {
   "cell_type": "code",
   "execution_count": null,
   "id": "77af0b96-1b28-4c4e-88bb-3d6aa2a6d8ec",
   "metadata": {},
   "outputs": [],
   "source": [
    "sc = pyspark.SparkContext(appName=\"My Pi\")"
   ]
  },
  {
   "cell_type": "code",
   "execution_count": null,
   "id": "c6b423bc-e8b8-44ca-a62e-255b03ee7fc5",
   "metadata": {},
   "outputs": [],
   "source": [
    "sc"
   ]
  },
  {
   "cell_type": "code",
   "execution_count": null,
   "id": "cce91999-9022-4cf5-8e7b-cb35800f2b5a",
   "metadata": {},
   "outputs": [],
   "source": [
    "num_samples = 100_000_000"
   ]
  },
  {
   "cell_type": "code",
   "execution_count": null,
   "id": "0c75d3f4-029c-4bce-b9d8-9a045a687043",
   "metadata": {},
   "outputs": [],
   "source": [
    "def inside(p):     \n",
    "  x, y = random.random(), random.random()\n",
    "  return x*x + y*y < 1"
   ]
  },
  {
   "cell_type": "code",
   "execution_count": null,
   "id": "c8ff7763-ce78-4504-b974-96502fada767",
   "metadata": {},
   "outputs": [],
   "source": [
    "count = sc.parallelize(range(0, num_samples)).filter(inside).count()"
   ]
  },
  {
   "cell_type": "code",
   "execution_count": null,
   "id": "fba39111-989f-4956-ae60-3e77f5b5ee4e",
   "metadata": {},
   "outputs": [],
   "source": [
    "pi = 4 * count / num_samples"
   ]
  },
  {
   "cell_type": "code",
   "execution_count": null,
   "id": "770f50dc-bf48-486a-a3f5-126906e66139",
   "metadata": {},
   "outputs": [],
   "source": [
    "print(pi)"
   ]
  },
  {
   "cell_type": "code",
   "execution_count": null,
   "id": "fdc7c644-c3f8-4ac7-87e0-9b0da5fd8174",
   "metadata": {},
   "outputs": [],
   "source": [
    "sc.stop()"
   ]
  }
 ],
 "metadata": {
  "kernelspec": {
   "display_name": "Python 3 (ipykernel)",
   "language": "python",
   "name": "python3"
  },
  "language_info": {
   "codemirror_mode": {
    "name": "ipython",
    "version": 3
   },
   "file_extension": ".py",
   "mimetype": "text/x-python",
   "name": "python",
   "nbconvert_exporter": "python",
   "pygments_lexer": "ipython3",
   "version": "3.8.10"
  }
 },
 "nbformat": 4,
 "nbformat_minor": 5
}
