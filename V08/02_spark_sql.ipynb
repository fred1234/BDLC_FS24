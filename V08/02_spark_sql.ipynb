{
 "cells": [
  {
   "cell_type": "markdown",
   "id": "412cd4e8-0fd5-4eae-bb7e-8e7a691f0426",
   "metadata": {},
   "source": [
    "# Setup\n",
    "\n",
    "Install sparksql-magic with:\n",
    "\n",
    "```bash\n",
    "pip install sparksql-magic\n",
    "```"
   ]
  },
  {
   "cell_type": "markdown",
   "id": "bc1ee429-1e3c-49cb-9dc5-bb0b28b488df",
   "metadata": {},
   "source": [
    "## Create a Spark Session"
   ]
  },
  {
   "cell_type": "code",
   "execution_count": null,
   "id": "a9b09ed9-ef15-4f56-a7fa-5fa536fcf961",
   "metadata": {},
   "outputs": [],
   "source": [
    "import findspark\n",
    "findspark.init()"
   ]
  },
  {
   "cell_type": "code",
   "execution_count": null,
   "id": "be7236f5-c511-4958-a0f6-1931ab2f9bac",
   "metadata": {},
   "outputs": [],
   "source": [
    "from pyspark.sql import SparkSession"
   ]
  },
  {
   "cell_type": "code",
   "execution_count": null,
   "id": "02af68c0-5040-4e4d-9105-0b9e1046e2b1",
   "metadata": {},
   "outputs": [],
   "source": [
    "spark = SparkSession \\\n",
    "    .builder \\\n",
    "    .appName(\"Python Spark SQL basic example\") \\\n",
    "    .enableHiveSupport() \\\n",
    "    .getOrCreate()"
   ]
  },
  {
   "cell_type": "code",
   "execution_count": null,
   "id": "8705dfe8-6cc4-4628-b63c-afe8e03a0857",
   "metadata": {},
   "outputs": [],
   "source": [
    "spark"
   ]
  },
  {
   "cell_type": "code",
   "execution_count": null,
   "id": "d7942456-b578-4616-ac10-a2090a0a44b5",
   "metadata": {},
   "outputs": [],
   "source": [
    "%load_ext sparksql_magic"
   ]
  },
  {
   "cell_type": "code",
   "execution_count": null,
   "id": "4a330ad5-8fe2-463d-a03f-192b42f3107e",
   "metadata": {},
   "outputs": [],
   "source": [
    "%config SparkSql.limit=100"
   ]
  },
  {
   "cell_type": "code",
   "execution_count": null,
   "id": "99175c7e-664f-4ca5-8693-3421214e21aa",
   "metadata": {},
   "outputs": [],
   "source": [
    "%%sparksql\n",
    "\n",
    "SHOW DATABASES"
   ]
  },
  {
   "cell_type": "code",
   "execution_count": null,
   "id": "f95feaae-3c31-4a88-ae5e-2c823e20bcbd",
   "metadata": {},
   "outputs": [],
   "source": [
    "%%sparksql\n",
    "\n",
    "USE movielens_parquet"
   ]
  },
  {
   "cell_type": "code",
   "execution_count": null,
   "id": "e7f6b7c9-66a3-40db-b061-c3d6df5ca140",
   "metadata": {},
   "outputs": [],
   "source": [
    "%%time\n",
    "%%sparksql\n",
    "select count(*) from movies where year = 1984"
   ]
  },
  {
   "cell_type": "markdown",
   "id": "39bd6f19-1c6a-4dc6-a7ca-679a7328aa5d",
   "metadata": {},
   "source": [
    "### Show the distribution of movies per year (where year >= 2000), sorted by year"
   ]
  },
  {
   "cell_type": "code",
   "execution_count": null,
   "id": "45796420-2492-4a61-a28c-c5d088b3d93c",
   "metadata": {},
   "outputs": [],
   "source": [
    "%%time\n",
    "%%sparksql\n",
    "select year, count(title) from movies where year >= 2000 group by year order by year asc"
   ]
  },
  {
   "cell_type": "code",
   "execution_count": null,
   "id": "6554e082-b8bd-41e3-8484-185b1d9680fd",
   "metadata": {},
   "outputs": [],
   "source": [
    "spark.sparkContext.stop()"
   ]
  }
 ],
 "metadata": {
  "kernelspec": {
   "display_name": "Python 3 (ipykernel)",
   "language": "python",
   "name": "python3"
  },
  "language_info": {
   "codemirror_mode": {
    "name": "ipython",
    "version": 3
   },
   "file_extension": ".py",
   "mimetype": "text/x-python",
   "name": "python",
   "nbconvert_exporter": "python",
   "pygments_lexer": "ipython3",
   "version": "3.8.10"
  }
 },
 "nbformat": 4,
 "nbformat_minor": 5
}
