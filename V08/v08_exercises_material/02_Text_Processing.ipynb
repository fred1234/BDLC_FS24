{
 "cells": [
  {
   "cell_type": "markdown",
   "id": "79a8711c-cbc5-4c29-983f-f9540f0fe334",
   "metadata": {},
   "source": [
    "# Text Processing\n",
    "\n",
    "In this exercise you will create, once more, a word count but this time with Spark and RDDs.\n",
    "Next, you will try to generate a model which generates sentences for you based on a training corpus."
   ]
  },
  {
   "cell_type": "markdown",
   "id": "ec7f9a59-4e7f-45b6-a1d9-4de6557f1935",
   "metadata": {},
   "source": [
    "## Checking the Data"
   ]
  },
  {
   "cell_type": "code",
   "execution_count": null,
   "id": "d1cb22e0-26f4-43ba-92bc-be5a37831ef5",
   "metadata": {},
   "outputs": [],
   "source": [
    "! hdfs dfs -ls /dataset/text/"
   ]
  },
  {
   "cell_type": "markdown",
   "id": "b934afd1-7088-48c9-9a1b-271ed05c33f5",
   "metadata": {},
   "source": [
    "## Init Spark"
   ]
  },
  {
   "cell_type": "code",
   "execution_count": 2,
   "id": "8d81f053-a56a-4074-958d-00799b0f3d37",
   "metadata": {},
   "outputs": [],
   "source": [
    "import findspark\n",
    "import pyspark\n",
    "\n",
    "findspark.init()\n",
    "sc = pyspark.SparkContext(appName=\"Text Processing\")"
   ]
  },
  {
   "cell_type": "markdown",
   "id": "f9ffc68f-a87c-4190-90d3-3f55db2df363",
   "metadata": {},
   "source": [
    "## Read the holmes.txt\n",
    "If you want, you can also try out `gutenberg_all.txt`"
   ]
  },
  {
   "cell_type": "code",
   "execution_count": 4,
   "id": "d0fabb0c-96be-43ba-8c81-b75b4d19df3a",
   "metadata": {},
   "outputs": [],
   "source": [
    "holmes_raw = sc.textFile(\"/dataset/text/holmes.txt\")"
   ]
  },
  {
   "cell_type": "markdown",
   "id": "716bae94-d91d-4af2-b813-72727ed7f07f",
   "metadata": {},
   "source": [
    "### Caching\n",
    "\n",
    "With `rdd.cache()` you can save an entire RDD into Memory. Note, however, that you need an action to trigger the computation.\n",
    "\n",
    "You see the cached RDDs also in the Spark UI (in the storage tab)"
   ]
  },
  {
   "cell_type": "code",
   "execution_count": null,
   "id": "0f1e72e1-3d9d-45dc-bb27-67bcfc08ce37",
   "metadata": {},
   "outputs": [],
   "source": [
    "%time holmes_raw.cache()"
   ]
  },
  {
   "cell_type": "code",
   "execution_count": null,
   "id": "b9f61ff7-8a5f-4e3f-827e-5cade32ef278",
   "metadata": {},
   "outputs": [],
   "source": [
    "%time holmes_raw.count()"
   ]
  },
  {
   "cell_type": "markdown",
   "id": "5041c352-69bb-4e45-9032-ad38dfed07e2",
   "metadata": {},
   "source": [
    "Do you see the time difference if we do the count again?"
   ]
  },
  {
   "cell_type": "code",
   "execution_count": null,
   "id": "a861b526-b349-4d77-8ffc-92f8b5e35bb1",
   "metadata": {},
   "outputs": [],
   "source": [
    "%time holmes_raw.count()"
   ]
  },
  {
   "cell_type": "markdown",
   "id": "0acc6dea-4eaf-49f0-ada3-40bc22227af2",
   "metadata": {},
   "source": [
    "## Splitting the Words"
   ]
  },
  {
   "cell_type": "code",
   "execution_count": 8,
   "id": "ace2b5de-7428-498b-afae-36ef49b285d0",
   "metadata": {},
   "outputs": [],
   "source": [
    "holmes_words = holmes_raw.map(lambda word: word.split(\" \"))"
   ]
  },
  {
   "cell_type": "markdown",
   "id": "1fe268f4-5102-4998-9901-feabdf2d1f3c",
   "metadata": {},
   "source": [
    "As you can see, we have an Array of Arrays of Strings."
   ]
  },
  {
   "cell_type": "code",
   "execution_count": null,
   "id": "4aa3bea2-0461-4730-b4f8-8e21ca1aa456",
   "metadata": {},
   "outputs": [],
   "source": [
    "holmes_words.take(2)"
   ]
  },
  {
   "cell_type": "markdown",
   "id": "9908dca9-da3f-44cb-9683-5ce66b7160eb",
   "metadata": {},
   "source": [
    "With `flatmap` we flatten the map and only get an Array of Strings back."
   ]
  },
  {
   "cell_type": "code",
   "execution_count": 10,
   "id": "df2e504a-e4e6-4dd1-b1cb-5bb588468fa4",
   "metadata": {},
   "outputs": [],
   "source": [
    "holmes_words = ... your code ...."
   ]
  },
  {
   "cell_type": "code",
   "execution_count": 11,
   "id": "3fe6a6e6-3f2f-4513-a2bd-8ba476bc7761",
   "metadata": {},
   "outputs": [
    {
     "data": {
      "text/plain": [
       "['The', 'Project']"
      ]
     },
     "execution_count": 11,
     "metadata": {},
     "output_type": "execute_result"
    }
   ],
   "source": [
    "holmes_words.take(2)"
   ]
  },
  {
   "cell_type": "markdown",
   "id": "e9b9362f-640b-4515-94d7-8b173c10d6dc",
   "metadata": {},
   "source": [
    "### Cleaning the Words\n",
    "\n",
    "Try to:\n",
    "- lower the words\n",
    "- remove empty strings\n",
    "- remove all special characters like `.,:,[,]` etc (checkout https://stackoverflow.com/questions/265960/best-way-to-strip-punctuation-from-a-string )\n",
    "\n",
    "use the PySpark API for RDDs if you need help https://spark.apache.org/docs/latest/api/python/reference/index.html"
   ]
  },
  {
   "cell_type": "code",
   "execution_count": 12,
   "id": "c78981ea-9c1f-43c2-a1df-2228ef6f646a",
   "metadata": {},
   "outputs": [],
   "source": [
    "import re\n",
    "\n",
    "holmes_words_cleaned = holmes_words \\\n",
    "    .map(lambda word: word.lower()) \\\n",
    "    ... your code ..."
   ]
  },
  {
   "cell_type": "code",
   "execution_count": 13,
   "id": "ad532f0c-8024-49b3-92e2-c3f61c870493",
   "metadata": {},
   "outputs": [
    {
     "data": {
      "text/plain": [
       "['the', 'project']"
      ]
     },
     "execution_count": 13,
     "metadata": {},
     "output_type": "execute_result"
    }
   ],
   "source": [
    "holmes_words_cleaned.take(2)"
   ]
  },
  {
   "cell_type": "markdown",
   "id": "bb66dd39-1ced-4839-964d-869b08545e05",
   "metadata": {},
   "source": [
    "Let us cache this RDD as well"
   ]
  },
  {
   "cell_type": "code",
   "execution_count": 14,
   "id": "7d9eb093-dceb-4970-8325-b2fe987e0023",
   "metadata": {},
   "outputs": [
    {
     "data": {
      "text/plain": [
       "107507"
      ]
     },
     "execution_count": 14,
     "metadata": {},
     "output_type": "execute_result"
    }
   ],
   "source": [
    "holmes_words_cleaned.cache()\n",
    "holmes_words_cleaned.count()"
   ]
  },
  {
   "cell_type": "markdown",
   "id": "7cf33b3f-0b62-469a-9463-62279605ae03",
   "metadata": {},
   "source": [
    "## Group Words for Word Count"
   ]
  },
  {
   "cell_type": "markdown",
   "id": "5d2ad5c2-c74a-4f0b-8d55-3396bacf9701",
   "metadata": {},
   "source": [
    "It is tempting to use `groupBy`. But this is inefficient as you can see in the below example. The same word will be collected over and over in a list and needs a (network) shuffle"
   ]
  },
  {
   "cell_type": "code",
   "execution_count": 15,
   "id": "4d171515-506a-42aa-bd32-a90a98ce8054",
   "metadata": {},
   "outputs": [],
   "source": [
    "groupByExample = holmes_words_cleaned.groupBy(lambda word: word)"
   ]
  },
  {
   "cell_type": "code",
   "execution_count": 16,
   "id": "be15dafc-6327-471d-82c4-788c060a49c1",
   "metadata": {},
   "outputs": [
    {
     "name": "stdout",
     "output_type": "stream",
     "text": [
      "word: :in\n",
      "values: :['in', 'in', 'in', 'in', 'in', 'in', 'in', 'in', 'in', 'in', 'in', 'in', 'in', 'in', 'in', 'in', 'in', 'in', 'in', 'in', 'in', 'in', 'in', 'in', 'in', 'in', 'in', 'in', 'in', 'in', 'in', 'in', 'in', 'in', 'in', 'in', 'in', 'in', 'in', 'in', 'in', 'in', 'in', 'in', 'in', 'in', 'in', 'in', 'in', 'in', 'in', 'in', 'in', 'in', 'in', 'in', 'in', 'in', 'in', 'in', 'in', 'in', 'in', 'in', 'in', 'in', 'in', 'in', 'in', 'in', 'in', 'in', 'in', 'in', 'in', 'in', 'in', 'in', 'in', 'in', 'in', 'in', 'in', 'in', 'in', 'in', 'in', 'in', 'in', 'in', 'in', 'in', 'in', 'in', 'in', 'in', 'in', 'in', 'in', 'in', 'in', 'in', 'in', 'in', 'in', 'in', 'in', 'in', 'in', 'in', 'in', 'in', 'in', 'in', 'in', 'in', 'in', 'in', 'in', 'in', 'in', 'in', 'in', 'in', 'in', 'in', 'in', 'in', 'in', 'in', 'in', 'in', 'in', 'in', 'in', 'in', 'in', 'in', 'in', 'in', 'in', 'in', 'in', 'in', 'in', 'in', 'in', 'in', 'in', 'in', 'in', 'in', 'in', 'in', 'in', 'in', 'in', 'in', 'in', 'in', 'in', 'in', 'in', 'in', 'in', 'in', 'in', 'in', 'in', 'in', 'in', 'in', 'in', 'in', 'in', 'in', 'in', 'in', 'in', 'in', 'in', 'in', 'in', 'in', 'in', 'in', 'in', 'in', 'in', 'in', 'in', 'in', 'in', 'in', 'in', 'in', 'in', 'in', 'in', 'in', 'in', 'in', 'in', 'in', 'in', 'in', 'in', 'in', 'in', 'in', 'in', 'in', 'in', 'in', 'in', 'in', 'in', 'in', 'in', 'in', 'in', 'in', 'in', 'in', 'in', 'in', 'in', 'in', 'in', 'in', 'in', 'in', 'in', 'in', 'in', 'in', 'in', 'in', 'in', 'in', 'in', 'in', 'in', 'in', 'in', 'in', 'in', 'in', 'in', 'in', 'in', 'in', 'in', 'in', 'in', 'in', 'in', 'in', 'in', 'in', 'in', 'in', 'in', 'in', 'in', 'in', 'in', 'in', 'in', 'in', 'in', 'in', 'in', 'in', 'in', 'in', 'in', 'in', 'in', 'in', 'in', 'in', 'in', 'in', 'in', 'in', 'in', 'in', 'in', 'in', 'in', 'in', 'in', 'in', 'in', 'in', 'in', 'in', 'in', 'in', 'in', 'in', 'in', 'in', 'in', 'in', 'in', 'in', 'in', 'in', 'in', 'in', 'in', 'in', 'in', 'in', 'in', 'in', 'in', 'in', 'in', 'in', 'in', 'in', 'in', 'in', 'in', 'in', 'in', 'in', 'in', 'in', 'in', 'in', 'in', 'in', 'in', 'in', 'in', 'in', 'in', 'in', 'in', 'in', 'in', 'in', 'in', 'in', 'in', 'in', 'in', 'in', 'in', 'in', 'in', 'in', 'in', 'in', 'in', 'in', 'in', 'in', 'in', 'in', 'in', 'in', 'in', 'in', 'in', 'in', 'in', 'in', 'in', 'in', 'in', 'in', 'in', 'in', 'in', 'in', 'in', 'in', 'in', 'in', 'in', 'in', 'in', 'in', 'in', 'in', 'in', 'in', 'in', 'in', 'in', 'in', 'in', 'in', 'in', 'in', 'in', 'in', 'in', 'in', 'in', 'in', 'in', 'in', 'in', 'in', 'in', 'in', 'in', 'in', 'in', 'in', 'in', 'in', 'in', 'in', 'in', 'in', 'in', 'in', 'in', 'in', 'in', 'in', 'in', 'in', 'in', 'in', 'in', 'in', 'in', 'in', 'in', 'in', 'in', 'in', 'in', 'in', 'in', 'in', 'in', 'in', 'in', 'in', 'in', 'in', 'in', 'in', 'in', 'in', 'in', 'in', 'in', 'in', 'in', 'in', 'in', 'in', 'in', 'in', 'in', 'in', 'in', 'in', 'in', 'in', 'in', 'in', 'in', 'in', 'in', 'in', 'in', 'in', 'in', 'in', 'in', 'in', 'in', 'in', 'in', 'in', 'in', 'in', 'in', 'in', 'in', 'in', 'in', 'in', 'in', 'in', 'in', 'in', 'in', 'in', 'in', 'in', 'in', 'in', 'in', 'in', 'in', 'in', 'in', 'in', 'in', 'in', 'in', 'in', 'in', 'in', 'in', 'in', 'in', 'in', 'in', 'in', 'in', 'in', 'in', 'in', 'in', 'in', 'in', 'in', 'in', 'in', 'in', 'in', 'in', 'in', 'in', 'in', 'in', 'in', 'in', 'in', 'in', 'in', 'in', 'in', 'in', 'in', 'in', 'in', 'in', 'in', 'in', 'in', 'in', 'in', 'in', 'in', 'in', 'in', 'in', 'in', 'in', 'in', 'in', 'in', 'in', 'in', 'in', 'in', 'in', 'in', 'in', 'in', 'in', 'in', 'in', 'in', 'in', 'in', 'in', 'in', 'in', 'in', 'in', 'in', 'in', 'in', 'in', 'in', 'in', 'in', 'in', 'in', 'in', 'in', 'in', 'in', 'in', 'in', 'in', 'in', 'in', 'in', 'in', 'in', 'in', 'in', 'in', 'in', 'in', 'in', 'in', 'in', 'in', 'in', 'in', 'in', 'in', 'in', 'in', 'in', 'in', 'in', 'in', 'in', 'in', 'in', 'in', 'in', 'in', 'in', 'in', 'in', 'in', 'in', 'in', 'in', 'in', 'in', 'in', 'in', 'in', 'in', 'in', 'in', 'in', 'in', 'in', 'in', 'in', 'in', 'in', 'in', 'in', 'in', 'in', 'in', 'in', 'in', 'in', 'in', 'in', 'in', 'in', 'in', 'in', 'in', 'in', 'in', 'in', 'in', 'in', 'in', 'in', 'in', 'in', 'in', 'in', 'in', 'in', 'in', 'in', 'in', 'in', 'in', 'in', 'in', 'in', 'in', 'in', 'in', 'in', 'in', 'in', 'in', 'in', 'in', 'in', 'in', 'in', 'in', 'in', 'in', 'in', 'in', 'in', 'in', 'in', 'in', 'in', 'in', 'in', 'in', 'in', 'in', 'in', 'in', 'in', 'in', 'in', 'in', 'in', 'in', 'in', 'in', 'in', 'in', 'in', 'in', 'in', 'in', 'in', 'in', 'in', 'in', 'in', 'in', 'in', 'in', 'in', 'in', 'in', 'in', 'in', 'in', 'in', 'in', 'in', 'in', 'in', 'in', 'in', 'in', 'in', 'in', 'in', 'in', 'in', 'in', 'in', 'in', 'in', 'in', 'in', 'in', 'in', 'in', 'in', 'in', 'in', 'in', 'in', 'in', 'in', 'in', 'in', 'in', 'in', 'in', 'in', 'in', 'in', 'in', 'in', 'in', 'in', 'in', 'in', 'in', 'in', 'in', 'in', 'in', 'in', 'in', 'in', 'in', 'in', 'in', 'in', 'in', 'in', 'in', 'in', 'in', 'in', 'in', 'in', 'in', 'in', 'in', 'in', 'in', 'in', 'in', 'in', 'in', 'in', 'in', 'in', 'in', 'in', 'in', 'in', 'in', 'in', 'in', 'in', 'in', 'in', 'in', 'in', 'in', 'in', 'in', 'in', 'in', 'in', 'in', 'in', 'in', 'in', 'in', 'in', 'in', 'in', 'in', 'in', 'in', 'in', 'in', 'in', 'in', 'in', 'in', 'in', 'in', 'in', 'in', 'in', 'in', 'in', 'in', 'in', 'in', 'in', 'in', 'in', 'in', 'in', 'in', 'in', 'in', 'in', 'in', 'in', 'in', 'in', 'in', 'in', 'in', 'in', 'in', 'in', 'in', 'in', 'in', 'in', 'in', 'in', 'in', 'in', 'in', 'in', 'in', 'in', 'in', 'in', 'in', 'in', 'in', 'in', 'in', 'in', 'in', 'in', 'in', 'in', 'in', 'in', 'in', 'in', 'in', 'in', 'in', 'in', 'in', 'in', 'in', 'in', 'in', 'in', 'in', 'in', 'in', 'in', 'in', 'in', 'in', 'in', 'in', 'in', 'in', 'in', 'in', 'in', 'in', 'in', 'in', 'in', 'in', 'in', 'in', 'in', 'in', 'in', 'in', 'in', 'in', 'in', 'in', 'in', 'in', 'in', 'in', 'in', 'in', 'in', 'in', 'in', 'in', 'in', 'in', 'in', 'in', 'in', 'in', 'in', 'in', 'in', 'in', 'in', 'in', 'in', 'in', 'in', 'in', 'in', 'in', 'in', 'in', 'in', 'in', 'in', 'in', 'in', 'in', 'in', 'in', 'in', 'in', 'in', 'in', 'in', 'in', 'in', 'in', 'in', 'in', 'in', 'in', 'in', 'in', 'in', 'in', 'in', 'in', 'in', 'in', 'in', 'in', 'in', 'in', 'in', 'in', 'in', 'in', 'in', 'in', 'in', 'in', 'in', 'in', 'in', 'in', 'in', 'in', 'in', 'in', 'in', 'in', 'in', 'in', 'in', 'in', 'in', 'in', 'in', 'in', 'in', 'in', 'in', 'in', 'in', 'in', 'in', 'in', 'in', 'in', 'in', 'in', 'in', 'in', 'in', 'in', 'in', 'in', 'in', 'in', 'in', 'in', 'in', 'in', 'in', 'in', 'in', 'in', 'in', 'in', 'in', 'in', 'in', 'in', 'in', 'in', 'in', 'in', 'in', 'in', 'in', 'in', 'in', 'in', 'in', 'in', 'in', 'in', 'in', 'in', 'in', 'in', 'in', 'in', 'in', 'in', 'in', 'in', 'in', 'in', 'in', 'in', 'in', 'in', 'in', 'in', 'in', 'in', 'in', 'in', 'in', 'in', 'in', 'in', 'in', 'in', 'in', 'in', 'in', 'in', 'in', 'in', 'in', 'in', 'in', 'in', 'in', 'in', 'in', 'in', 'in', 'in', 'in', 'in', 'in', 'in', 'in', 'in', 'in', 'in', 'in', 'in', 'in', 'in', 'in', 'in', 'in', 'in', 'in', 'in', 'in', 'in', 'in', 'in', 'in', 'in', 'in', 'in', 'in', 'in', 'in', 'in', 'in', 'in', 'in', 'in', 'in', 'in', 'in', 'in', 'in', 'in', 'in', 'in', 'in', 'in', 'in', 'in', 'in', 'in', 'in', 'in', 'in', 'in', 'in', 'in', 'in', 'in', 'in', 'in', 'in', 'in', 'in', 'in', 'in', 'in', 'in', 'in', 'in', 'in', 'in', 'in', 'in', 'in', 'in', 'in', 'in', 'in', 'in', 'in', 'in', 'in', 'in', 'in', 'in', 'in', 'in', 'in', 'in', 'in', 'in', 'in', 'in', 'in', 'in', 'in', 'in', 'in', 'in', 'in', 'in', 'in', 'in', 'in', 'in', 'in', 'in', 'in', 'in', 'in', 'in', 'in', 'in', 'in', 'in', 'in', 'in', 'in', 'in', 'in', 'in', 'in', 'in', 'in', 'in', 'in', 'in', 'in', 'in', 'in', 'in', 'in', 'in', 'in', 'in', 'in', 'in', 'in', 'in', 'in', 'in', 'in', 'in', 'in', 'in', 'in', 'in', 'in', 'in', 'in', 'in', 'in', 'in', 'in', 'in', 'in', 'in', 'in', 'in', 'in', 'in', 'in', 'in', 'in', 'in', 'in', 'in', 'in', 'in', 'in', 'in', 'in', 'in', 'in', 'in', 'in', 'in', 'in', 'in', 'in', 'in', 'in', 'in', 'in', 'in', 'in', 'in', 'in', 'in', 'in', 'in', 'in', 'in', 'in', 'in', 'in', 'in', 'in', 'in', 'in', 'in', 'in', 'in', 'in', 'in', 'in', 'in', 'in', 'in', 'in', 'in', 'in', 'in', 'in', 'in', 'in', 'in', 'in', 'in', 'in', 'in', 'in', 'in', 'in', 'in', 'in', 'in', 'in', 'in', 'in', 'in', 'in', 'in', 'in', 'in', 'in', 'in', 'in', 'in', 'in', 'in', 'in', 'in', 'in', 'in', 'in', 'in', 'in', 'in', 'in', 'in', 'in', 'in', 'in', 'in', 'in', 'in', 'in', 'in', 'in', 'in', 'in', 'in', 'in', 'in', 'in', 'in', 'in', 'in', 'in', 'in', 'in', 'in', 'in', 'in', 'in', 'in', 'in', 'in', 'in', 'in', 'in', 'in', 'in', 'in', 'in', 'in', 'in', 'in', 'in', 'in', 'in', 'in', 'in', 'in', 'in', 'in', 'in', 'in', 'in', 'in', 'in', 'in', 'in', 'in', 'in', 'in', 'in', 'in', 'in', 'in', 'in', 'in', 'in', 'in', 'in', 'in', 'in', 'in', 'in', 'in', 'in', 'in', 'in', 'in', 'in', 'in', 'in', 'in', 'in', 'in', 'in', 'in', 'in', 'in', 'in', 'in', 'in', 'in', 'in', 'in', 'in', 'in', 'in', 'in', 'in', 'in', 'in', 'in', 'in', 'in', 'in', 'in', 'in', 'in', 'in', 'in', 'in', 'in', 'in', 'in', 'in', 'in', 'in', 'in', 'in', 'in', 'in', 'in', 'in', 'in', 'in', 'in', 'in', 'in', 'in', 'in', 'in', 'in', 'in', 'in', 'in', 'in', 'in', 'in', 'in', 'in', 'in', 'in', 'in', 'in', 'in', 'in', 'in', 'in', 'in', 'in', 'in', 'in', 'in', 'in', 'in', 'in', 'in', 'in', 'in', 'in', 'in', 'in', 'in', 'in', 'in', 'in', 'in', 'in', 'in', 'in', 'in', 'in', 'in', 'in', 'in', 'in', 'in', 'in', 'in', 'in', 'in', 'in', 'in', 'in', 'in', 'in', 'in', 'in', 'in', 'in', 'in', 'in', 'in', 'in', 'in', 'in', 'in', 'in', 'in', 'in', 'in', 'in', 'in', 'in', 'in', 'in', 'in', 'in', 'in', 'in', 'in', 'in', 'in', 'in', 'in', 'in', 'in', 'in', 'in', 'in', 'in', 'in', 'in', 'in', 'in', 'in', 'in', 'in', 'in', 'in', 'in', 'in', 'in', 'in', 'in', 'in', 'in', 'in', 'in', 'in', 'in', 'in', 'in', 'in', 'in', 'in', 'in', 'in', 'in', 'in', 'in', 'in', 'in', 'in', 'in', 'in', 'in', 'in', 'in', 'in', 'in', 'in', 'in', 'in', 'in', 'in', 'in', 'in', 'in', 'in', 'in', 'in', 'in', 'in', 'in', 'in', 'in', 'in', 'in', 'in', 'in', 'in', 'in', 'in', 'in', 'in', 'in', 'in', 'in', 'in', 'in', 'in', 'in', 'in', 'in', 'in', 'in', 'in', 'in', 'in', 'in', 'in', 'in', 'in', 'in', 'in', 'in', 'in', 'in', 'in', 'in', 'in', 'in', 'in', 'in', 'in', 'in', 'in', 'in', 'in', 'in', 'in', 'in', 'in', 'in', 'in', 'in', 'in', 'in', 'in', 'in', 'in', 'in', 'in', 'in', 'in', 'in', 'in', 'in', 'in', 'in', 'in', 'in', 'in', 'in', 'in', 'in', 'in', 'in', 'in', 'in', 'in', 'in', 'in', 'in', 'in', 'in', 'in', 'in', 'in', 'in', 'in', 'in', 'in', 'in', 'in', 'in', 'in', 'in', 'in', 'in', 'in', 'in', 'in', 'in', 'in', 'in', 'in', 'in', 'in', 'in', 'in', 'in', 'in', 'in', 'in', 'in', 'in', 'in', 'in', 'in', 'in', 'in', 'in', 'in', 'in', 'in', 'in', 'in', 'in', 'in', 'in', 'in', 'in', 'in', 'in', 'in', 'in', 'in', 'in', 'in', 'in', 'in', 'in', 'in', 'in', 'in', 'in', 'in', 'in', 'in', 'in', 'in', 'in', 'in', 'in', 'in', 'in', 'in', 'in', 'in', 'in', 'in', 'in', 'in', 'in', 'in', 'in', 'in', 'in', 'in']\n"
     ]
    }
   ],
   "source": [
    "res = groupByExample.take(1)\n",
    "print(\"word: :\" + res[0][0])\n",
    "print(\"values: :\" + str(list(res[0][1])))"
   ]
  },
  {
   "cell_type": "markdown",
   "id": "3b8b46a9-04ff-4c8e-bacd-392c7c670f9b",
   "metadata": {},
   "source": [
    "It is therefore more efficient to use the classical `map` and `reduceByKey` approach"
   ]
  },
  {
   "cell_type": "code",
   "execution_count": 17,
   "id": "62d89e63-7cbe-45d7-b247-699d0b265258",
   "metadata": {},
   "outputs": [],
   "source": [
    "word_count = holmes_words_cleaned.... your code ...."
   ]
  },
  {
   "cell_type": "code",
   "execution_count": 18,
   "id": "3180bb65-2c01-4911-8e6e-daa1f57c9c02",
   "metadata": {},
   "outputs": [
    {
     "name": "stderr",
     "output_type": "stream",
     "text": [
      "                                                                                \r"
     ]
    },
    {
     "data": {
      "text/plain": [
       "[('project', 89), ('gutenberg', 32)]"
      ]
     },
     "execution_count": 18,
     "metadata": {},
     "output_type": "execute_result"
    }
   ],
   "source": [
    "word_count.take(2)"
   ]
  },
  {
   "cell_type": "markdown",
   "id": "42802e36-a39d-40c1-b368-65bdc0328e37",
   "metadata": {},
   "source": [
    "Let us sort the output. Have a look at the `sortByKey` API Reference https://spark.apache.org/docs/latest/api/python/reference/api/pyspark.RDD.sortByKey.html?highlight=sortbykey\n",
    "\n",
    "- what is the key at the moment? how can you swap the key and the values?"
   ]
  },
  {
   "cell_type": "code",
   "execution_count": 40,
   "id": "537c2513-0651-4392-a433-cc8b1e59911e",
   "metadata": {},
   "outputs": [],
   "source": [
    "sorted_word_count = word_count.... your code ...."
   ]
  },
  {
   "cell_type": "code",
   "execution_count": null,
   "id": "c00e72bf-bf07-4fab-b551-f451eb91161a",
   "metadata": {},
   "outputs": [],
   "source": [
    "sorted_word_count.take(4)"
   ]
  },
  {
   "cell_type": "markdown",
   "id": "eb75c7a4-f666-44e2-a00d-6e23e64b83ab",
   "metadata": {},
   "source": [
    "## Text Generator (advanced)"
   ]
  },
  {
   "cell_type": "markdown",
   "id": "7819c5d4-14fe-441c-815d-6d548e8f6462",
   "metadata": {},
   "source": [
    "We will try to implement a text generator. Here is how\n",
    "\n",
    "- first you load all words from holmes.txt into an RDD\n",
    "- next, we comput [bigrams](https://en.wikipedia.org/wiki/Bigram). For example, the text \"hello world how are you\" would produce\n",
    "\n",
    "```\n",
    "(\"hello\", \"world\"), (\"world\", \"how\"), (\"how\", \"are\"), (\"are\", \"you\")\n",
    "```\n",
    "\n",
    "- With the bigrams, we can count all following words given a seed word. E.g. in this very tiny example the probability that the word \"world\" comes after \"hello\" is 100%. "
   ]
  },
  {
   "cell_type": "code",
   "execution_count": 22,
   "id": "7f6950c5-e3f0-4ab2-8380-239c1e6ccfe1",
   "metadata": {},
   "outputs": [],
   "source": [
    "import re\n",
    "\n",
    "words = sc.textFile(\"/dataset/text/holmes.txt\") \\\n",
    "    .flatMap(lambda word: word.split(\" \")) \\\n",
    "    .map(lambda word: word.lower()) \\\n",
    "    .map(lambda word: re.sub(r'[^\\w\\s]', '', word)) \\\n",
    "    .filter(lambda word: word != '')"
   ]
  },
  {
   "cell_type": "code",
   "execution_count": 23,
   "id": "5d5f6084-a4cb-4c1c-abb8-024f77b5151e",
   "metadata": {},
   "outputs": [
    {
     "name": "stderr",
     "output_type": "stream",
     "text": [
      "                                                                                \r"
     ]
    },
    {
     "data": {
      "text/plain": [
       "107507"
      ]
     },
     "execution_count": 23,
     "metadata": {},
     "output_type": "execute_result"
    }
   ],
   "source": [
    "words.cache()\n",
    "words.count()"
   ]
  },
  {
   "cell_type": "code",
   "execution_count": 24,
   "id": "bd3d5cf2-3c5f-4478-bead-073e9f66bf35",
   "metadata": {},
   "outputs": [
    {
     "data": {
      "text/plain": [
       "['the', 'project']"
      ]
     },
     "execution_count": 24,
     "metadata": {},
     "output_type": "execute_result"
    }
   ],
   "source": [
    "words.take(2)"
   ]
  },
  {
   "cell_type": "markdown",
   "id": "c95a52f2-e55a-48c5-893d-faa2bc816b7d",
   "metadata": {},
   "source": [
    "### Compute the Bigrams \n",
    "\n",
    "we will use `zipWithIndex` so we can join afterwards"
   ]
  },
  {
   "cell_type": "code",
   "execution_count": 25,
   "id": "d5038eaf-8810-4e0a-b612-5047bcf33919",
   "metadata": {},
   "outputs": [],
   "source": [
    "first = words.zipWithIndex().map(lambda word_index: (word_index[1], word_index[0]))\n",
    "second = words.... your code ...."
   ]
  },
  {
   "cell_type": "code",
   "execution_count": 26,
   "id": "5fab4994-ca20-49b7-8141-f6634d13dd0d",
   "metadata": {},
   "outputs": [
    {
     "name": "stdout",
     "output_type": "stream",
     "text": [
      "[(0, 'the'), (1, 'project')]\n",
      "[(-1, 'the'), (0, 'project')]\n"
     ]
    }
   ],
   "source": [
    "print(first.take(2))\n",
    "print(second.take(2))"
   ]
  },
  {
   "cell_type": "code",
   "execution_count": 27,
   "id": "e40a3876-0a7a-46b1-9911-a4863b69cb48",
   "metadata": {},
   "outputs": [
    {
     "name": "stdout",
     "output_type": "stream",
     "text": [
      "107507\n",
      "107507\n"
     ]
    }
   ],
   "source": [
    "print(first.count())\n",
    "print(second.count())"
   ]
  },
  {
   "cell_type": "code",
   "execution_count": 28,
   "id": "e0326022-6767-48e2-9559-849beb580e4f",
   "metadata": {},
   "outputs": [],
   "source": [
    "# inner join first and second\n",
    "\n",
    "bigram = "
   ]
  },
  {
   "cell_type": "code",
   "execution_count": 29,
   "id": "18b9dd59-eb79-4fdc-8bf0-a05a204f7fb6",
   "metadata": {},
   "outputs": [
    {
     "name": "stderr",
     "output_type": "stream",
     "text": [
      "                                                                                \r"
     ]
    },
    {
     "name": "stdout",
     "output_type": "stream",
     "text": [
      "107506\n",
      "[(0, ('the', 'project')), (4, ('of', 'the'))]\n"
     ]
    }
   ],
   "source": [
    "print(bigram.count())\n",
    "print(bigram.take(2))"
   ]
  },
  {
   "cell_type": "markdown",
   "id": "d6249ca5-c06b-49b1-ba47-13a0f7ccd705",
   "metadata": {},
   "source": [
    "### Define a method for computing the probabilites of following words"
   ]
  },
  {
   "cell_type": "code",
   "execution_count": 43,
   "id": "652e7e38-1641-4155-8aad-ab9ce66dd960",
   "metadata": {},
   "outputs": [],
   "source": [
    "def get_probabilities(words):\n",
    "    words = list(words)\n",
    "    word_counts = [[x,words.count(x)] for x in set(words)]\n",
    "    ... your code ...\n"
   ]
  },
  {
   "cell_type": "code",
   "execution_count": 44,
   "id": "fe201154-188b-4a8a-84c3-49a733e3b44c",
   "metadata": {},
   "outputs": [
    {
     "data": {
      "text/plain": [
       "[('hallo', 0.6666666666666666), ('welt', 0.3333333333333333)]"
      ]
     },
     "execution_count": 44,
     "metadata": {},
     "output_type": "execute_result"
    }
   ],
   "source": [
    "get_probabilities([\"hallo\", \"hallo\", \"welt\"])"
   ]
  },
  {
   "cell_type": "code",
   "execution_count": 46,
   "id": "d07d573c-b71f-4883-a920-b0f849ee37ab",
   "metadata": {},
   "outputs": [
    {
     "data": {
      "text/plain": [
       "[('of', <pyspark.resultiterable.ResultIterable at 0x7fe022780460>)]"
      ]
     },
     "execution_count": 46,
     "metadata": {},
     "output_type": "execute_result"
    }
   ],
   "source": [
    "#group by key is exactly what we want\n",
    "bigram.map(lambda x: x[1]).groupByKey().take(1)"
   ]
  },
  {
   "cell_type": "code",
   "execution_count": 47,
   "id": "2e42e5b1-22db-4d95-9916-38284dfae964",
   "metadata": {},
   "outputs": [],
   "source": [
    "word_probabilities = bigram.map(lambda x: x[1]).groupByKey().mapValues(get_probabilities)"
   ]
  },
  {
   "cell_type": "code",
   "execution_count": 48,
   "id": "dff05ad5-e624-425f-9a50-ad5cdf692816",
   "metadata": {},
   "outputs": [],
   "source": [
    "model = word_probabilities.collectAsMap()"
   ]
  },
  {
   "cell_type": "code",
   "execution_count": 51,
   "id": "3a7413aa-0d0c-44ed-b932-56c3bccb815a",
   "metadata": {},
   "outputs": [
    {
     "data": {
      "text/plain": [
       "[('face', 0.3333333333333333),\n",
       " ('eyes', 0.16666666666666666),\n",
       " ('nature', 0.16666666666666666),\n",
       " ('and', 0.16666666666666666),\n",
       " ('enough', 0.16666666666666666)]"
      ]
     },
     "execution_count": 51,
     "metadata": {},
     "output_type": "execute_result"
    }
   ],
   "source": [
    "model[\"eager\"]"
   ]
  },
  {
   "cell_type": "markdown",
   "id": "0b86b074-a7f7-467f-8f44-1f586fedd3b5",
   "metadata": {},
   "source": [
    "### Naive approach, always take the next word with the highest probability"
   ]
  },
  {
   "cell_type": "code",
   "execution_count": 54,
   "id": "a463bd79-a4a6-4e0f-8464-75a10838b628",
   "metadata": {},
   "outputs": [],
   "source": [
    "def generate_sentences_naive(model, seed_word = \"woman\", num_words = 30):\n",
    "    ... your code ..."
   ]
  },
  {
   "cell_type": "code",
   "execution_count": 55,
   "id": "7ae96269-f2a4-4a2f-ae84-1627c6992dfe",
   "metadata": {},
   "outputs": [
    {
     "name": "stdout",
     "output_type": "stream",
     "text": [
      "woman i have been a little more than the door and i have been a little more than the door and i have been a little more than the door \n",
      "--------------------------------------------------\n",
      "end of generating sentences\n"
     ]
    }
   ],
   "source": [
    "generate_sentences_naive(model)"
   ]
  },
  {
   "cell_type": "markdown",
   "id": "0fdfc82a-c517-45bb-94a5-c8b1ca37c292",
   "metadata": {},
   "source": [
    "### Better Approach, take the next word based on the probabilities we have computed\n",
    "\n",
    "I have used the `choice` method from `numpy.random` (https://stackoverflow.com/questions/3679694/a-weighted-version-of-random-choice)"
   ]
  },
  {
   "cell_type": "code",
   "execution_count": 58,
   "id": "905fafa3-eb55-4dfb-9221-2ceb7580b35f",
   "metadata": {},
   "outputs": [],
   "source": [
    "from numpy.random import choice\n",
    "\n",
    "def generate_sentences(model, seed_word = \"love\", num_words = 50):\n",
    "    ... your code ..."
   ]
  },
  {
   "cell_type": "code",
   "execution_count": 59,
   "id": "d6cd6948-14a6-4180-894e-4c253b574630",
   "metadata": {},
   "outputs": [
    {
     "name": "stdout",
     "output_type": "stream",
     "text": [
      "love matter lady my eye on different matter so sorely and down between the barred was face seared with only bring up wellington street sherlock holmes i oh the tip had still of iron piping not to me introduce a cellar which could at climbing down from if possible that \n",
      "--------------------------------------------------\n",
      "end of generating sentences\n"
     ]
    }
   ],
   "source": [
    "generate_sentences(model)"
   ]
  },
  {
   "cell_type": "markdown",
   "id": "1175ca73-a67c-460f-b84a-ac938cda75c2",
   "metadata": {},
   "source": [
    "# Stop the Cluster"
   ]
  },
  {
   "cell_type": "code",
   "execution_count": 60,
   "id": "2fd0d9c4-7b56-4e8b-8454-714cbaca60f3",
   "metadata": {},
   "outputs": [],
   "source": [
    "sc.stop()"
   ]
  }
 ],
 "metadata": {
  "kernelspec": {
   "display_name": "Python 3 (ipykernel)",
   "language": "python",
   "name": "python3"
  },
  "language_info": {
   "codemirror_mode": {
    "name": "ipython",
    "version": 3
   },
   "file_extension": ".py",
   "mimetype": "text/x-python",
   "name": "python",
   "nbconvert_exporter": "python",
   "pygments_lexer": "ipython3",
   "version": "3.8.10"
  }
 },
 "nbformat": 4,
 "nbformat_minor": 5
}
