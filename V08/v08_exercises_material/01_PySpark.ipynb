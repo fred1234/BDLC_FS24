{
 "cells": [
  {
   "cell_type": "markdown",
   "metadata": {},
   "source": [
    "# Copyright\n",
    "\n",
    "This exercise comes from [pnavaro](https://github.com/pnavaro/big-data) and has been modified to work in our environment."
   ]
  },
  {
   "cell_type": "markdown",
   "metadata": {
    "cell_id": "00000-a579b3bd-6eb6-4445-8bb9-82fb1dc1e072",
    "deepnote_cell_type": "markdown"
   },
   "source": [
    "# PySpark\n",
    "\n",
    "![Logo](./images/apache_spark_logo.png)"
   ]
  },
  {
   "cell_type": "markdown",
   "metadata": {
    "cell_id": "00001-bf31e048-ace9-4993-8da2-5f1af4015c57",
    "deepnote_cell_type": "markdown"
   },
   "source": [
    "- [Apache Spark](https://spark.apache.org) was first released in 2014. \n",
    "- It was originally developed by [Matei Zaharia](http://people.csail.mit.edu/matei) as a class project, and later a PhD dissertation, at University of California, Berkeley.\n",
    "- Spark is written in [Scala](https://www.scala-lang.org).\n",
    "- All images come from [Databricks](https://databricks.com/product/getting-started-guide)."
   ]
  },
  {
   "cell_type": "markdown",
   "metadata": {
    "cell_id": "00002-bb8dce6d-d8e9-486b-818d-f6dcc250b446",
    "deepnote_cell_type": "markdown"
   },
   "source": [
    "- Apache Spark is a fast and general-purpose cluster computing system. \n",
    "- It provides high-level APIs in Java, Scala, Python and R, and an optimized engine that supports general execution graphs.\n",
    "- Spark can manage \"big data\" collections with a small set of high-level primitives like `map`, `filter`, `groupby`, and `join`.  With these common patterns we can often handle computations that are more complex than map, but are still structured.\n",
    "- It also supports a rich set of higher-level tools including [Spark SQL](https://spark.apache.org/docs/latest/sql-programming-guide.html) for SQL and structured data processing, [MLlib](https://spark.apache.org/docs/latest/ml-guide.html) for machine learning, [GraphX](https://spark.apache.org/docs/latest/graphx-programming-guide.html) for graph processing, and Spark Streaming."
   ]
  },
  {
   "cell_type": "markdown",
   "metadata": {
    "cell_id": "00003-d67dd6f1-d704-4caa-81cf-5a9071b62f17",
    "deepnote_cell_type": "markdown"
   },
   "source": [
    "## Resilient distributed datasets\n",
    "\n",
    "- The fundamental abstraction of Apache Spark is a read-only, parallel, distributed, fault-tolerent collection called a resilient distributed datasets (RDD).\n",
    "- RDDs behave a bit like Python collections (e.g. lists).\n",
    "- When working with Apache Spark we iteratively apply functions to every item of these collections in parallel to produce *new* RDDs.\n",
    "- The data is distributed across nodes in a cluster of computers.\n",
    "- Functions implemented in Spark can work in parallel across elements of the collection.\n",
    "- The  Spark framework allocates data and processing to different nodes, without any intervention from the programmer.\n",
    "- RDDs automatically rebuilt on machine failure."
   ]
  },
  {
   "cell_type": "markdown",
   "metadata": {
    "cell_id": "00004-befe75de-d238-405e-81e7-38cedbf082ce",
    "deepnote_cell_type": "markdown"
   },
   "source": [
    "## Lifecycle of a Spark Program\n",
    "\n",
    "1. Create some input RDDs from external data or parallelize a collection in your driver program.\n",
    "2. Lazily transform them to define new RDDs using transformations like `filter()` or `map()`\n",
    "3. Ask Spark to cache() any intermediate RDDs that will need to be reused.\n",
    "4. Launch actions such as count() and collect() to kick off a parallel computation, which is then optimized and executed by Spark."
   ]
  },
  {
   "cell_type": "markdown",
   "metadata": {
    "cell_id": "00005-7b21b99e-f856-4c8e-9be8-3c9e9f4e9630",
    "deepnote_cell_type": "markdown"
   },
   "source": [
    "## Operations on Distributed Data\n",
    "\n",
    "- Two types of operations: **transformations** and **actions**\n",
    "- Transformations are *lazy* (not computed immediately) \n",
    "- Transformations are executed when an action is run"
   ]
  },
  {
   "cell_type": "markdown",
   "metadata": {
    "cell_id": "00006-d114d429-bb93-4c93-affc-216589f7db5e",
    "deepnote_cell_type": "markdown"
   },
   "source": [
    "## [Transformations](https://spark.apache.org/docs/latest/rdd-programming-guide.html#transformations) (lazy)\n",
    "\n",
    "```\n",
    "map() flatMap()\n",
    "filter() \n",
    "mapPartitions() mapPartitionsWithIndex() \n",
    "sample()\n",
    "union() intersection() distinct()\n",
    "groupBy() groupByKey()\n",
    "reduceBy() reduceByKey()\n",
    "sortBy() sortByKey()\n",
    "join()\n",
    "cogroup()\n",
    "cartesian()\n",
    "pipe()\n",
    "coalesce()\n",
    "repartition()\n",
    "partitionBy()\n",
    "...\n",
    "```"
   ]
  },
  {
   "cell_type": "markdown",
   "metadata": {
    "cell_id": "00007-c19d8245-7c9f-407b-8518-0cdbb557be79",
    "deepnote_cell_type": "markdown"
   },
   "source": [
    "## [Actions](https://spark.apache.org/docs/latest/rdd-programming-guide.html#actions)\n",
    "\n",
    "```\n",
    "reduce()\n",
    "collect()\n",
    "count()\n",
    "first()\n",
    "take()\n",
    "takeSample()\n",
    "saveToCassandra()\n",
    "takeOrdered()\n",
    "saveAsTextFile()\n",
    "saveAsSequenceFile()\n",
    "saveAsObjectFile()\n",
    "countByKey()\n",
    "foreach()\n",
    "```"
   ]
  },
  {
   "cell_type": "markdown",
   "metadata": {
    "cell_id": "00008-385816d2-d5dd-4556-a0ec-2bbc0d0f54dc",
    "deepnote_cell_type": "markdown"
   },
   "source": [
    "## Python API\n",
    "\n",
    "PySpark uses Py4J that enables Python programs to dynamically access Java objects.\n",
    "\n",
    "![PySpark Internals](images/YlI8AqEl.png)"
   ]
  },
  {
   "cell_type": "markdown",
   "metadata": {
    "cell_id": "00009-f66ff6fd-edde-4c4c-bfa1-ba0d1d96ba97",
    "deepnote_cell_type": "markdown"
   },
   "source": [
    "## The `SparkContext` class\n",
    "\n",
    "- When working with Apache Spark we invoke methods on an object which is an instance of the `pyspark.SparkContext` context.\n",
    "\n",
    "- Typically, an instance of this object will be created automatically for you and assigned to the variable `sc`.\n",
    "\n",
    "- The `parallelize` method in `SparkContext` can be used to turn any ordinary Python collection into an RDD;\n",
    "    - normally we would create an RDD from a large file or an HBase table."
   ]
  },
  {
   "cell_type": "markdown",
   "metadata": {
    "cell_id": "00010-a1e30157-0efd-490d-8b63-459dfb96da8a",
    "deepnote_cell_type": "markdown"
   },
   "source": [
    "## First example\n",
    "\n",
    "PySpark isn't on sys.path by default, but that doesn't mean it can't be used as a regular library. You can address this by either symlinking pyspark into your site-packages, or adding pyspark to sys.path at runtime. [findspark](https://github.com/minrk/findspark) does the latter.\n",
    "\n",
    "We have a spark context sc to use with a tiny local spark cluster with 4 nodes (will work just fine on a multicore machine)."
   ]
  },
  {
   "cell_type": "code",
   "execution_count": null,
   "metadata": {
    "cell_id": "00012-8698152c-385e-4d22-ae56-408429b08600",
    "deepnote_cell_type": "code",
    "execution_millis": 4,
    "execution_start": 1606208122779,
    "output_cleared": false,
    "source_hash": "a22d9657"
   },
   "outputs": [],
   "source": [
    "import findspark\n",
    "import pyspark\n",
    "\n",
    "findspark.init()\n",
    "sc = pyspark.SparkContext(appName=\"Exercise Spark RDD\")"
   ]
  },
  {
   "cell_type": "code",
   "execution_count": null,
   "metadata": {
    "cell_id": "00015-bf748379-3532-453e-8058-f4fc6531a830",
    "deepnote_cell_type": "code",
    "execution_millis": 5,
    "execution_start": 1606208288902,
    "output_cleared": false,
    "source_hash": "3831e90d"
   },
   "outputs": [],
   "source": [
    "print(sc) # it is like a Pool Processor executor"
   ]
  },
  {
   "cell_type": "markdown",
   "metadata": {
    "cell_id": "00016-192e38d9-530b-4b44-82f2-0e98ab5d8379",
    "deepnote_cell_type": "markdown"
   },
   "source": [
    "## Create your first RDD"
   ]
  },
  {
   "cell_type": "code",
   "execution_count": null,
   "metadata": {
    "cell_id": "00017-6079893b-b1de-4a98-91ee-cbc10b34cb56",
    "deepnote_cell_type": "code",
    "execution_millis": 549,
    "execution_start": 1606208314201,
    "output_cleared": false,
    "source_hash": "27883792"
   },
   "outputs": [],
   "source": [
    "data = list(range(8))\n",
    "rdd = sc.parallelize(data) # create collection\n",
    "rdd"
   ]
  },
  {
   "cell_type": "code",
   "execution_count": null,
   "metadata": {},
   "outputs": [],
   "source": [
    "import os\n",
    "path = os.getcwd()\n",
    "print(path)"
   ]
  },
  {
   "cell_type": "markdown",
   "metadata": {
    "cell_id": "00018-3d4cb001-a63e-4efa-a375-656a819b62f7",
    "deepnote_cell_type": "markdown"
   },
   "source": [
    "### Exercise\n",
    "\n",
    "Create a file `sample.txt`with lorem package. Read and load it into a RDD with the `textFile` spark function."
   ]
  },
  {
   "cell_type": "markdown",
   "metadata": {},
   "source": [
    "### note from frederick egli: If you get \"no module named 'faker'\", you need to install it.. try to search for the library here: https://pypi.org/"
   ]
  },
  {
   "cell_type": "code",
   "execution_count": null,
   "metadata": {
    "cell_id": "00019-2d925cb0-f03e-475c-8f9f-59d9930824b3",
    "deepnote_cell_type": "code",
    "execution_millis": 104,
    "execution_start": 1606208752430,
    "output_cleared": false,
    "source_hash": "6dc5b4c8"
   },
   "outputs": [],
   "source": [
    "from faker import Faker\n",
    "fake = Faker()\n",
    "Faker.seed(0)\n",
    "\n",
    "with open(\"sample.txt\",\"w\") as f:\n",
    "    f.write(fake.text(max_nb_chars=1000))\n",
    "    \n",
    "rdd = sc.textFile(f\"file:///{path}/sample.txt\")"
   ]
  },
  {
   "cell_type": "markdown",
   "metadata": {
    "cell_id": "00020-f8161a29-5442-40bc-b3ad-314ac079b925",
    "deepnote_cell_type": "markdown"
   },
   "source": [
    "### Collect\n",
    "\n",
    "Action / To Driver: Return all items in the RDD to the driver in a single list\n",
    "\n",
    "![](images/DUO6ygB.png)\n",
    "\n",
    "Source: https://i.imgur.com/DUO6ygB.png\n",
    "\n",
    "### Exercise \n",
    "\n",
    "Collect the text you read before from the `sample.txt`file."
   ]
  },
  {
   "cell_type": "code",
   "execution_count": null,
   "metadata": {},
   "outputs": [],
   "source": [
    "# your spark code ..."
   ]
  },
  {
   "cell_type": "markdown",
   "metadata": {
    "cell_id": "00021-88914dd9-d7ed-435c-988d-b333620a63f9",
    "deepnote_cell_type": "markdown"
   },
   "source": [
    "### Map\n",
    "\n",
    "Transformation / Narrow: Return a new RDD by applying a function to each element of this RDD\n",
    "\n",
    "![](images/PxNJf0U.png)\n",
    "\n",
    "Source: http://i.imgur.com/PxNJf0U.png"
   ]
  },
  {
   "cell_type": "code",
   "execution_count": null,
   "metadata": {
    "cell_id": "00022-e19738f1-5568-4e01-a918-31f95720f79a",
    "deepnote_cell_type": "code",
    "execution_millis": 2412,
    "execution_start": 1605183503558,
    "output_cleared": false,
    "source_hash": "8210a3cb"
   },
   "outputs": [],
   "source": [
    "rdd = sc.parallelize(list(range(8)))\n",
    "rdd.map(lambda x: x ** 2).collect() # Square each element"
   ]
  },
  {
   "cell_type": "markdown",
   "metadata": {
    "cell_id": "00023-096cde31-3814-4827-a025-e528f1021b55",
    "deepnote_cell_type": "markdown"
   },
   "source": [
    "### Exercise\n",
    "\n",
    "Replace the lambda function by a function that contains a pause (sleep(1)) and check if the `map` operation is parallelized."
   ]
  },
  {
   "cell_type": "code",
   "execution_count": null,
   "metadata": {},
   "outputs": [],
   "source": [
    "import time\n",
    "# time.sleep(1) sleeeps one second\n",
    "\n",
    "# your spark code ..."
   ]
  },
  {
   "cell_type": "markdown",
   "metadata": {
    "cell_id": "00024-0a7d639a-570b-49d3-a71a-7330ec203bc8",
    "deepnote_cell_type": "markdown"
   },
   "source": [
    "### Filter\n",
    "\n",
    "Transformation / Narrow: Return a new RDD containing only the elements that satisfy a predicate\n",
    "\n",
    "![](images/GFyji4U.png)\n",
    "Source: http://i.imgur.com/GFyji4U.png"
   ]
  },
  {
   "cell_type": "code",
   "execution_count": null,
   "metadata": {
    "cell_id": "00025-9893a281-e7fd-49e4-880e-c18c223437e2",
    "deepnote_cell_type": "code"
   },
   "outputs": [],
   "source": [
    "# Select only the even elements\n",
    "rdd.filter(lambda x: x % 2 == 0).collect()"
   ]
  },
  {
   "cell_type": "markdown",
   "metadata": {
    "cell_id": "00026-c2044f27-66c2-49e4-a2c3-1551769fc2fe",
    "deepnote_cell_type": "markdown"
   },
   "source": [
    "### FlatMap\n",
    "\n",
    "Transformation / Narrow: Return a new RDD by first applying a function to all elements of this RDD, and then flattening the results\n",
    "\n",
    "![](images/TsSUex8.png)"
   ]
  },
  {
   "cell_type": "code",
   "execution_count": null,
   "metadata": {
    "cell_id": "00027-eab04ee2-2189-474e-b0ee-7cdf04d51334",
    "deepnote_cell_type": "code",
    "execution_millis": 1423,
    "execution_start": 1606209096798,
    "output_cleared": false,
    "source_hash": "ed69af29"
   },
   "outputs": [],
   "source": [
    "rdd = sc.parallelize([1,2,3])\n",
    "rdd.flatMap(lambda x: (x, x*100, 42)).collect()"
   ]
  },
  {
   "cell_type": "markdown",
   "metadata": {
    "cell_id": "00028-d3078029-dd5d-4852-a84f-4fb134597c5d",
    "deepnote_cell_type": "markdown"
   },
   "source": [
    "### Exercise\n",
    "\n",
    "Use FlatMap to clean the text from `sample.txt`file. Lower, remove dots and split into words.\n"
   ]
  },
  {
   "cell_type": "code",
   "execution_count": null,
   "metadata": {},
   "outputs": [],
   "source": []
  },
  {
   "cell_type": "markdown",
   "metadata": {},
   "source": [
    "### GroupBy\n",
    "\n",
    "Transformation / Wide: Group the data in the original RDD. Create pairs where the key is the output of a user function, and the value is all items for which the function yields this key.\n",
    "\n",
    "![](images/gdj0Ey8.png)"
   ]
  },
  {
   "cell_type": "code",
   "execution_count": null,
   "metadata": {
    "cell_id": "00029-93936a32-6fc4-4c60-b38d-7935aa2df61f",
    "deepnote_cell_type": "code"
   },
   "outputs": [],
   "source": [
    "rdd = sc.parallelize(['John', 'Fred', 'Anna', 'James'])\n",
    "rdd = rdd.groupBy(lambda w: w[0])\n",
    "[(k, list(v)) for (k, v) in rdd.collect()]"
   ]
  },
  {
   "cell_type": "markdown",
   "metadata": {
    "cell_id": "00030-dd9efd67-bc72-4eb5-9e07-0a94bd233e13",
    "deepnote_cell_type": "markdown"
   },
   "source": [
    "### GroupByKey\n",
    "\n",
    "Transformation / Wide: Group the values for each key in the original RDD. Create a new pair where the original key corresponds to this collected group of values.\n",
    "\n",
    "![](images/TlWRGr2.png)"
   ]
  },
  {
   "cell_type": "code",
   "execution_count": null,
   "metadata": {
    "cell_id": "00031-bc1d6a4c-8103-42a9-a39a-ee8d80680447",
    "deepnote_cell_type": "code"
   },
   "outputs": [],
   "source": [
    "rdd = sc.parallelize([('B',5),('B',4),('A',3),('A',2),('A',1)])\n",
    "rdd = rdd.groupByKey()\n",
    "[(j[0], list(j[1])) for j in rdd.collect()]"
   ]
  },
  {
   "cell_type": "markdown",
   "metadata": {
    "cell_id": "00032-6cff9fda-3f13-4b2b-9b2e-580ad83ecf5f",
    "deepnote_cell_type": "markdown"
   },
   "source": [
    "### Join\n",
    "\n",
    "Transformation / Wide: Return a new RDD containing all pairs of elements having the same key in the original RDDs\n",
    "\n",
    "![](images/YXL42Nl.png)"
   ]
  },
  {
   "cell_type": "code",
   "execution_count": null,
   "metadata": {
    "cell_id": "00033-10e3b4f2-3f6f-4a99-adac-d8bc8c92c2e9",
    "deepnote_cell_type": "code"
   },
   "outputs": [],
   "source": [
    "x = sc.parallelize([(\"a\", 1), (\"b\", 2)])\n",
    "y = sc.parallelize([(\"a\", 3), (\"a\", 4), (\"b\", 5)])\n",
    "x.join(y).collect()"
   ]
  },
  {
   "cell_type": "markdown",
   "metadata": {
    "cell_id": "00034-7746caa4-cfd5-4206-b12d-f0fe01d65803",
    "deepnote_cell_type": "markdown"
   },
   "source": [
    "### Distinct\n",
    "\n",
    "Transformation / Wide: Return a new RDD containing distinct items from the original RDD (omitting all duplicates)\n",
    "\n",
    "![](images/Vqgy2a4.png)"
   ]
  },
  {
   "cell_type": "code",
   "execution_count": null,
   "metadata": {
    "cell_id": "00035-fd077e6b-1166-4fca-b5e8-c9a310dc59e7",
    "deepnote_cell_type": "code"
   },
   "outputs": [],
   "source": [
    "rdd = sc.parallelize([1,2,3,3,4])\n",
    "rdd.distinct().collect()"
   ]
  },
  {
   "cell_type": "markdown",
   "metadata": {
    "cell_id": "00036-fdbf2aa3-158f-44a2-82a3-fab846eb5ab7",
    "deepnote_cell_type": "markdown"
   },
   "source": [
    "### KeyBy\n",
    "\n",
    "Transformation / Narrow: Create a Pair RDD, forming one pair for each item in the original RDD. The pair’s key is calculated from the value via a user-supplied function.\n",
    "\n",
    "![](images/nqYhDW5.png)"
   ]
  },
  {
   "cell_type": "code",
   "execution_count": null,
   "metadata": {
    "cell_id": "00037-e13e8ce6-ad59-4cb9-a672-336afba96873",
    "deepnote_cell_type": "code"
   },
   "outputs": [],
   "source": [
    "rdd = sc.parallelize(['John', 'Fred', 'Anna', 'James'])\n",
    "rdd.keyBy(lambda w: w[0]).collect()"
   ]
  },
  {
   "cell_type": "markdown",
   "metadata": {
    "cell_id": "00038-ee1a58a6-954d-4994-a48a-d5a98ac09051",
    "deepnote_cell_type": "markdown"
   },
   "source": [
    "## Actions\n",
    "\n",
    "### Map-Reduce operation \n",
    "\n",
    "Action / To Driver: Aggregate all the elements of the RDD by applying a user function pairwise to elements and partial results, and return a result to the driver\n",
    "\n",
    "![](images/R72uzwX.png)"
   ]
  },
  {
   "cell_type": "code",
   "execution_count": null,
   "metadata": {
    "cell_id": "00039-cc090acd-104b-4683-844f-153af8f2956d",
    "deepnote_cell_type": "code"
   },
   "outputs": [],
   "source": [
    "from operator import add\n",
    "rdd = sc.parallelize(list(range(8)))\n",
    "rdd.map(lambda x: x ** 2).reduce(add) # reduce is an action!"
   ]
  },
  {
   "cell_type": "markdown",
   "metadata": {
    "cell_id": "00040-a9e8e4e8-143f-403e-b11c-67b97832198b",
    "deepnote_cell_type": "markdown"
   },
   "source": [
    "### Max, Min, Sum, Mean, Variance, Stdev\n",
    "\n",
    "Action / To Driver: Compute the respective function (maximum value, minimum value, sum, mean, variance, or standard deviation) from a numeric RDD\n",
    "\n",
    "![](images/HUCtib1.png)"
   ]
  },
  {
   "cell_type": "markdown",
   "metadata": {
    "cell_id": "00041-e22cf358-c375-48c8-ba0b-5489d848df67",
    "deepnote_cell_type": "markdown"
   },
   "source": [
    "### CountByKey\n",
    "\n",
    "Action / To Driver: Return a map of keys and counts of their occurrences in the RDD\n",
    "\n",
    "![](images/jvQTGv6.png)"
   ]
  },
  {
   "cell_type": "code",
   "execution_count": null,
   "metadata": {
    "cell_id": "00042-613102f2-fea1-436a-a695-8169201af599",
    "deepnote_cell_type": "code"
   },
   "outputs": [],
   "source": [
    "rdd = sc.parallelize([('J', 'James'), ('F','Fred'), \n",
    "                    ('A','Anna'), ('J','John')])\n",
    "\n",
    "rdd.countByKey()"
   ]
  },
  {
   "cell_type": "markdown",
   "metadata": {},
   "source": [
    "## Stop the Local Spark Cluster"
   ]
  },
  {
   "cell_type": "code",
   "execution_count": null,
   "metadata": {
    "cell_id": "00043-a8624fda-21b4-4d84-b41a-0b2f94951a4a",
    "deepnote_cell_type": "code"
   },
   "outputs": [],
   "source": [
    "sc.stop()"
   ]
  }
 ],
 "metadata": {
  "deepnote_execution_queue": [],
  "deepnote_notebook_id": "53ba4a86-7d9e-483d-acb5-582d7555be2b",
  "interpreter": {
   "hash": "b0fa6594d8f4cbf19f97940f81e996739fb7646882a419484c72d19e05852a7e"
  },
  "jupytext": {
   "text_representation": {
    "extension": ".md",
    "format_name": "myst",
    "format_version": "0.9",
    "jupytext_version": "1.5.2"
   }
  },
  "kernelspec": {
   "display_name": "Python 3 (ipykernel)",
   "language": "python",
   "name": "python3"
  },
  "language_info": {
   "codemirror_mode": {
    "name": "ipython",
    "version": 3
   },
   "file_extension": ".py",
   "mimetype": "text/x-python",
   "name": "python",
   "nbconvert_exporter": "python",
   "pygments_lexer": "ipython3",
   "version": "3.8.10"
  },
  "source_map": [
   13,
   19,
   26,
   33,
   45,
   54,
   62,
   85,
   105,
   113,
   124,
   134,
   143,
   148,
   153,
   160,
   162,
   166,
   170,
   176,
   183,
   197,
   207,
   210,
   216,
   225,
   228,
   236,
   239,
   251,
   255,
   263,
   267,
   275,
   279,
   287,
   290,
   298,
   301,
   311,
   315,
   323,
   331,
   338,
   341,
   347,
   351,
   392,
   398,
   402,
   407,
   413,
   428,
   439,
   443,
   459,
   463,
   467,
   473,
   477,
   493,
   499,
   503,
   509,
   513,
   525
  ]
 },
 "nbformat": 4,
 "nbformat_minor": 4
}
