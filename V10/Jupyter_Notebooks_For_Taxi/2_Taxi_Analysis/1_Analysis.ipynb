{
 "cells": [
  {
   "cell_type": "code",
   "execution_count": null,
   "id": "11f07f72-cc7d-40ba-ae35-7416af95725a",
   "metadata": {
    "tags": []
   },
   "outputs": [],
   "source": [
    "from pyspark.sql import SparkSession\n",
    "\n",
    "spark = SparkSession \\\n",
    "    .builder \\\n",
    "    .appName(\"Analysis\") \\\n",
    "    .getOrCreate()"
   ]
  },
  {
   "cell_type": "markdown",
   "id": "850ddc49-039c-40a7-84a9-be562115e33c",
   "metadata": {},
   "source": [
    "# Read all Data and Cache "
   ]
  },
  {
   "cell_type": "code",
   "execution_count": null,
   "id": "ee2f1fab-e6fd-4ca1-b3a3-25e35f58205d",
   "metadata": {
    "tags": []
   },
   "outputs": [],
   "source": [
    "import pyspark.sql.functions as f\n",
    "all_data = spark.read.parquet(f\"/taxi/dataset.parquet\")"
   ]
  },
  {
   "cell_type": "code",
   "execution_count": null,
   "id": "d7930739-c881-4981-a776-dee9dfcc923a",
   "metadata": {
    "tags": []
   },
   "outputs": [],
   "source": [
    "import pyspark.sql.functions as f"
   ]
  },
  {
   "cell_type": "code",
   "execution_count": null,
   "id": "c199b2e5-f52e-43c3-a7f1-d0ef57fe8f56",
   "metadata": {
    "tags": []
   },
   "outputs": [],
   "source": [
    "%%time\n",
    "all_data.cache()\n",
    "all_data.count()"
   ]
  },
  {
   "cell_type": "code",
   "execution_count": null,
   "id": "9805c23d-2919-43fc-9f49-d8e66ffe9df4",
   "metadata": {
    "tags": []
   },
   "outputs": [],
   "source": [
    "%%time\n",
    "all_data.count()"
   ]
  },
  {
   "cell_type": "code",
   "execution_count": null,
   "id": "32129e15-925c-43f7-9b25-8ec523e955bc",
   "metadata": {
    "tags": []
   },
   "outputs": [],
   "source": [
    "all_data.printSchema()"
   ]
  },
  {
   "cell_type": "code",
   "execution_count": null,
   "id": "269474ef-1054-46ab-83dd-0c9b2906e382",
   "metadata": {
    "tags": []
   },
   "outputs": [],
   "source": [
    "all_data.show(2)"
   ]
  },
  {
   "cell_type": "markdown",
   "id": "07414432-601a-4305-ac3b-7ff05eab1200",
   "metadata": {},
   "source": [
    "## Analysis"
   ]
  },
  {
   "cell_type": "markdown",
   "id": "849a0db2-a45d-43ff-982e-cb1bfb14ad9c",
   "metadata": {},
   "source": [
    "### Year"
   ]
  },
  {
   "cell_type": "code",
   "execution_count": null,
   "id": "58dbeb7b-f6ce-442f-a4f9-694f15063509",
   "metadata": {
    "tags": []
   },
   "outputs": [],
   "source": [
    "all_data.select(\"year\").distinct().orderBy(\"year\").show(20)"
   ]
  },
  {
   "cell_type": "code",
   "execution_count": null,
   "id": "68dccdd9-7bc3-4ec0-a56d-a5339d35534a",
   "metadata": {
    "tags": []
   },
   "outputs": [],
   "source": [
    "yearly_data = (\n",
    "    all_data.groupBy(\"year\").count().orderBy(\"year\")\n",
    ").toPandas()"
   ]
  },
  {
   "cell_type": "code",
   "execution_count": null,
   "id": "fe5d040d-31c6-48ae-9dc8-57641bc8ffe9",
   "metadata": {
    "tags": []
   },
   "outputs": [],
   "source": [
    "yearly_data.plot(\n",
    "    x='year', y='count', figsize=(12, 6), \n",
    "    title='Rides per Year',\n",
    "    legend=False,\n",
    "    kind='bar',\n",
    "    xlabel='Year',\n",
    "    ylabel='Rides'\n",
    ")"
   ]
  },
  {
   "cell_type": "markdown",
   "id": "ecadfc4b-d186-4324-82f9-eb2ad97938d9",
   "metadata": {},
   "source": [
    "### Corona?"
   ]
  },
  {
   "cell_type": "code",
   "execution_count": null,
   "id": "8294a291-e753-46bd-a4df-8cf276be59bd",
   "metadata": {
    "tags": []
   },
   "outputs": [],
   "source": [
    "yyyy_mm = (\n",
    "    all_data.filter(\"year >= 2019\").groupBy(\"year\", \"month\").count().orderBy(\"year\", \"month\").withColumn(\"yyyy-mm\", f.concat_ws(\"-\", \"year\", \"month\"))\n",
    ").toPandas()"
   ]
  },
  {
   "cell_type": "code",
   "execution_count": null,
   "id": "29c1747f-6266-4cc2-a851-167c2d9bbe9a",
   "metadata": {
    "tags": []
   },
   "outputs": [],
   "source": [
    "yyyy_mm.plot(\n",
    "    x='yyyy-mm', y='count', figsize=(36, 6), \n",
    "    title='Rides in 2016',\n",
    "    legend=False,\n",
    "    kind='bar',\n",
    "    xlabel='Month',\n",
    "    ylabel='Rides'\n",
    ")"
   ]
  },
  {
   "cell_type": "markdown",
   "id": "e49de9ea-9184-48d2-98cd-806bdb08b7f2",
   "metadata": {},
   "source": [
    "### January 2016"
   ]
  },
  {
   "cell_type": "code",
   "execution_count": null,
   "id": "621252db-8cf9-4e2f-861c-73754179951e",
   "metadata": {
    "tags": []
   },
   "outputs": [],
   "source": [
    "jan = all_data.filter(\"year = 2016\").filter(\"month = 01\").withColumn('day', f.dayofmonth(\"pickup_datetime\"))"
   ]
  },
  {
   "cell_type": "code",
   "execution_count": null,
   "id": "0def11be-38ee-4b99-bd2a-433fe339eb13",
   "metadata": {
    "tags": []
   },
   "outputs": [],
   "source": [
    "jan.show(2)"
   ]
  },
  {
   "cell_type": "code",
   "execution_count": null,
   "id": "f9b9b42a-a068-43c8-8206-5b87bf90a0fc",
   "metadata": {
    "tags": []
   },
   "outputs": [],
   "source": [
    "data_jan = (\n",
    "    jan.groupBy(\"day\").count().orderBy(\"day\")\n",
    ").toPandas()"
   ]
  },
  {
   "cell_type": "code",
   "execution_count": null,
   "id": "082e979e-b8ae-46a3-9e7c-6b5fe4e782bd",
   "metadata": {
    "tags": []
   },
   "outputs": [],
   "source": [
    "data_jan.plot(\n",
    "    x='day', y='count', figsize=(12, 6), \n",
    "    title='Rides in Jan/2016',\n",
    "    legend=False,\n",
    "    kind='bar',\n",
    "    xlabel='Days',\n",
    "    ylabel='Rides'\n",
    ")"
   ]
  },
  {
   "cell_type": "markdown",
   "id": "22ce5620-693d-496c-a83a-f1c8ac3d7007",
   "metadata": {},
   "source": [
    "### Tipping"
   ]
  },
  {
   "cell_type": "code",
   "execution_count": null,
   "id": "5f6ff7aa-9cc8-4478-9508-20ddf8de23f2",
   "metadata": {
    "tags": []
   },
   "outputs": [],
   "source": [
    "df = all_data.filter(\"payment_type = 1 or payment_type = 2\").withColumn(\"percentage_tip\", f.round(f.expr(\"100*tip_amount/trip_amount\"),0))"
   ]
  },
  {
   "cell_type": "code",
   "execution_count": null,
   "id": "95689424-06b5-417f-8d6d-1540b57dedc1",
   "metadata": {
    "tags": []
   },
   "outputs": [],
   "source": [
    "df.show(10)"
   ]
  },
  {
   "cell_type": "code",
   "execution_count": null,
   "id": "c6540821-ff99-4c80-a944-af1133b40ce4",
   "metadata": {
    "tags": []
   },
   "outputs": [],
   "source": [
    "filtered = df.filter(\"percentage_tip >= 0\").filter(\"percentage_tip < 50\").filter(\"payment_type = 1\")"
   ]
  },
  {
   "cell_type": "code",
   "execution_count": null,
   "id": "3b6654aa-8c5f-46ac-b394-a3ae9be3960f",
   "metadata": {
    "tags": []
   },
   "outputs": [],
   "source": [
    "data = (\n",
    "    filtered.groupBy(\"percentage_tip\").count().orderBy(\"percentage_tip\")\n",
    ").toPandas()"
   ]
  },
  {
   "cell_type": "code",
   "execution_count": null,
   "id": "852c69e4-c87e-4d9e-beed-28221dc3ddf6",
   "metadata": {
    "tags": []
   },
   "outputs": [],
   "source": [
    "data.plot(\n",
    "    x='percentage_tip', y='count', figsize=(24, 12), \n",
    "    title='Tip',\n",
    "    legend=False,\n",
    "    kind='bar',\n",
    "    xlabel='Tip [%]',\n",
    "    ylabel='Count'\n",
    ")"
   ]
  },
  {
   "cell_type": "markdown",
   "id": "1360f609-4661-4f2b-a051-3970ad81df06",
   "metadata": {},
   "source": [
    "### Stopping Spark "
   ]
  },
  {
   "cell_type": "code",
   "execution_count": null,
   "id": "bf963070-6ca8-4273-a383-1ffcb7766247",
   "metadata": {},
   "outputs": [],
   "source": [
    "spark.stop()"
   ]
  },
  {
   "cell_type": "code",
   "execution_count": null,
   "id": "636d2f20-1d6e-48ca-9e28-27d554548563",
   "metadata": {},
   "outputs": [],
   "source": []
  }
 ],
 "metadata": {
  "kernelspec": {
   "display_name": "Python 3 (ipykernel)",
   "language": "python",
   "name": "python3"
  },
  "language_info": {
   "codemirror_mode": {
    "name": "ipython",
    "version": 3
   },
   "file_extension": ".py",
   "mimetype": "text/x-python",
   "name": "python",
   "nbconvert_exporter": "python",
   "pygments_lexer": "ipython3",
   "version": "3.8.10"
  }
 },
 "nbformat": 4,
 "nbformat_minor": 5
}
