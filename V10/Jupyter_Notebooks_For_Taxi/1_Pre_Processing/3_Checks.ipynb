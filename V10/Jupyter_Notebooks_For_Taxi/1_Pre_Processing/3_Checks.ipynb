{
 "cells": [
  {
   "cell_type": "code",
   "execution_count": null,
   "id": "1e716e79-6609-4894-b999-14e6dca4c856",
   "metadata": {
    "tags": []
   },
   "outputs": [],
   "source": [
    "from pyspark.sql import SparkSession\n",
    "\n",
    "spark = SparkSession \\\n",
    "    .builder \\\n",
    "    .appName(\"Checks\") \\\n",
    "    .getOrCreate()"
   ]
  },
  {
   "cell_type": "code",
   "execution_count": null,
   "id": "8acd7041-80ee-45ef-8437-c4a9c34d34a7",
   "metadata": {
    "tags": []
   },
   "outputs": [],
   "source": [
    "raw = spark.read.parquet(\"/taxi/raw_all.parquet\")"
   ]
  },
  {
   "cell_type": "code",
   "execution_count": 3,
   "id": "964efaae-d8e1-4937-9b95-e98b09145ca1",
   "metadata": {
    "tags": []
   },
   "outputs": [],
   "source": [
    "import pyspark.sql.functions as f"
   ]
  },
  {
   "cell_type": "code",
   "execution_count": 4,
   "id": "51e2bbbb-f71c-430d-97a5-ed12463ffbc1",
   "metadata": {
    "tags": []
   },
   "outputs": [
    {
     "name": "stderr",
     "output_type": "stream",
     "text": [
      "                                                                                \r"
     ]
    },
    {
     "data": {
      "text/plain": [
       "1701824860"
      ]
     },
     "execution_count": 4,
     "metadata": {},
     "output_type": "execute_result"
    }
   ],
   "source": [
    "raw.cache()\n",
    "raw.count()"
   ]
  },
  {
   "cell_type": "code",
   "execution_count": null,
   "id": "1591e9ee-48cb-46d7-aeea-6475533e1f9c",
   "metadata": {
    "tags": []
   },
   "outputs": [],
   "source": [
    "describe = raw.describe()"
   ]
  },
  {
   "cell_type": "code",
   "execution_count": 6,
   "id": "03169bdf-a24a-40a1-878e-939f19395bf2",
   "metadata": {
    "tags": []
   },
   "outputs": [
    {
     "name": "stdout",
     "output_type": "stream",
     "text": [
      "+-------+------------------+------------------+------------------+------------------+------------------+------------------+------------------+-----------------+\n",
      "|summary|year              |month             |passenger_count   |trip_distance     |payment_type      |tip_amount        |trip_amount       |total_amount     |\n",
      "+-------+------------------+------------------+------------------+------------------+------------------+------------------+------------------+-----------------+\n",
      "|count  |1701824860        |1701824860        |1697593325        |1701824860        |1701824860        |1701824860        |1701824860        |1701824860       |\n",
      "|mean   |2013.8335169002055|6.43626729838698  |1.6509662224313941|9.323719147832808 |1.4650411816025044|1.5099617757967083|13.152814903480495|14.66277667948722|\n",
      "|stddev |3.42980632086045  |3.4623157559927242|1.2971663754520084|9879.274056914832 |0.5209001613011511|3410.1739886640635|3537.068314385418 |951.8918584994502|\n",
      "|min    |2009              |1                 |0                 |-6.5725645801896E7|0                 |-1677720.1        |-1.333914107E8    |-2.147483E7      |\n",
      "|max    |2023              |12                |255               |2.16647843009354E8|No                |1.3339136353E8    |1.0000015E7       |1.0000015E7      |\n",
      "+-------+------------------+------------------+------------------+------------------+------------------+------------------+------------------+-----------------+\n",
      "\n"
     ]
    }
   ],
   "source": [
    "describe.show(20, False)"
   ]
  },
  {
   "cell_type": "markdown",
   "id": "75a35efb-6bc7-4172-802f-02fc34ced0b4",
   "metadata": {},
   "source": [
    "### Checking passenger_count, payment_type and total_amount"
   ]
  },
  {
   "cell_type": "code",
   "execution_count": null,
   "id": "50edd6fd-53ca-4a2c-ad30-f5118c8d44c2",
   "metadata": {
    "tags": []
   },
   "outputs": [],
   "source": [
    "filtered = raw\\\n",
    ".filter(\"passenger_count < 10\")\\\n",
    ".filter(f.expr(\"payment_type = 0 or payment_type = 1 or payment_type = 2 or payment_type = 3 or payment_type = 4 or payment_type = 5\"))\\\n",
    ".filter(\"total_amount > 0\")\n"
   ]
  },
  {
   "cell_type": "code",
   "execution_count": null,
   "id": "88db861b-ed67-493d-bd64-0ccde63ad46e",
   "metadata": {
    "tags": []
   },
   "outputs": [],
   "source": [
    "filtered.count()"
   ]
  },
  {
   "cell_type": "code",
   "execution_count": null,
   "id": "cbdb75b7-1358-45a7-a5e2-97ab6abed580",
   "metadata": {
    "tags": []
   },
   "outputs": [],
   "source": [
    "filtered.show()"
   ]
  },
  {
   "cell_type": "code",
   "execution_count": null,
   "id": "5136dd72-5005-451d-aa09-c8c765104a28",
   "metadata": {
    "tags": []
   },
   "outputs": [],
   "source": [
    "filtered.write.parquet(f\"/taxi/dataset.parquet\")"
   ]
  },
  {
   "cell_type": "markdown",
   "id": "e9a6a546-443b-419d-9e5b-e6126547c445",
   "metadata": {},
   "source": [
    "### Stopping Spark "
   ]
  },
  {
   "cell_type": "code",
   "execution_count": null,
   "id": "6d55860f-9157-481d-8f5b-d40e294025f0",
   "metadata": {
    "tags": []
   },
   "outputs": [],
   "source": [
    "spark.stop()"
   ]
  },
  {
   "cell_type": "code",
   "execution_count": null,
   "id": "4f1ad8d5-fbde-43ac-b21c-90328f4f1634",
   "metadata": {},
   "outputs": [],
   "source": []
  }
 ],
 "metadata": {
  "kernelspec": {
   "display_name": "Python 3 (ipykernel)",
   "language": "python",
   "name": "python3"
  },
  "language_info": {
   "codemirror_mode": {
    "name": "ipython",
    "version": 3
   },
   "file_extension": ".py",
   "mimetype": "text/x-python",
   "name": "python",
   "nbconvert_exporter": "python",
   "pygments_lexer": "ipython3",
   "version": "3.8.10"
  }
 },
 "nbformat": 4,
 "nbformat_minor": 5
}
