{
 "cells": [
  {
   "cell_type": "markdown",
   "id": "311104ea-0d24-482d-b834-376917566692",
   "metadata": {},
   "source": [
    "# Let's check the data on HDFS "
   ]
  },
  {
   "cell_type": "markdown",
   "id": "b2528f1c-3b3e-4263-a36f-d254eae7d25a",
   "metadata": {},
   "source": [
    "### File Sizes "
   ]
  },
  {
   "cell_type": "markdown",
   "id": "358ee1af-2f8f-48c9-9f10-e057d3cd6295",
   "metadata": {},
   "source": [
    "Last year:\n",
    "\n",
    "```\n",
    "!hdfs dfs -du -s -h /taxi/raw/\n",
    "237.2 G  237.2 G  /taxi/raw\n",
    "```"
   ]
  },
  {
   "cell_type": "code",
   "execution_count": null,
   "id": "0b3bf974-c8dd-4bcf-9237-019e3eb6e84e",
   "metadata": {
    "tags": []
   },
   "outputs": [],
   "source": [
    "!hdfs dfs -du -s -h /taxi/raw/"
   ]
  },
  {
   "cell_type": "markdown",
   "id": "69829639-815c-4d66-8453-6dff98fe9d91",
   "metadata": {},
   "source": [
    "### Looks like we have all years"
   ]
  },
  {
   "cell_type": "code",
   "execution_count": null,
   "id": "fea4d8fb-0974-461b-aea7-4b99130faa75",
   "metadata": {
    "tags": []
   },
   "outputs": [],
   "source": [
    "!hdfs dfs -ls /taxi/raw/"
   ]
  },
  {
   "cell_type": "markdown",
   "id": "3d817896-37f5-48ab-895f-b28cfec1bf23",
   "metadata": {},
   "source": [
    "### However, the data gets smaller at 2016/2020."
   ]
  },
  {
   "cell_type": "markdown",
   "id": "bc9ffbbe-6e22-4883-a009-9e6388853b73",
   "metadata": {
    "tags": []
   },
   "source": [
    "Last year:\n",
    "```\n",
    "28.9 G   28.9 G   /taxi/raw/2009\n",
    "28.9 G   28.9 G   /taxi/raw/2010\n",
    "30.3 G   30.3 G   /taxi/raw/2011\n",
    "29.9 G   29.9 G   /taxi/raw/2012\n",
    "27.1 G   27.1 G   /taxi/raw/2013\n",
    "25.9 G   25.9 G   /taxi/raw/2014\n",
    "21.3 G   21.3 G   /taxi/raw/2015\n",
    "15.3 G   15.3 G   /taxi/raw/2016\n",
    "9.2 G    9.2 G    /taxi/raw/2017\n",
    "8.4 G    8.4 G    /taxi/raw/2018\n",
    "7.2 G    7.2 G    /taxi/raw/2019\n",
    "2.1 G    2.1 G    /taxi/raw/2020\n",
    "2.3 G    2.3 G    /taxi/raw/2021\n",
    "430.1 M  430.1 M  /taxi/raw/2022\n",
    "```"
   ]
  },
  {
   "cell_type": "code",
   "execution_count": null,
   "id": "a4ffd879-d223-4303-bf3f-5914a7fcab2a",
   "metadata": {
    "tags": []
   },
   "outputs": [],
   "source": [
    "!hdfs dfs -du -s -h /taxi/raw/*"
   ]
  },
  {
   "cell_type": "markdown",
   "id": "505f24a7-7c5f-4ee9-80f1-ae553989b0d4",
   "metadata": {},
   "source": [
    "### Let's see if the schema changes over time "
   ]
  },
  {
   "cell_type": "code",
   "execution_count": null,
   "id": "2b4540d9-91ec-46df-b452-ca34a67d8ac4",
   "metadata": {
    "tags": []
   },
   "outputs": [],
   "source": [
    "!hdfs dfs -ls -h /taxi/raw/2009/yellow_tripdata_2009-01.parquet"
   ]
  },
  {
   "cell_type": "code",
   "execution_count": null,
   "id": "925a25d7-4689-4e75-9608-ec229834b61b",
   "metadata": {},
   "outputs": [],
   "source": [
    "!hdfs dfs -ls -h /taxi/raw/2017/yellow_tripdata_2017-01.parquet"
   ]
  },
  {
   "cell_type": "markdown",
   "id": "cc346aa3-517a-4cdd-beea-2823664ac8c6",
   "metadata": {},
   "source": [
    "### Init Spark "
   ]
  },
  {
   "cell_type": "code",
   "execution_count": null,
   "id": "f9b2e7ab-251d-45fd-aea7-0c9d299594f1",
   "metadata": {
    "tags": []
   },
   "outputs": [],
   "source": [
    "from pyspark.sql import SparkSession\n",
    "\n",
    "spark = SparkSession \\\n",
    "    .builder \\\n",
    "    .appName(\"Hands On\") \\\n",
    "    .getOrCreate()"
   ]
  },
  {
   "cell_type": "code",
   "execution_count": null,
   "id": "d49df555-b9df-461d-b462-4de130667fae",
   "metadata": {
    "tags": []
   },
   "outputs": [],
   "source": [
    "df_2009_01 = spark.read.parquet(\"/taxi/raw/2009/yellow_tripdata_2009-01.parquet\")"
   ]
  },
  {
   "cell_type": "code",
   "execution_count": null,
   "id": "b3290f41-003d-4a6d-8996-89914e6b69db",
   "metadata": {
    "tags": []
   },
   "outputs": [],
   "source": [
    "df_2017_01 = spark.read.parquet(\"/taxi/raw/2017/yellow_tripdata_2017-01.parquet\")"
   ]
  },
  {
   "cell_type": "markdown",
   "id": "d0b9cd27-dfee-4f51-82bb-4bc8dcc04a08",
   "metadata": {},
   "source": [
    "###  df_2009_01 vs df_2017_01\n",
    "\n",
    "There is a diff in the schema and we have to deal with it.\n",
    "- Description of the [schema](https://www1.nyc.gov/assets/tlc/downloads/pdf/data_dictionary_trip_records_yellow.pdf)"
   ]
  },
  {
   "cell_type": "code",
   "execution_count": null,
   "id": "2a7ad0e4-c6be-418f-9a65-685fe89e6c75",
   "metadata": {
    "tags": []
   },
   "outputs": [],
   "source": [
    "df_2009_01.show(2)"
   ]
  },
  {
   "cell_type": "code",
   "execution_count": null,
   "id": "80adf7a8-6ef7-4ca5-92c0-6054302f2c61",
   "metadata": {
    "tags": []
   },
   "outputs": [],
   "source": [
    "df_2017_01.show(2)"
   ]
  },
  {
   "cell_type": "markdown",
   "id": "7db56cd1-2a46-40c4-ab46-d00afe1234d2",
   "metadata": {},
   "source": [
    "### Count should be similar "
   ]
  },
  {
   "cell_type": "code",
   "execution_count": null,
   "id": "8b50f64d-a987-4994-a062-e43c7ae39e5d",
   "metadata": {
    "tags": []
   },
   "outputs": [],
   "source": [
    "print(df_2009_01.count())\n",
    "print(df_2017_01.count())"
   ]
  },
  {
   "cell_type": "markdown",
   "id": "fef4a1db-7b39-4c95-8b0f-ebca079016d6",
   "metadata": {},
   "source": [
    "We have to analyse if less was recorded or if this is just a downward trend in general"
   ]
  },
  {
   "cell_type": "markdown",
   "id": "12b95196-1049-45fa-86cc-42da45edf17b",
   "metadata": {},
   "source": [
    "### The Schema changed at 2016 - between June and July "
   ]
  },
  {
   "cell_type": "markdown",
   "id": "76cd33ec-586f-4dc9-b1d0-314ef76ba194",
   "metadata": {},
   "source": [
    "Last year:\n",
    "\n",
    "```\n",
    "1.6 G    1.6 G    /taxi/raw/2016/yellow_tripdata_2016-01.csv\n",
    "1.7 G    1.7 G    /taxi/raw/2016/yellow_tripdata_2016-02.csv\n",
    "1.8 G    1.8 G    /taxi/raw/2016/yellow_tripdata_2016-03.csv\n",
    "1.7 G    1.7 G    /taxi/raw/2016/yellow_tripdata_2016-04.csv\n",
    "1.7 G    1.7 G    /taxi/raw/2016/yellow_tripdata_2016-05.csv\n",
    "1.6 G    1.6 G    /taxi/raw/2016/yellow_tripdata_2016-06.csv\n",
    "884.7 M  884.7 M  /taxi/raw/2016/yellow_tripdata_2016-07.csv\n",
    "854.3 M  854.3 M  /taxi/raw/2016/yellow_tripdata_2016-08.csv\n",
    "870.0 M  870.0 M  /taxi/raw/2016/yellow_tripdata_2016-09.csv\n",
    "933.4 M  933.4 M  /taxi/raw/2016/yellow_tripdata_2016-10.csv\n",
    "868.7 M  868.7 M  /taxi/raw/2016/yellow_tripdata_2016-11.csv\n",
    "897.8 M  897.8 M  /taxi/raw/2016/yellow_tripdata_2016-12.csv\n",
    "```"
   ]
  },
  {
   "cell_type": "code",
   "execution_count": null,
   "id": "b729ba6f-f57a-4785-8c1d-1f8214c7b6c8",
   "metadata": {
    "tags": []
   },
   "outputs": [],
   "source": [
    "!hdfs dfs -du -s -h /taxi/raw/2016/*"
   ]
  },
  {
   "cell_type": "markdown",
   "id": "f51f67bf-7b05-4b6f-83c0-da8a108a0fd0",
   "metadata": {},
   "source": [
    "## Column Names "
   ]
  },
  {
   "cell_type": "code",
   "execution_count": null,
   "id": "c67b0b78-3c2b-4e32-9bc5-3ee00790fa9d",
   "metadata": {
    "tags": []
   },
   "outputs": [],
   "source": [
    "df_2009_01.printSchema()"
   ]
  },
  {
   "cell_type": "code",
   "execution_count": null,
   "id": "28f0d242-9f9e-4685-855c-8a06bafb6238",
   "metadata": {
    "tags": []
   },
   "outputs": [],
   "source": [
    "df_2017_01.printSchema()"
   ]
  },
  {
   "cell_type": "markdown",
   "id": "8a32c25d-a5ca-4249-8815-b58319654644",
   "metadata": {},
   "source": [
    "### Stopping Spark "
   ]
  },
  {
   "cell_type": "code",
   "execution_count": null,
   "id": "57322c26-9fa2-4215-b819-e1bdb9da241f",
   "metadata": {
    "tags": []
   },
   "outputs": [],
   "source": [
    "spark.stop()"
   ]
  },
  {
   "cell_type": "code",
   "execution_count": null,
   "id": "179363a6-d61e-467b-b1f4-39b227c3e545",
   "metadata": {},
   "outputs": [],
   "source": []
  }
 ],
 "metadata": {
  "kernelspec": {
   "display_name": "Python 3 (ipykernel)",
   "language": "python",
   "name": "python3"
  },
  "language_info": {
   "codemirror_mode": {
    "name": "ipython",
    "version": 3
   },
   "file_extension": ".py",
   "mimetype": "text/x-python",
   "name": "python",
   "nbconvert_exporter": "python",
   "pygments_lexer": "ipython3",
   "version": "3.8.10"
  }
 },
 "nbformat": 4,
 "nbformat_minor": 5
}
