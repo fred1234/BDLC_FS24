{
 "cells": [
  {
   "cell_type": "code",
   "execution_count": null,
   "id": "258b6ec1-c698-41b2-9218-b592be1f116e",
   "metadata": {},
   "outputs": [],
   "source": [
    "!hdfs dfs -ls /taxi/raw/"
   ]
  },
  {
   "cell_type": "code",
   "execution_count": null,
   "id": "282da660-8581-4c24-89d0-512977f71efc",
   "metadata": {
    "tags": []
   },
   "outputs": [],
   "source": [
    "from pyspark.sql import SparkSession\n",
    "\n",
    "spark = SparkSession \\\n",
    "    .builder \\\n",
    "    .appName(\"PreProcessing\") \\\n",
    "    .getOrCreate()"
   ]
  },
  {
   "cell_type": "markdown",
   "id": "468fd368-6e9e-47e4-bb18-125ba4fff65a",
   "metadata": {
    "tags": []
   },
   "source": [
    "# All Data"
   ]
  },
  {
   "cell_type": "markdown",
   "id": "121079b1-0188-4c47-9a80-e3d19e8e48bb",
   "metadata": {},
   "source": [
    "## Renaming Columns, Payment Types, Pick Columns, Casting"
   ]
  },
  {
   "cell_type": "code",
   "execution_count": null,
   "id": "c298a9e5-4626-47eb-b4dc-eef49473662d",
   "metadata": {
    "tags": []
   },
   "outputs": [],
   "source": [
    "df_all_raw = spark.read.parquet(f\"/taxi/raw/2019/yellow_tripdata_2019-01.parquet\")"
   ]
  },
  {
   "cell_type": "code",
   "execution_count": null,
   "id": "69707766-bfab-4b61-9524-cb09ae4a2c98",
   "metadata": {
    "tags": []
   },
   "outputs": [],
   "source": [
    "df_all_raw.show(2)"
   ]
  },
  {
   "cell_type": "code",
   "execution_count": null,
   "id": "e10ddc92-fc7e-405b-8652-d7e36cf93709",
   "metadata": {
    "tags": []
   },
   "outputs": [],
   "source": [
    "from pyspark.sql.functions import when, expr, col\n",
    "\n",
    "df = df_all_raw\\\n",
    ".withColumnRenamed(\"Trip_Pickup_DateTime\",\"pickup_datetime\")\\\n",
    ".withColumnRenamed(\"Trip_Dropoff_DateTime\",\"dropoff_datetime\")\\\n",
    ".withColumnRenamed(\"tpep_pickup_datetime\",\"pickup_datetime\")\\\n",
    ".withColumnRenamed(\"tpep_dropoff_datetime\",\"dropoff_datetime\")\\\n",
    ".withColumnRenamed(\"Passenger_Count\",\"passenger_count\")\\\n",
    ".withColumnRenamed(\"Trip_Distance\",\"trip_distance\")\\\n",
    ".withColumnRenamed(\"Payment_Type\",\"payment_type\")\\\n",
    ".withColumnRenamed(\"Tip_Amt\",\"tip_amount\")\\\n",
    ".withColumnRenamed(\"Total_Amt\",\"total_amount\")\\\n",
    ".withColumn('payment_type', \\\n",
    "              when(col(\"payment_type\") == \"Credit\", 1)\\\n",
    "              .when(col(\"payment_type\") == \"CREDIT\", 1)\\\n",
    "              .when(col(\"payment_type\") == \"CRD\", 1)\\\n",
    "              .when(col(\"payment_type\") == \"Cre\", 1)\\\n",
    "              .when(col(\"payment_type\") == \"CRE\", 1)\\\n",
    "              .when(col(\"payment_type\") == \"CASH\", 2)\\\n",
    "              .when(col(\"payment_type\") == \"Cash\", 2)\\\n",
    "              .when(col(\"payment_type\") == \"CSH\", 2)\\\n",
    "              .when(col(\"payment_type\") == \"CAS\", 2)\\\n",
    "              .when(col(\"payment_type\") == \"Cas\", 2)\\\n",
    "              .when(col(\"payment_type\") == \"No Charge\", 3)\\\n",
    "              .when(col(\"payment_type\") == \"NO CHARGE\", 3)\\\n",
    "              .when(col(\"payment_type\") == \"NOC\", 3)\\\n",
    "              .when(col(\"payment_type\") == \"NO \", 3)\\\n",
    "              .when(col(\"payment_type\") == \"Dispute\", 4)\\\n",
    "              .when(col(\"payment_type\") == \"DISPUTE\", 4)\\\n",
    "              .when(col(\"payment_type\") == \"DIS\", 4)\\\n",
    "              .when(col(\"payment_type\") == \"Dis\", 4)\\\n",
    "              .when(col(\"payment_type\") == \"Unknown\", 5)\\\n",
    "              .when(col(\"payment_type\") == \"UNKNOWN\", 5)\\\n",
    "              .when(col(\"payment_type\") == \"UNK\", 5)\\\n",
    "              .when(col(\"payment_type\") == \"Voided Trip\", 6)\\\n",
    "              .when(col(\"payment_type\") == \"VOIDED TRIP\", 6)\\\n",
    "              .otherwise(expr(\"payment_type\")))\\\n",
    ".selectExpr(\\\n",
    "    \"cast(pickup_datetime as timestamp)\", \\\n",
    "    \"cast(dropoff_datetime as timestamp)\", \\\n",
    "    \"cast(passenger_count as long)\", \\\n",
    "    \"trip_distance\", \\\n",
    "    \"cast(payment_type as string)\", \\\n",
    "    \"tip_amount\", \\\n",
    "    \"total_amount\" \\\n",
    ")"
   ]
  },
  {
   "cell_type": "code",
   "execution_count": null,
   "id": "b4be2c1a-2888-4e97-a205-f019d6bfbbac",
   "metadata": {
    "tags": []
   },
   "outputs": [],
   "source": [
    "df.show(2)"
   ]
  },
  {
   "cell_type": "markdown",
   "id": "454915a8-8f6d-4ad3-b638-081a8e91dfff",
   "metadata": {},
   "source": [
    "## adding month/year as columns\n",
    "\n",
    "You can use `input_file_name` to get the filename of the dataframe. Here we have the month/year available"
   ]
  },
  {
   "cell_type": "code",
   "execution_count": null,
   "id": "cd8c43ca-45ad-4d8a-9749-3ae7638113ab",
   "metadata": {
    "tags": []
   },
   "outputs": [],
   "source": [
    "from pyspark.sql.functions import input_file_name\n",
    "\n",
    "df.withColumn(\"filename\", input_file_name()).show(2, False)"
   ]
  },
  {
   "cell_type": "code",
   "execution_count": null,
   "id": "fca51c74-d913-4ab4-994a-baa559e4313a",
   "metadata": {
    "tags": []
   },
   "outputs": [],
   "source": [
    "from pyspark.sql.functions import input_file_name, split\n",
    "\n",
    "df.withColumn(\"filename\", split(input_file_name(), \"-\")).show(2, False)"
   ]
  },
  {
   "cell_type": "code",
   "execution_count": null,
   "id": "cd20ca1c-a426-4bb8-b672-5409e2aa97f1",
   "metadata": {
    "tags": []
   },
   "outputs": [],
   "source": [
    "df = df\\\n",
    ".withColumn(\"filename\", split(input_file_name(), \"-\"))\\\n",
    ".selectExpr(\"*\", \"substring_index(element_at(filename, 2), '_', -1) as year\", \"substring_index(element_at(filename, -1), '.' , 1) as month\")\\\n",
    ".drop(\"filename\")"
   ]
  },
  {
   "cell_type": "code",
   "execution_count": null,
   "id": "07e3b10a-4203-4da3-837f-adfb9a02d211",
   "metadata": {
    "tags": []
   },
   "outputs": [],
   "source": [
    "df.show(2)"
   ]
  },
  {
   "cell_type": "markdown",
   "id": "e7aa1f14-b7b7-47da-9211-10952375791f",
   "metadata": {},
   "source": [
    "## convert trip distance to km instead of miles"
   ]
  },
  {
   "cell_type": "code",
   "execution_count": null,
   "id": "2c815236-0a6e-4510-8770-247c3627af9a",
   "metadata": {
    "tags": []
   },
   "outputs": [],
   "source": [
    "from pyspark.sql.functions import expr\n",
    "\n",
    "df = df.withColumn(\"trip_distance\", expr(\"trip_distance * 1.60934\"))"
   ]
  },
  {
   "cell_type": "markdown",
   "id": "04136145-7451-4b81-93d9-bdaed1929262",
   "metadata": {},
   "source": [
    "## adding a field `trip_amount`"
   ]
  },
  {
   "cell_type": "code",
   "execution_count": null,
   "id": "cc3a02b3-8cb9-4459-b4a0-6d0148ad5c34",
   "metadata": {
    "tags": []
   },
   "outputs": [],
   "source": [
    "df = df.withColumn(\"trip_amount\", expr(\"total_amount-tip_amount\"))"
   ]
  },
  {
   "cell_type": "markdown",
   "id": "78ddd09e-fd14-4540-a126-9b7072251a6b",
   "metadata": {},
   "source": [
    "## Union Data"
   ]
  },
  {
   "cell_type": "code",
   "execution_count": null,
   "id": "beecf5b9-20c7-448f-873f-a56070bcf62c",
   "metadata": {
    "tags": []
   },
   "outputs": [],
   "source": [
    "from pyspark.sql.functions import when, expr, col, input_file_name, split\n",
    "   \n",
    "def read(year, month):\n",
    "    df = spark.read.parquet(f\"/taxi/raw/{year}/yellow_tripdata_{year}-{month}.parquet\")\\\n",
    "    \n",
    "    df = df\\\n",
    "    .withColumnRenamed(\"Trip_Pickup_DateTime\",\"pickup_datetime\")\\\n",
    "    .withColumnRenamed(\"Trip_Dropoff_DateTime\",\"dropoff_datetime\")\\\n",
    "    .withColumnRenamed(\"tpep_pickup_datetime\",\"pickup_datetime\")\\\n",
    "    .withColumnRenamed(\"tpep_dropoff_datetime\",\"dropoff_datetime\")\\\n",
    "    .withColumnRenamed(\"Passenger_Count\",\"passenger_count\")\\\n",
    "    .withColumnRenamed(\"Trip_Distance\",\"trip_distance\")\\\n",
    "    .withColumnRenamed(\"Payment_Type\",\"payment_type\")\\\n",
    "    .withColumnRenamed(\"Tip_Amt\",\"tip_amount\")\\\n",
    "    .withColumnRenamed(\"Total_Amt\",\"total_amount\")\\\n",
    "    .withColumn('payment_type', \\\n",
    "                  when(col(\"payment_type\") == \"Credit\", 1)\\\n",
    "                  .when(col(\"payment_type\") == \"CREDIT\", 1)\\\n",
    "                  .when(col(\"payment_type\") == \"CRD\", 1)\\\n",
    "                  .when(col(\"payment_type\") == \"Cre\", 1)\\\n",
    "                  .when(col(\"payment_type\") == \"CRE\", 1)\\\n",
    "                  .when(col(\"payment_type\") == \"CASH\", 2)\\\n",
    "                  .when(col(\"payment_type\") == \"Cash\", 2)\\\n",
    "                  .when(col(\"payment_type\") == \"CSH\", 2)\\\n",
    "                  .when(col(\"payment_type\") == \"CAS\", 2)\\\n",
    "                  .when(col(\"payment_type\") == \"Cas\", 2)\\\n",
    "                  .when(col(\"payment_type\") == \"No Charge\", 3)\\\n",
    "                  .when(col(\"payment_type\") == \"NO CHARGE\", 3)\\\n",
    "                  .when(col(\"payment_type\") == \"NOC\", 3)\\\n",
    "                  .when(col(\"payment_type\") == \"NO \", 3)\\\n",
    "                  .when(col(\"payment_type\") == \"Dispute\", 4)\\\n",
    "                  .when(col(\"payment_type\") == \"DISPUTE\", 4)\\\n",
    "                  .when(col(\"payment_type\") == \"DIS\", 4)\\\n",
    "                  .when(col(\"payment_type\") == \"Dis\", 4)\\\n",
    "                  .when(col(\"payment_type\") == \"Unknown\", 5)\\\n",
    "                  .when(col(\"payment_type\") == \"UNKNOWN\", 5)\\\n",
    "                  .when(col(\"payment_type\") == \"UNK\", 5)\\\n",
    "                  .when(col(\"payment_type\") == \"Voided Trip\", 6)\\\n",
    "                  .when(col(\"payment_type\") == \"VOIDED TRIP\", 6)\\\n",
    "                  .otherwise(expr(\"payment_type\")))\\\n",
    "    .selectExpr(\\\n",
    "        \"cast(pickup_datetime as timestamp)\", \\\n",
    "        \"cast(dropoff_datetime as timestamp)\", \\\n",
    "        \"cast(passenger_count as long)\", \\\n",
    "        \"trip_distance\", \\\n",
    "        \"cast(payment_type as string)\", \\\n",
    "        \"tip_amount\", \\\n",
    "        \"total_amount\" \\\n",
    "    )\n",
    "    \n",
    "\n",
    "    df = df\\\n",
    "    .withColumn(\"filename\", split(input_file_name(), \"-\"))\\\n",
    "    .selectExpr(\"*\", \"substring_index(element_at(filename, 2), '_', -1) as year\", \"substring_index(element_at(filename, -1), '.' , 1) as month\")\\\n",
    "    .drop(\"filename\")\n",
    "    \n",
    "\n",
    "    df = df.withColumn(\"trip_distance\", expr(\"trip_distance * 1.60934\"))\n",
    "    df = df.withColumn(\"trip_amount\", expr(\"total_amount-tip_amount\"))\n",
    "    return df"
   ]
  },
  {
   "cell_type": "code",
   "execution_count": null,
   "id": "0c51755d-8638-4d34-ba41-510b2bfcb77f",
   "metadata": {},
   "outputs": [],
   "source": [
    "my_dfs = []\n",
    "for year in [\"2009\", \"2010\", \"2011\", \"2012\", \"2013\", \"2014\", \"2015\", \"2016\", \"2017\", \"2018\", \"2019\", \"2020\", \"2021\", \"2022\", \"2023\"]:\n",
    "    if year == \"2023\":\n",
    "        !echo processing {year}/01\n",
    "        my_dfs.append(read(year, \"01\"))\n",
    "    else:\n",
    "        for month in [\"01\", \"02\", \"03\", \"04\", \"05\", \"06\", \"07\", \"08\", \"09\", \"10\", \"11\", \"12\"]:\n",
    "            !echo processing {year}/{month}\n",
    "            my_dfs.append(read(year, month))"
   ]
  },
  {
   "cell_type": "code",
   "execution_count": null,
   "id": "dbbc118d-bec6-4ac9-89f5-be4347d4d4fe",
   "metadata": {
    "tags": []
   },
   "outputs": [],
   "source": [
    "from functools import reduce\n",
    "from pyspark.sql import DataFrame\n",
    "\n",
    "df = reduce(DataFrame.unionAll, my_dfs)"
   ]
  },
  {
   "cell_type": "code",
   "execution_count": null,
   "id": "67574d2c-f2a9-4c46-a6a5-41a1c9338e5d",
   "metadata": {
    "tags": []
   },
   "outputs": [],
   "source": [
    "df.show(2)"
   ]
  },
  {
   "cell_type": "code",
   "execution_count": null,
   "id": "5d84ebb9-8d2d-411d-be48-b1e74bd1fe67",
   "metadata": {
    "tags": []
   },
   "outputs": [],
   "source": [
    "df.printSchema()"
   ]
  },
  {
   "cell_type": "code",
   "execution_count": null,
   "id": "277f5af9-66aa-4c9e-a669-2506b36e981e",
   "metadata": {
    "tags": []
   },
   "outputs": [],
   "source": [
    "df = df.selectExpr(\\\n",
    "    \"cast(year as int)\", \\\n",
    "    \"cast(month as int)\", \\\n",
    "    \"pickup_datetime\", \\\n",
    "    \"dropoff_datetime\", \\\n",
    "    \"passenger_count\", \\\n",
    "    \"trip_distance\", \\\n",
    "    \"payment_type\", \\\n",
    "    \"tip_amount\", \\\n",
    "    \"trip_amount\", \\\n",
    "    \"total_amount\" \\\n",
    ")"
   ]
  },
  {
   "cell_type": "code",
   "execution_count": null,
   "id": "646289b2-230a-4af2-b341-5b64a5b7b03d",
   "metadata": {
    "tags": []
   },
   "outputs": [],
   "source": [
    "df.printSchema()"
   ]
  },
  {
   "cell_type": "markdown",
   "id": "1cffe595-969f-493e-9da6-7f016dc145c6",
   "metadata": {},
   "source": [
    "## Write results "
   ]
  },
  {
   "cell_type": "code",
   "execution_count": null,
   "id": "5f5dedb1-79c2-4838-9058-1fb8ff264892",
   "metadata": {
    "tags": []
   },
   "outputs": [],
   "source": [
    "!hdfs dfs -rm -r /taxi/raw_all.parquet/"
   ]
  },
  {
   "cell_type": "code",
   "execution_count": null,
   "id": "4b2dcc38-9295-43fb-815f-8f8a113da4c5",
   "metadata": {
    "tags": []
   },
   "outputs": [],
   "source": [
    "df.repartition(55).write.parquet(f\"/taxi/raw_all.parquet\")"
   ]
  },
  {
   "cell_type": "markdown",
   "id": "9e594447-2f64-4cff-8df0-ee561ef19922",
   "metadata": {},
   "source": [
    "## Stopping Spark "
   ]
  },
  {
   "cell_type": "code",
   "execution_count": null,
   "id": "f73b43fe-0bc6-4c72-89af-43dd22bba8f0",
   "metadata": {
    "tags": []
   },
   "outputs": [],
   "source": [
    "spark.stop()"
   ]
  },
  {
   "cell_type": "code",
   "execution_count": null,
   "id": "5eeed79e-d415-41cc-8601-76d0ff640068",
   "metadata": {},
   "outputs": [],
   "source": []
  }
 ],
 "metadata": {
  "kernelspec": {
   "display_name": "Python 3 (ipykernel)",
   "language": "python",
   "name": "python3"
  },
  "language_info": {
   "codemirror_mode": {
    "name": "ipython",
    "version": 3
   },
   "file_extension": ".py",
   "mimetype": "text/x-python",
   "name": "python",
   "nbconvert_exporter": "python",
   "pygments_lexer": "ipython3",
   "version": "3.8.10"
  }
 },
 "nbformat": 4,
 "nbformat_minor": 5
}
