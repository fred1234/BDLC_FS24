{
 "cells": [
  {
   "cell_type": "markdown",
   "id": "40c29e13-f234-478e-bce6-44b4de1223d5",
   "metadata": {},
   "source": [
    "# Questions for the MovieLens Parquet Dataset"
   ]
  },
  {
   "cell_type": "markdown",
   "id": "31e5b874-4155-4a15-a4fc-910596f81e79",
   "metadata": {
    "tags": []
   },
   "source": [
    "## Setup Spark-SQL"
   ]
  },
  {
   "cell_type": "code",
   "execution_count": null,
   "id": "f3db5e6d-4dfb-4a89-8222-3de9dac4a163",
   "metadata": {},
   "outputs": [],
   "source": [
    "import findspark\n",
    "findspark.init()\n",
    "\n",
    "from pyspark.sql import SparkSession\n",
    "spark = SparkSession \\\n",
    "    .builder \\\n",
    "    .appName(\"Python Spark SQL Speed Test\") \\\n",
    "    .enableHiveSupport() \\\n",
    "    .getOrCreate()"
   ]
  },
  {
   "cell_type": "code",
   "execution_count": null,
   "id": "d8082c04-8a35-4a96-ae64-15e961d5a7c6",
   "metadata": {},
   "outputs": [],
   "source": [
    "%load_ext sparksql_magic"
   ]
  },
  {
   "cell_type": "code",
   "execution_count": null,
   "id": "50494014-593d-42fa-9c6a-52a292225340",
   "metadata": {},
   "outputs": [],
   "source": [
    "%%sparksql\n",
    "\n",
    "SHOW DATABASES"
   ]
  },
  {
   "cell_type": "code",
   "execution_count": null,
   "id": "da2005f7-cdc4-4eed-bb80-354a953d0f59",
   "metadata": {},
   "outputs": [],
   "source": [
    "%%sparksql\n",
    "\n",
    "USE movielens_parquet_compressed"
   ]
  },
  {
   "cell_type": "markdown",
   "id": "c01bd10e-e868-4b6e-bebb-baa97db062b6",
   "metadata": {},
   "source": [
    "## Playground"
   ]
  },
  {
   "cell_type": "markdown",
   "id": "b2f227f3",
   "metadata": {},
   "source": [
    "### How many movies do we have?"
   ]
  },
  {
   "cell_type": "code",
   "execution_count": null,
   "id": "dc990d2f-0c06-46a8-b9bf-c91b899e6ce4",
   "metadata": {},
   "outputs": [],
   "source": [
    "%%time \n",
    "%%sparksql\n",
    "\n",
    "SELECT count(*) FROM movies"
   ]
  },
  {
   "cell_type": "markdown",
   "id": "24369c8c",
   "metadata": {},
   "source": [
    "### How many ratings do we have?"
   ]
  },
  {
   "cell_type": "code",
   "execution_count": null,
   "id": "542837a7-5a03-43b2-8ef6-8b963cee315f",
   "metadata": {},
   "outputs": [],
   "source": [
    "%%time \n",
    "%%sparksql\n",
    "\n",
    "SELECT count(*) FROM ratings"
   ]
  },
  {
   "cell_type": "markdown",
   "id": "43bfdf54-5b62-4b4d-9015-65c8a7527572",
   "metadata": {},
   "source": [
    "### How many users do we have?"
   ]
  },
  {
   "cell_type": "code",
   "execution_count": null,
   "id": "24709c83-683e-4539-9207-b0322129ec8d",
   "metadata": {},
   "outputs": [],
   "source": [
    "%%time \n",
    "%%sparksql\n",
    "\n",
    "SELECT COUNT(DISTINCT(userid)) FROM ratings"
   ]
  },
  {
   "cell_type": "markdown",
   "id": "0fff4f5b",
   "metadata": {},
   "source": [
    "### Which movie(s) has (have) the most number of genres?"
   ]
  },
  {
   "cell_type": "code",
   "execution_count": null,
   "id": "362763b2-271c-4a2b-a493-9fa500020d2b",
   "metadata": {},
   "outputs": [],
   "source": [
    "%%time \n",
    "%%sparksql\n",
    "\n",
    "select title, year, genres, size(genres) as num_gen from movies order by num_gen desc limit 2"
   ]
  },
  {
   "cell_type": "markdown",
   "id": "9a391b14",
   "metadata": {},
   "source": [
    "### Show all movies with terminator in the title"
   ]
  },
  {
   "cell_type": "code",
   "execution_count": null,
   "id": "a19a7563-1787-4e6c-8c24-b5e8ff6aba23",
   "metadata": {},
   "outputs": [],
   "source": [
    "%%time \n",
    "%%sparksql\n",
    "\n",
    "select movieid, title, year from movies where lower(title) like '%terminator%'"
   ]
  },
  {
   "cell_type": "markdown",
   "id": "468ed7de",
   "metadata": {},
   "source": [
    "### How many movies do we have from 1984?"
   ]
  },
  {
   "cell_type": "code",
   "execution_count": null,
   "id": "8d7420de-d656-4fab-8009-8133466d6903",
   "metadata": {},
   "outputs": [],
   "source": [
    "%%time \n",
    "%%sparksql\n",
    "\n",
    "select count(*) from movies where year = 1984"
   ]
  },
  {
   "cell_type": "markdown",
   "id": "3e89135f",
   "metadata": {},
   "source": [
    "### Show the distribution of movies per year (where year >= 2000), sorted by year"
   ]
  },
  {
   "cell_type": "code",
   "execution_count": null,
   "id": "4b555659-6eb0-486e-8bab-4ee4c86016dc",
   "metadata": {},
   "outputs": [],
   "source": [
    "%%time \n",
    "%%sparksql\n",
    "\n",
    "select year, count(title) from movies where year >= 2000 group by year order by year asc"
   ]
  },
  {
   "cell_type": "markdown",
   "id": "8cfc6668",
   "metadata": {},
   "source": [
    "### Movies with the most number of ratings"
   ]
  },
  {
   "cell_type": "code",
   "execution_count": null,
   "id": "9ee5eda2-6a80-4f48-987d-e373f107dc29",
   "metadata": {},
   "outputs": [],
   "source": [
    "%%time \n",
    "%%sparksql\n",
    "\n",
    "select title, year, num_rating, median_rating from movie_rating order by num_rating DESC limit 10"
   ]
  },
  {
   "cell_type": "markdown",
   "id": "d4afb5a2-d007-406f-8e9d-6ce71ee66c50",
   "metadata": {},
   "source": [
    "### Top ten best rated movies (by median) where we have at least 100 ratings for a movie"
   ]
  },
  {
   "cell_type": "code",
   "execution_count": null,
   "id": "a53fdfbc-be93-4e99-9203-cc53f84fbe9e",
   "metadata": {},
   "outputs": [],
   "source": [
    "%%time \n",
    "%%sparksql\n",
    "\n",
    "select title, year, num_rating, median_rating \n",
    "from movie_rating\n",
    "where num_rating > 100\n",
    "order by median_rating DESC, num_rating DESC\n",
    "limit 10"
   ]
  },
  {
   "cell_type": "markdown",
   "id": "03a7a620-9390-4e74-9ae7-1c5ff9d1c8f7",
   "metadata": {},
   "source": [
    "### Top ten worst rated movies (by median) where we have at least 100 ratings for a movie"
   ]
  },
  {
   "cell_type": "code",
   "execution_count": null,
   "id": "d3ba567c-4b1c-4021-8052-acf2411aa77f",
   "metadata": {},
   "outputs": [],
   "source": [
    "%%time \n",
    "%%sparksql\n",
    "\n",
    "select title, year, num_rating, median_rating \n",
    "from movie_rating\n",
    "where\n",
    "    num_rating is not null\n",
    "    and num_rating > 100\n",
    "order by median_rating ASC, num_rating DESC\n",
    "limit 10"
   ]
  },
  {
   "cell_type": "markdown",
   "id": "5380972b-3a13-4966-a4fe-2b5755308a26",
   "metadata": {},
   "source": [
    "### Which genres were used how often?"
   ]
  },
  {
   "cell_type": "code",
   "execution_count": null,
   "id": "77480446-576c-40ef-b235-4c9113822997",
   "metadata": {},
   "outputs": [],
   "source": [
    "%%time \n",
    "%%sparksql\n",
    "\n",
    "SELECT genre, COUNT(genre) AS cnt FROM (\n",
    "    SELECT EXPLODE(genres) genre FROM movies\n",
    ")t\n",
    "GROUP BY genre\n",
    "ORDER BY cnt DESC"
   ]
  },
  {
   "cell_type": "markdown",
   "id": "86b87168-b3d0-4d49-bf37-805d7bcc2f24",
   "metadata": {},
   "source": [
    "## Naïve Movie Recommender"
   ]
  },
  {
   "cell_type": "markdown",
   "id": "649ec0fb-0b10-449b-b842-5f24ca2543c9",
   "metadata": {},
   "source": [
    "### Step 1 - find two movies (the `movieid` you like a lot)\n",
    " \n",
    " --> 4011 == Snatch\n",
    " \n",
    " --> 1270 == Back to the Future\n"
   ]
  },
  {
   "cell_type": "code",
   "execution_count": null,
   "id": "9aa3260a-be2e-4f89-835a-bc47a1d406a7",
   "metadata": {},
   "outputs": [],
   "source": [
    "%%time \n",
    "%%sparksql\n",
    "\n",
    "select movieid, title, year from movies where lower(title) like '%snatch%'"
   ]
  },
  {
   "cell_type": "code",
   "execution_count": null,
   "id": "8404d891-e9da-4b42-bde5-ea4eed3b9ff0",
   "metadata": {},
   "outputs": [],
   "source": [
    "%%time \n",
    "%%sparksql\n",
    "\n",
    "select movieid, title, year from movies where lower(title) like '%back to the%'\n"
   ]
  },
  {
   "cell_type": "markdown",
   "id": "f079fdd8-cadd-4293-b433-f3eee0de4b3c",
   "metadata": {},
   "source": [
    "### Find people who liked these movies as well and save it into temp table\n",
    "```\n",
    " * hive://hadoop@localhost:10000/movielens_parquet_compressed\n",
    "Done.\n",
    "CPU times: user 7.76 ms, sys: 3.01 ms, total: 10.8 ms\n",
    "Wall time: 30.8 s\n",
    "```"
   ]
  },
  {
   "cell_type": "code",
   "execution_count": null,
   "id": "8a01fd9c-3225-4964-bca0-ff5dae284549",
   "metadata": {},
   "outputs": [],
   "source": [
    "%%time \n",
    "%%sparksql\n",
    "\n",
    "CREATE TEMPORARY VIEW similar_people as \n",
    "select distinct(userid) userid\n",
    "from ratings \n",
    "where (movieid = 4011 or movieid = 1270) and rating = 5"
   ]
  },
  {
   "cell_type": "markdown",
   "id": "e73947bb-1e39-4135-9666-e5bd201592aa",
   "metadata": {},
   "source": [
    "### Basic checks for `similar_people`\n",
    "\n",
    "```\n",
    " * hive://hadoop@localhost:10000/movielens_parquet_compressed\n",
    "Done.\n",
    "CPU times: user 4.24 ms, sys: 3.32 ms, total: 7.57 ms\n",
    "Wall time: 126 ms\n",
    "```"
   ]
  },
  {
   "cell_type": "code",
   "execution_count": null,
   "id": "7bfd45b7-dccd-472c-8db2-01781a784bbe",
   "metadata": {},
   "outputs": [],
   "source": [
    "%%time \n",
    "%%sparksql\n",
    "\n",
    "select * from similar_people limit 2"
   ]
  },
  {
   "cell_type": "markdown",
   "id": "5335b19c-2375-44f6-9043-eca6ae5b1411",
   "metadata": {},
   "source": [
    "```\n",
    " * hive://hadoop@localhost:10000/movielens_parquet_compressed\n",
    "Done.\n",
    "CPU times: user 8.16 ms, sys: 110 µs, total: 8.27 ms\n",
    "Wall time: 102 ms\n",
    "```"
   ]
  },
  {
   "cell_type": "code",
   "execution_count": null,
   "id": "f39a9e25-7cef-4004-959c-506b7ba6d72e",
   "metadata": {},
   "outputs": [],
   "source": [
    "%%time \n",
    "%%sparksql\n",
    "\n",
    "select count(*) from similar_people"
   ]
  },
  {
   "cell_type": "markdown",
   "id": "ae5b5b10-9e7c-44c0-ad5f-73d8d79ce9aa",
   "metadata": {},
   "source": [
    "### Join `similar_people` with `movies` and `ratings` and get movie recommendations\n",
    "\n",
    "```\n",
    " * hive://hadoop@localhost:10000/movielens_parquet_compressed\n",
    "Done.\n",
    "CPU times: user 11.3 ms, sys: 5.8 ms, total: 17.1 ms\n",
    "Wall time: 1min 2s\n",
    "```"
   ]
  },
  {
   "cell_type": "code",
   "execution_count": null,
   "id": "284919a3-704a-4452-b8c9-b8d5584ae19e",
   "metadata": {},
   "outputs": [],
   "source": [
    "%%time \n",
    "%%sparksql\n",
    "\n",
    "SELECT m.title, count(*) as five_star_count from ratings r\n",
    "INNER JOIN similar_people sp ON r.userid = sp.userid\n",
    "INNER JOIN movies m ON r.movieid = m.movieid\n",
    "WHERE rating = 5\n",
    "GROUP BY m.title\n",
    "ORDER BY five_star_count DESC\n",
    "LIMIT 20"
   ]
  },
  {
   "cell_type": "code",
   "execution_count": null,
   "id": "a1a05a4e-1388-450b-9e3f-cf05cd1097ba",
   "metadata": {},
   "outputs": [],
   "source": []
  }
 ],
 "metadata": {
  "kernelspec": {
   "display_name": "Python 3 (ipykernel)",
   "language": "python",
   "name": "python3"
  },
  "language_info": {
   "codemirror_mode": {
    "name": "ipython",
    "version": 3
   },
   "file_extension": ".py",
   "mimetype": "text/x-python",
   "name": "python",
   "nbconvert_exporter": "python",
   "pygments_lexer": "ipython3",
   "version": "3.10.12"
  }
 },
 "nbformat": 4,
 "nbformat_minor": 5
}
