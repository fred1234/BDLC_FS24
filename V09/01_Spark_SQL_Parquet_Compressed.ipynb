{
 "cells": [
  {
   "cell_type": "markdown",
   "id": "40c29e13-f234-478e-bce6-44b4de1223d5",
   "metadata": {},
   "source": [
    "# Questions for the MovieLens Parquet Dataset"
   ]
  },
  {
   "cell_type": "markdown",
   "id": "31e5b874-4155-4a15-a4fc-910596f81e79",
   "metadata": {
    "tags": []
   },
   "source": [
    "## Setup Spark-SQL"
   ]
  },
  {
   "cell_type": "code",
   "execution_count": 1,
   "id": "f3db5e6d-4dfb-4a89-8222-3de9dac4a163",
   "metadata": {},
   "outputs": [],
   "source": [
    "import findspark\n",
    "findspark.init()\n",
    "\n",
    "from pyspark.sql import SparkSession\n",
    "spark = SparkSession \\\n",
    "    .builder \\\n",
    "    .appName(\"Python Spark SQL Speed Test\") \\\n",
    "    .enableHiveSupport() \\\n",
    "    .getOrCreate()"
   ]
  },
  {
   "cell_type": "code",
   "execution_count": 2,
   "id": "d8082c04-8a35-4a96-ae64-15e961d5a7c6",
   "metadata": {},
   "outputs": [],
   "source": [
    "%load_ext sparksql_magic"
   ]
  },
  {
   "cell_type": "code",
   "execution_count": 3,
   "id": "50494014-593d-42fa-9c6a-52a292225340",
   "metadata": {},
   "outputs": [
    {
     "data": {
      "text/html": [
       "<table><tr style=\"border-bottom: 1px solid\"><td style=\"font-weight: bold\">namespace</td></tr><tr><td>default</td></tr><tr><td>movielens</td></tr><tr><td>movielens_parquet</td></tr><tr><td>movielens_parquet_compressed</td></tr><tr><td>post</td></tr><tr><td>taxi</td></tr><tr><td>test_db</td></tr><tr><td>text</td></tr></table>"
      ],
      "text/plain": [
       "<IPython.core.display.HTML object>"
      ]
     },
     "execution_count": 3,
     "metadata": {},
     "output_type": "execute_result"
    }
   ],
   "source": [
    "%%sparksql\n",
    "\n",
    "SHOW DATABASES"
   ]
  },
  {
   "cell_type": "code",
   "execution_count": 4,
   "id": "da2005f7-cdc4-4eed-bb80-354a953d0f59",
   "metadata": {},
   "outputs": [
    {
     "data": {
      "text/html": [
       "<table><tr style=\"border-bottom: 1px solid\"></tr></table>"
      ],
      "text/plain": [
       "<IPython.core.display.HTML object>"
      ]
     },
     "execution_count": 4,
     "metadata": {},
     "output_type": "execute_result"
    }
   ],
   "source": [
    "%%sparksql\n",
    "\n",
    "USE movielens_parquet_compressed"
   ]
  },
  {
   "cell_type": "markdown",
   "id": "c01bd10e-e868-4b6e-bebb-baa97db062b6",
   "metadata": {},
   "source": [
    "## Playground"
   ]
  },
  {
   "cell_type": "markdown",
   "id": "b2f227f3",
   "metadata": {},
   "source": [
    "### How many movies do we have?\n",
    "\n",
    "```\n",
    " * hive://hadoop@localhost:10000/movielens_parquet_compressed\n",
    "Done.\n",
    "CPU times: user 6.9 ms, sys: 153 µs, total: 7.05 ms\n",
    "Wall time: 125 ms\n",
    "```"
   ]
  },
  {
   "cell_type": "code",
   "execution_count": 5,
   "id": "dc990d2f-0c06-46a8-b9bf-c91b899e6ce4",
   "metadata": {},
   "outputs": [
    {
     "name": "stderr",
     "output_type": "stream",
     "text": [
      "[Stage 2:>                                                          (0 + 1) / 1]\r"
     ]
    },
    {
     "name": "stdout",
     "output_type": "stream",
     "text": [
      "CPU times: user 13.4 ms, sys: 1.37 ms, total: 14.8 ms\n",
      "Wall time: 7.79 s\n"
     ]
    },
    {
     "name": "stderr",
     "output_type": "stream",
     "text": [
      "                                                                                \r"
     ]
    },
    {
     "data": {
      "text/html": [
       "<table><tr style=\"border-bottom: 1px solid\"><td style=\"font-weight: bold\">count(1)</td></tr><tr><td>62423</td></tr></table>"
      ],
      "text/plain": [
       "<IPython.core.display.HTML object>"
      ]
     },
     "execution_count": 5,
     "metadata": {},
     "output_type": "execute_result"
    }
   ],
   "source": [
    "%%time \n",
    "%%sparksql\n",
    "\n",
    "SELECT count(*) FROM movies"
   ]
  },
  {
   "cell_type": "markdown",
   "id": "24369c8c",
   "metadata": {},
   "source": [
    "### How many ratings do we have?\n",
    "```\n",
    " * hive://hadoop@localhost:10000/movielens_parquet_compressed\n",
    "Done.\n",
    "CPU times: user 1.17 ms, sys: 5.38 ms, total: 6.55 ms\n",
    "Wall time: 116 ms\n",
    "```"
   ]
  },
  {
   "cell_type": "code",
   "execution_count": 6,
   "id": "542837a7-5a03-43b2-8ef6-8b963cee315f",
   "metadata": {},
   "outputs": [
    {
     "name": "stderr",
     "output_type": "stream",
     "text": [
      "[Stage 3:=============================================>           (12 + 3) / 15]\r"
     ]
    },
    {
     "name": "stdout",
     "output_type": "stream",
     "text": [
      "CPU times: user 9.76 ms, sys: 5.8 ms, total: 15.6 ms\n",
      "Wall time: 5.2 s\n"
     ]
    },
    {
     "name": "stderr",
     "output_type": "stream",
     "text": [
      "                                                                                \r"
     ]
    },
    {
     "data": {
      "text/html": [
       "<table><tr style=\"border-bottom: 1px solid\"><td style=\"font-weight: bold\">count(1)</td></tr><tr><td>25000095</td></tr></table>"
      ],
      "text/plain": [
       "<IPython.core.display.HTML object>"
      ]
     },
     "execution_count": 6,
     "metadata": {},
     "output_type": "execute_result"
    }
   ],
   "source": [
    "%%time \n",
    "%%sparksql\n",
    "\n",
    "SELECT count(*) FROM ratings"
   ]
  },
  {
   "cell_type": "markdown",
   "id": "43bfdf54-5b62-4b4d-9015-65c8a7527572",
   "metadata": {},
   "source": [
    "### How many users do we have?\n",
    "```\n",
    " * hive://hadoop@localhost:10000/movielens_parquet_compressed\n",
    "Done.\n",
    "CPU times: user 8.24 ms, sys: 1.12 ms, total: 9.36 ms\n",
    "Wall time: 30.6 s\n",
    "```"
   ]
  },
  {
   "cell_type": "code",
   "execution_count": 7,
   "id": "24709c83-683e-4539-9207-b0322129ec8d",
   "metadata": {},
   "outputs": [
    {
     "name": "stderr",
     "output_type": "stream",
     "text": [
      "[Stage 6:=================================================>       (13 + 2) / 15]\r"
     ]
    },
    {
     "name": "stdout",
     "output_type": "stream",
     "text": [
      "CPU times: user 11.3 ms, sys: 3.24 ms, total: 14.6 ms\n",
      "Wall time: 3.79 s\n"
     ]
    },
    {
     "name": "stderr",
     "output_type": "stream",
     "text": [
      "                                                                                \r"
     ]
    },
    {
     "data": {
      "text/html": [
       "<table><tr style=\"border-bottom: 1px solid\"><td style=\"font-weight: bold\">count(DISTINCT userid)</td></tr><tr><td>162541</td></tr></table>"
      ],
      "text/plain": [
       "<IPython.core.display.HTML object>"
      ]
     },
     "execution_count": 7,
     "metadata": {},
     "output_type": "execute_result"
    }
   ],
   "source": [
    "%%time \n",
    "%%sparksql\n",
    "\n",
    "SELECT COUNT(DISTINCT(userid)) FROM ratings"
   ]
  },
  {
   "cell_type": "markdown",
   "id": "0fff4f5b",
   "metadata": {},
   "source": [
    "### Which movie(s) has (have) the most number of genres?\n",
    "```\n",
    "* hive://hadoop@localhost:10000/movielens_parquet_compressed\n",
    "Done.\n",
    "CPU times: user 9.34 ms, sys: 1.38 ms, total: 10.7 ms\n",
    "Wall time: 27.4 s\n",
    "```"
   ]
  },
  {
   "cell_type": "code",
   "execution_count": 8,
   "id": "362763b2-271c-4a2b-a493-9fa500020d2b",
   "metadata": {},
   "outputs": [
    {
     "name": "stderr",
     "output_type": "stream",
     "text": [
      "[Stage 12:>                                                         (0 + 1) / 1]\r"
     ]
    },
    {
     "name": "stdout",
     "output_type": "stream",
     "text": [
      "CPU times: user 5.12 ms, sys: 5.11 ms, total: 10.2 ms\n",
      "Wall time: 1.51 s\n"
     ]
    },
    {
     "name": "stderr",
     "output_type": "stream",
     "text": [
      "                                                                                \r"
     ]
    },
    {
     "data": {
      "text/html": [
       "<table><tr style=\"border-bottom: 1px solid\"><td style=\"font-weight: bold\">title</td><td style=\"font-weight: bold\">year</td><td style=\"font-weight: bold\">genres</td><td style=\"font-weight: bold\">num_gen</td></tr><tr><td>Rubber</td><td>2010</td><td>[&#x27;Action&#x27;, &#x27;Adventure&#x27;, &#x27;Comedy&#x27;, &#x27;Crime&#x27;, &#x27;Drama&#x27;, &#x27;Film-Noir&#x27;, &#x27;Horror&#x27;, &#x27;Mystery&#x27;, &#x27;Thriller&#x27;, &#x27;Western&#x27;]</td><td>10</td></tr><tr><td>Motorama</td><td>1991</td><td>[&#x27;Adventure&#x27;, &#x27;Comedy&#x27;, &#x27;Crime&#x27;, &#x27;Drama&#x27;, &#x27;Fantasy&#x27;, &#x27;Mystery&#x27;, &#x27;Sci-Fi&#x27;, &#x27;Thriller&#x27;]</td><td>8</td></tr></table>"
      ],
      "text/plain": [
       "<IPython.core.display.HTML object>"
      ]
     },
     "execution_count": 8,
     "metadata": {},
     "output_type": "execute_result"
    }
   ],
   "source": [
    "%%time \n",
    "%%sparksql\n",
    "\n",
    "select title, year, genres, size(genres) as num_gen from movies order by num_gen desc limit 2"
   ]
  },
  {
   "cell_type": "markdown",
   "id": "9a391b14",
   "metadata": {},
   "source": [
    "### Show all movies with terminator in the title\n",
    "\n",
    "```\n",
    " * hive://hadoop@localhost:10000/movielens_parquet_compressed\n",
    "Done.\n",
    "CPU times: user 8.31 ms, sys: 0 ns, total: 8.31 ms\n",
    "Wall time: 232 ms\n",
    "```"
   ]
  },
  {
   "cell_type": "code",
   "execution_count": 9,
   "id": "a19a7563-1787-4e6c-8c24-b5e8ff6aba23",
   "metadata": {},
   "outputs": [
    {
     "name": "stdout",
     "output_type": "stream",
     "text": [
      "CPU times: user 6.61 ms, sys: 2.59 ms, total: 9.2 ms\n",
      "Wall time: 791 ms\n"
     ]
    },
    {
     "name": "stderr",
     "output_type": "stream",
     "text": [
      "                                                                                \r"
     ]
    },
    {
     "data": {
      "text/html": [
       "<table><tr style=\"border-bottom: 1px solid\"><td style=\"font-weight: bold\">movieid</td><td style=\"font-weight: bold\">title</td><td style=\"font-weight: bold\">year</td></tr><tr><td>589</td><td>Terminator 2: Judgment Day</td><td>1991</td></tr><tr><td>1240</td><td>Terminator, The</td><td>1984</td></tr><tr><td>4934</td><td>Exterminator, The</td><td>1980</td></tr><tr><td>6537</td><td>Terminator 3: Rise of the Machines</td><td>2003</td></tr><tr><td>68791</td><td>Terminator Salvation</td><td>2009</td></tr><tr><td>102425</td><td>Lady Terminator (Pembalasan ratu pantai selatan)</td><td>1989</td></tr><tr><td>120799</td><td>Terminator Genisys</td><td>2015</td></tr><tr><td>126713</td><td>Exterminator 2</td><td>1984</td></tr><tr><td>136200</td><td>The Terminators</td><td>2009</td></tr><tr><td>139909</td><td>Russian Terminator</td><td>1989</td></tr><tr><td>145466</td><td>Exterminators of the Year 3000</td><td>1983</td></tr><tr><td>175137</td><td>The Making of &#x27;The Terminator&#x27;: A Retrospective</td><td>1992</td></tr><tr><td>177415</td><td>The Making of &#x27;Terminator 2: Judgment Day&#x27;</td><td>1991</td></tr><tr><td>179031</td><td>ExTerminators</td><td>2010</td></tr><tr><td>207830</td><td>Terminator: Dark Fate</td><td>2019</td></tr></table>"
      ],
      "text/plain": [
       "<IPython.core.display.HTML object>"
      ]
     },
     "execution_count": 9,
     "metadata": {},
     "output_type": "execute_result"
    }
   ],
   "source": [
    "%%time \n",
    "%%sparksql\n",
    "\n",
    "select movieid, title, year from movies where lower(title) like '%terminator%'"
   ]
  },
  {
   "cell_type": "markdown",
   "id": "468ed7de",
   "metadata": {},
   "source": [
    "### How many movies do we have from 1984?\n",
    "```\n",
    " * hive://hadoop@localhost:10000/movielens_parquet_compressed\n",
    "Done.\n",
    "CPU times: user 10.5 ms, sys: 0 ns, total: 10.5 ms\n",
    "Wall time: 26.1 s\n",
    "```"
   ]
  },
  {
   "cell_type": "code",
   "execution_count": 10,
   "id": "8d7420de-d656-4fab-8009-8133466d6903",
   "metadata": {},
   "outputs": [
    {
     "name": "stdout",
     "output_type": "stream",
     "text": [
      "CPU times: user 7.81 ms, sys: 0 ns, total: 7.81 ms\n",
      "Wall time: 1.09 s\n"
     ]
    },
    {
     "data": {
      "text/html": [
       "<table><tr style=\"border-bottom: 1px solid\"><td style=\"font-weight: bold\">count(1)</td></tr><tr><td>470</td></tr></table>"
      ],
      "text/plain": [
       "<IPython.core.display.HTML object>"
      ]
     },
     "execution_count": 10,
     "metadata": {},
     "output_type": "execute_result"
    }
   ],
   "source": [
    "%%time \n",
    "%%sparksql\n",
    "\n",
    "select count(*) from movies where year = 1984"
   ]
  },
  {
   "cell_type": "markdown",
   "id": "3e89135f",
   "metadata": {},
   "source": [
    "### Show the distribution of movies per year (where year >= 2000), sorted by year\n",
    "```\n",
    " * hive://hadoop@localhost:10000/movielens_parquet_compressed\n",
    "Done.\n",
    "CPU times: user 12.9 ms, sys: 3.02 ms, total: 15.9 ms\n",
    "Wall time: 54.5 s\n",
    "```"
   ]
  },
  {
   "cell_type": "code",
   "execution_count": 11,
   "id": "4b555659-6eb0-486e-8bab-4ee4c86016dc",
   "metadata": {},
   "outputs": [
    {
     "name": "stdout",
     "output_type": "stream",
     "text": [
      "CPU times: user 6.81 ms, sys: 1.06 ms, total: 7.87 ms\n",
      "Wall time: 1.3 s\n"
     ]
    },
    {
     "data": {
      "text/html": [
       "<table><tr style=\"border-bottom: 1px solid\"><td style=\"font-weight: bold\">year</td><td style=\"font-weight: bold\">count(title)</td></tr><tr><td>2000</td><td>929</td></tr><tr><td>2001</td><td>969</td></tr><tr><td>2002</td><td>1023</td></tr><tr><td>2003</td><td>1028</td></tr><tr><td>2004</td><td>1169</td></tr><tr><td>2005</td><td>1250</td></tr><tr><td>2006</td><td>1440</td></tr><tr><td>2007</td><td>1494</td></tr><tr><td>2008</td><td>1625</td></tr><tr><td>2009</td><td>1721</td></tr><tr><td>2010</td><td>1673</td></tr><tr><td>2011</td><td>1821</td></tr><tr><td>2012</td><td>1959</td></tr><tr><td>2013</td><td>2164</td></tr><tr><td>2014</td><td>2403</td></tr><tr><td>2015</td><td>2513</td></tr><tr><td>2016</td><td>2488</td></tr><tr><td>2017</td><td>2374</td></tr><tr><td>2018</td><td>2034</td></tr><tr><td>2019</td><td>994</td></tr></table>"
      ],
      "text/plain": [
       "<IPython.core.display.HTML object>"
      ]
     },
     "execution_count": 11,
     "metadata": {},
     "output_type": "execute_result"
    }
   ],
   "source": [
    "%%time \n",
    "%%sparksql\n",
    "\n",
    "select year, count(title) from movies where year >= 2000 group by year order by year asc"
   ]
  },
  {
   "cell_type": "markdown",
   "id": "8cfc6668",
   "metadata": {},
   "source": [
    "### Movies with the most number of ratings\n",
    "```\n",
    " * hive://hadoop@localhost:10000/movielens_parquet_compressed\n",
    "Done.\n",
    "CPU times: user 11.7 ms, sys: 2.6 ms, total: 14.3 ms\n",
    "Wall time: 28.5 s\n",
    "```"
   ]
  },
  {
   "cell_type": "code",
   "execution_count": 12,
   "id": "9ee5eda2-6a80-4f48-987d-e373f107dc29",
   "metadata": {},
   "outputs": [
    {
     "name": "stdout",
     "output_type": "stream",
     "text": [
      "CPU times: user 3.43 ms, sys: 3.28 ms, total: 6.72 ms\n",
      "Wall time: 571 ms\n"
     ]
    },
    {
     "data": {
      "text/html": [
       "<table><tr style=\"border-bottom: 1px solid\"><td style=\"font-weight: bold\">title</td><td style=\"font-weight: bold\">year</td><td style=\"font-weight: bold\">num_rating</td><td style=\"font-weight: bold\">median_rating</td></tr><tr><td>Forrest Gump</td><td>1994</td><td>81491</td><td>4.0</td></tr><tr><td>Shawshank Redemption, The</td><td>1994</td><td>81482</td><td>4.0</td></tr><tr><td>Pulp Fiction</td><td>1994</td><td>79672</td><td>4.0</td></tr><tr><td>Silence of the Lambs, The</td><td>1991</td><td>74127</td><td>4.0</td></tr><tr><td>Matrix, The</td><td>1999</td><td>72674</td><td>4.0</td></tr><tr><td>Star Wars: Episode IV - A New Hope</td><td>1977</td><td>68717</td><td>4.0</td></tr><tr><td>Jurassic Park</td><td>1993</td><td>64144</td><td>4.0</td></tr><tr><td>Schindler&#x27;s List</td><td>1993</td><td>60411</td><td>4.0</td></tr><tr><td>Braveheart</td><td>1995</td><td>59184</td><td>4.0</td></tr><tr><td>Fight Club</td><td>1999</td><td>58773</td><td>4.0</td></tr></table>"
      ],
      "text/plain": [
       "<IPython.core.display.HTML object>"
      ]
     },
     "execution_count": 12,
     "metadata": {},
     "output_type": "execute_result"
    }
   ],
   "source": [
    "%%time \n",
    "%%sparksql\n",
    "\n",
    "select title, year, num_rating, median_rating from movie_rating order by num_rating DESC limit 10"
   ]
  },
  {
   "cell_type": "markdown",
   "id": "d4afb5a2-d007-406f-8e9d-6ce71ee66c50",
   "metadata": {},
   "source": [
    "### Top ten best rated movies (by median) where we have at least 100 ratings for a movie\n",
    "```\n",
    " * hive://hadoop@localhost:10000/movielens_parquet_compressed\n",
    "Done.\n",
    "CPU times: user 27.9 ms, sys: 3.95 ms, total: 31.8 ms\n",
    "Wall time: 27.4 s\n",
    "```"
   ]
  },
  {
   "cell_type": "code",
   "execution_count": 13,
   "id": "a53fdfbc-be93-4e99-9203-cc53f84fbe9e",
   "metadata": {},
   "outputs": [
    {
     "name": "stdout",
     "output_type": "stream",
     "text": [
      "CPU times: user 2.93 ms, sys: 4.29 ms, total: 7.21 ms\n",
      "Wall time: 716 ms\n"
     ]
    },
    {
     "data": {
      "text/html": [
       "<table><tr style=\"border-bottom: 1px solid\"><td style=\"font-weight: bold\">title</td><td style=\"font-weight: bold\">year</td><td style=\"font-weight: bold\">num_rating</td><td style=\"font-weight: bold\">median_rating</td></tr><tr><td>Forrest Gump</td><td>1994</td><td>81491</td><td>4.0</td></tr><tr><td>Shawshank Redemption, The</td><td>1994</td><td>81482</td><td>4.0</td></tr><tr><td>Pulp Fiction</td><td>1994</td><td>79672</td><td>4.0</td></tr><tr><td>Silence of the Lambs, The</td><td>1991</td><td>74127</td><td>4.0</td></tr><tr><td>Matrix, The</td><td>1999</td><td>72674</td><td>4.0</td></tr><tr><td>Star Wars: Episode IV - A New Hope</td><td>1977</td><td>68717</td><td>4.0</td></tr><tr><td>Jurassic Park</td><td>1993</td><td>64144</td><td>4.0</td></tr><tr><td>Schindler&#x27;s List</td><td>1993</td><td>60411</td><td>4.0</td></tr><tr><td>Braveheart</td><td>1995</td><td>59184</td><td>4.0</td></tr><tr><td>Fight Club</td><td>1999</td><td>58773</td><td>4.0</td></tr></table>"
      ],
      "text/plain": [
       "<IPython.core.display.HTML object>"
      ]
     },
     "execution_count": 13,
     "metadata": {},
     "output_type": "execute_result"
    }
   ],
   "source": [
    "%%time \n",
    "%%sparksql\n",
    "\n",
    "select title, year, num_rating, median_rating \n",
    "from movie_rating\n",
    "where num_rating > 100\n",
    "order by median_rating DESC, num_rating DESC\n",
    "limit 10"
   ]
  },
  {
   "cell_type": "markdown",
   "id": "03a7a620-9390-4e74-9ae7-1c5ff9d1c8f7",
   "metadata": {},
   "source": [
    "### Top ten worst rated movies (by median) where we have at least 100 ratings for a movie\n",
    "\n",
    "```\n",
    " * hive://hadoop@localhost:10000/movielens_parquet_compressed\n",
    "Done.\n",
    "CPU times: user 12.8 ms, sys: 858 µs, total: 13.6 ms\n",
    "Wall time: 28.2 s\n",
    "```"
   ]
  },
  {
   "cell_type": "code",
   "execution_count": 14,
   "id": "d3ba567c-4b1c-4021-8052-acf2411aa77f",
   "metadata": {},
   "outputs": [
    {
     "name": "stdout",
     "output_type": "stream",
     "text": [
      "CPU times: user 6.43 ms, sys: 0 ns, total: 6.43 ms\n",
      "Wall time: 390 ms\n"
     ]
    },
    {
     "data": {
      "text/html": [
       "<table><tr style=\"border-bottom: 1px solid\"><td style=\"font-weight: bold\">title</td><td style=\"font-weight: bold\">year</td><td style=\"font-weight: bold\">num_rating</td><td style=\"font-weight: bold\">median_rating</td></tr><tr><td>Disaster Movie</td><td>2008</td><td>557</td><td>0.0</td></tr><tr><td>Pokemon 4 Ever (a.k.a. Pokémon 4: The Movie)</td><td>2002</td><td>494</td><td>0.0</td></tr><tr><td>From Justin to Kelly</td><td>2003</td><td>417</td><td>0.0</td></tr><tr><td>Pokémon Heroes</td><td>2003</td><td>355</td><td>0.0</td></tr><tr><td>Bratz: The Movie</td><td>2007</td><td>209</td><td>0.0</td></tr><tr><td>SuperBabies: Baby Geniuses 2</td><td>2004</td><td>208</td><td>0.0</td></tr><tr><td>Faces of Death 4</td><td>1990</td><td>169</td><td>0.0</td></tr><tr><td>Faces of Death 6</td><td>1996</td><td>162</td><td>0.0</td></tr><tr><td>Faces of Death 5</td><td>1996</td><td>147</td><td>0.0</td></tr><tr><td>Birdemic: Shock and Terror</td><td>2010</td><td>115</td><td>0.0</td></tr></table>"
      ],
      "text/plain": [
       "<IPython.core.display.HTML object>"
      ]
     },
     "execution_count": 14,
     "metadata": {},
     "output_type": "execute_result"
    }
   ],
   "source": [
    "%%time \n",
    "%%sparksql\n",
    "\n",
    "select title, year, num_rating, median_rating \n",
    "from movie_rating\n",
    "where\n",
    "    num_rating is not null\n",
    "    and num_rating > 100\n",
    "order by median_rating ASC, num_rating DESC\n",
    "limit 10"
   ]
  },
  {
   "cell_type": "markdown",
   "id": "5380972b-3a13-4966-a4fe-2b5755308a26",
   "metadata": {},
   "source": [
    "### Which genres were used how often?\n",
    "\n",
    "```\n",
    " * hive://hadoop@localhost:10000/movielens_parquet_compressed\n",
    "Done.\n",
    "CPU times: user 14.4 ms, sys: 2.46 ms, total: 16.9 ms\n",
    "Wall time: 54.5 s\n",
    "```"
   ]
  },
  {
   "cell_type": "code",
   "execution_count": 15,
   "id": "77480446-576c-40ef-b235-4c9113822997",
   "metadata": {},
   "outputs": [
    {
     "name": "stdout",
     "output_type": "stream",
     "text": [
      "CPU times: user 5.74 ms, sys: 1.72 ms, total: 7.46 ms\n",
      "Wall time: 1.06 s\n"
     ]
    },
    {
     "data": {
      "text/html": [
       "<table><tr style=\"border-bottom: 1px solid\"><td style=\"font-weight: bold\">genre</td><td style=\"font-weight: bold\">cnt</td></tr><tr><td>Drama</td><td>25606</td></tr><tr><td>Comedy</td><td>16870</td></tr><tr><td>Thriller</td><td>8654</td></tr><tr><td>Romance</td><td>7719</td></tr><tr><td>Action</td><td>7348</td></tr><tr><td>Horror</td><td>5989</td></tr><tr><td>Documentary</td><td>5605</td></tr><tr><td>Crime</td><td>5319</td></tr><tr><td></td><td>5062</td></tr><tr><td>Adventure</td><td>4145</td></tr><tr><td>Sci-Fi</td><td>3595</td></tr><tr><td>Children</td><td>2935</td></tr><tr><td>Animation</td><td>2929</td></tr><tr><td>Mystery</td><td>2925</td></tr><tr><td>Fantasy</td><td>2731</td></tr><tr><td>War</td><td>1874</td></tr><tr><td>Western</td><td>1399</td></tr><tr><td>Musical</td><td>1054</td></tr><tr><td>Film-Noir</td><td>353</td></tr><tr><td>IMAX</td><td>195</td></tr></table>"
      ],
      "text/plain": [
       "<IPython.core.display.HTML object>"
      ]
     },
     "execution_count": 15,
     "metadata": {},
     "output_type": "execute_result"
    }
   ],
   "source": [
    "%%time \n",
    "%%sparksql\n",
    "\n",
    "SELECT genre, COUNT(genre) AS cnt FROM (\n",
    "    SELECT EXPLODE(genres) genre FROM movies\n",
    ")t\n",
    "GROUP BY genre\n",
    "ORDER BY cnt DESC"
   ]
  },
  {
   "cell_type": "markdown",
   "id": "86b87168-b3d0-4d49-bf37-805d7bcc2f24",
   "metadata": {},
   "source": [
    "## Naïve Movie Recommender"
   ]
  },
  {
   "cell_type": "markdown",
   "id": "649ec0fb-0b10-449b-b842-5f24ca2543c9",
   "metadata": {},
   "source": [
    "### Step 1 - find two movies (the `movieid` you like a lot)\n",
    " \n",
    " --> 4011 == Snatch\n",
    " \n",
    " --> 1270 == Back to the Future\n",
    " \n",
    " ```\n",
    "  * hive://hadoop@localhost:10000/movielens_parquet_compressed\n",
    "Done.\n",
    "CPU times: user 9.52 ms, sys: 1.28 ms, total: 10.8 ms\n",
    "Wall time: 247 ms\n",
    "```"
   ]
  },
  {
   "cell_type": "code",
   "execution_count": 16,
   "id": "9aa3260a-be2e-4f89-835a-bc47a1d406a7",
   "metadata": {},
   "outputs": [
    {
     "name": "stdout",
     "output_type": "stream",
     "text": [
      "CPU times: user 3.81 ms, sys: 4.08 ms, total: 7.89 ms\n",
      "Wall time: 397 ms\n"
     ]
    },
    {
     "data": {
      "text/html": [
       "<table><tr style=\"border-bottom: 1px solid\"><td style=\"font-weight: bold\">movieid</td><td style=\"font-weight: bold\">title</td><td style=\"font-weight: bold\">year</td></tr><tr><td>426</td><td>Body Snatchers</td><td>1993</td></tr><tr><td>1337</td><td>Body Snatcher, The</td><td>1945</td></tr><tr><td>2664</td><td>Invasion of the Body Snatchers</td><td>1956</td></tr><tr><td>4011</td><td>Snatch</td><td>2000</td></tr><tr><td>7001</td><td>Invasion of the Body Snatchers</td><td>1978</td></tr><tr><td>97031</td><td>Goke, Body Snatcher from Hell (Kyuketsuki Gokemidoro)</td><td>1968</td></tr><tr><td>102388</td><td>Candy Snatchers, The</td><td>1973</td></tr><tr><td>122037</td><td>The Bone Snatcher</td><td>2003</td></tr><tr><td>130656</td><td>The 21 Carat Snatch</td><td>1971</td></tr><tr><td>147754</td><td>The Mind Snatchers</td><td>1972</td></tr><tr><td>165201</td><td>Snatched</td><td>1973</td></tr><tr><td>170817</td><td>Snatched</td><td>2017</td></tr><tr><td>188609</td><td>The Snatch Thief</td><td>2018</td></tr><tr><td>196997</td><td>Black Mirror: Bandersnatch</td><td>2018</td></tr></table>"
      ],
      "text/plain": [
       "<IPython.core.display.HTML object>"
      ]
     },
     "execution_count": 16,
     "metadata": {},
     "output_type": "execute_result"
    }
   ],
   "source": [
    "%%time \n",
    "%%sparksql\n",
    "\n",
    "select movieid, title, year from movies where lower(title) like '%snatch%'"
   ]
  },
  {
   "cell_type": "markdown",
   "id": "77df7897-3919-441a-b246-bc001eab2704",
   "metadata": {},
   "source": [
    "```\n",
    " * hive://hadoop@localhost:10000/movielens_parquet_compressed\n",
    "Done.\n",
    "CPU times: user 9.57 ms, sys: 0 ns, total: 9.57 ms\n",
    "Wall time: 231 ms\n",
    "```"
   ]
  },
  {
   "cell_type": "code",
   "execution_count": 17,
   "id": "8404d891-e9da-4b42-bde5-ea4eed3b9ff0",
   "metadata": {},
   "outputs": [
    {
     "name": "stdout",
     "output_type": "stream",
     "text": [
      "CPU times: user 6.89 ms, sys: 0 ns, total: 6.89 ms\n",
      "Wall time: 452 ms\n"
     ]
    },
    {
     "data": {
      "text/html": [
       "<table><tr style=\"border-bottom: 1px solid\"><td style=\"font-weight: bold\">movieid</td><td style=\"font-weight: bold\">title</td><td style=\"font-weight: bold\">year</td></tr><tr><td>1270</td><td>Back to the Future</td><td>1985</td></tr><tr><td>1863</td><td>Major League: Back to the Minors</td><td>1998</td></tr><tr><td>2011</td><td>Back to the Future Part II</td><td>1989</td></tr><tr><td>2012</td><td>Back to the Future Part III</td><td>1990</td></tr><tr><td>4081</td><td>Back to the Beach</td><td>1987</td></tr><tr><td>4445</td><td>T-Rex: Back to the Cretaceous</td><td>1998</td></tr><tr><td>5936</td><td>Come Back to the Five and Dime, Jimmy Dean, Jimmy Dean</td><td>1982</td></tr><tr><td>102666</td><td>Ivan Vasilievich: Back to the Future (Ivan Vasilievich menyaet professiyu)</td><td>1973</td></tr><tr><td>106549</td><td>Back to the USSR - takaisin Ryssiin</td><td>1992</td></tr><tr><td>127845</td><td>Back to the Garden, Flower Power Comes Full Circle</td><td>2009</td></tr><tr><td>136640</td><td>Back to the Jurassic</td><td>2015</td></tr><tr><td>139367</td><td>My Trip Back to the Dark Side</td><td>2014</td></tr><tr><td>139459</td><td>Back to the Beyond</td><td>2011</td></tr><tr><td>154917</td><td>Back To The Sea</td><td>2012</td></tr><tr><td>169574</td><td>Lisa Lampanelli: Back to the Drawing Board</td><td>2015</td></tr><tr><td>170865</td><td>Back to the Well: &#x27;Clerks II&#x27;</td><td>2006</td></tr></table>"
      ],
      "text/plain": [
       "<IPython.core.display.HTML object>"
      ]
     },
     "execution_count": 17,
     "metadata": {},
     "output_type": "execute_result"
    }
   ],
   "source": [
    "%%time \n",
    "%%sparksql\n",
    "\n",
    "select movieid, title, year from movies where lower(title) like '%back to the%'\n"
   ]
  },
  {
   "cell_type": "markdown",
   "id": "f079fdd8-cadd-4293-b433-f3eee0de4b3c",
   "metadata": {},
   "source": [
    "### Find people who liked these movies as well and save it into temp table\n",
    "```\n",
    " * hive://hadoop@localhost:10000/movielens_parquet_compressed\n",
    "Done.\n",
    "CPU times: user 7.76 ms, sys: 3.01 ms, total: 10.8 ms\n",
    "Wall time: 30.8 s\n",
    "```"
   ]
  },
  {
   "cell_type": "code",
   "execution_count": 22,
   "id": "8a01fd9c-3225-4964-bca0-ff5dae284549",
   "metadata": {},
   "outputs": [
    {
     "name": "stdout",
     "output_type": "stream",
     "text": [
      "CPU times: user 7.3 ms, sys: 0 ns, total: 7.3 ms\n",
      "Wall time: 143 ms\n"
     ]
    },
    {
     "data": {
      "text/html": [
       "<table><tr style=\"border-bottom: 1px solid\"></tr></table>"
      ],
      "text/plain": [
       "<IPython.core.display.HTML object>"
      ]
     },
     "execution_count": 22,
     "metadata": {},
     "output_type": "execute_result"
    }
   ],
   "source": [
    "%%time \n",
    "%%sparksql\n",
    "\n",
    "CREATE TEMPORARY VIEW similar_people as \n",
    "select distinct(userid) userid\n",
    "from ratings \n",
    "where (movieid = 4011 or movieid = 1270) and rating = 5"
   ]
  },
  {
   "cell_type": "markdown",
   "id": "e73947bb-1e39-4135-9666-e5bd201592aa",
   "metadata": {},
   "source": [
    "### Basic checks for `similar_people`\n",
    "\n",
    "```\n",
    " * hive://hadoop@localhost:10000/movielens_parquet_compressed\n",
    "Done.\n",
    "CPU times: user 4.24 ms, sys: 3.32 ms, total: 7.57 ms\n",
    "Wall time: 126 ms\n",
    "```"
   ]
  },
  {
   "cell_type": "code",
   "execution_count": 23,
   "id": "7bfd45b7-dccd-472c-8db2-01781a784bbe",
   "metadata": {},
   "outputs": [
    {
     "name": "stderr",
     "output_type": "stream",
     "text": [
      "[Stage 28:====================================================>   (14 + 1) / 15]\r"
     ]
    },
    {
     "name": "stdout",
     "output_type": "stream",
     "text": [
      "CPU times: user 10.5 ms, sys: 1.52 ms, total: 12 ms\n",
      "Wall time: 1.78 s\n"
     ]
    },
    {
     "name": "stderr",
     "output_type": "stream",
     "text": [
      "                                                                                \r"
     ]
    },
    {
     "data": {
      "text/html": [
       "<table><tr style=\"border-bottom: 1px solid\"><td style=\"font-weight: bold\">userid</td></tr><tr><td>1238</td></tr><tr><td>1342</td></tr></table>"
      ],
      "text/plain": [
       "<IPython.core.display.HTML object>"
      ]
     },
     "execution_count": 23,
     "metadata": {},
     "output_type": "execute_result"
    }
   ],
   "source": [
    "%%time \n",
    "%%sparksql\n",
    "\n",
    "select * from similar_people limit 2"
   ]
  },
  {
   "cell_type": "markdown",
   "id": "5335b19c-2375-44f6-9043-eca6ae5b1411",
   "metadata": {},
   "source": [
    "```\n",
    " * hive://hadoop@localhost:10000/movielens_parquet_compressed\n",
    "Done.\n",
    "CPU times: user 8.16 ms, sys: 110 µs, total: 8.27 ms\n",
    "Wall time: 102 ms\n",
    "```"
   ]
  },
  {
   "cell_type": "code",
   "execution_count": 24,
   "id": "f39a9e25-7cef-4004-959c-506b7ba6d72e",
   "metadata": {},
   "outputs": [
    {
     "name": "stderr",
     "output_type": "stream",
     "text": [
      "[Stage 31:================================================>       (13 + 2) / 15]\r"
     ]
    },
    {
     "name": "stdout",
     "output_type": "stream",
     "text": [
      "CPU times: user 7.4 ms, sys: 6.23 ms, total: 13.6 ms\n",
      "Wall time: 1.28 s\n"
     ]
    },
    {
     "name": "stderr",
     "output_type": "stream",
     "text": [
      "                                                                                \r"
     ]
    },
    {
     "data": {
      "text/html": [
       "<table><tr style=\"border-bottom: 1px solid\"><td style=\"font-weight: bold\">count(1)</td></tr><tr><td>16455</td></tr></table>"
      ],
      "text/plain": [
       "<IPython.core.display.HTML object>"
      ]
     },
     "execution_count": 24,
     "metadata": {},
     "output_type": "execute_result"
    }
   ],
   "source": [
    "%%time \n",
    "%%sparksql\n",
    "\n",
    "select count(*) from similar_people"
   ]
  },
  {
   "cell_type": "markdown",
   "id": "ae5b5b10-9e7c-44c0-ad5f-73d8d79ce9aa",
   "metadata": {},
   "source": [
    "### Join `similar_people` with `movies` and `ratings` and get movie recommendations\n",
    "\n",
    "```\n",
    " * hive://hadoop@localhost:10000/movielens_parquet_compressed\n",
    "Done.\n",
    "CPU times: user 11.3 ms, sys: 5.8 ms, total: 17.1 ms\n",
    "Wall time: 1min 2s\n",
    "```"
   ]
  },
  {
   "cell_type": "code",
   "execution_count": 25,
   "id": "284919a3-704a-4452-b8c9-b8d5584ae19e",
   "metadata": {},
   "outputs": [
    {
     "name": "stderr",
     "output_type": "stream",
     "text": [
      "[Stage 43:================================================>       (13 + 2) / 15]\r"
     ]
    },
    {
     "name": "stdout",
     "output_type": "stream",
     "text": [
      "CPU times: user 13.6 ms, sys: 6.19 ms, total: 19.7 ms\n",
      "Wall time: 3.34 s\n"
     ]
    },
    {
     "name": "stderr",
     "output_type": "stream",
     "text": [
      "                                                                                \r"
     ]
    },
    {
     "data": {
      "text/html": [
       "<table><tr style=\"border-bottom: 1px solid\"><td style=\"font-weight: bold\">title</td><td style=\"font-weight: bold\">five_star_count</td></tr><tr><td>Back to the Future</td><td>11602</td></tr><tr><td>Shawshank Redemption, The</td><td>6662</td></tr><tr><td>Matrix, The</td><td>6545</td></tr><tr><td>Star Wars: Episode IV - A New Hope</td><td>6263</td></tr><tr><td>Pulp Fiction</td><td>6228</td></tr><tr><td>Star Wars: Episode V - The Empire Strikes Back</td><td>6062</td></tr><tr><td>Snatch</td><td>5836</td></tr><tr><td>Raiders of the Lost Ark (Indiana Jones and the Raiders of the Lost Ark)</td><td>5554</td></tr><tr><td>Fight Club</td><td>5535</td></tr><tr><td>Forrest Gump</td><td>5137</td></tr><tr><td>Godfather, The</td><td>4615</td></tr><tr><td>Star Wars: Episode VI - Return of the Jedi</td><td>4559</td></tr><tr><td>Silence of the Lambs, The</td><td>4203</td></tr><tr><td>Lord of the Rings: The Fellowship of the Ring, The</td><td>4185</td></tr><tr><td>Usual Suspects, The</td><td>4172</td></tr><tr><td>Terminator 2: Judgment Day</td><td>4034</td></tr><tr><td>Schindler&#x27;s List</td><td>3777</td></tr><tr><td>Indiana Jones and the Last Crusade</td><td>3643</td></tr><tr><td>Lord of the Rings: The Return of the King, The</td><td>3602</td></tr><tr><td>Lord of the Rings: The Two Towers, The</td><td>3544</td></tr></table>"
      ],
      "text/plain": [
       "<IPython.core.display.HTML object>"
      ]
     },
     "execution_count": 25,
     "metadata": {},
     "output_type": "execute_result"
    }
   ],
   "source": [
    "%%time \n",
    "%%sparksql\n",
    "\n",
    "SELECT m.title, count(*) as five_star_count from ratings r\n",
    "INNER JOIN similar_people sp ON r.userid = sp.userid\n",
    "INNER JOIN movies m ON r.movieid = m.movieid\n",
    "WHERE rating = 5\n",
    "GROUP BY m.title\n",
    "ORDER BY five_star_count DESC\n",
    "LIMIT 20"
   ]
  },
  {
   "cell_type": "code",
   "execution_count": null,
   "id": "a1a05a4e-1388-450b-9e3f-cf05cd1097ba",
   "metadata": {},
   "outputs": [],
   "source": []
  }
 ],
 "metadata": {
  "kernelspec": {
   "display_name": "Python 3 (ipykernel)",
   "language": "python",
   "name": "python3"
  },
  "language_info": {
   "codemirror_mode": {
    "name": "ipython",
    "version": 3
   },
   "file_extension": ".py",
   "mimetype": "text/x-python",
   "name": "python",
   "nbconvert_exporter": "python",
   "pygments_lexer": "ipython3",
   "version": "3.8.10"
  }
 },
 "nbformat": 4,
 "nbformat_minor": 5
}
