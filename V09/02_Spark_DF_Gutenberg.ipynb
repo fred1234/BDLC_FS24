{
 "cells": [
  {
   "cell_type": "markdown",
   "id": "1da5a9ee-c967-4f1a-b5b5-b069233663ba",
   "metadata": {},
   "source": [
    "# Setup"
   ]
  },
  {
   "cell_type": "code",
   "execution_count": null,
   "id": "dd025bfc-9ad6-49d7-9aff-0da0d697de7d",
   "metadata": {},
   "outputs": [],
   "source": [
    "from pyspark.sql import SparkSession\n",
    "\n",
    "spark = SparkSession \\\n",
    "    .builder \\\n",
    "    .appName(\"¯\\_(ツ)_/¯\") \\\n",
    "    .enableHiveSupport() \\\n",
    "    .getOrCreate()"
   ]
  },
  {
   "cell_type": "code",
   "execution_count": 23,
   "id": "9aa4eec4-6673-49d8-bcf4-4f3f0fa34861",
   "metadata": {},
   "outputs": [],
   "source": [
    "gutenberg_raw = spark.read.text(\"/dataset/text/gutenberg_all.txt\")"
   ]
  },
  {
   "cell_type": "code",
   "execution_count": 25,
   "id": "d6c49b12-bf4f-4cff-8e9b-b0bb20e092a7",
   "metadata": {},
   "outputs": [
    {
     "name": "stderr",
     "output_type": "stream",
     "text": [
      "[Stage 8:===================================================>     (26 + 3) / 29]\r"
     ]
    },
    {
     "name": "stdout",
     "output_type": "stream",
     "text": [
      "+----+--------+\n",
      "|word|   count|\n",
      "+----+--------+\n",
      "| the|93298397|\n",
      "|  of|52641129|\n",
      "| and|42905804|\n",
      "|  to|35818512|\n",
      "|   a|31131930|\n",
      "|  in|27674825|\n",
      "|that|14298972|\n",
      "| was|13229351|\n",
      "|  he|12534616|\n",
      "|  is|11698210|\n",
      "|with|11341933|\n",
      "| his|11062801|\n",
      "|   i|10707619|\n",
      "|  it|10609027|\n",
      "|  as|10168716|\n",
      "| for|10107899|\n",
      "|  by| 8262913|\n",
      "|  de| 8062596|\n",
      "|  on| 7939038|\n",
      "|  be| 7805990|\n",
      "+----+--------+\n",
      "only showing top 20 rows\n",
      "\n",
      "CPU times: user 93.1 ms, sys: 52.2 ms, total: 145 ms\n",
      "Wall time: 2min 24s\n"
     ]
    },
    {
     "name": "stderr",
     "output_type": "stream",
     "text": [
      "                                                                                \r"
     ]
    }
   ],
   "source": [
    "%%time\n",
    "from pyspark.sql.functions import split, col\n",
    "wc = gutenberg_raw\\\n",
    "    .select(split(col(\"value\"), \" \").alias(\"sentence\"))\\\n",
    "    .selectExpr(\"(explode(sentence)) as word\")\\\n",
    "    .selectExpr(\"lower(word) as word\")\\\n",
    "    .filter(\"word != ''\")\\\n",
    "    .groupBy(\"word\")\\\n",
    "    .count()\\\n",
    "    .orderBy(\"count\", ascending=False)\\\n",
    "    .show(20)"
   ]
  },
  {
   "cell_type": "code",
   "execution_count": 27,
   "id": "48a4e107-21db-4683-839e-7f7ddd5a8b55",
   "metadata": {},
   "outputs": [],
   "source": [
    "spark.stop()"
   ]
  }
 ],
 "metadata": {
  "kernelspec": {
   "display_name": "Python 3 (ipykernel)",
   "language": "python",
   "name": "python3"
  },
  "language_info": {
   "codemirror_mode": {
    "name": "ipython",
    "version": 3
   },
   "file_extension": ".py",
   "mimetype": "text/x-python",
   "name": "python",
   "nbconvert_exporter": "python",
   "pygments_lexer": "ipython3",
   "version": "3.8.10"
  }
 },
 "nbformat": 4,
 "nbformat_minor": 5
}
