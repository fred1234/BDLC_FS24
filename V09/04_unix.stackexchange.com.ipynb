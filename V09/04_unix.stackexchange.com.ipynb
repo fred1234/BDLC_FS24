{
 "cells": [
  {
   "cell_type": "markdown",
   "id": "65c10619-e3e1-45c6-be30-3568abbb1a85",
   "metadata": {},
   "source": [
    "## Stackexchange Dataset"
   ]
  },
  {
   "cell_type": "code",
   "execution_count": null,
   "id": "9df3a4c8-ab8e-416c-9939-e2c6f63848da",
   "metadata": {},
   "outputs": [],
   "source": [
    "! wget https://drive.switch.ch/index.php/s/I6hiqbHZRCFwZGj/download -O /data/dataset/stackexchange.zip"
   ]
  },
  {
   "cell_type": "code",
   "execution_count": null,
   "id": "ab7bf112-a782-40e9-8ad6-e7bd91aef6d1",
   "metadata": {},
   "outputs": [],
   "source": [
    "!ls -lisah /data/dataset/stackexchange.zip"
   ]
  },
  {
   "cell_type": "code",
   "execution_count": null,
   "id": "d7538eea-4b7f-4822-9159-04ec8d2a77c4",
   "metadata": {},
   "outputs": [],
   "source": [
    "!unzip /data/dataset/stackexchange.zip -d /data/dataset/"
   ]
  },
  {
   "cell_type": "code",
   "execution_count": null,
   "id": "740b35ee-f39d-4421-b11f-47f541859cd4",
   "metadata": {},
   "outputs": [],
   "source": [
    "!ls -lisah /data/dataset/stackexchange.com/unix.stackexchange.com/json/"
   ]
  },
  {
   "cell_type": "markdown",
   "id": "2c8a5366-6f30-4bdf-9e8c-3c3df9eb461e",
   "metadata": {},
   "source": [
    "## Init Spark"
   ]
  },
  {
   "cell_type": "code",
   "execution_count": null,
   "id": "3251396c-f8a0-4442-8bd3-7b8e67a592bc",
   "metadata": {},
   "outputs": [],
   "source": [
    "import findspark\n",
    "findspark.init()"
   ]
  },
  {
   "cell_type": "code",
   "execution_count": null,
   "id": "2dc28bf6-6651-4aee-a043-eaf8d9618a22",
   "metadata": {},
   "outputs": [],
   "source": [
    "from pyspark.sql import SparkSession\n",
    "\n",
    "spark = SparkSession \\\n",
    "    .builder \\\n",
    "    .appName(\"unix.stackexchange.com\") \\\n",
    "    .getOrCreate()"
   ]
  },
  {
   "cell_type": "markdown",
   "id": "6c80e11a-0425-41e1-8bd4-a8fca636f5f0",
   "metadata": {
    "tags": []
   },
   "source": [
    "## Badges"
   ]
  },
  {
   "cell_type": "code",
   "execution_count": null,
   "id": "6462a516-1e80-440c-8f48-ace048669e13",
   "metadata": {},
   "outputs": [],
   "source": [
    "!head /data/dataset/stackexchange.com/unix.stackexchange.com/json/Badges.json"
   ]
  },
  {
   "cell_type": "code",
   "execution_count": null,
   "id": "9a59c014-a5a5-40b1-80cd-2e98bdb1c102",
   "metadata": {},
   "outputs": [],
   "source": [
    "path = \"file:///data/dataset/stackexchange.com/unix.stackexchange.com/json/Badges.json\""
   ]
  },
  {
   "cell_type": "code",
   "execution_count": null,
   "id": "77d61ae4-b26d-4986-b99e-68e9cdbde152",
   "metadata": {},
   "outputs": [],
   "source": [
    "badges = spark.read.json(path)"
   ]
  },
  {
   "cell_type": "code",
   "execution_count": null,
   "id": "82bdad18-d15d-400c-a7ec-4df356984c95",
   "metadata": {},
   "outputs": [],
   "source": [
    "badges.show(3, truncate=False)"
   ]
  },
  {
   "cell_type": "code",
   "execution_count": null,
   "id": "b80daddc-2d02-4d2d-8b6d-07748193e425",
   "metadata": {},
   "outputs": [],
   "source": [
    "badges.printSchema()"
   ]
  },
  {
   "cell_type": "markdown",
   "id": "26c7942f-2e03-48bf-b3c2-4b9cb758d88f",
   "metadata": {
    "tags": []
   },
   "source": [
    "# Inspect all Files"
   ]
  },
  {
   "cell_type": "code",
   "execution_count": null,
   "id": "8fcfae3a-85d8-4d70-b36e-36d0dd634bf6",
   "metadata": {},
   "outputs": [],
   "source": [
    "!hdfs dfs -rm -r \"/dataset/unix.stackexchange.com\""
   ]
  },
  {
   "cell_type": "code",
   "execution_count": null,
   "id": "1410dc9f-f7bd-458b-a886-b3eec88e52eb",
   "metadata": {},
   "outputs": [],
   "source": [
    "def get_info(name):\n",
    "    print(f\"info for {name}\")\n",
    "    print(\"------------------------------------\")\n",
    "    path = f\"file:///data/dataset/stackexchange.com/unix.stackexchange.com/json/{name}.json\"\n",
    "    df = spark.read.json(path)\n",
    "    df.show(3, truncate=False)\n",
    "    df.printSchema()\n",
    "    return df"
   ]
  },
  {
   "cell_type": "code",
   "execution_count": null,
   "id": "e4c82335-2dd5-41c7-a3b8-103639972c2a",
   "metadata": {},
   "outputs": [],
   "source": [
    "all_names = !ls /data/dataset/stackexchange.com/unix.stackexchange.com/json/"
   ]
  },
  {
   "cell_type": "code",
   "execution_count": null,
   "id": "6092d7d4-c4ce-423e-a64d-a22712d8b068",
   "metadata": {},
   "outputs": [],
   "source": [
    "all_names = [name[:-5] for name in all_names]"
   ]
  },
  {
   "cell_type": "code",
   "execution_count": null,
   "id": "8810217b-2f68-403c-b488-b98662f9f798",
   "metadata": {},
   "outputs": [],
   "source": [
    "all_names"
   ]
  },
  {
   "cell_type": "markdown",
   "id": "a859ae3a-5f21-4fe3-83bd-6a25362511fd",
   "metadata": {
    "tags": []
   },
   "source": [
    "# Save as Parquet"
   ]
  },
  {
   "cell_type": "code",
   "execution_count": null,
   "id": "afe636c9-3be4-4bd7-bf58-21cf6fc24c66",
   "metadata": {},
   "outputs": [],
   "source": [
    "def save_as_parquet(name, df):\n",
    "    print(f\"saving {name}\")\n",
    "    print(\"------------------------------------\")\n",
    "    \n",
    "    df.show(3, truncate=False)\n",
    "    df.printSchema()\n",
    "    \n",
    "    lower_name = name.lower()\n",
    "    df.repartition(15).write.parquet(f\"/dataset/unix.stackexchange.com/{lower_name}.parquet\")"
   ]
  },
  {
   "cell_type": "markdown",
   "id": "a88833bc-032e-41b9-8338-ab640ae67f33",
   "metadata": {
    "tags": []
   },
   "source": [
    "## Badges"
   ]
  },
  {
   "cell_type": "code",
   "execution_count": null,
   "id": "948613f0-d258-43b7-ace7-11d84fefb1db",
   "metadata": {},
   "outputs": [],
   "source": [
    "df = get_info('Badges')"
   ]
  },
  {
   "cell_type": "code",
   "execution_count": null,
   "id": "58ec4dcb-3ecb-40fb-abc4-2a294733d745",
   "metadata": {},
   "outputs": [],
   "source": [
    "# https://spark.apache.org/docs/latest/api/python/_modules/pyspark/sql/functions.html\n",
    "# https://sparkbyexamples.com/spark/spark-sql-functions/\n",
    "from pyspark.sql import functions as f\n",
    "\n",
    "df.select(f.min(\"Class\"), f.max(\"Class\")).collect()"
   ]
  },
  {
   "cell_type": "code",
   "execution_count": null,
   "id": "abb14ad1-5577-409d-b457-cc7f0c73a9a2",
   "metadata": {},
   "outputs": [],
   "source": [
    "# https://sparkbyexamples.com/pyspark/pyspark-cast-column-type/#:~:text=In%20PySpark%2C%20you%20can%20cast,Boolean%20e.t.c%20using%20PySpark%20examples.\n",
    "\n",
    "\n",
    "# Another way would be via Types\n",
    "# https://sparkbyexamples.com/pyspark/pyspark-sql-types-datatype-with-examples/\n",
    "# https://spark.apache.org/docs/latest/sql-ref-datatypes.html\n",
    "# from pyspark.sql.types import *\n",
    "\n",
    "\n",
    "save_as_parquet(\"Badges\", df.selectExpr(\\\n",
    "              \"cast(Id as int) id\", \\\n",
    "              \"cast(UserId as int) user_id\", \\\n",
    "              \"cast(Class as byte) class\", \\\n",
    "              \"cast(Name as string) name\", \\\n",
    "              \"cast(TagBased as boolean) tag_based\", \\\n",
    "              \"cast(Date as timestamp) date\" \\\n",
    "             ))\n",
    "\n"
   ]
  },
  {
   "cell_type": "markdown",
   "id": "70f577f0-1a72-413a-87e8-284ecee1596d",
   "metadata": {
    "tags": []
   },
   "source": [
    "## Comments"
   ]
  },
  {
   "cell_type": "code",
   "execution_count": null,
   "id": "d22a9c69-d651-4348-a74d-f4964b96f0b4",
   "metadata": {},
   "outputs": [],
   "source": [
    "df = get_info('Comments')"
   ]
  },
  {
   "cell_type": "code",
   "execution_count": null,
   "id": "e7b9f2ba-df81-491c-a25d-e5850d4599bc",
   "metadata": {},
   "outputs": [],
   "source": [
    "df.filter(\"UserDisplayName is not null\").show(2)"
   ]
  },
  {
   "cell_type": "code",
   "execution_count": null,
   "id": "72278d1b-b480-4db3-bc94-347efc5d52be",
   "metadata": {},
   "outputs": [],
   "source": [
    "save_as_parquet(\"Comments\", df.selectExpr(\\\n",
    "              \"cast(Id as int) id\", \\\n",
    "              \"cast(PostId as int) post_id\", \\\n",
    "              \"cast(UserId as int) user_id\", \\\n",
    "              \"cast(Score as byte) score\", \\\n",
    "              \"cast(ContentLicense as string) content_license\", \\\n",
    "              \"cast(UserDisplayName as string) user_display_name\", \\\n",
    "              \"cast(Text as String) text\", \\\n",
    "              \"cast(CreationDate as timestamp) creation_date\" \\\n",
    "             ))"
   ]
  },
  {
   "cell_type": "markdown",
   "id": "3f020b6c-a051-4fae-b5e3-f7f27de98e23",
   "metadata": {
    "tags": []
   },
   "source": [
    "## PostHistory"
   ]
  },
  {
   "cell_type": "code",
   "execution_count": null,
   "id": "de5cec95-a79b-40a0-a9f3-75e84bdd8300",
   "metadata": {},
   "outputs": [],
   "source": [
    "df = get_info('PostHistory')"
   ]
  },
  {
   "cell_type": "code",
   "execution_count": null,
   "id": "309233ee-afff-4822-9d35-d19a753a542e",
   "metadata": {},
   "outputs": [],
   "source": [
    "save_as_parquet(\"PostHistory\", df.selectExpr(\\\n",
    "              \"cast(Id as int) id\", \\\n",
    "              \"cast(PostId as int) post_id\", \\\n",
    "              \"cast(UserId as int) user_id\", \\\n",
    "              \"cast(PostHistoryTypeId as byte) post_history_type_id\", \\\n",
    "              \"cast(UserDisplayName as string) user_display_name\", \\\n",
    "              \"cast(ContentLicense as string) content_license\", \\\n",
    "              \"cast(RevisionGUID as string) revision_guid\", \\\n",
    "              \"cast(Text as String) text\", \\\n",
    "              \"cast(Comment as String) comment\", \\\n",
    "              \"cast(CreationDate as timestamp) creation_date\" \\\n",
    "             ))"
   ]
  },
  {
   "cell_type": "markdown",
   "id": "1fdb8d87-8b8e-4607-9360-abf64237c4b5",
   "metadata": {
    "tags": []
   },
   "source": [
    "## PostLinks"
   ]
  },
  {
   "cell_type": "code",
   "execution_count": null,
   "id": "cfdbdd5c-c168-4335-abfd-fa95bd288bdd",
   "metadata": {},
   "outputs": [],
   "source": [
    "df = get_info('PostLinks')"
   ]
  },
  {
   "cell_type": "code",
   "execution_count": null,
   "id": "d0a7f9e0-34fe-4302-822c-2458428ded86",
   "metadata": {},
   "outputs": [],
   "source": [
    "save_as_parquet(\"PostLinks\", df.selectExpr(\\\n",
    "              \"cast(Id as int) id\", \\\n",
    "              \"cast(RelatedPostId as int) related_post_id\", \\\n",
    "              \"cast(PostId as int) post_id\", \\\n",
    "              \"cast(LinkTypeId as byte) link_type_id\", \\\n",
    "              \"cast(CreationDate as timestamp) creation_date\" \\\n",
    "             ))"
   ]
  },
  {
   "cell_type": "markdown",
   "id": "91f379b1-3dc7-4651-9aed-fcaf0d589743",
   "metadata": {
    "tags": []
   },
   "source": [
    "## Posts"
   ]
  },
  {
   "cell_type": "code",
   "execution_count": null,
   "id": "56ba829f-5e56-4f7a-84df-861ebe5a0d11",
   "metadata": {},
   "outputs": [],
   "source": [
    "df = get_info('Posts')"
   ]
  },
  {
   "cell_type": "code",
   "execution_count": null,
   "id": "84db5cf0-19ea-45e5-a0c3-ac1e7f24e4f1",
   "metadata": {},
   "outputs": [],
   "source": [
    "save_as_parquet(\"Posts\", df.selectExpr(\\\n",
    "              \"cast(Id as int) id\", \\\n",
    "              \"cast(OwnerUserId as int) owner_user_id\", \\\n",
    "              \"cast(LastEditorUserId as int) last_editor_user_id\", \\\n",
    "              \"cast(PostTypeId as short) post_type_id\", \\\n",
    "              \"cast(AcceptedAnswerId as int) accepted_answer_id\", \\\n",
    "              \"cast(Score as int) score\", \\\n",
    "              \"cast(ParentId as int) parent_id\", \\\n",
    "              \"cast(ViewCount as int) view_count\", \\\n",
    "              \"cast(AnswerCount as int) answer_count\", \\\n",
    "              \"cast(CommentCount as int) comment_count\", \\\n",
    "              \"cast(OwnerDisplayName as string) owner_display_name\", \\\n",
    "              \"cast(LastEditorDisplayName as string) last_editor_display_name\", \\\n",
    "              \"cast(Title as String) title\", \\\n",
    "              \"cast(Tags as String) tags\", \\\n",
    "              \"cast(ContentLicense as string) content_license\", \\\n",
    "              \"cast(Body as string) body\", \\\n",
    "              \"cast(FavoriteCount as int) favorite_count\", \\\n",
    "              \"cast(CreationDate as timestamp) creation_date\", \\\n",
    "              \"cast(CommunityOwnedDate as timestamp) community_owned_date\", \\\n",
    "              \"cast(ClosedDate as timestamp) closed_date\", \\\n",
    "              \"cast(LastEditDate as timestamp) last_edit_date\", \\\n",
    "              \"cast(LastActivityDate as timestamp) last_activity_date\" \\\n",
    "             ))"
   ]
  },
  {
   "cell_type": "markdown",
   "id": "e1c95bc2-21d5-448a-a393-95fd63a07ae1",
   "metadata": {
    "tags": []
   },
   "source": [
    "## Tags"
   ]
  },
  {
   "cell_type": "code",
   "execution_count": null,
   "id": "b6cf854d-8211-46a1-83ec-ecdec7ab4597",
   "metadata": {},
   "outputs": [],
   "source": [
    "df = get_info('Tags')"
   ]
  },
  {
   "cell_type": "code",
   "execution_count": null,
   "id": "8baaaab9-c804-42ec-bfe3-3d1fad9da700",
   "metadata": {},
   "outputs": [],
   "source": [
    "save_as_parquet(\"Tags\", df.selectExpr(\\\n",
    "              \"cast(Id as int) id\", \\\n",
    "              \"cast(ExcerptPostId as int) excerpt_post_id\", \\\n",
    "              \"cast(WikiPostId as int) wiki_post_id\", \\\n",
    "              \"cast(TagName as string) tag_name\", \\\n",
    "              \"cast(Count as int) count\" \\\n",
    "             ))"
   ]
  },
  {
   "cell_type": "markdown",
   "id": "f7d2c0bd-729b-4ab0-a8b0-0f986c42c0f4",
   "metadata": {
    "tags": []
   },
   "source": [
    "## Users"
   ]
  },
  {
   "cell_type": "code",
   "execution_count": null,
   "id": "daf8e825-a8e1-4f0c-ae2e-5a2d745a4f1b",
   "metadata": {},
   "outputs": [],
   "source": [
    "df = get_info('Users')"
   ]
  },
  {
   "cell_type": "code",
   "execution_count": null,
   "id": "d468fdd9-6901-40e0-b899-028b9e094d0b",
   "metadata": {},
   "outputs": [],
   "source": [
    "save_as_parquet(\"Users\", df.selectExpr(\\\n",
    "              \"cast(Id as int) id\", \\\n",
    "              \"cast(AccountId as int) account_id\", \\\n",
    "              \"cast(Reputation as int) reputation\", \\\n",
    "              \"cast(Views as int) views\", \\\n",
    "              \"cast(DownVotes as int) down_votes\", \\\n",
    "              \"cast(UpVotes as int) up_votes\", \\\n",
    "              \"cast(DisplayName as string) display_name\", \\\n",
    "              \"cast(Location as string) location\", \\\n",
    "              \"cast(ProfileImageUrl as string) profile_image_url\", \\\n",
    "              \"cast(WebsiteUrl as string) website_url\", \\\n",
    "              \"cast(AboutMe as string) about_me\", \\\n",
    "              \"cast(CreationDate as timestamp) creation_date\", \\\n",
    "              \"cast(LastAccessDate as timestamp) last_access_date\" \\\n",
    "             ))"
   ]
  },
  {
   "cell_type": "markdown",
   "id": "6491df2b-6bb5-4d03-a32f-4532f675355a",
   "metadata": {
    "tags": []
   },
   "source": [
    "## Votes"
   ]
  },
  {
   "cell_type": "code",
   "execution_count": null,
   "id": "044bc4c0-2a8c-422b-81e6-a3850e91ec96",
   "metadata": {},
   "outputs": [],
   "source": [
    "df = get_info('Votes')"
   ]
  },
  {
   "cell_type": "code",
   "execution_count": null,
   "id": "adcb06fb-a190-4381-8748-dbf11d4d9213",
   "metadata": {},
   "outputs": [],
   "source": [
    "save_as_parquet(\"Votes\", df.selectExpr(\\\n",
    "              \"cast(Id as int) id\", \\\n",
    "              \"cast(UserId as int) user_id\", \\\n",
    "              \"cast(PostId as int) post_id\", \\\n",
    "              \"cast(VoteTypeId as byte) vote_type_id\", \\\n",
    "              \"cast(BountyAmount as byte) bounty_amount\", \\\n",
    "              \"cast(CreationDate as timestamp) creation_date\" \\\n",
    "             ))"
   ]
  },
  {
   "cell_type": "markdown",
   "id": "26a7816c-424d-4b07-afc3-8c0fc92cec82",
   "metadata": {},
   "source": [
    "# Analysing"
   ]
  },
  {
   "cell_type": "code",
   "execution_count": null,
   "id": "1395b060-6376-47c7-a670-2c15c10160fb",
   "metadata": {},
   "outputs": [],
   "source": [
    "def get_path(name):\n",
    "    return f\"/dataset/unix.stackexchange.com/{name}.parquet\""
   ]
  },
  {
   "cell_type": "markdown",
   "id": "5fbcbd84-2f55-4f7d-b339-76cf842cd968",
   "metadata": {},
   "source": [
    "## Read all Parquets"
   ]
  },
  {
   "cell_type": "code",
   "execution_count": null,
   "id": "726ba7d0-7a11-4bcd-aed3-3cbab0096c96",
   "metadata": {},
   "outputs": [],
   "source": [
    "badges = spark.read.parquet(get_path(\"badges\"))\n",
    "comments = spark.read.parquet(get_path(\"comments\"))\n",
    "posthistory = spark.read.parquet(get_path(\"posthistory\"))\n",
    "postlinks = spark.read.parquet(get_path(\"postlinks\"))\n",
    "posts = spark.read.parquet(get_path(\"posts\"))\n",
    "tags = spark.read.parquet(get_path(\"tags\"))\n",
    "users = spark.read.parquet(get_path(\"users\"))\n",
    "votes = spark.read.parquet(get_path(\"votes\"))"
   ]
  },
  {
   "cell_type": "code",
   "execution_count": null,
   "id": "f6b4f984-3fb1-4981-b4ec-858d3b24e219",
   "metadata": {},
   "outputs": [],
   "source": [
    "print(\"badges\")\n",
    "badges.show(3)\n",
    "print(\"comments\")\n",
    "comments.show(3)\n",
    "print(\"posthistory\")\n",
    "posthistory.show(3)\n",
    "print(\"postlinks\")\n",
    "postlinks.show(3)\n",
    "print(\"posts\")\n",
    "posts.show(3)\n",
    "print(\"tags\")\n",
    "tags.show(3)\n",
    "print(\"users\")\n",
    "users.show(3)\n",
    "print(\"votes\")\n",
    "votes.show(3)"
   ]
  },
  {
   "cell_type": "markdown",
   "id": "027f2dad-a107-4677-9baf-a502e3354bb9",
   "metadata": {
    "tags": []
   },
   "source": [
    "## Tags"
   ]
  },
  {
   "cell_type": "code",
   "execution_count": null,
   "id": "a6a96535-8bcf-481d-99dc-fa7355560667",
   "metadata": {},
   "outputs": [],
   "source": [
    "# tags = spark.read.parquet(get_path(\"tags\"))"
   ]
  },
  {
   "cell_type": "code",
   "execution_count": null,
   "id": "358178c8-5003-4d95-8cb4-70411b0301b2",
   "metadata": {},
   "outputs": [],
   "source": [
    "tags.show()"
   ]
  },
  {
   "cell_type": "code",
   "execution_count": null,
   "id": "0ecbc173-b6f5-4f6b-bcb6-fb98a86c6781",
   "metadata": {},
   "outputs": [],
   "source": [
    "from pyspark.sql import functions as f\n",
    "\n",
    "tags.filter(f.col(\"tag_name\") == \"async\").show()"
   ]
  },
  {
   "cell_type": "code",
   "execution_count": null,
   "id": "6a9c2c88-f30b-4aa9-a42e-acda91123a3e",
   "metadata": {},
   "outputs": [],
   "source": [
    "tags.filter(\"tag_name = 'async'\").show()"
   ]
  },
  {
   "cell_type": "code",
   "execution_count": null,
   "id": "5f74d518-3f54-47eb-a373-46c6a592daa9",
   "metadata": {},
   "outputs": [],
   "source": [
    "tags.filter(\"tag_name like '%async%'\").show()"
   ]
  },
  {
   "cell_type": "code",
   "execution_count": null,
   "id": "b76d41ab-eebe-4b66-bcec-fead3ae5638b",
   "metadata": {},
   "outputs": [],
   "source": [
    "tags.filter(f.col(\"tag_name\").like('%async%')).show()"
   ]
  },
  {
   "cell_type": "code",
   "execution_count": null,
   "id": "f96cb795-4bf6-4c3a-8ea8-57d571d15416",
   "metadata": {},
   "outputs": [],
   "source": [
    "tags.select(\"tag_name\", \"count\").orderBy(f.col(\"count\").desc()).show(20)"
   ]
  },
  {
   "cell_type": "markdown",
   "id": "346ac4b8-9cad-42e0-a4f9-60b3d76d542f",
   "metadata": {
    "tags": []
   },
   "source": [
    "### Wordcloud"
   ]
  },
  {
   "cell_type": "markdown",
   "id": "40dd36bf-8ffe-437f-8643-409b4ee1dd17",
   "metadata": {},
   "source": [
    "Needs the `wordcloud` (and `matplotlib` which comes as a dependency) python package\n",
    "\n",
    "```\n",
    "pip install wordcloud\n",
    "```\n",
    "\n",
    "see [documentation](https://github.com/amueller/word_cloud)"
   ]
  },
  {
   "cell_type": "code",
   "execution_count": null,
   "id": "54d996c7-d792-49c3-b03e-ebcf6cf03c2c",
   "metadata": {},
   "outputs": [],
   "source": [
    "filtered_tags = tags.select(\"tag_name\", \"count\").orderBy(f.col(\"count\").desc()).filter(\"count > 100\")"
   ]
  },
  {
   "cell_type": "code",
   "execution_count": null,
   "id": "242dcbc4-7b13-42d8-ac19-8bfc02b5a5d9",
   "metadata": {},
   "outputs": [],
   "source": [
    "filtered_tags.show(2)\n",
    "filtered_tags.count()"
   ]
  },
  {
   "cell_type": "code",
   "execution_count": null,
   "id": "aa9a6349-ac5f-46e9-b632-746cae57d71f",
   "metadata": {},
   "outputs": [],
   "source": [
    "frequencies = filtered_tags.toPandas().set_index('tag_name').T.to_dict('records')[0]"
   ]
  },
  {
   "cell_type": "code",
   "execution_count": null,
   "id": "9ab826e0-8d93-4488-8cb0-3b353d04741b",
   "metadata": {},
   "outputs": [],
   "source": [
    "frequencies['linux']"
   ]
  },
  {
   "cell_type": "code",
   "execution_count": null,
   "id": "31eb78ab-b4c1-47b2-a742-87962f303a8b",
   "metadata": {},
   "outputs": [],
   "source": [
    "from wordcloud import WordCloud\n",
    "import matplotlib.pyplot as plt\n",
    "\n",
    "\n",
    "wordcloud = WordCloud(width=2000, height=1000)\n",
    "wordcloud.generate_from_frequencies(frequencies)\n",
    "\n",
    "\n",
    "plt.figure(figsize=(20,30))\n",
    "plt.imshow(wordcloud, interpolation='bilinear')\n",
    "plt.axis('off')\n",
    "\n",
    "\n",
    "plt.savefig(\"./wordcloud.png\")\n"
   ]
  },
  {
   "cell_type": "markdown",
   "id": "8629bf86-c0f5-4dd2-a81b-d8a6155cab64",
   "metadata": {},
   "source": [
    "## Users "
   ]
  },
  {
   "cell_type": "code",
   "execution_count": null,
   "id": "486c2764-c390-40e4-990a-9f12a0c2e242",
   "metadata": {},
   "outputs": [],
   "source": [
    "users.printSchema()"
   ]
  },
  {
   "cell_type": "code",
   "execution_count": null,
   "id": "c40c359a-39f4-44b4-bcef-3ae16a75b79c",
   "metadata": {},
   "outputs": [],
   "source": [
    "print(users.count())\n",
    "print(users.filter(\"id is not null\").count())\n",
    "print(users.filter(\"id is not null\").distinct().count())"
   ]
  },
  {
   "cell_type": "code",
   "execution_count": null,
   "id": "578b42c4-23d2-4384-ae90-4818f4969f03",
   "metadata": {},
   "outputs": [],
   "source": [
    "users. \\\n",
    "    select(\"account_id\", \"display_name\", \"views\", \"down_votes\", \"up_votes\", \"reputation\"). \\\n",
    "    show(2)\n"
   ]
  },
  {
   "cell_type": "code",
   "execution_count": null,
   "id": "070f9cde-5461-4cd7-a9f4-28bcdfaece5d",
   "metadata": {},
   "outputs": [],
   "source": [
    "# most reputation\n",
    "# https://stackexchange.com/users/{account_id}/\n",
    "users. \\\n",
    "    select(\"account_id\", \"display_name\", \"views\", \"down_votes\", \"up_votes\", \"reputation\"). \\\n",
    "    orderBy(f.col(\"reputation\").desc()). \\\n",
    "    show(10, False)\n"
   ]
  },
  {
   "cell_type": "code",
   "execution_count": null,
   "id": "fc9d96c9-6e9f-4b52-a955-3dfde3cb086c",
   "metadata": {},
   "outputs": [],
   "source": [
    "# most viewed\n",
    "users. \\\n",
    "    select(\"account_id\", \"display_name\", \"views\", \"down_votes\", \"up_votes\", \"reputation\"). \\\n",
    "    orderBy(f.col(\"views\").desc()). \\\n",
    "    show(10, False)"
   ]
  },
  {
   "cell_type": "code",
   "execution_count": null,
   "id": "e922b4e5-aba8-45c5-a9ae-eb549c084e8b",
   "metadata": {},
   "outputs": [],
   "source": [
    "# downvoters\n",
    "users. \\\n",
    "    select(\"account_id\", \"display_name\", \"views\", \"down_votes\", \"up_votes\", \"reputation\"). \\\n",
    "    orderBy(f.col(\"down_votes\").desc()). \\\n",
    "    show(10, False)"
   ]
  },
  {
   "cell_type": "markdown",
   "id": "4076ba0d-013c-44e0-9a61-1edf2253e922",
   "metadata": {},
   "source": [
    "## Analysing a Question\n",
    "\n",
    "- [83577](https://unix.stackexchange.com/questions/83577/how-to-invoke-vim-with-line-numbers-shown)"
   ]
  },
  {
   "cell_type": "code",
   "execution_count": null,
   "id": "3d4345b3-67f4-4306-8609-fa5d73ba4531",
   "metadata": {},
   "outputs": [],
   "source": [
    "posts.filter(\"id = 83577\").toPandas().T"
   ]
  },
  {
   "cell_type": "code",
   "execution_count": null,
   "id": "3b765309-dfbc-47c6-ac7e-89d219d68e3c",
   "metadata": {},
   "outputs": [],
   "source": [
    "posts.filter(\"id = 648583\").toPandas().T"
   ]
  },
  {
   "cell_type": "code",
   "execution_count": null,
   "id": "da61c522-1a5c-4a1d-b1a9-6bbe600a4097",
   "metadata": {},
   "outputs": [],
   "source": [
    "posts.filter(\"id = 648608\").toPandas().T"
   ]
  },
  {
   "cell_type": "code",
   "execution_count": null,
   "id": "25b2a991-07b1-4562-b993-b1df45925e0f",
   "metadata": {},
   "outputs": [],
   "source": [
    "posts.select(\"parent_id\").groupBy(\"parent_id\").count().sort(f.desc(\"count\")).show(20)"
   ]
  },
  {
   "cell_type": "markdown",
   "id": "80e5981a-bde5-4026-a82c-e0c8eb85ff9d",
   "metadata": {},
   "source": [
    "## Counts\n",
    "\n",
    "- inspired from [davidvrba](https://github.com/davidvrba/Stackoverflow-Data-Analysis)"
   ]
  },
  {
   "cell_type": "code",
   "execution_count": null,
   "id": "92b78ae4-74ac-4e88-82c4-76d782c914d3",
   "metadata": {},
   "outputs": [],
   "source": [
    "posts.count()"
   ]
  },
  {
   "cell_type": "code",
   "execution_count": null,
   "id": "6a366d0a-0c71-4a56-ad56-66cffa6caaba",
   "metadata": {},
   "outputs": [],
   "source": [
    "# 1 = Question\n",
    "# 2 = Answer\n",
    "# 3 = Orphaned tag wiki\n",
    "# 4 = Tag wiki excerpt\n",
    "# 5 = Tag wiki\n",
    "# 6 = Moderator nomination\n",
    "# 7 = \"Wiki placeholder\" (seems to only be the election description)\n",
    "# 8 = Privilege wiki\n",
    "\n",
    "questions = posts.filter(f.col('post_type_id') == 1)\n",
    "answers = posts.filter(f.col('post_type_id') == 2)"
   ]
  },
  {
   "cell_type": "code",
   "execution_count": null,
   "id": "b57398d1-6eab-46dd-b347-76c3ef4f9828",
   "metadata": {},
   "outputs": [],
   "source": [
    "print(questions.count())\n",
    "print(answers.count())"
   ]
  },
  {
   "cell_type": "code",
   "execution_count": null,
   "id": "3f7eb4b0-2b20-47a1-96c6-fdcd80935172",
   "metadata": {},
   "outputs": [],
   "source": [
    "# questions with accepted answer\n",
    "\n",
    "questions.filter(f.col('accepted_answer_id').isNotNull()).count()"
   ]
  },
  {
   "cell_type": "code",
   "execution_count": null,
   "id": "a096874e-21a9-4dcc-b076-bce9d72834ef",
   "metadata": {},
   "outputs": [],
   "source": [
    "# count users\n",
    "\n",
    "print(posts.filter(f.col('owner_user_id').isNotNull()).select('owner_user_id').distinct().count())\n",
    "print(users.filter(\"id is not null\").select(\"id\").distinct().count())"
   ]
  },
  {
   "cell_type": "markdown",
   "id": "198d3fad-5f0a-477f-9f7a-3157633389c2",
   "metadata": {},
   "source": [
    "## Response Time"
   ]
  },
  {
   "cell_type": "code",
   "execution_count": null,
   "id": "0c0dbb5d-b5cd-4ee2-9be2-cd0c1227001d",
   "metadata": {},
   "outputs": [],
   "source": [
    "response_time = (\n",
    "    questions.alias('questions')\n",
    "    .join(answers.alias('answers'), f.col('questions.accepted_answer_id') == f.col('answers.id'))\n",
    "    .select(\n",
    "        f.col('questions.id'),\n",
    "        f.col('questions.creation_date').alias('question_time'),\n",
    "        f.col('answers.creation_date').alias('answer_time')\n",
    "    )\n",
    "    .withColumn('response_time', f.unix_timestamp('answer_time') - f.unix_timestamp('question_time'))\n",
    "    .filter('response_time > 0')\n",
    "    .orderBy('response_time')\n",
    ")"
   ]
  },
  {
   "cell_type": "code",
   "execution_count": null,
   "id": "bf442337-25e2-4120-b741-642494ad171b",
   "metadata": {},
   "outputs": [],
   "source": [
    "response_time.show(2, False)"
   ]
  },
  {
   "cell_type": "code",
   "execution_count": null,
   "id": "54c1703c-f7ee-4875-bbab-c6fb39708d9b",
   "metadata": {},
   "outputs": [],
   "source": [
    "response_time = (\n",
    "    questions.alias('questions')\n",
    "    .join(answers.alias('answers'), f.col('questions.accepted_answer_id') == f.col('answers.id'))\n",
    "    .filter(f.col(\"questions.owner_user_id\") != f.col(\"answers.owner_user_id\"))\n",
    "    .select(\n",
    "        f.col('questions.id'),\n",
    "        f.col('questions.creation_date').alias('question_time'),\n",
    "        f.col('answers.creation_date').alias('answer_time')\n",
    "    )\n",
    "    .withColumn('response_time', f.unix_timestamp('answer_time') - f.unix_timestamp('question_time'))\n",
    "    .filter('response_time > 0')\n",
    "    .orderBy('response_time')\n",
    ")\n",
    "    \n"
   ]
  },
  {
   "cell_type": "code",
   "execution_count": null,
   "id": "fb91c0c6-5bc9-4805-879c-21f7190ed9e8",
   "metadata": {},
   "outputs": [],
   "source": [
    "response_time.show(5, False)"
   ]
  },
  {
   "cell_type": "markdown",
   "id": "9c104f5c-f257-44f4-9fb8-e548c2e5538a",
   "metadata": {},
   "source": [
    "## Hourly Data"
   ]
  },
  {
   "cell_type": "code",
   "execution_count": null,
   "id": "74a5c58a-fab0-44dc-b6fc-a1cc254ed6fd",
   "metadata": {},
   "outputs": [],
   "source": [
    "hourly_data = (\n",
    "    response_time\n",
    "    .withColumn('hours', f.hour(\"answer_time\"))\n",
    ").show(2)"
   ]
  },
  {
   "cell_type": "code",
   "execution_count": null,
   "id": "b6c667b0-0acf-4085-be64-28bc2a5dddd3",
   "metadata": {},
   "outputs": [],
   "source": [
    "hourly_data = (\n",
    "    response_time\n",
    "    .withColumn('hours', f.hour(\"answer_time\"))\n",
    "    .groupBy('hours')\n",
    "    .count()\n",
    "    .orderBy('hours')\n",
    "    .limit(24)\n",
    ").toPandas()"
   ]
  },
  {
   "cell_type": "code",
   "execution_count": null,
   "id": "0f595675-a3b3-422e-b93b-02c3d773c3d0",
   "metadata": {},
   "outputs": [],
   "source": [
    "hourly_data.plot(\n",
    "    x='hours', y='count', figsize=(12, 6), \n",
    "    title='Answer Hour',\n",
    "    legend=False,\n",
    "    kind='bar',\n",
    "    xlabel='Hour',\n",
    "    ylabel='Number of answered questions'\n",
    ")"
   ]
  },
  {
   "cell_type": "code",
   "execution_count": null,
   "id": "b9bf94eb-2e00-41e7-a62c-a81c89525683",
   "metadata": {},
   "outputs": [],
   "source": [
    "year_data = (\n",
    "    response_time\n",
    "    .withColumn('years', f.year(\"answer_time\"))\n",
    "    .groupBy('years')\n",
    "    .count()\n",
    "    .orderBy('years')\n",
    ").toPandas()"
   ]
  },
  {
   "cell_type": "code",
   "execution_count": null,
   "id": "528ac3fb-5a02-4416-9a74-80382cb76213",
   "metadata": {},
   "outputs": [],
   "source": [
    "year_data.plot(\n",
    "    x='years', y='count', figsize=(12, 6), \n",
    "    title='Answer Year',\n",
    "    legend=False,\n",
    "    kind='bar',\n",
    "    xlabel='Year',\n",
    "    ylabel='Number of answered questions'\n",
    ")"
   ]
  },
  {
   "cell_type": "code",
   "execution_count": null,
   "id": "a8abc89b-1731-4500-9fce-f62cb43a7d52",
   "metadata": {},
   "outputs": [],
   "source": [
    "response_hours = (\n",
    "    response_time\n",
    "    .withColumn('hours', f.ceil(f.col('response_time') / 3600))\n",
    "    .groupBy('hours')\n",
    "    .count()\n",
    "    .orderBy('hours')\n",
    "    .limit(48)\n",
    ").toPandas()"
   ]
  },
  {
   "cell_type": "code",
   "execution_count": null,
   "id": "842aa6c5-3cb7-4667-9028-5f64553a046c",
   "metadata": {},
   "outputs": [],
   "source": [
    "response_hours.plot(\n",
    "    x='hours', y='count', figsize=(12, 6), \n",
    "    title='Response time of questions',\n",
    "    legend=False,\n",
    "    kind='bar',\n",
    "    xlabel='Hour',\n",
    "    ylabel='Number of answered questions'\n",
    ")"
   ]
  },
  {
   "cell_type": "markdown",
   "id": "e83d9e4d-9278-456c-9f85-751d23e58c3d",
   "metadata": {},
   "source": [
    "## See the time evolution of the number of questions and answers"
   ]
  },
  {
   "cell_type": "code",
   "execution_count": null,
   "id": "ea552647-27dd-4beb-adff-428e78d12763",
   "metadata": {},
   "outputs": [],
   "source": [
    "posts_grouped = (\n",
    "    posts\n",
    "    .filter('owner_user_id is not null')\n",
    "    .groupBy(\n",
    "        f.window('creation_date', '1 week')\n",
    "    )\n",
    "    .agg(\n",
    "        f.sum(f.when(f.col('post_type_id') == 1, f.lit(1)).otherwise(f.lit(0))).alias('questions'),\n",
    "        f.sum(f.when(f.col('post_type_id') == 2, f.lit(1)).otherwise(f.lit(0))).alias('answers')\n",
    "    )\n",
    "    .withColumn('date', f.col('window.start').cast('date'))\n",
    "    .orderBy('date')\n",
    ").toPandas()"
   ]
  },
  {
   "cell_type": "code",
   "execution_count": null,
   "id": "f15cc3c2-d00a-4ab9-a09b-9e0d33bb264a",
   "metadata": {},
   "outputs": [],
   "source": [
    "posts_grouped"
   ]
  },
  {
   "cell_type": "code",
   "execution_count": null,
   "id": "c00d3684-b521-4af0-b3b2-3175f2d538c2",
   "metadata": {},
   "outputs": [],
   "source": [
    "posts_grouped.plot(\n",
    "    x='date', \n",
    "    figsize=(12, 6), \n",
    "    title='Number of questions/answers per week',\n",
    "    legend=True,\n",
    "    xlabel='Date',\n",
    "    ylabel='Number of answers',\n",
    "    kind='line'\n",
    ")"
   ]
  },
  {
   "cell_type": "code",
   "execution_count": null,
   "id": "a7fa299f-c418-4997-abf5-6386cd6c8fbe",
   "metadata": {},
   "outputs": [],
   "source": [
    "posts_grouped_month = (\n",
    "    posts\n",
    "    .filter('owner_user_id is not null')\n",
    "    .groupBy(\n",
    "        f.window('creation_date', '4 weeks')\n",
    "    )\n",
    "    .agg(\n",
    "        f.sum(f.when(f.col('post_type_id') == 1, f.lit(1)).otherwise(f.lit(0))).alias('questions'),\n",
    "        f.sum(f.when(f.col('post_type_id') == 2, f.lit(1)).otherwise(f.lit(0))).alias('answers')\n",
    "    )\n",
    "    .withColumn('date', f.col('window.start').cast('date'))\n",
    "    .orderBy('date')\n",
    ").toPandas()"
   ]
  },
  {
   "cell_type": "code",
   "execution_count": null,
   "id": "7fc41a7d-254a-419e-ab43-8da2f4aa4a39",
   "metadata": {},
   "outputs": [],
   "source": [
    "posts_grouped_month.plot(\n",
    "    x='date', \n",
    "    figsize=(12, 6), \n",
    "    title='Number of questions/answers per week',\n",
    "    legend=True,\n",
    "    xlabel='Date',\n",
    "    ylabel='Number of answers',\n",
    "    kind='line'\n",
    ")"
   ]
  },
  {
   "cell_type": "markdown",
   "id": "58442a77-033b-4825-a9bb-454e67d5dbb4",
   "metadata": {},
   "source": [
    "# Tags"
   ]
  },
  {
   "cell_type": "code",
   "execution_count": null,
   "id": "3c252c72-33b8-4999-b00d-c355317e5bb2",
   "metadata": {},
   "outputs": [],
   "source": [
    "vi_sudo_tag = (\n",
    "    questions\n",
    "    .select('id', 'creation_date', 'tags')\n",
    "    .groupBy(\n",
    "        f.window('creation_date', \"4 weeks\")\n",
    "    )\n",
    "    .agg(\n",
    "        f.sum(f.when(questions.tags.contains(\"nano\"), f.lit(1)).otherwise(f.lit(0))).alias('nano'),\n",
    "        f.sum(f.when(questions.tags.contains(\"vim\"), f.lit(1)).otherwise(f.lit(0))).alias('vim')\n",
    "    )\n",
    "    .withColumn('date', f.col('window.start').cast('date'))\n",
    "    .orderBy('date')\n",
    ").toPandas()"
   ]
  },
  {
   "cell_type": "code",
   "execution_count": null,
   "id": "b7944850-fbf3-4c05-9e4f-7d7dcb7fc243",
   "metadata": {},
   "outputs": [],
   "source": [
    "vi_sudo_tag"
   ]
  },
  {
   "cell_type": "code",
   "execution_count": null,
   "id": "8a42d7ce-2872-4886-995c-3ecc2c7efd50",
   "metadata": {},
   "outputs": [],
   "source": [
    "vi_sudo_tag.plot(\n",
    "    x='date', \n",
    "    figsize=(12, 6), \n",
    "    legend=True,\n",
    "    xlabel='Date',\n",
    "    ylabel='Number of questions',\n",
    "    kind='line'\n",
    ")"
   ]
  },
  {
   "cell_type": "markdown",
   "id": "848c3f3e-4cba-4c87-a189-93ce67d4a546",
   "metadata": {},
   "source": [
    "# Questions "
   ]
  },
  {
   "cell_type": "markdown",
   "id": "3c487066-d1e7-4a44-940b-4ff93ea17927",
   "metadata": {},
   "source": [
    "- Who asked the most questions?\n",
    "- How many people replied with an accepted answer by themselves?\n",
    "    - what is the fraction of \"self-answerers\" against all users?\n",
    "- How many people never asked a question?\n",
    "- Which question took the longest to get an accepted answer?\n",
    "- Generate a plot where we can see at which month the most questions were raised.\n",
    "- Which post has the highest score? --> check it out https://unix.stackexchange.com/questions/{id}\n",
    "- Which question has the lowest score? --> https://unix.stackexchange.com/questions/{id}\n",
    "- Which post had the most comments?\n",
    "- Can you find an answer why \"When should I not kill -9 a process?\""
   ]
  },
  {
   "cell_type": "code",
   "execution_count": 116,
   "id": "94844bc4-f889-4249-9942-2bad3e0be8b0",
   "metadata": {},
   "outputs": [
    {
     "name": "stdout",
     "output_type": "stream",
     "text": [
      "+------+---------------------------------------------------------------------------------------------------------+\n",
      "|id    |title                                                                                                    |\n",
      "+------+---------------------------------------------------------------------------------------------------------+\n",
      "|62258 |What is the difference between exiting a process via Ctrl+C vs issuing a kill -9 command?                |\n",
      "|674073|process not killed even we used kill -9 and process actually was belong to container that already removed|\n",
      "|612990|kill -9 $PPID kills the process?                                                                         |\n",
      "|585409|Processes with states R and Rs not killable with kill -9                                                 |\n",
      "|67166 |Why does Firefox refuse to die despite killing it with pkill -9?                                         |\n",
      "|220175|Why kill -9 -1 doesn't work?                                                                             |\n",
      "|212918|Still alive, still alive after kill -9 / SIGKILL                                                         |\n",
      "|456588|MacOS: su pkill -9 “process_name” = sorry                                                                |\n",
      "|558403|What if 'kill -9' still does not work?                                                                   |\n",
      "|394298|Hanging process cannot be killed even via kill -9 -1                                                     |\n",
      "|157133|How to get the pid of a process and invoke kill -9 on it in the shell script?                            |\n",
      "|8916  |When should I not kill -9 a process?                                                                     |\n",
      "|38972 |Debian: Must pkill -9 twm and then login with twm                                                        |\n",
      "|281439|Why should I not use 'kill -9' / SIGKILL                                                                 |\n",
      "|590984|How to alias `kj` to `kill -9 %?`(kill job)                                                              |\n",
      "|144918|Idiomatic way to kill -9 only if \"graceful\" way doesn't work?                                            |\n",
      "|386380|wget can't be killed with 'kill -9'                                                                      |\n",
      "|559910|How to terminate a process when kill -9 doesn't work?                                                    |\n",
      "|399438|Difference between `kill -9 <pid>` and `kill -INT <pid>`?                                                |\n",
      "|660303|All processes using a device got hung and even `kill -9` does nothing                                    |\n",
      "+------+---------------------------------------------------------------------------------------------------------+\n",
      "only showing top 20 rows\n",
      "\n"
     ]
    }
   ],
   "source": [
    "posts.select(\"id\", \"title\").filter(f.col(\"title\").contains(\"kill -9\")).show(20, False)"
   ]
  },
  {
   "cell_type": "code",
   "execution_count": 110,
   "id": "30b84ce3-2f9b-4ace-8e15-6c932de00222",
   "metadata": {},
   "outputs": [
    {
     "name": "stdout",
     "output_type": "stream",
     "text": [
      "+-------+-------+-------+-----+---------------+-----------------+------------------------------------------------------------------------------------------------------------------------------------------------------------------------------------------------------------------------------------------------------------------------------------------------------------------------------------------------------------------------------------------------------------------------------------------------------------------------------------------------------------------------------------------------------------------------------------------------------------------------+-----------------------+\n",
      "|id     |post_id|user_id|score|content_license|user_display_name|text                                                                                                                                                                                                                                                                                                                                                                                                                                                                                                                                                                                                                    |creation_date          |\n",
      "+-------+-------+-------+-----+---------------+-----------------+------------------------------------------------------------------------------------------------------------------------------------------------------------------------------------------------------------------------------------------------------------------------------------------------------------------------------------------------------------------------------------------------------------------------------------------------------------------------------------------------------------------------------------------------------------------------------------------------------------------------+-----------------------+\n",
      "|357062 |210899 |47121  |0    |CC BY-SA 3.0   |null             |LOL, true a stupid mistake:)                                                                                                                                                                                                                                                                                                                                                                                                                                                                                                                                                                                            |2015-06-19 20:03:08.107|\n",
      "|377732 |122731 |79008  |0    |CC BY-SA 3.0   |null             |In my case I have the network manager along with lightdm. I wouldn't call those packages easily disposable expecially since I use them all the time. LOL                                                                                                                                                                                                                                                                                                                                                                                                                                                                |2015-08-10 18:46:40.583|\n",
      "|1302938|65564  |8965   |0    |CC BY-SA 4.0   |null             |@Iguananaut LOL yeah about every two to three months I get a notification that somebody else stumbled upon this giant \"WTF?\" 9 years and counting...                                                                                                                                                                                                                                                                                                                                                                                                                                                                    |2022-02-02 23:46:11.363|\n",
      "|133704 |89189  |7453   |0    |CC BY-SA 3.0   |null             |@DravSloan - LOL, thanks for the laugh. It's something 8-)                                                                                                                                                                                                                                                                                                                                                                                                                                                                                                                                                              |2013-09-02 22:33:24.323|\n",
      "|141011 |93254  |39486  |0    |CC BY-SA 3.0   |null             |try with `scp /Volumes/FX4\\ HDD/Users/matthewdavies/Downloads/NCIS.S11E01.HDTV.x264-LOL.mp4 root@rpi.local:\"/media/3TB/TV Shows/NCIS\"`                                                                                                                                                                                                                                                                                                                                                                                                                                                                                  |2013-10-02 05:59:04.82 |\n",
      "|270447 |164729 |38906  |0    |CC BY-SA 3.0   |null             |@LOLKAT: Maybe `grep` saw your input as one line instead of many lines. Remember `-m` stop after the first line match, not the first match.                                                                                                                                                                                                                                                                                                                                                                                                                                                                             |2014-10-29 02:49:02.747|\n",
      "|1184726|632729 |414777 |0    |CC BY-SA 4.0   |null             |And no, not even the `kill $(jobs -p)` that you were probably meaning will not kill the background *jobs*, but only the *job leaders*. `sleep 1000 | sleep 1000 &`, then `kill -KILL $(jobs -p)`, `jobs -p` => LOL, still running. And you won't even be able to kill it again.                                                                                                                                                                                                                                                                                                                                         |2021-02-05 19:18:24.403|\n",
      "|1206065|644007 |465598 |0    |CC BY-SA 4.0   |null             |@KamilMaciorowski omg it was just that I don't get it LOL. I did           command: ['sh', '-c', 'cp -rL /CustomTheme/custom_theme.tar /shared && cd /shared/ && tar -xvf custom_theme.tar &> file.txt']\\n and it works lol                                                                                                                                                                                                                                                                                                                                                                                             |2021-04-07 20:21:35.677|\n",
      "|1219537|499485 |411256 |0    |CC BY-SA 4.0   |null             |OMG, people that have no direct experience with the problem described in the question should not be even commenting, WTF... The \"are you sure\" guys, or \"have you tried\" Andy LOL                                                                                                                                                                                                                                                                                                                                                                                                                                       |2021-05-17 19:19:22.217|\n",
      "|1204814|643369 |200436 |0    |CC BY-SA 4.0   |null             |LOL :-), thanks for the laugh!                                                                                                                                                                                                                                                                                                                                                                                                                                                                                                                                                                                          |2021-04-04 12:38:42.497|\n",
      "|984535 |505981 |39030  |0    |CC BY-SA 4.0   |null             |@MyrddinEmrys: Ha! Yeah. FWIW, the package maintainer mentioned on one of the forums that they added a link to my answer on their wiki. I can't be the only one running Gentoo wanting more than one version of PHP, can I? Well, at least future me will benefit from this when I need to do it again in a few years! LOL                                                                                                                                                                                                                                                                                              |2019-07-24 18:47:35.947|\n",
      "|533158 |303595 |48650  |0    |CC BY-SA 3.0   |null             |LOL. So, math is overrated, but first class functions are necessary for those complex object models frequently represented in scripts? :D I've written perl for around 21 years, and I led the conversion from ksh to perl at the company referenced. I still stand by David Korn when he says they have similar capabilities. https://www.usenix.org/legacy/publications/library/proceedings/vhll/full_papers/korn.ksh.a  It really is worth learning more about; most people have no idea the power hiding right there under the covers in ksh93 (or even bash).  KSH regex support is worth learning if nothing else.|2016-08-16 01:01:15.157|\n",
      "|309484 |185653 |103712 |0    |CC BY-SA 3.0   |null             |Yep, it works. but looks like I reboot myself . LOL. how to do it in KRDC?                                                                                                                                                                                                                                                                                                                                                                                                                                                                                                                                              |2015-02-19 09:18:20.323|\n",
      "|270448 |164729 |80886  |0    |CC BY-SA 3.0   |null             |LOLKAT do you want the output to be exactly `ID: 4234235325` or just to print the line with the value of this id? My `grep (GNU grep) 2.16` prints only matched part of the first line with your expression, so believe it works as expected.                                                                                                                                                                                                                                                                                                                                                                           |2014-10-29 02:50:13.4  |\n",
      "|35808  |26516  |977    |1    |CC BY-SA 3.0   |null             |\"hopefully the SD cards aren't so stupid…\" <--- ROFLOL. Not likely!                                                                                                                                                                                                                                                                                                                                                                                                                                                                                                                                                     |2011-12-10 04:06:40.497|\n",
      "|25900  |18929  |9610   |1    |CC BY-SA 3.0   |null             |When you were referring to /dev/disk/by-id I thought \"by-id\" was to be replaced by something and should be issued as a command. It didn't strike my mind that it could actually be a directory. Thanks for being patient with me. LOL, I was ridiculous :)                                                                                                                                                                                                                                                                                                                                                              |2011-08-17 22:22:32.187|\n",
      "|843169 |463276 |306119 |0    |CC BY-SA 4.0   |null             |There is no option to register. It has been disabled and replaced with a message to send an email enclosing your required username & password. LOL security is obviously not high on agenda, but I have done so anyway and will see if I get any response.                                                                                                                                                                                                                                                                                                                                                              |2018-08-17 22:58:54.063|\n",
      "|576388 |327548 |138261 |3    |CC BY-SA 3.0   |null             |OMG!!! Ponies!!! LOL!!!                                                                                                                                                                                                                                                                                                                                                                                                                                                                                                                                                                                                 |2016-12-02 13:35:33.767|\n",
      "|1016322|547178 |8337   |0    |CC BY-SA 4.0   |null             |Is it wifi?  Is there a switch to turn wifi \"on/off\" on the keyboard (if it's a laptop LOL)                                                                                                                                                                                                                                                                                                                                                                                                                                                                                                                             |2019-10-19 01:32:41.77 |\n",
      "|1010783|544784 |29678  |0    |CC BY-SA 4.0   |null             |En réalité: LOL.                                                                                                                                                                                                                                                                                                                                                                                                                                                                                                                                                                                                        |2019-10-03 16:13:52.91 |\n",
      "|1061955|570795 |null   |1    |CC BY-SA 4.0   |user314968       |Group share is a recurring problem with variations, as you point out. In this  instance, software developers have access to the test release directory. It is theirs to muck with. They can work in that directory, push, pull, install in the virtual environment etc.  The problem comes when they copy things in from another area they have been working in, and their umasks are not set with group permissions.  It is confusing to them because file creation and copy by tar works fine.  It is also funny that I have to give them a copy script that just does what cp does.  'acls' they are magic I say LOL |2020-03-03 10:28:13.783|\n",
      "|1063440|571293 |308316 |1    |CC BY-SA 4.0   |null             |@bobsburner That's why the local client now checks the files sent by the remote against the glob (with an adhoc pattern matching implementation LOL) -- but that is very kludgy, because the shell on the remote machine may use a different glob syntax, you may want to quote or escape parts of the file name, etc.                                                                                                                                                                                                                                                                                                  |2020-03-06 16:29:52.447|\n",
      "|293947 |177598 |37688  |16   |CC BY-SA 3.0   |null             |Thanks for a link to the discussions. I guess the answer to this was NO. A funny quote from one of the links: \"modern users do not use terminals\". LOL.                                                                                                                                                                                                                                                                                                                                                                                                                                                                 |2015-01-05 19:12:51.187|\n",
      "|799610 |439741 |null   |0    |CC BY-SA 4.0   |user34720        |Yes, it is in Brazil. I can't convince my boss to spend 199R$(our currency) x 15 remote offices. LOL.                                                                                                                                                                                                                                                                                                                                                                                                                                                                                                                   |2018-05-04 18:44:55.117|\n",
      "|434347 |251322 |null   |0    |CC BY-SA 3.0   |user86969        |LOL that is indeed the first time you mention it is a laptop :-D .                                                                                                                                                                                                                                                                                                                                                                                                                                                                                                                                                      |2015-12-28 16:55:14.203|\n",
      "|939420 |508458 |308316 |0    |CC BY-SA 4.0   |null             |LOL what else is forbidden by the IT department's policy? looking askew at the monitor or typing with your thumbs? In `csh` the prompt is stored in the variable named ... `prompt` (`set prompt = 'foo% '`) not `PS1`. Your answer is completely bogus.                                                                                                                                                                                                                                                                                                                                                                |2019-03-25 12:20:35.26 |\n",
      "|838429 |460917 |209133 |0    |CC BY-SA 4.0   |null             |LOL. Never thought of this. Nice. I’ll try it when I get home.                                                                                                                                                                                                                                                                                                                                                                                                                                                                                                                                                          |2018-08-06 23:09:14.807|\n",
      "|1295588|48555  |6622   |0    |CC BY-SA 4.0   |null             |\"Finally, using ssh for a transport mechanism is both secure and carries very little overhead. \" LOL                                                                                                                                                                                                                                                                                                                                                                                                                                                                                                                    |2022-01-08 18:05:45.133|\n",
      "|248447 |152316 |7453   |0    |CC BY-SA 3.0   |null             |@mikeserv- LOL, that's why I started testing all these A'ers, since they all appeared to be returning different      results when I was reviewing them for you guys. We do have some Q's with like 10 A's and it's usually Q's like these, but they generally all return the same results 8-).                                                                                                                                                                                                                                                                                                                          |2014-08-27 01:57:26.147|\n",
      "|628396 |354645 |223413 |0    |CC BY-SA 3.0   |null             |LOL. Noob indeed. I guess collation matters :) Edited.                                                                                                                                                                                                                                                                                                                                                                                                                                                                                                                                                                  |2017-03-29 20:56:07.427|\n",
      "|1141065|611073 |4667   |0    |CC BY-SA 4.0   |null             |\"John Jimmy Falloncamp\" LOL                                                                                                                                                                                                                                                                                                                                                                                                                                                                                                                                                                                             |2020-09-24 16:39:31.783|\n",
      "|131200 |87862  |7453   |0    |CC BY-SA 3.0   |null             |@mattdm - LOL, thanks most certainly did not learn anything useful wrt FAA 8-).                                                                                                                                                                                                                                                                                                                                                                                                                                                                                                                                         |2013-08-23 14:51:04.563|\n",
      "|532568 |303322 |181206 |0    |CC BY-SA 3.0   |null             |Have you run LOL on a virtual machine? I was going to try that but someone said to try Play on Linux.                                                                                                                                                                                                                                                                                                                                                                                                                                                                                                                   |2016-08-14 12:49:51.647|\n",
      "|1029829|554422 |87673  |0    |CC BY-SA 4.0   |null             |DOH!  Thanks for pointing out the obvious that I missed LOL.  Thanks again, was clear, concise and worked first time.                                                                                                                                                                                                                                                                                                                                                                                                                                                                                                   |2019-11-27 20:13:55.87 |\n",
      "|1057818|568524 |null   |0    |CC BY-SA 4.0   |user373503       |@UncleBilly 's link has this: \"This scheme rendered subdirectories sufficiently hard to use as to make them unused in practice.\" I think that explains Pike's story well (he is just not very precise). **sufficiently hard to use as to...** LOL, so there _is_ a limit to user-unfriendliness?                                                                                                                                                                                                                                                                                                                        |2020-02-21 07:23:38.697|\n",
      "|761189 |422759 |17208  |0    |CC BY-SA 3.0   |null             |LOL, I mean Vim \"windows\", not MS Windows. Each window (file view) within a Vim session can have it's own value for each setting.                                                                                                                                                                                                                                                                                                                                                                                                                                                                                       |2018-02-08 16:15:47.543|\n",
      "|11555  |9120   |2343   |0    |CC BY-SA 2.5   |null             |LOL :) .... My current status (still working on it): It seems that there is a 6 levels hierarchy of \"shell expansion\" (from `brace expansion` thru to `pathname expansion`). I can therefore understand that the example of `files=(*)` does not go through `word splitting`. However, it seems to me that the `pathname expansion` somehow internally(?) delimits the filenames by some other means than a space, because to my understanding the array asignment () would produce 4 items.. so is there some *special* interaction happening with these file-expansion words? This may be at the core of my puzzle.   |2011-03-12 04:23:18.567|\n",
      "|47101  |34725  |16897  |0    |CC BY-SA 3.0   |null             |LOL Unfortunately this is my current workplace where I have this problem. My ISP works fine!                                                                                                                                                                                                                                                                                                                                                                                                                                                                                                                            |2012-03-22 09:49:13.903|\n",
      "|363094 |212891 |116972 |0    |CC BY-SA 3.0   |null             |@hjkefl LOL your input is outsized!  Ok we need yet another approach for that large input, please be patient until next update.                                                                                                                                                                                                                                                                                                                                                                                                                                                                                         |2015-07-05 18:44:15.603|\n",
      "|853442 |468224 |308316 |0    |CC BY-SA 4.0   |null             |LOL. I'm using gnu screen, which does NOT start login shells by default. Neither does the terminal emulator (mlterm). Maybe I should check my head ;-)                                                                                                                                                                                                                                                                                                                                                                                                                                                                  |2018-09-11 14:01:15.323|\n",
      "|165831 |101824 |26026  |0    |CC BY-SA 3.0   |null             |In fact I am just about to test it, belatedly. I plain forgot about it and just asked a similar question which caused this one to show as the top related question, LOL                                                                                                                                                                                                                                                                                                                                                                                                                                                 |2014-01-04 13:11:28.177|\n",
      "|298742 |179573 |99625  |0    |CC BY-SA 3.0   |null             |LOL - Ubuntu 14.04 ***, fix it.                                                                                                                                                                                                                                                                                                                                                                                                                                                                                                                                                                                         |2015-01-17 18:33:09.067|\n",
      "|100361 |69226  |34963  |0    |CC BY-SA 3.0   |null             |Mmm ok, that's worse than I imagined it. I hoped I could use some syntax like `\\d{1,2}` which I really find useful. Anyway, on OS X the command you wrote returns the whole output of `uptime`... LOL. Anyway, thank you for the answer, I'm gonna study `sed` in a deeper way.                                                                                                                                                                                                                                                                                                                                         |2013-03-26 17:43:03.923|\n",
      "|579150 |329096 |113238 |0    |CC BY-SA 3.0   |null             |LOL, my bad, I thought that /usr/bin/env was a directory, but of course env is program/executable, now I really don't why it doesn't work, but some progress is being made                                                                                                                                                                                                                                                                                                                                                                                                                                              |2016-12-09 03:38:00.567|\n",
      "|11651  |9183   |2671   |0    |CC BY-SA 2.5   |null             |LOL, I have no idea how that got there.                                                                                                                                                                                                                                                                                                                                                                                                                                                                                                                                                                                 |2011-03-13 12:04:04.74 |\n",
      "|42102  |31055  |15047  |1    |CC BY-SA 3.0   |null             |@StéphaneGimenez done, bash is not the only thing to use. LOL                                                                                                                                                                                                                                                                                                                                                                                                                                                                                                                                                           |2012-02-07 13:30:23.157|\n",
      "|435241 |252380 |null   |3    |CC BY-SA 3.0   |user34720        |Then, this should make you access the first and last array items at the same time, breaking all the logic of scanning an array ;) Could even create a blackhole. LOL                                                                                                                                                                                                                                                                                                                                                                                                                                                    |2015-12-30 18:13:19.72 |\n",
      "|881338 |298747 |257718 |1    |CC BY-SA 4.0   |null             |LOL! This screenshot made me pretty happy. Thanks.                                                                                                                                                                                                                                                                                                                                                                                                                                                                                                                                                                      |2018-11-13 19:17:29.78 |\n",
      "|209689 |130973 |4252   |4    |CC BY-SA 3.0   |null             |LOL, \"cat abuse\"                                                                                                                                                                                                                                                                                                                                                                                                                                                                                                                                                                                                        |2014-05-19 16:04:10.637|\n",
      "|639365 |360867 |204024 |0    |CC BY-SA 3.0   |null             |Thanks again! LOL, the whole point of switching to a MAC was to not require a virtual machine anymore.                                                                                                                                                                                                                                                                                                                                                                                                                                                                                                                  |2017-04-24 03:49:33.507|\n",
      "|1143840|500438 |278933 |0    |CC BY-SA 4.0   |null             |What happened here? I have a very similar situation where my specified DNS seems to be out of line with what's reported as current. I've also been experiencing random drops of my SSH on just the system I'm working on, which sounds a lot like an interface reset, where I am using a standard ens3. Thanks for the well-crafted question. An authoritative answer would be nice. (See what I did there? LOL)                                                                                                                                                                                                        |2020-10-02 16:12:16.41 |\n",
      "|1127564|603624 |423323 |1    |CC BY-SA 4.0   |null             |Hey i fix the problem, i run the recovery mode and after 40 min it got restored to default chrome. But it was the black screnn all the time... LOL !                                                                                                                                                                                                                                                                                                                                                                                                                                                                    |2020-08-13 09:02:03.5  |\n",
      "|404786 |236049 |11639  |0    |CC BY-SA 3.0   |null             |There is a difference between \"nothing wrong\"and \"optimal setup.\" Personally the pool servers I admin all have local refclocks. I doubt you do because you assume pool clients must be stratum=3.   Massively varying error? Thanks for the LOLz.  I did'nt realize we were using a version of ntpd that does'nt groom the time sources. ntpd will smooth out the variance. Furthermore if you do add it to the pool list the pool daemon removes clocks with too much error. Adding capacity to the pool infrastructure is not negative. Run a server with  `tos minsane 7 minclock 5` and tell me about your error    |2015-10-15 23:43:05.21 |\n",
      "|1263871|670252 |373946 |0    |CC BY-SA 4.0   |null             |LOL I am in full derp mode, it was not.  is now but I had already started it just pointing it to the nfs mount.  I think since I used the -Pv I am safe to ctrl-break it when I need to at any time?  It seems to be working well a few files (that are on the remote not the host) give a strange error when the host gets back to them again:  rsync: chown \"/mnt/archive_copy/archive/images/dcam/UT201006/.proc-d0355.fits.IGw8LT\" failed: Operation not permitted (1)\\n but other than that its all good.                                                                                                          |2021-09-23 18:14:46.04 |\n",
      "|1308789|692058 |492642 |0    |CC BY-SA 4.0   |null             |LOL!  So UNIX has standards, but there's no enforcement. I just built svd2ada on MacOS and neither the build script nor the instructions advise on where and what files should be deployed to become part of the Ada toolchain. It's incredibly frustrating. MacOS outside UNIX has conventions that you dare not disobey, or you'll have users standing outside with pitchforks.                                                                                                                                                                                                                                       |2022-02-25 00:45:37.72 |\n",
      "|120999 |81131  |19370  |0    |CC BY-SA 3.0   |null             |@AlberteRomero LOL                                                                                                                                                                                                                                                                                                                                                                                                                                                                                                                                                                                                      |2013-07-05 17:39:16.687|\n",
      "|142155 |10226  |19869  |1    |CC BY-SA 3.0   |null             |don't ask like \"is it possible to use **sed** to do ....\" you can use sed to do anything within the area of text processing. LOL                                                                                                                                                                                                                                                                                                                                                                                                                                                                                        |2013-10-06 03:13:09.647|\n",
      "|609391 |344367 |113238 |0    |CC BY-SA 3.0   |null             |LOL, ok I see, but it's not super clear, let me update your answer, thanks :)                                                                                                                                                                                                                                                                                                                                                                                                                                                                                                                                           |2017-02-12 09:43:42.85 |\n",
      "|541013 |307757 |181999 |0    |CC BY-SA 3.0   |null             |Dude you Data wont be on the disk if you boot linux. Your data is on a filesystem and linux got installed on a different filesystem that overwrote the current one. a filesystem is a type of agreement how a file should be stored what combination of ones and zeros indicate the beginning and the end of the file. bevor installing a so looking like \"hacker distro\" that gets previewed with he gnome desktop and 90% of the preview is the gnome desktop LOL. read something for yourself about how things work. yes I know reading sucks                                                                        |2016-09-04 05:57:28.11 |\n",
      "|562011 |319749 |197700 |0    |CC BY-SA 3.0   |null             |@don_crissti  LOL. I like your comments buddy. ;)                                                                                                                                                                                                                                                                                                                                                                                                                                                                                                                                                                       |2016-10-29 16:53:02.55 |\n",
      "|554456 |284033 |57439  |0    |CC BY-SA 3.0   |null             |LOL. You were right: the `.sh` part disables the script from running. I don't know why this happens, but thanks you.                                                                                                                                                                                                                                                                                                                                                                                                                                                                                                    |2016-10-10 14:13:25.58 |\n",
      "|255553 |155994 |84441  |4    |CC BY-SA 3.0   |null             |well, while trying change from Frodo1 to Bilbo2 I got message that: \"You must wait longer to change your password\" LOL                                                                                                                                                                                                                                                                                                                                                                                                                                                                                                  |2014-09-18 08:29:56.167|\n",
      "|1182523|631839 |325065 |0    |CC BY-SA 4.0   |null             |Well, maybe not on Hurd. Thence \"unspecified\", LOL.                                                                                                                                                                                                                                                                                                                                                                                                                                                                                                                                                                     |2021-01-31 00:41:44.283|\n",
      "|441329 |255483 |141443 |0    |CC BY-SA 3.0   |null             |What's the exact difference between `[` and `[[`? (Searching on Google for `[ vs [[` gives me results for `vs` only, LOL)                                                                                                                                                                                                                                                                                                                                                                                                                                                                                               |2016-01-15 09:04:26.267|\n",
      "|496720 |284968 |83246  |0    |CC BY-SA 3.0   |null             |Such evilness as files with spaces in their names!! How dare you bring that up LOL :)                                                                                                                                                                                                                                                                                                                                                                                                                                                                                                                                   |2016-05-24 13:22:29.593|\n",
      "|665817 |373806 |113238 |0    |CC BY-SA 3.0   |null             |The man pages for bash do not sound short LOL, combing for this information is not ideal. Now the next person can do a google search and hopefully find the information faster than reading the bash man pages, right? E.g.: https://tiswww.case.edu/php/chet/bash/bashref.html LOL                                                                                                                                                                                                                                                                                                                                     |2017-06-29 23:17:30.24 |\n",
      "|1095911|588233 |413896 |0    |CC BY-SA 4.0   |null             |LOL Also did you read the file in the git describing the assignment? One of the requirements is controlling ICMP traffic. Ping is an  ICMP function.                                                                                                                                                                                                                                                                                                                                                                                                                                                                    |2020-05-22 01:11:36.093|\n",
      "|1159964|619948 |435718 |0    |CC BY-SA 4.0   |null             |@cutrightjm LOL                                                                                                                                                                                                                                                                                                                                                                                                                                                                                                                                                                                                         |2020-11-18 07:33:54.437|\n",
      "|943226 |510315 |null   |0    |CC BY-SA 4.0   |user34720        |@0xSheepdog - \"Question was moved to homework.stackexchange.com\"...LOL                                                                                                                                                                                                                                                                                                                                                                                                                                                                                                                                                  |2019-04-03 16:59:18.647|\n",
      "|1066433|573030 |308316 |0    |CC BY-SA 4.0   |null             |@Slavistan: I think I already know your next __Q:__ Why does `export x=1; echo \"$0\" | entr -s 'x=2; echo set x to 2'; echo \"$x\"` NOT set `x` to `2`? __A:__ because Unix is not plan9, LOL ;-)                                                                                                                                                                                                                                                                                                                                                                                                                          |2020-03-15 17:06:35.173|\n",
      "|1000366|539210 |308316 |2    |CC BY-SA 4.0   |null             |@markgraf LOL `chsh -s /bin/bash 7</dev/random` and Bob's your uncle (but only if the OP fixes the quoting in their awk command ;-))                                                                                                                                                                                                                                                                                                                                                                                                                                                                                    |2019-09-05 15:20:17.907|\n",
      "|780172 |432100 |272806 |0    |CC BY-SA 3.0   |null             |That variable index increment for a statically declared array, LOL.                                                                                                                                                                                                                                                                                                                                                                                                                                                                                                                                                     |2018-03-20 02:58:07.217|\n",
      "|841258 |462337 |305251 |0    |CC BY-SA 4.0   |null             |Two downgrades! LOL                                                                                                                                                                                                                                                                                                                                                                                                                                                                                                                                                                                                     |2018-08-13 17:15:16.68 |\n",
      "|1289303|681425 |491750 |0    |CC BY-SA 4.0   |null             |hahaha LOL ... you just read my mind and the hidden agony, as that's exactly how i feel when i try to disconnect my laptop with my laptop behaving all erratic.\\n\\nI am hoping a powerful 'Linux Oracle' can intercede between my laptop and docking station and if things don't work out then 'exorcism' performed by a Linux priest of High Order may the last option.                                                                                                                                                                                                                                                |2021-12-16 13:06:36.343|\n",
      "|1262110|669559 |90878  |0    |CC BY-SA 4.0   |null             |LOL I actually installed FreeBSD a few days ago, but haven't even gotten a window manager running yet... :-D So can't help you there, unfortunately. I just did a quick test with a Win VM tho. I actually can kill the remote server, on the server itself; not by shutting down my client locally. And the local client still shows the server online. I can also close my local client's connection on the remote end, via my client. So... are you sure the users are actually disconnecting by closing their local client, not on the remote end?                                                                  |2021-09-18 15:19:11.09 |\n",
      "|619621 |350046 |219835 |0    |CC BY-SA 3.0   |null             |LOL, ok, I'm not a system guy, but I don't believe the whole server has only 200GB free space. I think that's free space of my afs, yet I can only use 50% of my allocated space? That's strange.                                                                                                                                                                                                                                                                                                                                                                                                                       |2017-03-08 18:54:04.467|\n",
      "|1133762|218839 |43781  |0    |CC BY-SA 4.0   |null             |@MadsSkjern LOL.. I really did not expect that you will answer that :D but it's good, i think they all deserve the acceptance of their answers :)\\nBut better choose any answer instead of forgetting it 5 years - at least if it's correct and more than one sentence... Also your question was \"does dd copy everything\" -> this was already answered completely and sufficiently with the first post by Fiximan... Better answers will get their points anyway, while getting more upvotes than the accepted :D                                                                                                      |2020-09-02 08:45:27.21 |\n",
      "|375255 |220633 |64157  |0    |CC BY-SA 3.0   |null             |@Celada HA/LOL, but that isn't exactly the problem...                                                                                                                                                                                                                                                                                                                                                                                                                                                                                                                                                                   |2015-08-06 20:53:09.58 |\n",
      "|371981 |15881  |32558  |0    |CC BY-SA 3.0   |null             |LOL, this was migrated and the SO dupe that was not got more upvotes: http://stackoverflow.com/questions/11238457/disable-and-re-enable-address-space-layout-randomization-only-for-mysef                                                                                                                                                                                                                                                                                                                                                                                                                               |2015-07-28 13:27:57.107|\n",
      "|1261096|668138 |433561 |0    |CC BY-SA 4.0   |null             |Yes, sorry, I was not clear at all it turns out!  My system FS is EXT4.  And I think that is where the problem lies.  I don't really want to run my system on BTRFS, as I've read about instability issues compared to EXT4.  I was thinking it could only do snaps if the STORAGE was BTRFS, but that the system didn't matter.  I really want those snaps, so maybe I have to just bite the bullet.  LOL\\nThank you for your response!  I tried to mark your answer as the solution but even though it's my question, I don't have enough rep to vote.  LOL  So annoying.                                             |2021-09-15 23:40:12.207|\n",
      "|115421 |78569  |40680  |0    |CC BY-SA 3.0   |null             |LOL yeah I guess that's not my responsibilty, I just have to make the server secure.  I think I'll hash the email address as well.                                                                                                                                                                                                                                                                                                                                                                                                                                                                                      |2013-06-07 11:30:08.517|\n",
      "|122730 |82831  |30048  |0    |CC BY-SA 3.0   |null             |Ahhhh, it looks for a number!  LOL.  I tried words like \"high\".  I'll give that a shot!                                                                                                                                                                                                                                                                                                                                                                                                                                                                                                                                 |2013-07-12 21:24:19.37 |\n",
      "|532572 |303322 |184611 |0    |CC BY-SA 3.0   |null             |LOL doesn't work on Wine, Probably It will doesn't on Play On Linux. You can try on Play On Linux, but I suggest you to use a virtual box with 2/4GB ram, It works good.                                                                                                                                                                                                                                                                                                                                                                                                                                                |2016-08-14 12:56:16.397|\n",
      "|520746 |296553 |47085  |0    |CC BY-SA 3.0   |null             |I must use them. I use my VM for gaming and LOL's launcher/client runs notoriously slow without hugepages. I enabled hugepages after I once almost accidentally dodged a ranked on promotion series because the launcher lagged during champion selection.                                                                                                                                                                                                                                                                                                                                                              |2016-07-18 08:50:10.223|\n",
      "|1050091|564029 |325065 |0    |CC BY-SA 4.0   |null             |The entire premise of this question is wrong: `/dev/pts/10` is not \"connected to\" stdin, `/dev/pts/10` IS stdin. This question looks _purposely_ obtuse and a bit of text analysis \"connects it\" (LOL) to other similar questions on different matters.                                                                                                                                                                                                                                                                                                                                                                 |2020-01-29 13:20:06.69 |\n",
      "|1016537|547651 |null   |0    |CC BY-SA 4.0   |user373503       |@IliaGilmijarow LOL! btw I just answered, addressing that browser tab thing. Estimated time has three dots and is I think not so clear for all of us. Estimated time of arrival i only know.                                                                                                                                                                                                                                                                                                                                                                                                                            |2019-10-19 21:04:29.43 |\n",
      "|252877 |154486 |83488  |0    |CC BY-SA 3.0   |null             |I realize I should've just used CLI PHP or Ruby, LOL, but I was too far into the project to turn back from shell scripting. Lesson learned.                                                                                                                                                                                                                                                                                                                                                                                                                                                                             |2014-09-10 05:01:36.03 |\n",
      "|283575 |148551 |22858  |0    |CC BY-SA 3.0   |null             |TY, cool stuff! Got them bookmarked. Gonna delve myself into those the next days for sure. BTW, please do no longer feel addressed when I say \"`sed` learners\". You definitely are no learner (LOL), more like a pro asking other uber-pros like  Stéphane to squeeze out the very last quirks that remain. ;) *grin*                                                                                                                                                                                                                                                                                                   |2014-12-05 17:15:22.163|\n",
      "|731255 |408364 |227199 |1    |CC BY-SA 3.0   |null             |@RomanPerekhrest Greetings Ukraine PYTHON GENIUS LOL                                                                                                                                                                                                                                                                                                                                                                                                                                                                                                                                                                    |2017-12-02 13:22:16.867|\n",
      "|444594 |257166 |79008  |0    |CC BY-SA 3.0   |null             |Thanks for the tip @meuh however it seem that neither of the three options for freeing memory (global garbage collection, cyclic and sending \"heap-minimize\" notifications) results in something. Maybe these are just dummies? LOL Will have to investigate further on that.                                                                                                                                                                                                                                                                                                                                           |2016-01-23 11:06:45.077|\n",
      "|504507 |288533 |121401 |1    |CC BY-SA 3.0   |null             |Normally, I'd slap an IT person for doing something like this, but in this case, it's pretty humourous so I'd probably let it slide LOL                                                                                                                                                                                                                                                                                                                                                                                                                                                                                 |2016-06-08 20:51:23.93 |\n",
      "|954132 |492495 |202420 |0    |CC BY-SA 4.0   |null             |@MartinOtto Indeed. I think unlocking the TDP would help a ton lot. We can cool it since the crazy fans. Also you can run \"Nitro Boost\" even on Linux with nbfc: https://forum.manjaro.org/t/control-fans-on-acer-nitro-5-an515-42-and-possibly-other-laptops-with-nbfc/80480 and that helps a lot in games.\\nAcer you should really unlock that TDP on Nitro 5. Like what ? Other OEMs limit it to 25W and they dont have as good cooling as we do and we are running 15W LOL.\\nI may post a bug on bugzilla. But do you have tearing on laptop display when playing some games on top of the screen ?                 |2019-04-30 19:20:31.92 |\n",
      "|1157219|618419 |243949 |0    |CC BY-SA 4.0   |null             |512GB RAM.  Have you tried adding more?  LOL.  Two more things to check: disk space and the logs.  Has CentOS switched to systemd?                                                                                                                                                                                                                                                                                                                                                                                                                                                                                      |2020-11-08 19:32:59.007|\n",
      "|1130424|605378 |335415 |0    |CC BY-SA 4.0   |null             |@AdminBee I thought all distribution is the same. LOL                                                                                                                                                                                                                                                                                                                                                                                                                                                                                                                                                                   |2020-08-21 13:39:36.433|\n",
      "|121047 |81131  |10292  |10   |CC BY-SA 3.0   |null             |@AlberteRomero That's it, more or less, at least most-ly,. LOL I really like the horizonital scroll in most.                                                                                                                                                                                                                                                                                                                                                                                                                                                                                                            |2013-07-05 20:39:54.467|\n",
      "|82824  |59909  |27121  |0    |CC BY-SA 3.0   |null             |It is new year, why you spending so much time on the server? LOL. HAPPY NEW YEAR!!                                                                                                                                                                                                                                                                                                                                                                                                                                                                                                                                      |2012-12-31 04:02:31.72 |\n",
      "|598658 |338860 |null   |1    |CC BY-SA 3.0   |user34720        |Mentally health people avoid newline character on filenames. LOL.                                                                                                                                                                                                                                                                                                                                                                                                                                                                                                                                                       |2017-01-20 12:35:01.67 |\n",
      "|993989 |536220 |252501 |0    |CC BY-SA 4.0   |null             |@cas Oh man you saved my life LOL, you should put is as Answer instead of comment. Oh ya, another thing is use single `[` instead of double `[[`                                                                                                                                                                                                                                                                                                                                                                                                                                                                        |2019-08-19 08:20:47.353|\n",
      "|48995  |36138  |null   |0    |CC BY-SA 3.0   |user14517        |LOL. I re-read my question and I think I misled the audience, I am actually designing this as a productivity suite.                                                                                                                                                                                                                                                                                                                                                                                                                                                                                                     |2012-04-10 13:28:14.18 |\n",
      "|906495 |493475 |117549 |0    |CC BY-SA 4.0   |null             |LOL @StephenKitt; now the gears are turning                                                                                                                                                                                                                                                                                                                                                                                                                                                                                                                                                                             |2019-01-09 14:47:18.36 |\n",
      "|822147 |451976 |null   |0    |CC BY-SA 4.0   |user34720        |No problem at all. Do you have any hardware attached to PCI1 ? I'm searching for more ACPI+BIOS+Fedora+Your_hardware info on different sites and the best answers i could find is \"use Ubuntu 18.04 that is better supported by Dell\"... LOL                                                                                                                                                                                                                                                                                                                                                                            |2018-06-29 14:14:57.853|\n",
      "|1265818|671167 |492628 |0    |CC BY-SA 4.0   |null             |LOL, the contents of my ~/.profile said \"echo foo\". Nevertheless, the question is still a valid one I think.                                                                                                                                                                                                                                                                                                                                                                                                                                                                                                            |2021-09-29 20:25:38.243|\n",
      "|1108544|594014 |11417  |0    |CC BY-SA 4.0   |null             |@G-ManSays'ReinstateMonica' LOL. The original version just `rm -f`'ed the file which lead to a comment by another user about using the nuke option unneccessarily. But I agree that creating it before the loop is a bad idea. OTOH so is using `done > list-of-headers.csv` if you run the script in the same directory several times.                                                                                                                                                                                                                                                                                 |2020-06-21 07:03:31.22 |\n",
      "|1152828|226980 |39593  |1    |CC BY-SA 4.0   |null             |Hey I've come here a SECOND time to relearn this LOL. A French accent (diacritic) in the text was causing grep to barf                                                                                                                                                                                                                                                                                                                                                                                                                                                                                                  |2020-10-26 09:43:09.343|\n",
      "|238053 |146920 |78842  |0    |CC BY-SA 3.0   |null             |That is a big 'LOL' :-)                                                                                                                                                                                                                                                                                                                                                                                                                                                                                                                                                                                                 |2014-07-28 15:45:11.513|\n",
      "|1079886|579949 |286615 |0    |CC BY-SA 4.0   |null             |ANSWER: in `bash` use `$ echo \"$RESPONSE\" | grep \"% packet loss\"`.  Interesting logic... spend a quarter to save a dime  LOL                                                                                                                                                                                                                                                                                                                                                                                                                                                                                            |2020-04-14 20:09:05.347|\n",
      "|1094481|4799   |333273 |2    |CC BY-SA 4.0   |null             |Hey @frederix who let you in here? I see they will let just anyone in here these days! LOLOLOLOL                                                                                                                                                                                                                                                                                                                                                                                                                                                                                                                        |2020-05-18 20:53:03.27 |\n",
      "|1149630|614747 |431002 |1    |CC BY-SA 4.0   |null             |I find it highly doubtful that that ever were the case. Maybe some \"Unix-like\" environment running on MSDOS (after all, `command.com` did support \"pipes\" using temporary files, LOL). Until you remember it, I'll consider that claim baseless.                                                                                                                                                                                                                                                                                                                                                                        |2020-10-16 13:02:45.24 |\n",
      "|141055 |93254  |47009  |0    |CC BY-SA 3.0   |null             |try narrowing the problem down; e.g. can you do `cd /Volumes/FX4\\ HDD/Users/matthewdavies/Downloads/; scp NCIS.S11E01.HDTV.x264-LOL.mp4 root@rpi.local:/tmp`? can you do `scp /Volumes/FX4\\ HDD/Users/matthewdavies/Downloads/NCIS.S11E01.HDTV.x264-LOL.mp4 root@rpi.local:/tmp`?                                                                                                                                                                                                                                                                                                                                       |2013-10-02 10:40:06.21 |\n",
      "|122740 |82831  |30048  |0    |CC BY-SA 3.0   |null             |Hah...you're right!  LOL.  That's funny.  If it comes down to that being my one and only clue, I might just let this slide and abandon this part of the project as it's not vital for what I'm doing, just a \"would be nice\" kinda thing.                                                                                                                                                                                                                                                                                                                                                                               |2013-07-12 21:37:18.3  |\n",
      "|979489 |529066 |124211 |0    |CC BY-SA 4.0   |null             |LOL good point, I will edit with something more useful                                                                                                                                                                                                                                                                                                                                                                                                                                                                                                                                                                  |2019-07-10 08:53:17.743|\n",
      "|1259780|668528 |90878  |0    |CC BY-SA 4.0   |null             |LOL - @Lizardx ain't one to mince his words :-D Have to say I wholeheartedly agree.                                                                                                                                                                                                                                                                                                                                                                                                                                                                                                                                     |2021-09-11 10:29:31.85 |\n",
      "|312263 |187142 |104700 |0    |CC BY-SA 3.0   |null             |LOL - no, not dedication...  it's a custom kernel/init where I simply haven't updated the repository in quite some time! :)  HOWEVER, I just tinkered with block quotes and the likes and believe I have things down-pat manually (ie: 4 spaces after an empty line starts a code block, etc.)                                                                                                                                                                                                                                                                                                                          |2015-02-27 08:06:30.07 |\n",
      "|1193068|636791 |286615 |0    |CC BY-SA 4.0   |null             |@FET: Good for you  :)  All rationality ever got anybody was boredom LOL. You don't want GRUB - there should be some instructions to that effect in [this procedure](https://askubuntu.com/a/1245535/831935). **Pay attention to the `ubiquity -b` step!!!** You can install `rEFInd` without installing Ubuntu. And note in my rev. answer you will need an external drive to install Linux.                                                                                                                                                                                                                           |2021-02-28 09:27:43.8  |\n",
      "|141013 |93254  |39486  |0    |CC BY-SA 3.0   |null             |you don't have to escape the whitespace ` ` in double-quotes. actually, `I think it had to be scp /Volumes/FX4\\ HDD/Users/matthewdavies/Downloads/NCIS.S11E01.HDTV.x264-LOL.mp4 \"root@rpi.local:/media/3TB/TV Shows/NCIS\"` because the last part(destination) is counted as a whole argument.                                                                                                                                                                                                                                                                                                                           |2013-10-02 06:12:59.753|\n",
      "|80396  |57593  |19178  |2    |CC BY-SA 3.0   |null             |That is a much simpler solution than the one I came up with, LOL!                                                                                                                                                                                                                                                                                                                                                                                                                                                                                                                                                       |2012-12-12 18:57:29.76 |\n",
      "|552243 |314191 |193279 |0    |CC BY-SA 3.0   |null             |@maulinglawns - I think you've mostly covered the bases, here. But, I'm just saying that \"not all greps are built alike\" and \"OP hasn't given clear enough information\" for a definitive answer... that is all. There are some systems that are \"strange\" out there (eg. Solaris). (And honestly, I'm still not convinced this isn't a homework assignment... LOL)                                                                                                                                                                                                                                                      |2016-10-04 10:21:33.847|\n",
      "|10905  |8678   |3860   |7    |CC BY-SA 2.5   |null             |LOL \"Experty friendly, user antagonistic\". It made my day. +1!                                                                                                                                                                                                                                                                                                                                                                                                                                                                                                                                                          |2011-03-06 09:21:17.33 |\n",
      "|500351 |287029 |172514 |0    |CC BY-SA 3.0   |null             |well I'm glad you solved. I kinda figure that out when I finally saw that beautiful string that states that this question were asked **4 months ago**, I _really_ should pay more attention to the site UI, LOL!. and yup, let's leave this Q/A here in case you or anyone else trample into the same problem.                                                                                                                                                                                                                                                                                                          |2016-06-01 23:14:10.953|\n",
      "|451434 |260694 |150530 |5    |CC BY-SA 3.0   |null             |That sounds like that rick roll kernel module LOL                                                                                                                                                                                                                                                                                                                                                                                                                                                                                                                                                                       |2016-02-08 05:11:54.437|\n",
      "|932117 |504937 |278319 |0    |CC BY-SA 4.0   |null             |Thank you very much @JdeBP for useful links, I found the answer from your given links. LOL where were they when I was searching, I was not using proper keywords perhaps.                                                                                                                                                                                                                                                                                                                                                                                                                                               |2019-03-07 15:33:31.75 |\n",
      "|419424 |244229 |11639  |0    |CC BY-SA 3.0   |null             |Epic? LOL. I have no idea what the purpose of the bell is but it took me longer to read your perl script than it did to double check two man pages and type `$ nice -n 1 watch -b -p -n1 \"date  +%s.%N;false\"`                                                                                                                                                                                                                                                                                                                                                                                                          |2015-11-20 03:19:25.133|\n",
      "|358571 |211679 |22858  |0    |CC BY-SA 3.0   |null             |@ikrabbe It definitely doesn't. :) So I now get it, you were the initiator of inverting the logic, and user179... just jumped on the bandwagon. LOL.                                                                                                                                                                                                                                                                                                                                                                                                                                                                    |2015-06-23 20:57:22.007|\n",
      "|183480 |117550 |60618  |0    |CC BY-SA 3.0   |null             |Thank you!  I knew I was missing something.  I even tried '$someday' earlier.  LOL                                                                                                                                                                                                                                                                                                                                                                                                                                                                                                                                      |2014-02-28 21:41:59.577|\n",
      "|682299 |383262 |105631 |0    |CC BY-SA 3.0   |null             |LOL, I'm sorry. The code is anything but \"self evident\". There are three different layers and I have no idea which layer I should be looking for, nor in what kind of file to look for them. Is Java using some kind of reflection class to determine the properties? If so, no hope. If it's some kind of enumerated class, like you would do in C, I have been unable to find it.\\n\\nFurther, I cannot connect to our infastructure via the SDK because our admins have restricted it for some reason. I just need a list.                                                                                            |2017-08-03 18:37:30.887|\n",
      "|1117098|402489 |315425 |0    |CC BY-SA 4.0   |null             |LOL just ran into this now ... must be way too tired, but thanks for the solution :)                                                                                                                                                                                                                                                                                                                                                                                                                                                                                                                                    |2020-07-14 14:05:58.55 |\n",
      "|28019  |20464  |8965   |0    |CC BY-SA 3.0   |null             |LOL my bad. I was trying to confirm the Cygwin part for ya (IIRC your original post had a possible command). It does specifically say \"ctime (time of last modification of file status information)\" if I had paid attention.                                                                                                                                                                                                                                                                                                                                                                                           |2011-09-13 02:02:12.223|\n",
      "|463430 |267357 |9503   |0    |CC BY-SA 3.0   |null             |I managed to get a full list of files and they were around 6500. This is very less number, I thought there were millions LOL. I would assume this is nothing for `ext4` file system. [Any thoughts?](http://serverfault.com/questions/761381/why-would-a-folder-with-around-6500-in-a-ext4-partition-become-inaccesible?noredirect=1#comment957762_761381)                                                                                                                                                                                                                                                              |2016-03-04 07:27:00.52 |\n",
      "|962900 |520955 |281844 |0    |CC BY-SA 4.0   |null             |`FNR==NR` Yuck!!! (btw, \"Yuck!\" is probably the proper way to pronounce `awk`.) LOL                                                                                                                                                                                                                                                                                                                                                                                                                                                                                                                                     |2019-05-25 13:32:22.06 |\n",
      "|949204 |513271 |254900 |0    |CC BY-SA 4.0   |null             |............. LOL                                                                                                                                                                                                                                                                                                                                                                                                                                                                                                                                                                                                       |2019-04-18 19:15:28.28 |\n",
      "|139768 |92475  |22858  |0    |CC BY-SA 3.0   |null             |LOL. YMMD with that great comparison.:) But for real, I think it might make a difference to a system that is *not yet* out of memory. That is, if you try adjusting swappiness *before* copying the huge-size stuff, you might have a slight chance of getting swap utilized *way earlier* (ideally preventing vital processes from being killed). Or couldn't you?                                                                                                                                                                                                                                                     |2013-09-26 19:13:38.927|\n",
      "|602160 |340593 |16792  |0    |CC BY-SA 3.0   |null             |Is this another meaning of LOL?                                                                                                                                                                                                                                                                                                                                                                                                                                                                                                                                                                                         |2017-01-27 17:53:59.427|\n",
      "|275964 |167457 |91207  |0    |CC BY-SA 3.0   |null             |Haha sorry about that. I fixed it! What happened was I changed the whole export PATH= TextEdit file. I opened by .bash_history and went through every detail. I found my original PATH and copied that into the TextEdit and it works. Basically, I deleted PATH..LOL. At least learned some new things about terminal! Thank you all for your help. Really appreciate it :)                                                                                                                                                                                                                                            |2014-11-13 00:45:50    |\n",
      "|723744 |404680 |79008  |0    |CC BY-SA 3.0   |null             |On Ubuntu it does...And Ubuntu is from the same Debian family... LOL Talking about diversity in the Linux world. -_- Also @Kusalananda is right - I cannot guarantee that SMP will be present in the output.                                                                                                                                                                                                                                                                                                                                                                                                            |2017-11-15 09:26:44.047|\n",
      "|1180261|630636 |138197 |0    |CC BY-SA 4.0   |null             |Of course I'll do as you suggest, but I can't believe it doesn't exist a proper way to make it work LOL                                                                                                                                                                                                                                                                                                                                                                                                                                                                                                                 |2021-01-24 09:04:33    |\n",
      "|398355 |16640  |32558  |0    |CC BY-SA 3.0   |null             |http://stackoverflow.com/questions/5920333/how-to-check-size-of-a-file LOL for the migrate :-)                                                                                                                                                                                                                                                                                                                                                                                                                                                                                                                          |2015-10-01 08:06:07.693|\n",
      "|816943 |3506   |79008  |0    |CC BY-SA 4.0   |null             |I no longer use it...from approx 1 year. Just saying. LOL                                                                                                                                                                                                                                                                                                                                                                                                                                                                                                                                                               |2018-06-15 13:06:00.147|\n",
      "|179095 |115266 |16369  |0    |CC BY-SA 3.0   |null             |What DNS is for? LOL!  Will DNS re-start your disrupted TCP streams?                                                                                                                                                                                                                                                                                                                                                                                                                                                                                                                                                    |2014-02-15 02:01:14.77 |\n",
      "|656964 |369330 |null   |0    |CC BY-SA 3.0   |user34720        |This request made me remember this - https://xkcd.com/1172/ - LOL                                                                                                                                                                                                                                                                                                                                                                                                                                                                                                                                                       |2017-06-06 19:38:02.817|\n",
      "|33252  |24740  |9382   |0    |CC BY-SA 3.0   |null             |I just read what I'd written... LOL. Actually, I'm not sure about *reinvoke* (*re-invoke* maybe?), but thanks for telling :) I always appreciate corrections.                                                                                                                                                                                                                                                                                                                                                                                                                                                           |2011-11-16 19:38:54.293|\n",
      "|20059  |14944  |1974   |0    |CC BY-SA 3.0   |null             |@alex: Nevermind. I knew Cairo sounded familiar... it's familiar because that's what Inkscape uses to display SVG and convert them to PDFs. LOL.                                                                                                                                                                                                                                                                                                                                                                                                                                                                        |2011-06-13 20:40:03.9  |\n",
      "|496786 |284968 |83246  |0    |CC BY-SA 3.0   |null             |I will do no such horrible thing... :) ok I did and it does work.. Someone  should be flogged for this!! LOL.                                                                                                                                                                                                                                                                                                                                                                                                                                                                                                           |2016-05-24 15:37:42.207|\n",
      "|89816  |62886  |19617  |0    |CC BY-SA 3.0   |null             |LOL- well, that was easy (read: obvious)! thx                                                                                                                                                                                                                                                                                                                                                                                                                                                                                                                                                                           |2013-01-28 21:25:18.07 |\n",
      "|1018658|548771 |8337   |0    |CC BY-SA 4.0   |null             |What if you set it to start \"last\" that help? https://superuser.com/a/573761/39364 This is like debugging via chat LOL                                                                                                                                                                                                                                                                                                                                                                                                                                                                                                  |2019-10-26 00:31:17.227|\n",
      "|761653 |41647  |153769 |0    |CC BY-SA 3.0   |null             |@mat - I'm a relative newcomer here. I see that you made an edit but left in the phrase \"You see, I'm a programmer ...\" which had me LOL-ing. Is there guidance on this kind of humor? Maybe it's a question for meta ...                                                                                                                                                                                                                                                                                                                                                                                               |2018-02-09 12:30:12.14 |\n",
      "|1201040|640662 |392770 |3    |CC BY-SA 4.0   |null             |@GeoRie But this will also match some **unrelated** things. Check it with `echo \"AZAZA LOL      23      WTF\" | grep -oP '\\b(?<!\\.)\\d+(?!\\.)\\b'` - it returns `23`. So this is a bit **inaccurate solution**.                                                                                                                                                                                                                                                                                                                                                                                                            |2021-03-23 11:52:18.47 |\n",
      "|821136 |452127 |null   |0    |CC BY-SA 4.0   |user34720        |Old broadcom wifi user here so, this wiki was almost my homepage years ago. LOL. @EvanCarroll, added some probing with `dmesg`                                                                                                                                                                                                                                                                                                                                                                                                                                                                                          |2018-06-27 01:55:19.837|\n",
      "|1266364|671406 |90878  |0    |CC BY-SA 4.0   |null             |LOL :-D Didn't check as AdminBee had just commented on missing code highlighting :-) Thx for letting me know, I can remove my redundant comment :-)                                                                                                                                                                                                                                                                                                                                                                                                                                                                     |2021-10-01 11:16:51.17 |\n",
      "|1078175|579207 |308316 |0    |CC BY-SA 4.0   |null             |LOL, does ssh supports reCAPTCHAs? That would certainly shut me out for good -- Google's artificial stupidity always treats me (a human) as a bot. Seriously, if you want an `expect(1)` solution for multiple ssh password auth, then say so explicitly. That would be much more useful for people coming here via searches.                                                                                                                                                                                                                                                                                           |2020-04-10 18:24:20.977|\n",
      "|683627 |382543 |245310 |0    |CC BY-SA 3.0   |null             |If you knew someone who did this, you would be obliged to type in a LOLCAT message in the terminal. CAN HAS CHEEZBURGER?                                                                                                                                                                                                                                                                                                                                                                                                                                                                                                |2017-08-07 02:21:09.06 |\n",
      "|686815 |386095 |114317 |0    |CC BY-SA 3.0   |null             |LOL, yes, you are right I suppose. ansible, docker and restore from backup every time something fails. I am getting too old for this stuff! :-) I did ask the question at Superuser, but that got me a Tumbleweed badge. Serverfault seems more about networking stuff. The question seems to be too arcane for other forums than this one.                                                                                                                                                                                                                                                                             |2017-08-14 20:03:19.38 |\n",
      "|1146029|613618 |414777 |0    |CC BY-SA 4.0   |null             |Weren't all plan9 fonts variable-width? I clearly remember that being a strong esthetical and technical point made by the designers of plan9. The interface to their command windows (\"xterms\" LOL) in the rio window manager was very deliberately rejecting any column alignment and any curses-like interface.                                                                                                                                                                                                                                                                                                       |2020-10-09 02:34:55.38 |\n",
      "|142248 |93811  |48637  |0    |CC BY-SA 3.0   |null             |May I add, that there are periods where it seems to post what I would say is acceptable in speed response, if I do a 'refresh' page (whether in Chrome or Firefox) it will take a perceived 200-300ms, then maybe some time later a mind boggling 1.5 mins. You can imagine trying to make multiple edits to a View setup, or Config change, I'm sitting here wondering if I should go make (another!) brew LOL                                                                                                                                                                                                         |2013-10-06 15:54:54.14 |\n",
      "|81568  |58947  |27121  |0    |CC BY-SA 3.0   |null             |LOL, Thx! Yes, I enjoy X'mas!                                                                                                                                                                                                                                                                                                                                                                                                                                                                                                                                                                                           |2012-12-21 14:56:42.067|\n",
      "|1040102|559688 |308316 |0    |CC BY-SA 4.0   |null             |what \"console window\" is that? (`gnome-terminal`, `konsole`, `putty`, linux virtual terminal, etc). Try `tput smcup; tput cup \"$((LINES/2))\" \"$((COLUMNS/2-2))\"; echo -n LOL; read var; tput rmcup`                                                                                                                                                                                                                                                                                                                                                                                                                     |2019-12-31 13:02:01.49 |\n",
      "|1019071|548771 |8337   |0    |CC BY-SA 4.0   |null             |I didn't think it would be useful, but in retrospect it might be: add an \"after=network-online.target\" though a handful of people have found even that isn't enough so you have to add a restart https://github.com/google/cloud-print-connector/issues/140 (or add a \"sleep 10\" into the bash side of things LOL). GL!                                                                                                                                                                                                                                                                                                 |2019-10-28 04:04:20.697|\n",
      "|1057214|531173 |308316 |0    |CC BY-SA 4.0   |null             |@ilkkachu thread ids and process ids live in the same namespace, At least in Linux. But, yes, it's probably a good idea to not create children in the first place, I will not argue against that, LOL. As to practical scenarios, ANY scenario where you want to do ANYTHING with the PID returned by waipid() other than check if it's != -1 is problematical.                                                                                                                                                                                                                                                         |2020-02-19 20:44:16.453|\n",
      "|1013360|230451 |8337   |1    |CC BY-SA 4.0   |null             |Sadly, SO_KEEPALIVE seem to only be sent every couple of hours (at least by default) so a better name for them would be \"check if dead's\" LOL                                                                                                                                                                                                                                                                                                                                                                                                                                                                           |2019-10-10 20:14:27.15 |\n",
      "|761556 |419361 |142735 |0    |CC BY-SA 3.0   |null             |I'd have to do some research to find out how to enter the commands, so I'll just consider my itch scratched. LOL. I'll just have to hope that running a desktop session on an Internet-connected computer with user tom in the wheel group doesn't hose me.                                                                                                                                                                                                                                                                                                                                                             |2018-02-09 08:03:01.43 |\n",
      "|1221737|651007 |174665 |0    |CC BY-SA 4.0   |null             |This `find` does lack `-print0`, unfortunately. That would've been pretty convenient. And the `xargs` lacks `-I`.  It's as if this stuff was disabled with the specific intent of preventing what I'm trying to do. [sigh] \\n\\nThe `while` version DID work.  I didn't try that approach before asking here, because people vent all the time, and even write big tutorials, about how allegedly terrible it is to use `while` loops to process files and directories in the shell. LOL.\\n\\nI didn't test the fancy script, not having names to deal with containing newlines.  Thanks for the thorough answer!         |2021-05-24 00:39:44.603|\n",
      "|56230  |40988  |15732  |0    |CC BY-SA 3.0   |null             |So you trust more some perl script based portknocking than openssh which is developted by OpenBSD guys with security in mind? :D Is not great portknocking l33t tool running under root? LOL.                                                                                                                                                                                                                                                                                                                                                                                                                           |2012-06-19 09:02:47.813|\n",
      "|941650 |410050 |205857 |0    |CC BY-SA 4.0   |null             |@dreua Yeah, the typo is quite funny. LOL                                                                                                                                                                                                                                                                                                                                                                                                                                                                                                                                                                               |2019-03-29 20:02:26.697|\n",
      "|951871 |265646 |138261 |0    |CC BY-SA 4.0   |null             |LOL 3 years after the answer after someone upvoted it, and I just noticed this answer is telling me about a typo in the question; corrected to /proc/interrupts                                                                                                                                                                                                                                                                                                                                                                                                                                                         |2019-04-24 10:53:59.417|\n",
      "|937506 |507379 |141494 |0    |CC BY-SA 4.0   |null             |LOL. TBH it really didn't -- this question is three years old. But since it didn't have an answer yet I went ahead and tested your solution to confirm it. ¯\\_(ツ)_/¯                                                                                                                                                                                                                                                                                                                                                                                                                                                   |2019-03-20 22:23:22.417|\n",
      "|900188 |490726 |325065 |0    |CC BY-SA 4.0   |null             |So not being able to exchange accurate diff(1)s is a feature now? LOL.                                                                                                                                                                                                                                                                                                                                                                                                                                                                                                                                                  |2018-12-24 10:45:02.14 |\n",
      "|937342 |507361 |342648 |0    |CC BY-SA 4.0   |null             |That means my -x \"..*\" strategy looks into lot of unnecessary places... I would need to update this everywhere, LOL.......                                                                                                                                                                                                                                                                                                                                                                                                                                                                                              |2019-03-20 17:20:14.933|\n",
      "|1262154|669603 |90878  |0    |CC BY-SA 4.0   |null             |LOL :-D Once you get it working, please do write an answer to your own question with step-by-step instruction. I've been using KeePass for almost a decade and never found out how to use it with a terminal SSH client :-D                                                                                                                                                                                                                                                                                                                                                                                             |2021-09-18 18:31:10.653|\n",
      "|150146 |98443  |9491   |0    |CC BY-SA 3.0   |null             |@JosephR. I'm not sure of how could I interleave the songs \"in such a way as to minimize adjacency of songs by the same artist\". Thanks for the info, though! Maybe because yesterday and today are holidays in my country, I'm a bit slow to think, LOL!                                                                                                                                                                                                                                                                                                                                                               |2013-11-02 17:36:45.137|\n",
      "|441864 |255744 |80389  |0    |CC BY-SA 3.0   |null             |LOL was only an error syntax i use - instead of . because usually tar.gz are archived as name-version.tar.gz ,sendmail use name.version.tar.gz add your comment as answer so i can vote                                                                                                                                                                                                                                                                                                                                                                                                                                 |2016-01-16 19:45:36.237|\n",
      "|440175 |254907 |83246  |1    |CC BY-SA 3.0   |null             |You beat me to it :) LOL.                                                                                                                                                                                                                                                                                                                                                                                                                                                                                                                                                                                               |2016-01-12 16:18:19.323|\n",
      "|398863 |233466 |23692  |0    |CC BY-SA 3.0   |null             |LOL. I see you solved it that way a couple of seconds before I suggested it.  Nice.                                                                                                                                                                                                                                                                                                                                                                                                                                                                                                                                     |2015-10-02 11:15:44.963|\n",
      "|225093 |139434 |60539  |0    |CC BY-SA 3.0   |null             |I should do that, and will when I get around to it, may not be right this instant or today, but in the next few days at the latest, I will. LOL, \"Please rerun the make command\" for each \"module\" if you will, does seem rather ridiculous. The error was always, something along the lines of \"... make file is out of date with respect to Makefile.PL\" Maybe a timestamp issue with respect to file creation? I did notice that `date` always returned UTC instead of CDT, although the UTC time was correct +/- a minute.                                                                                          |2014-06-27 21:48:55.157|\n",
      "+-------+-------+-------+-----+---------------+-----------------+------------------------------------------------------------------------------------------------------------------------------------------------------------------------------------------------------------------------------------------------------------------------------------------------------------------------------------------------------------------------------------------------------------------------------------------------------------------------------------------------------------------------------------------------------------------------------------------------------------------------+-----------------------+\n",
      "\n"
     ]
    }
   ],
   "source": [
    "comments.filter(f.col(\"text\").contains(\"LOL\")).show(200, False)"
   ]
  },
  {
   "cell_type": "markdown",
   "id": "5f04046e-dad6-42c5-bd47-6463e4ee7343",
   "metadata": {},
   "source": [
    "# Stopping Spark"
   ]
  },
  {
   "cell_type": "code",
   "execution_count": null,
   "id": "3de19537-c3fe-4a79-98a2-f50767dd822f",
   "metadata": {},
   "outputs": [],
   "source": [
    "spark.stop()"
   ]
  }
 ],
 "metadata": {
  "kernelspec": {
   "display_name": "Python 3 (ipykernel)",
   "language": "python",
   "name": "python3"
  },
  "language_info": {
   "codemirror_mode": {
    "name": "ipython",
    "version": 3
   },
   "file_extension": ".py",
   "mimetype": "text/x-python",
   "name": "python",
   "nbconvert_exporter": "python",
   "pygments_lexer": "ipython3",
   "version": "3.8.10"
  }
 },
 "nbformat": 4,
 "nbformat_minor": 5
}
